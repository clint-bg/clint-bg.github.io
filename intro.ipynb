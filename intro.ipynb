{
 "cells": [
  {
   "cell_type": "markdown",
   "metadata": {},
   "source": [
    "# Clint Guymon, PhD, PE"
   ]
  },
  {
   "cell_type": "markdown",
   "metadata": {},
   "source": [
    "```{image} profile.png\n",
    ":alt: profile\n",
    ":class: bg-primary\n",
    ":width: 250px\n",
    ":align: left\n",
    "::\n"
   ]
  },
  {
   "cell_type": "markdown",
   "metadata": {},
   "source": [
    "I am an associate teaching professor in the Chemical Engineering Department at Brigham Young University. Previously, I received a doctorate degree in chemical engineering at Brigham Young University with my doctoral thesis treating molecular dynamics simulation and experimental studies on copper electrodeposition (see [https://scholarsarchive.byu.edu/etd/333/](https://scholarsarchive.byu.edu/etd/333/)). I then worked at Intel as a process engineer followed by work for 15 years at [Safety Management Services](https://smsenergetics.com/) as an engineering consultant. A brief summary of some of my work experience is given at this site: [https://www.clintguymon.dev/](https://www.clintguymon.dev/)."
   ]
  },
  {
   "cell_type": "markdown",
   "metadata": {},
   "source": []
  }
 ],
 "metadata": {
  "kernelspec": {
   "display_name": "jupiterbook",
   "language": "python",
   "name": "python3"
  },
  "language_info": {
   "codemirror_mode": {
    "name": "ipython",
    "version": 3
   },
   "file_extension": ".py",
   "mimetype": "text/x-python",
   "name": "python",
   "nbconvert_exporter": "python",
   "pygments_lexer": "ipython3",
   "version": "3.9.16"
  }
 },
 "nbformat": 4,
 "nbformat_minor": 2
}
