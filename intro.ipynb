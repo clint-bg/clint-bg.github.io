{
 "cells": [
  {
   "cell_type": "markdown",
   "metadata": {},
   "source": [
    "# Clint Guymon\n",
    "\n",
    "Clint Guymon, PhD, PE is an associate teaching professor in the Chemical Engineering Department at Brigham Young University. He received his doctorate degree in chemical engineering at Brigham Young University. His doctoral thesis was on molecular dynamics simulation and experimental studies on copper electrodeposition (see [https://scholarsarchive.byu.edu/etd/333/](https://scholarsarchive.byu.edu/etd/333/)). He subsequently worked at Intel as a process engineer and then for 15 years at [Safety Management Services](https://smsenergetics.com/) as an engineering consultant. A brief summary of some of his work experience is given at this site: [https://www.clintguymon.dev/](https://www.clintguymon.dev/)."
   ]
  },
  {
   "cell_type": "markdown",
   "metadata": {},
   "source": [
    "```{tableofcontents}\n",
    "```"
   ]
  },
  {
   "cell_type": "markdown",
   "metadata": {},
   "source": [
    "## Student Comments\n",
    "\n",
    "Students have left me over 1600 comments. Student comments are from the end of semester teacher ratings that they are asked to complete. The comments range from negative to mixed to positive. I've used Google's generative ai package [as given here with the comments on this Kaggle sheet](https://www.kaggle.com/code/molecman/student-comment-analysis) to generate a sentiment (positive, etc.) for each comment. The classification is not perfect as there are some positive comments that are labeled negative and vice versa. The below plot is a representation of the similarity between comments based on embeddings and tSNE reduction. You can mouse over the figure to see the comment at that point. The comments are colored by the sentiment classification. "
   ]
  },
  {
   "cell_type": "code",
   "execution_count": 2,
   "metadata": {},
   "outputs": [],
   "source": [
    "#import needed packages\n",
    "import pandas as pd\n",
    "import numpy as np\n",
    "import plotly.express as px"
   ]
  },
  {
   "cell_type": "code",
   "execution_count": 14,
   "metadata": {},
   "outputs": [],
   "source": [
    "#import data\n",
    "df = pd.read_csv('https://raw.githubusercontent.com/clint-bg/clint-bg.github.io/refs/heads/main/activities/support/studentfeedback.csv')"
   ]
  },
  {
   "cell_type": "code",
   "execution_count": 15,
   "metadata": {},
   "outputs": [
    {
     "data": {
      "application/vnd.plotly.v1+json": {
       "config": {
        "plotlyServerURL": "https://plot.ly"
       },
       "data": [
        {
         "customdata": [
          [
           "F 2024 CH EN 263 :Some of the homework was much harder than what we<br>had talked about in class."
          ],
          [
           "F 2024 CH EN 263 :It was hard to learn from the lectures  but that<br>could also be because the content was not very<br>easy to understand. one on one he could explain<br>very well."
          ],
          [
           "F 2024 CH EN 263 :class time was never spent on difficult topics<br>but would rather be wasted on the things we had<br>already done or unrelated examples"
          ],
          [
           "F 2024 CH EN 263 :Some difficult concepts could have been explained<br>more thoroughly  and more example could could have<br>been useful in understanding these concepts."
          ],
          [
           "F 2024 CH EN 263 :I feel that this class expects too much of its<br>instructor. While Dr Guymon does an excellent job<br>of helping students learn to approach hard<br>programming tasks  it often takes the time that<br>would be of equal value spent teaching coding<br>concepts. To make an analogy  this course focuses<br>on teaching the complex grammar of a language<br>before teaching any vocabulary. While possible  it<br>feels out of order and is not very helpful. All<br>the ''vocab'' or programming syntax  is not taught<br>in class  but must be learned on one''s own. This<br>is a waste of time  when you have an incredibly<br>experienced programmer like Dr Guymon."
          ],
          [
           "F 2024 CH EN 263 :It felt very rushed"
          ],
          [
           "F 2024 CH EN 263 :the exam style changed from the first to the<br>second  the videos were ineffective at delivering<br>the material in a digestible way  the quizzes were<br>only open for a 24 hour period on the days we did<br>not have class  meaning students would have to<br>alter their schedules to make it work and take the<br>quiz  instead of integrating it into their<br>homework time that was already scheduled out."
          ],
          [
           "F 2024 CH EN 263 :the course felt like drinking from a full-force<br>fire hose  and that''s coming from someone who has<br>taken python coding before."
          ],
          [
           "F 2024 CH EN 263 :Dr. Guymon is wonderful  i do feel like the class<br>itself was stacked against him. He did the best he<br>could  but with little clear instruction from the<br>curiculum side it felt like he was a bit lost at<br>times."
          ],
          [
           "F 2024 CH EN 263 :A lot of class was just following long with his<br>code that he was typing and asking questions<br>instead of us coding ourselves. Maybe he could<br>include more exercises that we can try first and<br>then he could go over it together or something."
          ],
          [
           "F 2024 CH EN 263 :the only things that I actually learned were how<br>to navigate the chemical engineering softwares<br>such as aspen plus. python should be taught in a<br>separate class and those who have already taken cs<br>142 should not be required to take it. this class<br>would be more beneficial to students if given<br>without focus on general ideas (such as newton''s<br>method) and more focus on specific applications of<br>engineering problems into the softwares."
          ],
          [
           "F 2024 CH EN 263 :I feel that this course took me a step back in the<br>path of learning. While the course itself is vital<br>the presentation forced me to focus too much time<br>on completing assignments instead of learning the<br>tools."
          ],
          [
           "F 2024 CH EN 263 :I feel that this is too much for a 2 credit-hour<br>class."
          ],
          [
           "F 2024 CH EN 263 :I probably spent about 4-6 hours every week<br>depending on the hw assignment because I spent<br>about 2-3 hours every monday and wednesday on the<br>hw assignment and class prework thing."
          ],
          [
           "F 2024 CH EN 263 :The homework took me anywhere from 1hr to 3hrs<br>just depending on the question and how many errors<br>I had and then about 1hr for the pre class things"
          ],
          [
           "F 2024 CH EN 263 :Most time was spent in the python units doing<br>homeworks  which at times were very challenging."
          ],
          [
           "F 2024 CH EN 263 :Teaching Assistants really weren''t very helpful<br>outside of exam reviews. Tended to not know much<br>about coding beyond the bare minimum the course<br>required  which made the experience too focused on<br>how to complete each assignment instead of<br>learning how to code in engineering."
          ],
          [
           "F 2024 CH EN 263 :I think that the course would be much more<br>effective if it had a larger focus on python and<br>less focus to other miscellaneous tools such as<br>solidworks  Ansys workbench  or aspen plus."
          ],
          [
           "F 2024 CH EN 263 :I think that the course would benefit from being<br>worth a larger credit amount. The amount of<br>content covered in the course seemed overwhelming<br>for a two credit course  and I would have<br>benefited from having more class time to cover the<br>course material."
          ],
          [
           "F 2024 CH EN 263 :Course: I''d recomend looking at Physics 230 for a<br>bit of inspiration: it''s a 1 credit online lab<br>that wonderfuly directs students through learning<br>mathematica (i took the classes simultaneously).<br>It has CS110/111 as prereqs  even though its a<br>fully different language. I feel like 263 could be<br>streamlined *if and only if* the students had<br>prior knowledge  wonderfuly built during the CS111<br>lectures. Have them take 111 one semester than a<br>shrimple 1 credit online lab (maybe 1hr in person<br>a week? recitation-style?) to walk them through<br>the most important aspects of programing for<br>ChemE. You could do 1 a semester  netting your a<br>total of 14 major concepts  or 10 python and 4<br>excel  or any other permutation of pytyon  excel<br>and other tools. As is  263 feels like it itself<br>is built against its students and the instructor<br>for no reason other than \"yeah idk ChemE is<br>supposed to be hard  thus we won''t put in the<br>work to make this easy  clear  or honestly<br>useful\"."
          ],
          [
           "F 2024 CH EN 263 :This is only Dr. Guymon''s second year teaching<br>and as with any skill it takes time to learn. I<br>was often left lost or confused after lectures and<br>could only do the homework with the help of the<br>TAs. It seems like maybe Dr. Guymon knows Python<br>so well that he forgets that things that are<br>intuitive to him are not intuitive to us. I felt<br>like he often showed us things without explaining<br>what they meant. Which is understandable and a<br>weakness that I''ve seen even in much more<br>experienced professors  but still frustrating."
          ],
          [
           "F 2024 CH EN 263 :sometimes he wasn''t familiar with the software<br>which made it difficult to understand beyond the<br>simple homeworks"
          ],
          [
           "F 2024 CH EN 263 :It often felt like the problems in the homework<br>required knowledge that we were not given  either<br>in lecture or online resources. I often wished<br>during the course that more resources were given<br>such as lists of useful functions or links to<br>useful documentation."
          ],
          [
           "F 2024 CH EN 263 :at the beginning of the course we got into<br>\"homework groups\" I did not talk to my homework<br>group at all over the semester. it was also<br>mentioned that we would learn the material before<br>class and do the homework in class  but it was<br>really just going back over the example from the<br>pre-class video. rarely were we given more than 1o<br>minutes to work on the hw until the end of class"
          ],
          [
           "F 2024 CH EN 263 :Office hours are on the sparse side  more would<br>have been great especially due to scheduling<br>conflict"
          ],
          [
           "F 2024 CH EN 263 :Assignments  watching videos  studying for exams"
          ],
          [
           "F 2024 CH EN 263 :The homeworks did take me a while  but mostly<br>because I had never done programming before this<br>class and I was avouding using AI."
          ],
          [
           "F 2024 CH EN 263 :Office hours  pre-class quizzes and additional<br>individual work led to quite the busy week..."
          ],
          [
           "F 2024 CH EN 263 :The way the course is organized is not great; the<br>content can''t be learned outside of class as<br>easily in class. This makes questions regarding<br>homework really hard given short office hours and<br>the homework to classwork ratio"
          ],
          [
           "F 2024 CH EN 345 :Only as a side effect  really"
          ],
          [
           "F 2024 CH EN 345 :Finishing lab reports"
          ],
          [
           "F 2024 CH EN 345 :I had to spend time outside of class to finish<br>most of the labs."
          ],
          [
           "F 2024 CH EN 345 :Most time spent on completing lab write-ups<br>especially for the reactor lab."
          ],
          [
           "F 2024 CH EN 345 :Time out of class was spent doing pre and post lab<br>reports."
          ],
          [
           "F 2024 CH EN 345 :I felt like there were some things in the post-lab<br>that weren''t intuitive and sometimes the TAs<br>didn''t even know."
          ],
          [
           "F 2024 CH EN 345 :Where complex math techniques are used in lab<br>analysis  it would help to have a little more<br>direction. Differential analysis of rate laws is<br>the big one here."
          ],
          [
           "F 2024 CH EN 345 :There weren''t many challenging concepts  so<br>unsure."
          ],
          [
           "F 2024 CH EN 345 :Seemed very copy paste."
          ],
          [
           "F 2024 CH EN 345 :It was sometimes difficult  not all the labs had<br>information in the same location or format."
          ],
          [
           "F 2024 CH EN 345 :I spend about 1 hour in pre-lab question to arrive<br>prepared to class and then two more hours<br>analyzing data and writing the report."
          ],
          [
           "F 2024 CH EN 345 :The pre-lab readings were more substantial for<br>this lab than previous ones. This was good because<br>I hadn''t yet learned about these topics in<br>Materials Science or Reaction Engineering. The lab<br>reports are quite manageable  except the pressure<br>relief valve one didn''t have enough guidance.<br>Terrarium reactor was also hard and not guided<br>well enough."
          ],
          [
           "F 2024 CH EN 345 :sometimes less  depending on the lab. Again  this<br>is a lab  so these ratings can be taken with a<br>grain of salt"
          ],
          [
           "F 2024 CH EN 345 :finishing lab reports"
          ],
          [
           "F 2024 CH EN 345 :I felt like more work could be done to help the<br>TAs actually understand the lab and how to do the<br>post-lab. I know that some labs give their TAs<br>opportunities to do the lab themselves to make<br>sure they understand it. The post-lab is important<br>as well in the TAs understanding it. Sometimes<br>the TAs didn''t even understand the key that was<br>provided."
          ],
          [
           "F 2024 CH EN 345 :It was frustrating that there is very little<br>instruction on how to use equipment in this lab. I<br>frequently felt like I was out of place because of<br>the lack of direction. Sometimes TA''s were not<br>present or the instructor."
          ],
          [
           "F 2024 CH EN 345 :I think he is still learning how to teach. He<br>knows what he is talking about  but that doesn''t<br>mean we know or understand what he means.<br>Sometimes it seem like he expects us to understand<br>perfectly the first time he explains something."
          ],
          [
           "F 2024 CH EN 345 :Dr. Guymon did not teach anything in this class."
          ],
          [
           "F 2024 CH EN 345 :This class has a random organization of course<br>content. I don''t believe Dr. Guymon has any<br>influence over this."
          ],
          [
           "F 2024 CH EN 345 :I don''t love how we often have to do material on<br>labs for material that we haven''t learned in any<br>class yet."
          ],
          [
           "F 2024 CH EN 345 :The reactor cart lab was somewhat difficult to<br>figure out."
          ],
          [
           "F 2024 CH EN 345 :With the reactor cart lab  it felt like we<br>weren''t allowed to get help on what to do. That<br>it was just assumed we knew how to apply all the<br>concepts from CRE. As a result we accidentally<br>wasted lab periods focusing on the wrong<br>experiments."
          ],
          [
           "F 2024 CH EN 345 :Dr. Guymon spends the entire class period on his<br>computer. He will answer questions when they are<br>asked  but otherwise he sits at a desk. I would<br>appreciate it if he took a more hands-on approach<br>and actively sought opportunities to help us. He<br>is simply put very disengaged and that makes it<br>difficult for us as students to feel engaged."
          ],
          [
           "F 2024 CH EN 345 :That''s basically the entirety of this class. I<br>just don''t think that Dr. Guymon played a huge<br>role in it."
          ],
          [
           "F 2024 CH EN 345 :My greatest piece of criticism/feedback for Dr.<br>Guymon is his personal presentation regarding<br>students and their questions. Every time I talk to<br>Dr. Guymon he comes across as completely<br>dismissive. It''s as if I am somehow bothering him<br>or I''m not worth his time. I recommend he work on<br>his approach to interacting with students."
          ],
          [
           "F 2024 CH EN 345 :This is a lab class  we do labs not discuss other<br>things."
          ],
          [
           "F 2024 CH EN 345 :A lot of the learning/understanding of content<br>comes from CRE and Materials classes instead of<br>this one."
          ],
          [
           "F 2024 CH EN 345 :I cannot see how this class helped with this."
          ],
          [
           "F 2024 CH EN 345 :Some of the weekly labs had some in depth code<br>questions that took a while to figure out. The<br>reactor lab was pretty confusing and took a while."
          ],
          [
           "F 2024 CH EN 345 :lab time and finishing the lab write ups"
          ],
          [
           "F 2024 CH EN 345 :This is honestly more time that I believe should<br>be dedicated to this class. I was under the<br>impression that the lab classes should be<br>completely self-contained and no work outside of<br>class hours should be required."
          ],
          [
           "F 2024 CH EN 345 :Little to none"
          ],
          [
           "F 2024 CH EN 345 :Prepping for lab assignments and then completing<br>lab assignments after class is complete"
          ],
          [
           "F 2024 CH EN 345 :The mini/weekly lab activities were mostly good. A<br>few of them were pretty confusing  particularly<br>the coding assignments where you were given code<br>to alter and didn''t know what it was supposed to<br>do. For those  maybe try teaching concepts a<br>little more before throwing the code at us. The<br>reactor cart was a good experience to work with<br>systems of equipment and try new things. I know we<br>were supposed to figure a lot of it out on our own<br>but it felt like we weren''t given direction or<br>help. I understand wanting us to learn for<br>ourselves  but we''ve never done a lab like this.<br>It kind of felt like we were set up to fail."
          ],
          [
           "F 2024 CH EN 345 :The instructor did not do much teaching  if at all<br>but we learned through the lab activities."
          ],
          [
           "F 2024 CH EN 345 :I could have taken advantage more of the \"ethics<br>and eternity\" section for each lab."
          ],
          [
           "F 2024 CH EN 345 :There were labs that could be completed in class<br>and there were others that took significant<br>amounts of effort outside of class  including<br>extra help from the TAs  namely the Terrarium and<br>PRV labs."
          ],
          [
           "F 2024 CH EN 345 :I spent about an hour working with my group each<br>week preparing for the lab time and finishing lab<br>reports."
          ],
          [
           "F 2024 CH EN 345 :the course could be better if the labs weren''t so<br>confusing. Also a lot of the time the equipment<br>doesn''t work and so the point of the lab fails.<br>its really annoying to deal with."
          ],
          [
           "F 2024 CH EN 345 :The report instructions were very confusing and<br>time consuming  I normally would spend anywhere<br>from 2-5 hours on each report. And needed help a<br>lot of the itme as the instructions were not very<br>clear."
          ],
          [
           "W 2024 CH EN 285 :Again  the class wasn''t really teaching any<br>concepts  and we didn''t see much with him."
          ],
          [
           "W 2024 CH EN 285 :No challenging concepts."
          ],
          [
           "W 2024 CH EN 285 :I think the fact that only one or two groups can<br>do a lab at a time severely limits what can be<br>done. I would like it if the topics are organized<br>to match the fluids class  but that''s hard to do."
          ],
          [
           "W 2024 CH EN 285 :All the groups had different labs  so we didn''t<br>really have an organized structure."
          ],
          [
           "W 2024 CH EN 285 :A lot of the labs were organized poorly that the<br>user would have to reread it multiple times to<br>properly complete the tasks. They weren’t grouped<br>together  like it was really scattered."
          ],
          [
           "W 2024 CH EN 285 :The TAs seemed to know what was happening with the<br>class more than Dr. Guymon. We didn''t ever ask<br>much of Dr. Guymon  just because of that."
          ],
          [
           "W 2024 CH EN 285 :There really wasn''t any time spent together as a<br>class  so we didn''t have many chances to do<br>anything spiritual."
          ],
          [
           "W 2024 CH EN 285 :This is a lab class  so there isn''t super<br>applicable."
          ],
          [
           "W 2024 CH EN 285 :I understand how the class was supposed to help<br>but it really felt like a lot of rushing around<br>without having time to reflect on what you''ve<br>learned. Most of what we learned was in the fluids<br>class."
          ],
          [
           "W 2024 CH EN 285 :Again  I didn''t see much time as a class  so<br>there wasn''t much time spent on this."
          ],
          [
           "W 2024 CH EN 285 :Not a super big part of this class  but we did<br>have to prepare before lab  work efficiently  and<br>finish writeups after lab."
          ],
          [
           "W 2024 CH EN 285 :Varied greatly as the structure of the class<br>constantly changed."
          ],
          [
           "W 2024 CH EN 285 :It''s really hard to accomplish anything in the<br>class out side of the lab room  since thats what<br>we need to use to complete almost everything."
          ],
          [
           "W 2024 CH EN 285 :Spent on homework and readings."
          ],
          [
           "W 2024 CH EN 285 :just working on lab reports after the lab period<br>was over"
          ],
          [
           "W 2024 CH EN 285 :It''s a half credit class"
          ],
          [
           "W 2024 CH EN 285 :The write ups were very time consuming and<br>sometimes the instructions were not comprehensive<br>enough. It would be nice to have a list of the<br>TA''s grading what assignment so you could ensure<br>that the TA you were going in for help for knew<br>how to do your lab."
          ],
          [
           "W 2024 CH EN 285 :Maybe make the labs more streamlined so they can<br>be completed within the class period"
          ],
          [
           "W 2024 CH EN 285 :This class is confusing. I don''t get the feeling<br>that Dr. Guymon is responsible for the strange<br>structure of the class. Some labs were super easy<br>and just graded for participation  and some were<br>graded super harshly. It kinda felt like a \"figure<br>it all out on your own time\" class."
          ],
          [
           "W 2024 CH EN 285 :He would come to lab but didnt really do anything.<br>The labs were written as confusingly as possible<br>and he didnt really try to explain anything in<br>lab."
          ],
          [
           "W 2024 CH EN 285 :Dr Guymon cares about good instruction  and I<br>think he can improve in how he presents material.<br>Often the way he teaches concepts is by writing on<br>an iPad and then sharing the notes with us later.<br>However  this was ineffective for me because the<br>notes are difficult to follow - they are not<br>easily legible or well organized. I much prefer<br>the notes on the github site  because I know I''ll<br>be able to read it and follow it. However  a lot<br>of times I wished there were more detail in the<br>notes. Alternatively  if the point is for us to<br>take our own notes  I would still appreciate a<br>more structured approach that facilitates my<br>taking notes."
          ],
          [
           "W 2024 CH EN 285 :Learning transient mass balance was not an easy<br>thing for me to get."
          ],
          [
           "W 2024 CH EN 285 :I think teaching the safety part first would make<br>this class better. Teaching ethics first gave the<br>me the impression that this class didn''t need<br>much math in it. Which was not the case."
          ],
          [
           "W 2024 CH EN 285 :We didn''t really speak or interact."
          ],
          [
           "W 2024 CH EN 285 :I don''t feel like this improved me in this<br>category."
          ],
          [
           "W 2024 CH EN 285 :I like to skew the statistics. I refuse to give<br>accurate data on this because having a federally<br>mandated number of hours of homework is stupid and<br>provides too much infringemint on student''s<br>lives."
          ],
          [
           "W 2024 CH EN 285 :I wish I could have spent more time on this class<br>but this semester was difficult for me as I took<br>too many credits. However  I feel like it was<br>difficult to tell exactly what I should spend my<br>time on when I did have time."
          ],
          [
           "W 2024 CH EN 285 :For the course  I would either make the material<br>more closely aligned with what we''re learning in<br>374 or give more resources to explain different<br>concepts. It feels like the time allotted each<br>week is not sufficient to both collect data  learn<br>the relevant material  and complete the lab."
          ],
          [
           "W 2024 CH EN 285 :none  run mostly by TA''s"
          ],
          [
           "W 2024 CH EN 285 :I felt like there were some older concepts such as<br>statistics that could have been explained further<br>in a sense it wasn''t challenging enough. Most of<br>it could be done with little to no understanding<br>of the principles behind it. That was the only lab<br>I really felt needed improvement."
          ],
          [
           "W 2024 CH EN 285 :This class is hard to focus on the Aims  maybe<br>throw some stuff in random labs about it."
          ],
          [
           "W 2024 CH EN 285 :He doesnt say anything in during this lab time.<br>the lab is 100% TA ran"
          ],
          [
           "W 2024 CH EN 285 :This is a course where there is more interaction<br>with the TA''s than the professor."
          ],
          [
           "W 2024 CH EN 285 :He doesnt say anything in during this lab time.<br>the lab is 100% TA ran"
          ],
          [
           "W 2024 CH EN 285 :He doesnt say anything in during this lab time.<br>the lab is 100% TA ran"
          ],
          [
           "W 2024 CH EN 285 :He doesnt say anything in during this lab time.<br>the lab is 100% TA ran"
          ],
          [
           "W 2024 CH EN 285 :Completing the lab write-up outside of class."
          ],
          [
           "W 2024 CH EN 285 :I feel like TA training needs to be done prior to<br>experiments so then can answer questions."
          ],
          [
           "W 2024 CH EN 285 :Dr. Guymon is a great instructor and really nice<br>but the course felt disorganized and I sometimes<br>had a hard time knowing what was going on<br>especially with assignment requirements and due<br>dates."
          ],
          [
           "W 2024 CH EN 285 :There were a few labs that had excessively long<br>post-lab questions  such as External Flow. Even<br>with a TA our group spent 3 hours working on the<br>writeup after class. The instructions with the<br>provided code were not clear and led to us solving<br>the problem in a very roundabout and time-<br>consuming way. My favorite lab was the parallel /<br>series flow. All the TA''s were great to work with<br>especially Aaron. It was fun to take field trips<br>down to the UO lab."
          ],
          [
           "W 2024 CH EN 285 :The lab materials could be written more clearly to<br>explain the difficult concepts such as choked flow<br>and viscosity measurement. I don''t know that this<br>would work  but I suggest creating a recorded<br>tutorial for performing some of the more difficult<br>labs  or for teaching the harder math concepts."
          ],
          [
           "W 2024 CH EN 285 :Prelab work was confusing at times. the bulleted<br>format of labs was also confusing because<br>sometimes the bullets required writing and others<br>were just FYI. try to find a good blend of the<br>format so it is more easily navegable during the<br>lab portion of what/where to write data and terms<br>etc."
          ],
          [
           "W 2024 CH EN 285 :I guess it''s a bit harder to do this one for a<br>lab class."
          ],
          [
           "W 2024 CH EN 285 :As a lab class  there wasn''t much lecture and<br>therefore not any real spiritual engagement."
          ],
          [
           "W 2024 CH EN 285 :This did not feel like a major focus of the class."
          ],
          [
           "W 2024 CH EN 285 :The class is a test of accountability to make sure<br>you turn in the labs on time."
          ],
          [
           "W 2024 CH EN 285 :For a few labs there seemed to be an unreasonably<br>large amount of pre-lab reading or work up for the<br>amount of time and effort the in-class lab was<br>going to take. Consider consolidating the format<br>of the prelab work to give students those<br>equations or see a reference sheet for some cases<br>so students can focus more on the hands-on work<br>and experience rather than an extension of their<br>other class homework."
          ],
          [
           "W 2024 CH EN 285 :The only outside time was preparing for labs and<br>completing the lab reports after. The reports<br>could be somewhat hefty though!"
          ],
          [
           "W 2024 CH EN 285 :Time outside of class was spent doing prelab or<br>finishing up reports"
          ],
          [
           "W 2024 CH EN 285 :Not much besides lab reports"
          ],
          [
           "W 2024 CH EN 285 :Some of the lab write ups were a little confusing.<br>The calculations we had to do were not clear."
          ],
          [
           "W 2024 CH EN 311 :A lot of this class felt kind of chaotic. It would<br>be nice if the class focused more on learning<br>concepts before trying to apply them. There were<br>several times that it felt code was thrown at us<br>before we even knew what the code was talking<br>about."
          ],
          [
           "W 2024 CH EN 311 :Multiple concepts were explained verbally without<br>any examples executed and it was very hard to<br>learn these concepts because it was presented<br>backwards. For example  we would be tested on the<br>material  then get a homework problem regarding it<br>AND THEN get an assignment to review a solved<br>example of the concept."
          ],
          [
           "W 2024 CH EN 311 :There were times where he made concepts more<br>confusing to me by adding in extra concepts that<br>we had not talked about yet or would not learn for<br>another semester or two."
          ],
          [
           "W 2024 CH EN 311 :Some items  like the transient mass balance and<br>energy balance  were not taught very clearly. Some<br>of the code used was also very condensed and well<br>beyond what was taught in Chem En 263."
          ],
          [
           "W 2024 CH EN 311 :Provided challenging homework that truly tested<br>what we knew."
          ],
          [
           "W 2024 CH EN 311 :I think that he could be a little more clear and<br>concise when it comes to teaching the material. I<br>think that sometimes he gets excited and wants to<br>cover a lot of material  but to be effective we<br>just need the material we need to know covered in<br>class thoroughly."
          ],
          [
           "W 2024 CH EN 311 :Dr Guymon really cares about instruction and I<br>think he can improve this skill. Often his<br>instruction style was writing notes on an iPad<br>during class and then sharing those notes. However<br>I found this difficult to follow during class and<br>difficult to decipher afterwards. It was sometimes<br>not easily legible and unorganized. I would have<br>preferred typed notes that we annotate during<br>class  or notes formatted similarly to the github<br>site (latex is always legible). Alternatively  if<br>the point is for us to take notes on our own  I<br>feel the instruction could be formatted in a more<br>linear  organized fashion to allow us to take<br>notes. In my experience  having an excellent<br>textbook and working problems from it helps my<br>learning more than almost anything else. Lecture<br>is sometimes difficult for me to focus  but if I<br>can go over the concepts by reading them in the<br>textbook (or even prepare by reading before class)<br>and then work problems  the concepts are cemented<br>far more firmly in my brain. Unfortunately  I did<br>not like the textbook we used in this class. I<br>felt it was dense and didn''t explain math very<br>well. I also appreciate when textbooks give<br>answers to at least odd questions so I can check<br>them myself. I often don''t go back to look at<br>answer keys for homework that instructors create<br>but if the answers are in the back of the book  I<br>will check every problem. I''m not sure if a<br>better book exists for this class  but just in<br>general a good textbook is indispensable for me<br>because it allows me to review concepts outside of<br>lecture."
          ],
          [
           "W 2024 CH EN 311 :Dr. Guymon still has a ways to go when it comes to<br>adequately explaining difficult or challenging<br>concepts."
          ],
          [
           "W 2024 CH EN 311 :At times  only solved examples of difficult<br>challenges halfway  leaving us to teach ourselves<br>the rest  then tests us on that part without any<br>opportunity to verify whether we taught ourselves<br>correctly."
          ],
          [
           "W 2024 CH EN 311 :I felt like the lectures didn''t really help me<br>for the homework."
          ],
          [
           "W 2024 CH EN 311 :The freeform app he used was pretty difficult to<br>read and I felt like when we were going through<br>equations we often skipped a lot of steps."
          ],
          [
           "W 2024 CH EN 311 :Sometimes Dr. Guyman goes on what feels like<br>tangents  rather than focusing on a key principle<br>and expanding from that. It was hard to grasp a<br>lot of unfamiliar concepts in the class as he<br>tried to explain."
          ],
          [
           "W 2024 CH EN 311 :I feel like some concepts weren''t clearly taught<br>in class  and then these concepts were required on<br>homework assignments at a much higher level."
          ],
          [
           "W 2024 CH EN 311 :I think class has been hard since what we do on<br>the homework is not always the same as what we<br>cover in class."
          ],
          [
           "W 2024 CH EN 311 :There were concepts that I felt solid on after<br>class and others that I left floundering. The unit<br>on process safety (so the bulk of the class) was<br>super easy in class  then the homeworks felt<br>unrelated. A lot of the simpler homework problems<br>(not mass balances) were unexpected and I relied A<br>LOT on TA help for those. I felt like I didn''t<br>know how to any of the problems by myself and the<br>book was only a little helpful. Also there was WAY<br>too much reading for this class  and half the<br>reading we didn''t use!!"
          ],
          [
           "W 2024 CH EN 311 :The transient mass balance gave some trouble."
          ],
          [
           "W 2024 CH EN 311 :Dr. Guymon needs to spend more time on some<br>concepts when explaining."
          ],
          [
           "W 2024 CH EN 311 :I feel like certain challenging concepts were<br>taught about  but not enough detail and help was<br>provided to allow for a greater understanding if<br>you only relied on what you learned from his<br>teaching."
          ],
          [
           "W 2024 CH EN 311 :I sometimes got lost in the examples that pulled<br>from classes we haven''t had (i.e. heat transfer<br>thermo)."
          ],
          [
           "W 2024 CH EN 311 :Often I felt I was supposed to understand but I<br>was missing a class or something."
          ],
          [
           "W 2024 CH EN 311 :I never knew what to expect in this class. Things<br>were always changing. It did get a little bit<br>better towards the end of the semester  but not<br>much. Quizzes due before class at 8 am were not<br>created or posted until 7 pm the night before. We<br>never knew when we would have homework<br>assignments. They would just randomly show up on<br>learning suit to be due in 2  maybe 3 days but<br>were never mentioned in class. Or a homework<br>assignment would be posted but then updated or<br>changed a day later without sending an email or<br>announcing in class that the homework assignment<br>had to be changed. It was also hard to get help on<br>finishing the homework because a lot of the time<br>the TAs were not given homework solutions and they<br>didn''t learn this content when they took the<br>class. The course website was well organized with<br>each lecture being a different section."
          ],
          [
           "W 2024 CH EN 311 :Homework assignments sometimes contained questions<br>that were confusing or that required us to use<br>information from the book to solve without telling<br>us that the information was in the book in the<br>first place. TAs also did not know how to help us<br>with certain homework problems."
          ],
          [
           "W 2024 CH EN 311 :I thought as it was the first time teaching the<br>course the organization wasn''t as good as it<br>could have been. I think sometimes the homework<br>did not apply to what we were learning in class. I<br>think the organization of the course did get<br>better throughout the course."
          ],
          [
           "W 2024 CH EN 311 :he makes a lot of his own lecture notes and makes<br>a lot of his own homework and its not very robust<br>or well organized which makes it hard to follow<br>along."
          ],
          [
           "W 2024 CH EN 311 :I wish the homework aligned more closely with<br>exams and lectures."
          ],
          [
           "W 2024 CH EN 311 :Very difficult to keep up with constantly changing<br>assignments."
          ],
          [
           "W 2024 CH EN 311 :This organization of the class was the most<br>challenging part. Deadlines were in constant flux<br>and it was impossible to work ahead; if I ever had<br>the opportunity  assignments were not posted or<br>information on what would be due the next week had<br>not yet been decided."
          ],
          [
           "W 2024 CH EN 311 :Better organization would be much appreciated.<br>Quizzes would be good if it were open after class<br>and closed before the next class. I missed a quiz<br>or 2 because of constantly changing due dates.<br>Sometimes it was hard to get help for homework<br>even when going to the ta office hours."
          ],
          [
           "W 2024 CH EN 311 :Content was spread between learning suite  a<br>course website  and a separate collection of<br>files. Made it confusing as to where we find<br>necessary information."
          ],
          [
           "W 2024 CH EN 311 :It was hard for me to follow along with the<br>lecture and I think just know what was going on in<br>the class"
          ],
          [
           "W 2024 CH EN 311 :I really think the organization was the most<br>difficult part of this class. I think that the<br>actual assignment should be released at least a<br>week before it''s due. It was really difficult to<br>have due dates moving around so much."
          ],
          [
           "W 2024 CH EN 311 :The organization of the class was really really<br>confusing. I felt like topics didn''t connect to<br>each other and I didn''t understand why we were<br>learning about things that didn''t seem at all<br>relevant to the class. For example  I felt like<br>trying to teach us about choked flow and heat and<br>mass transfer outside of the realm of the classes<br>that teach those was a poor choice; there were so<br>many things that we probably should have focused<br>on that are integral to safety and the environment<br>(ie. all the methods for remediation  something we<br>barely even talked about)  but instead we spent a<br>ton of time using transient balances  choked flow<br>heat and energy balances  and other things that<br>were useful but didn''t seem like they were part<br>of the core curriculum. It felt a lot like<br>teaching advanced calculus in an introductory<br>physics class; will it be useful  yes  but it<br>isn''t what people are meant to be learning at<br>that time."
          ],
          [
           "W 2024 CH EN 311 :I felt like parts of the class were unpredictable<br>and didn''t connect to previous topics covered. We<br>jumped around a lot and just got the gist of a lot<br>of different concepts."
          ],
          [
           "W 2024 CH EN 311 :I feel like the course itself is too broad in<br>scope. Units felt sort of haphazard and random.<br>They did not flow into one another as well as I<br>would have liked."
          ],
          [
           "W 2024 CH EN 311 :It was hard for me with irregular assignments and<br>reading to know what to do or to plan for the<br>class. I would appreciate more consistency."
          ],
          [
           "W 2024 CH EN 311 :I really wish that homework was released a week<br>before it was due so I could have time to plan<br>when I would go in to get TA help (since there was<br>the disconnect between lectures and homeworks. The<br>general order of the class ethics -> PHA -> PSA -><br>environment/case studies made sense though."
          ],
          [
           "W 2024 CH EN 311 :This is probably the most painful portion of the<br>entire course. He mentioned that he did not have<br>time to work on entirety of the course structure<br>and it showed extensively. It almost felt as if<br>there was no structure to any aspect of the class.<br>Lecture topics did not line up with the homework<br>assignments at all in most situations. There was<br>also a scenario where there were test questions<br>given on topics that were only lectured on in the<br>weeks following the exam. Nothing was done to make<br>up for this mistake either  even though it was<br>mentioned that the question was a mistake  this<br>also happened on the homework where it was<br>mentioned after the fact that a certain question<br>was not supposed to be on the homework  but<br>nothing was done to remedy the mistake. This would<br>not have been a serious issue if those particular<br>homeworks did not take several hours to complete."
          ],
          [
           "W 2024 CH EN 311 :Due dates constantly changed  valve of projects<br>and assignments constantly vary and are changed<br>after we submit them."
          ],
          [
           "W 2024 CH EN 311 :Sometimes homework was posted  but wasn''t<br>released  so we couldn''t work on it up until a<br>few days it was due."
          ],
          [
           "W 2024 CH EN 311 :He seems to feel a need to overcomplicate<br>everything. The class was about health  safety<br>ethics  and the environment yet for some reason he<br>made us do mass and energy balances. we had a<br>lesson on something for a future class which he<br>said will be on the final even though it has<br>nothing to do with the scope of this class."
          ],
          [
           "W 2024 CH EN 311 :Dr Guymon was always willing to help but sometimes<br>didn''t have very specific guidance. I would have<br>appreciated his giving more specific help in<br>making a plan when I needed help."
          ],
          [
           "W 2024 CH EN 311 :Left multiple emails unread or unresponded too."
          ],
          [
           "W 2024 CH EN 311 :I would have like to have had more chances to do<br>example problems in class."
          ],
          [
           "W 2024 CH EN 311 :The homework was often too hard or not relevant to<br>lectures-- in that a lot of people had no idea how<br>to approach problems  even after attending<br>lectures."
          ],
          [
           "W 2024 CH EN 311 :I think Dr. Guymon tried to have us participate<br>but an 8 am class is just hard."
          ],
          [
           "W 2024 CH EN 311 :He could have asked more questions that were<br>potentially possible to answer and get us<br>thinking."
          ],
          [
           "W 2024 CH EN 311 :I felt that the homework assignments that included<br>rewriting the way that we did in class were not<br>helpful for myself. I typically just ended up<br>mindlessly copying down the class notes. I think<br>that working out a problem myself  numerically  is<br>more helpful for learning."
          ],
          [
           "W 2024 CH EN 311 :It was hard to pay attention in class when Dr.<br>Guymon would just scroll through his website.<br>Sometimes it didn''t feel worth it to go to class<br>because I could get all that same information at<br>home. I liked the days that we would walk through<br>practice problems in class  though sometimes Dr.<br>Guymon''s handwriting was difficult to decipher so<br>it took a LONG time to go through line by line<br>through problems."
          ],
          [
           "W 2024 CH EN 311 :I feel like he wasn''t very clear on a lot of his<br>lectures. He eventually began to respond to the<br>mid course evaluation comments about him not<br>teaching how to do certain homework problems<br>before assigning the homework."
          ],
          [
           "W 2024 CH EN 311 :Removed classwork in place of more lecture"
          ],
          [
           "W 2024 CH EN 311 :Sometimes I got pretty lost in the code during<br>lecture."
          ],
          [
           "W 2024 CH EN 311 :I didn''t really felt encouraged in the course  I<br>felt I was being dragged through things."
          ],
          [
           "W 2024 CH EN 311 :there wasnt a lot of respect for our time  lots of<br>busy work and more time guessing what we were<br>supposed to study than actually studying"
          ],
          [
           "W 2024 CH EN 311 :A lot of attempts were made to focus on<br>spirituality  however all of the issues with the<br>class structure made the overall experience simply<br>stressful  and (in my opinion) spiritually inept."
          ],
          [
           "W 2024 CH EN 311 :concepts not related to safety (mass and energy<br>balances) in this class just felt like a more<br>confusing review of things we already learning in<br>other classes"
          ],
          [
           "W 2024 CH EN 311 :I feel like I could have learned a lot more had<br>the class been more well organized. I feel like<br>the SACHE safety courses taught me a lot  but not<br>the lectures."
          ],
          [
           "W 2024 CH EN 311 :the book report felt like a complete waste of time<br>but at least it checked this box"
          ],
          [
           "W 2024 CH EN 311 :Being at 8 am alone made this class a character<br>building experience."
          ],
          [
           "W 2024 CH EN 311 :Any 8 AM class is character building"
          ],
          [
           "W 2024 CH EN 311 :I''m not sure how my character has been built from<br>this class honestly."
          ],
          [
           "W 2024 CH EN 311 :No effect  I don''t feel like I was inspired to<br>life long service of learning in this class"
          ],
          [
           "W 2024 CH EN 311 :There were quizzes and reading due before every<br>class and sometimes the reading was pretty long.<br>There were homework assignments. The SAIChE<br>courses took a while to complete. There was the<br>book and book report. And there was the project<br>memorandum and presentation."
          ],
          [
           "W 2024 CH EN 311 :The readings were huge blocks of text that were<br>confusing and unhelpful. Often it felt unrelated<br>to what the lecture covered. It would be<br>beneficial for the reading to be downsized to the<br>portions explaining the material the course<br>actually covered."
          ],
          [
           "W 2024 CH EN 311 :it varied for each week. I just wish he had a<br>better outline for the work load so we as students<br>could plan out our assignments better"
          ],
          [
           "W 2024 CH EN 311 :I would have liked to spend more time on this<br>class  but sometimes when I did I wasn''t sure<br>what to spend my time on within the course."
          ],
          [
           "W 2024 CH EN 311 :homework and reading"
          ],
          [
           "W 2024 CH EN 311 :homeworks felt long and complicated for a 2 credit<br>class"
          ],
          [
           "W 2024 CH EN 311 :Long reading assignments and occasional homeworks."
          ],
          [
           "W 2024 CH EN 311 :The largest time commitment for much of the course<br>was pre-readings. I wasn''t completely prepared<br>for this  I think that a greater emphasis on<br>explaining this time commitment would help<br>students learn more quickly."
          ],
          [
           "W 2024 CH EN 311 :I spent time doing readings  quizzes  homework and<br>other assignments in this time."
          ],
          [
           "W 2024 CH EN 311 :Each of his homeworks during the safety section<br>which was the majority of the course took me<br>around 6 hours. They were long and confusing.<br>There was an hour of reading every night and two<br>homeworks most weeks. A super long book report at<br>the end of the course took me at least 6 hours to<br>read the book and another 5 to write the report<br>and a long project too. He had a pretty managable<br>ethics unit though. Overall 12 hrs/ week I''d say.<br>Maybe 11"
          ],
          [
           "W 2024 CH EN 311 :Readings  homework assignments  group projects<br>reports"
          ],
          [
           "W 2024 CH EN 311 :There was little time spent in the beginning and<br>end of the course. The readings were sometimes<br>unnecessary and quite time consuming. There were<br>several homeworks that I didn''t finish because I<br>was pressed for time  as the assignments weren''t<br>released with much anticipation  so I could have<br>potentially spent even more time in the course."
          ],
          [
           "W 2024 CH EN 311 :Homework and for a time reading."
          ],
          [
           "W 2024 CH EN 311 :This varied greatly as the class wasn’t<br>consistently organized the same way each week"
          ],
          [
           "W 2024 CH EN 311 :Most of the time spent was on the homework by far<br>mostly because the homework assignments were not<br>well structured."
          ],
          [
           "W 2024 CH EN 311 :It is impossible to plan for this class. Some<br>weeks it may be 5 hours of homework others it may<br>be 25 hours of work."
          ],
          [
           "W 2024 CH EN 311 :I had a hard time with the homework. Professor<br>Guymon did a great job of hints and help in class<br>but sometimes there were skills tested from<br>classes outside of this class that I feel like a<br>lot of student (including myself) hadn''t taken<br>yet."
          ],
          [
           "W 2024 CH EN 311 :It really depended on the week  the homework was<br>pretty inconsistent on due dates so some weeks<br>were packed  others weren''t. The textbook was<br>crucial as well as partially attendance."
          ],
          [
           "W 2024 CH EN 311 :the first half of the semester (until the<br>beginning of March) was significantly more work"
          ],
          [
           "W 2024 CH EN 311 :The readings were kind of brutal and rather dry.<br>The quizzes in the first half the semester were<br>difficult to remember the specific details<br>necessary to get above a B on each quiz."
          ],
          [
           "W 2024 CH EN 311 :way too much reading that was all very boring with<br>no clear explanation of what we should be looking<br>for."
          ],
          [
           "W 2024 CH EN 311 :often times it varied. some weeks it was less some<br>weeks it was more. Overall though it felt as<br>though there was way too much to do for the<br>content being discussed."
          ],
          [
           "W 2024 CH EN 311 :I think he is really nice  but he can be kind of<br>unorganized. It is hard to be in a class where<br>things are always changing and you aren''t really<br>given enough notice on assignments and quizzes. I<br>think the coding aspect of the class is cool  but<br>that shouldn''t be the entire class."
          ],
          [
           "W 2024 CH EN 311 :The material was good but it was taught in such an<br>unclear manner. It was hard to follow many ideas.<br>Additionally easy concepts were made difficult<br>because we were immediately asked to solve through<br>python when it would be easier to solidify the<br>concept solving by hand rather than adding the<br>additional layer of coding."
          ],
          [
           "W 2024 CH EN 311 :We all had to write book reviews  and instead of<br>grading them  Dr. Guymon had AI grade them. The AI<br>feedback wasn''t very good  and I would have<br>appreciated personalized feedback from him or the<br>TAs. Also  sometimes the grading does not match<br>the rubrics-- which can be frustrating  because it<br>would be nice to have clearer expectations.<br>However  Dr. Guymon is very approachable for<br>clarifications."
          ],
          [
           "W 2024 CH EN 311 :A clearer structure of the course would be helpful<br>in planning out my semester from the beginning.<br>Class notes provided through Freeform pdf''s are<br>sometimes challenging to understand  especially<br>when they contain necessary information that is<br>not provided in the course website. When reviewing<br>before a test or compiling study sheets  the<br>handwriting can sometimes be hard to discern or be<br>spontaneous. It will make sense while seeing it<br>written during class  but often some things are<br>just written down on the pdf with not much<br>explanation or indication as to what it is<br>referring to or what it means  making it confusing<br>when looking back on it at a later date."
          ],
          [
           "W 2024 CH EN 311 :I think he has a lot to learn about teaching and<br>course building. He should take the summer to try<br>and build out better lecture notes and test<br>questions  really thinking through what<br>expectations/ learning objectives he wants to set<br>for the class room."
          ],
          [
           "W 2024 CH EN 311 :This course was often times quite frustrating. The<br>quizzes were random feeling but kind of got<br>figured out by the end of the semester. The<br>homeworks were DEFINITELY random feeling and<br>didn''t always feel relevant to the material. I<br>think it is a major downfall to include questions<br>in homeworks that have not been covered in class<br>and even worse including the mass balance question<br>on the first midterm and then lecturing about it<br>later. Huge problem for me and resulted in bitter<br>feelings for sure. The course website is good but<br>I feel like it misses the mark a little. I would<br>probably prefer slides just for familiarity''s<br>sake. I will be hesitant taking classes from Dr.<br>Guymon in the future. I hope people aren''t being<br>too mean in their reviews."
          ],
          [
           "W 2024 CH EN 311 :The book report was a very strange assignment that<br>the class would''ve felt better without. It was<br>not super long  but it was assigned leading up to<br>finals when we were working on projects not only<br>for other classes but also the project for this<br>class. It took up time and caused stress for an<br>assignment that he didn''t end up reading all of<br>or grading himself"
          ],
          [
           "W 2024 CH EN 311 :A lot of material was from the previous professor<br>which is great  but because of the change-over it<br>felt like a lot of things changed throughout and I<br>did not know what to expect. Things on Learning<br>Suite would contradict the syllabus."
          ],
          [
           "W 2024 CH EN 311 :Dr. Guymon is kind and likes to interact and<br>engage with students in class. I think he could do<br>more to create a more approachable image for<br>himself outside of class  and I think he should<br>look into new methods of teaching because his<br>current method of drawing things on his tablet is<br>not very effective."
          ],
          [
           "W 2024 CH EN 311 :I hope Dr Guymon reduces the number of assignments<br>by 20%. Otherwise  the course is great."
          ],
          [
           "W 2024 CH EN 311 :I wish we were given time off from classwork to<br>work on the project. It was hard to balance<br>project work on top of an already loaded schedule.<br>Also  I think the book report should have had a<br>bigger emphasis throughout the class. It felt like<br>an afterthought and as a result I think most<br>people threw something together last-minute."
          ],
          [
           "W 2024 CH EN 311 :I would like the lectures to have more practice<br>problems so that the homework reviews those<br>principles learned"
          ],
          [
           "W 2024 CH EN 311 :Clearly I''m not the instructor  but there were<br>some aspects of the class that I didn''t agree<br>with. For example  I think it''s unfair to give<br>the entire class the same score on a writing<br>assignment that wasn''t even looked at and not<br>have that score be full points  especially for an<br>assignment that is worth a good chunk of our<br>grade. Frankly I felt like we were<br>underappreciated as students. Most of the class<br>was ok but there were some things I wasn''t really<br>a fan of."
          ],
          [
           "W 2024 CH EN 311 :I''m not sure if this is possible because of ABET<br>but I would suggest dissolving this 3 credit hour<br>class. Instead of only talking about safety in<br>safety class  let''s talk about safety issues in<br>every class. When it''s time to talk about pumps<br>in fluids  let''s talk about cavitation. Or why<br>not incorporate LFL/UFL and PEL/IDLH  etc. in 273<br>when talking about transient balances? Instead of<br>a 3-hour class  make a 1 credit seminar class for<br>process hazards analysis and any other random<br>tools that wouldn''t fall under the umbrella of<br>other classes. I disliked the way that Dr. Guymon<br>threw our book reports into an AI to give<br>\"feedback\" then gave us all the same grade  then<br>bragged about \"grading\" on LinkedIn. I don''t<br>think that was fair to not tell us ahead of time<br>that we would all be given the same grade. I<br>really pushed myself to turn it in early because<br>of the hard deadline that was imposed during a<br>weekend I had planned to go out of town. In the<br>end my grade on the assignment doesn''t matter<br>but I wish that we would have known the grading<br>scheme ahead of time  otherwise I wouldn''t have<br>spent as much energy on the project. The scope and<br>length of the group project case study was great.<br>The first exam was too long. The second exam was<br>better  but still long. The resources for the 2nd<br>test were better. There was too much reading for<br>the class. Just have us read the relevant<br>sections; there''s a lot we didn''t use or didn''t<br>need to understand to get the important stuff.<br>Please release assignments ahead of time! I<br>disliked the way that Dr. Guymon asked for<br>applause for small things that he has did. It<br>seemed like sometimes he spent his time on<br>elements that lasted 5 seconds of amusement in<br>class instead of on elements that would have<br>contributed to the organization of the course."
          ],
          [
           "W 2024 CH EN 311 :It would be better to know more clearly the due<br>dates and intended outcome for homework<br>assignments. That was not very clear for many of<br>them"
          ],
          [
           "W 2024 CH EN 311 :Dr. Guymon needs to be more engaging during the<br>class. Using the mic halfway was a good idea."
          ],
          [
           "W 2024 CH EN 311 :I accidently submitted my rating of CHEN 285 with<br>this class (CHEN 311) in mind. I liked CHEN 311<br>but wish it was organized in a consistent way for<br>the whole semester."
          ],
          [
           "W 2024 CH EN 311 :I think that Dr. Guymon was a very kind individual<br>but I believe that his approach to this class<br>throughout the semester has been in overall<br>failure. I have never been in a class where I''m<br>never sure about what I should expect from my<br>upcoming assignments. The overall experience ended<br>up being not so bad  but it was still very<br>difficult to feel like things would work out<br>eventually  it just sort of happened that way. I<br>definitely did not feel like I was going to do as<br>well as i did in the class because of how<br>difficult things were shaping up to be based on<br>the classes terrible structure and organization. I<br>think that eventually Dr. Guymon will be a great<br>professor  but currently he is not there."
          ],
          [
           "W 2024 CH EN 311 :Dr. Guymon is a great guy spiritually and as<br>someone to learn from  I was forced to learn a lot<br>but for this class often he went beyond the mark.<br>The content and material of the class was great<br>but the class structure needs a lot of work. Some<br>exam content was not on safety or ethics or<br>completely did not prepare students for. Python<br>emphasis hurts this class because Excel  C+ are<br>emphasized in other required classes. Project and<br>assignment valve and points are changed after we<br>submit them which makes it difficult to plan. Late<br>uploads of assignments and homework make it<br>impossible to plan around. TA''s answers typically<br>involve \"we never did this when I did the class\"<br>or need a key to answer students questions.<br>Grading on assignments take upwards of a month<br>which makes it impossible to know how you can<br>change from the homework to do better on the exam.<br>I''ll want to implore that Guymon is a great man<br>and I''ve enjoyed every one-on-one interaction<br>with him. It felt like he was thrown into a class<br>with no structure. The class got better as time<br>went on."
          ],
          [
           "W 2024 CH EN 311 :We had a book report that was graded with AI and<br>everyone was given the same grade  which I felt<br>was a little unfair to the people who put more<br>effort into the essay. Especially since all the<br>feedback was generic and the same for all of the<br>essays."
          ],
          [
           "W 2024 CH EN 311 :Compared to past semesters  we definitely had a<br>way harder class. The difficulty of the work load<br>may have been a bit much."
          ],
          [
           "W 2024 CH EN 311 :I felt the HW''s could have used more description<br>or explanation  also the book I had was not very<br>helpful since the formulas were not formatted<br>correctly so the HW was even more challenging  as<br>the website didn''t have all the required formulas<br>and if it did  I suppose I needed further<br>explanation to know what was the actual focus of<br>the questions."
          ],
          [
           "W 2024 CH EN 479 :Sometimes his explanations of the answers weren’t<br>clear because they were written lightly on the<br>board so it was hard to see"
          ],
          [
           "W 2024 CH EN 479 :Some of the instructions could have used some more<br>detail. I know they are supposed to be open-ended<br>but that does not mean the instructions should be<br>unclear."
          ],
          [
           "W 2024 CH EN 479 :Didn''t love the quizzes  particularly the<br>statistics quizzes. I don''t feel like anyone knew<br>stats that well and there was no additional<br>teaching given before taking the quiz."
          ],
          [
           "W 2024 CH EN 479 :Maybe teach or review the stats principle the quiz<br>is on before giving the quiz."
          ],
          [
           "W 2024 CH EN 479 :I wish the stats concepts we were expected to use<br>were taught better."
          ],
          [
           "W 2024 CH EN 479 :It seemed that there were too many assignments on<br>Learning Suite for me to be able to know where I<br>stood grade-wise. I also think that the problem<br>statements need some workshopping. It was often<br>very difficult to interpret those instructions."
          ],
          [
           "W 2024 CH EN 479 :Learning Suite could have been organized a little<br>better. I wish the problem statements were under a<br>content tab. The teamwork assignments were hard to<br>get to. There were virtually no written<br>instructions for the yogurt lab and the yogurt lab<br>desperately needs that. The videos are somewhat<br>helpful but I also want something I can quickly<br>refer back to if I need to re-familiarize myself<br>with a certain aspect of the lab."
          ],
          [
           "W 2024 CH EN 479 :The organization of this class was sort of<br>bizarre. Like some information was in the problem<br>statement  some in the rubric  some on the website<br>and some in other places. The given information<br>often had conflicts or typos. In addition<br>expectations were never explained to use so it was<br>all a bit of guesswork."
          ],
          [
           "W 2024 CH EN 479 :Like I mentioned  I think the expectations for<br>this class could have been clearer  especially<br>with those of the assignments. Some of the rubrics<br>were too broadly worded so we struggled to<br>understand what work to produce. Dr. Guymon did<br>give us some more guidelines for the reports  but<br>it was halfway through the semester and some of<br>the expectations were incomplete so we had to ask<br>for more clarification."
          ],
          [
           "W 2024 CH EN 479 :Some of the problem statements (especially PBL)<br>were unorganized and difficult to follow."
          ],
          [
           "W 2024 CH EN 479 :With some of the labs it was difficult to follow<br>what we needed to do and what our objectives were."
          ],
          [
           "W 2024 CH EN 479 :I was struggling with a lab and working with my<br>team at one point  and I emailed Dr. Guymon asking<br>for help. I felt that he did very little to<br>address my main concerns  and I don''t think that<br>I learned the concepts in the PBL lab very well as<br>a result. He was helpful with the yogurt lab but<br>that one was hard to get help with because I<br>don''t think he was very involved in the creation<br>of that lab."
          ],
          [
           "W 2024 CH EN 479 :I think when students could find him or Ruben they<br>could get help  but sometimes it was hard to find<br>help from anyone."
          ],
          [
           "W 2024 CH EN 479 :I felt like the labs in this class were mostly<br>well structured. The bioreactor is tricky because<br>of the long runtime. Especially for those of us<br>who have jobs and are unable to sit in the UO lab<br>all day."
          ],
          [
           "W 2024 CH EN 479 :See previous comment about his response to my<br>email."
          ],
          [
           "W 2024 CH EN 479 :I think I had a uniquely poor experience so I<br>won''t extrapolate this to other students  but my<br>experience was not good."
          ],
          [
           "W 2024 CH EN 479 :TOOO much time outside of class  whether its for<br>the report or doing the experiment itself. I<br>suffered in my other classes because of this."
          ],
          [
           "W 2024 CH EN 479 :At the end of PBL lab  I spent about 6 hours<br>outside of class one week  but for the rest of the<br>semester I never did anything outside of class"
          ],
          [
           "W 2024 CH EN 479 :The bioreactor project took longer than expected."
          ],
          [
           "W 2024 CH EN 479 :It depended on the lab. For the bioreactor lab  my<br>team was putting in 12+ hours each week outside of<br>the 6 scheduled hours for the lab. The cat meth<br>lab was easily completed during class and only<br>required maybe 1-2 hours outside of class. The PBL<br>probably required about 3  since group of teams<br>had one day less than the other group because of<br>the schedule  which ended up with us having to<br>rush a lot and stay afterwards to finish building<br>things  coding in LabView  and putting together<br>the documents required for the lab. I think the<br>bioreactor lab needs to be either redesigned or<br>simplified if possible. Everyone who did it had to<br>invest a lot of time into setting things up and<br>collecting data. It was to the point where we far<br>exceeded the expectation of only spending 25 hours<br>total on a lab. This definitely wasn''t Dr.<br>Guymon''s fault though  as I think a group of<br>people designed the bioreactor lab. But it does<br>need some revision."
          ],
          [
           "W 2024 CH EN 479 :Almost all the work was done in class  which I<br>think should be expected for a 2 credit class that<br>meets twice a week for 3 hours each time. Any time<br>I spent outside of class was to finish up reports<br>or assignments that I couldn''t quite get done in<br>class."
          ],
          [
           "W 2024 CH EN 479 :The reports took tons of time outside of class (10<br>ish hours each)"
          ],
          [
           "W 2024 CH EN 479 :I have thoroughly enjoyed working with you and<br>getting to know you this semester. As a side note<br>a couple of us noticed that the grade scale was<br>changed near the end of the semester so you needed<br>a 98% to earn an A in this class. I imagine this<br>was done to fit within the regulations set by the<br>department about this class. I just wish this<br>would have been brought to our attention and<br>discussed with us. It feels a little under the<br>table to change this without bringing it forward.<br>It would also be helpful to include your grade<br>scale in your syllabus."
          ],
          [
           "W 2024 CH EN 479 :I liked the idea of this course  but I think it<br>still has a lot of room for development. Also it<br>seemed like the idea of the professors and TA was<br>to instruct/help us as little as possible to have<br>us figure out things for ourselves  but it was<br>just kinda inefficient and came off as lazy or<br>disinterested."
          ],
          [
           "W 2024 CH EN 479 :Please make instructions more clear (especially<br>for bioreactor lab) and make it so that the actual<br>expectations for the projects are only in one<br>place instead of three different ones. I really<br>liked PBL and doing a presentation."
          ],
          [
           "W 2024 CH EN 479 :Expectations were often unclear and some of the<br>problem statements (especially PBL) were<br>unorganized. I wasn''t sure what Dr. Guymon<br>expected in the final reports and presentations.<br>It took forever to get grades back on the reports.<br>The feedback on the reports was too late to be<br>useful for the next report."
          ],
          [
           "W 2024 CH EN 479 :It was frustrating to have to put in additional<br>time to the 6 hours a week to complete specific<br>labs. I appreciate you trying to be flexible when<br>we did seem to run into issues with time."
          ],
          [
           "F 2023 CH EN 263 :The challenging concepts of this class felt<br>unbalanced to the level of material we were<br>prepared for. Difficult mathematical algorithms<br>were also glazed over sometimes  without<br>sufficient context."
          ],
          [
           "F 2023 CH EN 263 :He taught basics but then would ask us to apply<br>them on a very difficult level which was often<br>hard conceptually."
          ],
          [
           "F 2023 CH EN 263 :He is very eager to teach. However  I and many of<br>my peers felt there was a large disconnect between<br>the skills he was trying to teach and what we were<br>asked to do. Many of the codes we were trying to<br>write utilized math or concepts that were beyond<br>what we had learned yet. Because we didn''t<br>understand what we were trying to code  the coding<br>itself became very difficult. I wasn''t struggling<br>with syntax or coding variables. I was struggling<br>with trying to understand what I goal of the code<br>was."
          ],
          [
           "F 2023 CH EN 263 :Sometimes I got really confused and had to just<br>figure it out myself."
          ],
          [
           "F 2023 CH EN 263 :I felt like I had a basic understanding of the<br>skills but I was still confused a lot of the time."
          ],
          [
           "F 2023 CH EN 263 :This class was incredibly challenging because Dr.<br>Guymon was not an effective communicator. The<br>concepts we were learning in class were very<br>challenging  and Dr. Guymon did not demonstrate<br>mastery over the concepts  nor was he able to<br>communicate his understanding to us very well."
          ],
          [
           "F 2023 CH EN 263 :At times  some difficult concepts were rushed<br>especially considering this class is many of our<br>first exposure to certain concepts."
          ],
          [
           "F 2023 CH EN 263 :The organization on canvas a scheduling was a bit<br>spotty. It was kind of hard to figure out where<br>answer keys and office hours were (once they were<br>pointed out I could find them though). Towards the<br>beginning/middle of the semester there would be<br>homework assigned after class  but it wouldn''t be<br>posted until the next day. Or he would change<br>something in the homework a day after we started<br>it  but didn''t tell us he modified the assignment<br>(so anyone who already downloaded it didn''t know<br>there were updated instructions). This did get a<br>bit better as the semester progressed."
          ],
          [
           "F 2023 CH EN 263 :We jumped into python too fast and it made the<br>first half of the course really difficult."
          ],
          [
           "F 2023 CH EN 263 :Starting off with Python was very difficult  but<br>this class''s content is difficult no matter how<br>it is organized."
          ],
          [
           "F 2023 CH EN 263 :Some of the content of the course felt disjointed."
          ],
          [
           "F 2023 CH EN 263 :I felt like sometimes it was hard to understand<br>what he was teaching when getting help because he<br>went through material so quickly."
          ],
          [
           "F 2023 CH EN 263 :I don''t ever remember Dr. Guymon encouraging us<br>to visit him or talk to him about questions  and<br>the one time I did ask him questions during his<br>office hours  he was very cold and curt with me.<br>But he was very friendly and approachable in class<br>if we needed to ask questions."
          ],
          [
           "F 2023 CH EN 263 :Dr. Guymon was somewhat respectful in class  but<br>outside of class he was not at all approachable."
          ],
          [
           "F 2023 CH EN 263 :I love how important the spiritual side of<br>learning is to Dr. Guymon. I''m sad that I often<br>missed his spiritual thoughts at the start of<br>class because I walked in late so often."
          ],
          [
           "F 2023 CH EN 263 :I don''t think this class focused very heavily on<br>building the character of the students."
          ],
          [
           "F 2023 CH EN 263 :There wasn''t really anything about service in<br>this class."
          ],
          [
           "F 2023 CH EN 263 :I don''t feel much enthusiasm about learning and<br>serving because of this class."
          ],
          [
           "F 2023 CH EN 263 :The homework for this class took forever.<br>Debugging is so time-consuming. This took more<br>time than any 2 credit class I''ve ever had."
          ],
          [
           "F 2023 CH EN 263 :The homework took forever"
          ],
          [
           "F 2023 CH EN 263 :The homework took forever and I always had a lot<br>of technological issues."
          ],
          [
           "F 2023 CH EN 263 :Some assignments were very long. This number<br>accounts for assignments  tests  and studying."
          ],
          [
           "F 2023 CH EN 263 :lots of time spent on assignments."
          ],
          [
           "F 2023 CH EN 263 :Some weeks were more busy than others. I worked<br>outside of class anywhere from 5 hours to 15<br>hours."
          ],
          [
           "F 2023 CH EN 263 :Really good guy  but not super experienced as a<br>teacher. It would have been more helpful for me to<br>have a given outline at the beginning of class<br>with expectations for when midterms and projects<br>will be along with what we will be learning."
          ],
          [
           "F 2023 CH EN 263 :I felt like he went through material as if he<br>expected we had already seen it when we hadn''t.<br>The tests were extremely difficult not because the<br>problems were super hard but because I always had<br>technology problems and then ran out of time<br>before they could be fixed. I think I would have a<br>lot better time in this class  have less stress<br>and understand concepts better if there was no<br>time limit on the tests and I could figure out the<br>problems that came up without the pressure of a<br>time constraint."
          ],
          [
           "F 2023 CH EN 263 :Dr. Guymon is really nice in class. I understand<br>that this is his first year teaching and I want to<br>give him leeway as it relates to his performance.<br>However  I was expecting him to be much more<br>familiar with the course concepts than he actually<br>was  and I don''t feel that he was effective at<br>communicating to his students. Most importantly<br>it felt like the care he felt for his students was<br>a facade that fell off outside of class."
          ],
          [
           "F 2023 CH EN 263 :I really loved the sweet spirit Dr. Guymon has.<br>This course is kind of all over the place though.<br>It did not feel structured in a way that made<br>sense. At the end we were learning a little bit<br>about a lot of things without really understanding<br>them. I know that this is not Dr. Guymon''s fault<br>and a lot of it is just the content of the course<br>but it was not fun."
          ],
          [
           "F 2023 CH EN 263 :i am not a teacher so i can''t really offer a<br>solution but it is kind of hard to learn from him<br>as he goes over lecture and his lecture notes good<br>be better commented."
          ],
          [
           "F 2023 CH EN 263 :You can tell it''s somewhat difficult for him to<br>judge what''s difficult for us and what isn''t.<br>Sometimes the material was unfairly difficult and<br>sometimes it was the opposite."
          ],
          [
           "F 2023 CH EN 263 :The canvas could use some organizing. There are<br>lots of files hidden behind all the menus. I think<br>some of the earlier concepts could have been done<br>in a slightly different order so that harder<br>concepts would make more sense."
          ],
          [
           "F 2023 CH EN 263 :he is a really nice guy and wants to help students<br>to the best of his abilities but due to the nature<br>of the course (all the random programs and such)<br>its hard to have him help you understand because<br>things are just the way they are and you have to<br>understand it or you don''t and that makes it hard<br>to get assistance and actually understand."
          ],
          [
           "F 2023 CH EN 263 :Sometimes there was a disconnect in communication<br>and he wouldn''t necessarily understand what the<br>student was asking. He did put forth a fair effort<br>to clarify."
          ],
          [
           "F 2023 CH EN 263 :He always wanted us to be participating and<br>engaged  which in a coding class is pretty hard."
          ],
          [
           "F 2023 CH EN 263 :Most of the time out of class was spent doing<br>homework problems."
          ],
          [
           "F 2023 CH EN 263 :Some homework assignments took like 30 minutes but<br>others took hours to complete. Not a very<br>consistent workload."
          ],
          [
           "F 2023 CH EN 263 :sometimes the homework was poorly written and<br>didn''t make a lot of sense so it was very time<br>consuming."
          ],
          [
           "F 2023 CH EN 263 :The homework took me a long time to figure out…"
          ],
          [
           "F 2023 CH EN 263 :Time spent only on homework. Homework twice a week<br>took multiple hours each but could''ve been<br>significantly shorter with more lessons about<br>basic coding things at the start of the semester"
          ],
          [
           "F 2023 CH EN 263 :This class generally needs some restructuring.<br>Some of the assignments weren''t very clear about<br>what they wanted us to do. There were also certain<br>operations required to compete problems  but we<br>had never learned about these concepts yet. I<br>think in general this class could use more<br>examples and practice problems during class."
          ],
          [
           "F 2023 CH EN 263 :I struggled a bit in this class during the Python<br>portion  mostly with understanding functions/tools<br>like ODEINT  scipy.minimize  curve fit  etc... I<br>feel like I struggled to follow along in class at<br>the pace we went at and then just had to figure it<br>out myself afterwards  and then when I got a good<br>answer I still didnt'' fully understand it. So<br>some added resources would have been nice  or<br>maybe if there was an intro thing we could have<br>read before class and then come with questions<br>that may have been better for facilitating<br>learning for me. But I definitely know a lot more<br>now than I did when the class started and a lot of<br>the class was great in my opinion"
          ],
          [
           "F 2023 CH EN 345 :There were times when I got help  but didn''t<br>quite understand the solution he was proposing to<br>us."
          ],
          [
           "F 2023 CH EN 345 :Parts of the course do feel a little vague<br>especially with the reactor cart."
          ],
          [
           "F 2023 CH EN 345 :Most of the time spent in this class was towards<br>completing lab reports."
          ],
          [
           "F 2023 CH EN 345 :Canvas isn’t the worst  it’s just hard when<br>everything else is on learning suite"
          ],
          [
           "F 2023 CH EN 345 :I sometimes felt like it was hard to get a clear<br>answer to questions regarding the theory behind<br>equations or variables so that I could understand<br>what they meant and how to manipulate them."
          ],
          [
           "F 2023 CH EN 345 :The PRV lab was the hardest/ took the longest to<br>figure out."
          ],
          [
           "F 2023 CH EN 345 :30 minutes each week lab prep and paper writeup at<br>the end."
          ],
          [
           "F 2023 CH EN 345 :If I''m stuck  the comment I received most often<br>was  \"I can''t help you  or What do you think?\"<br>neither of which help me when I have already been<br>stuck on something."
          ],
          [
           "F 2023 CH EN 345 :As with many of these labs  we were rarely working<br>directly with the instructor  but we were<br>responsible primarily for reading and<br>understanding things on our own."
          ],
          [
           "F 2023 CH EN 345 :Again  these labs are either you get it or you<br>don''t. They''re not things that really enhance<br>any learning done in our other classes."
          ],
          [
           "F 2023 CH EN 345 :I wish the class had not been on canvas  it is a<br>much harder software to use than learning suite."
          ],
          [
           "F 2023 CH EN 345 :Some of the activities were significantly longer<br>than the others. The terrarium lab had so much<br>content to digest that it ended up taking several<br>hours to work through exactly what the report was<br>supposed to contain."
          ],
          [
           "F 2023 CH EN 345 :The organization was super scattered and<br>confusing. A lot of the assignments were confusing<br>too."
          ],
          [
           "F 2023 CH EN 345 :The schedule was confusing and many students<br>misread it and got off track due to this."
          ],
          [
           "F 2023 CH EN 345 :Using Canvas was kind of confusing  I think there<br>was a learning curve for all involved."
          ],
          [
           "F 2023 CH EN 345 :Telling me \"Well what do you think?\" when I''m<br>struggling does not help me. Also  when I''m<br>having issues with lab equipment and your comment<br>is basically  \"Oh well  and thus I''m not able to<br>finish the lab on time is a terrible way to go<br>about things."
          ],
          [
           "F 2023 CH EN 345 :The labs are self-run, the instructor doesn''t do<br>anything. Might as well not have an instructor<br>present."
          ],
          [
           "F 2023 CH EN 345 :When I asked questions as to why we had to do<br>things in an inefficient manner, the response I<br>got was, Because that''s the way we''ve always<br>done it.\""
          ],
          [
           "F 2023 CH EN 345 :Only really had one lecature"
          ],
          [
           "F 2023 CH EN 345 :Some mention of environmental effects in the<br>terrarium lab. That lab was also one of the denser<br>activities  so there was less time to stop and<br>consider the implications of the experiment."
          ],
          [
           "F 2023 CH EN 345 :Really? For a .5 credit class  I should be able to<br>finish everything in the lab. This needs to either<br>be absolved into a lab portion of CRE and<br>Materials or dumbed down to actually fit a .5<br>credit workload."
          ],
          [
           "F 2023 CH EN 345 :High variability. During the CRE lab portion  this<br>was less than an hour per week. For the terrarium<br>lab  this was closer to 3 hours."
          ],
          [
           "F 2023 CH EN 345 :Felt like I spent way too much time on this class<br>honestly."
          ],
          [
           "F 2023 CH EN 345 :The pre-post lab stuff often took longer than a .5<br>credit lab should. Maybe for a professor or a<br>student who had already taken Materials and CRE<br>you could get it done quicker  but since they''re<br>concurrent  they''re should be less work to do<br>around the experiments and more focus on the<br>actual experiments  as the outside learning will<br>come form the classes."
          ],
          [
           "F 2023 CH EN 345 :This was the worst lab experience that I have<br>participated in yet. The organization of the lab<br>was awful. It didn''t make any sense for canvas to<br>be used. It made things way more complicated and<br>unnecessary. The reactions lab was set up<br>incorrectly. We spent most of our time trying to<br>trouble shoot problems that we didn''t have to<br>account for in the lab. The amount of work that we<br>had to put into this for a half credit lab was<br>ridiculous. Having to turn in two separate labs<br>yet one person turning both of them in makes no<br>sense either  and there was no good reason other<br>than \"this is the direction that we chose to go<br>this semester.\""
          ],
          [
           "F 2023 CH EN 345 :It sometimes feels a little bit silly to have a<br>final for classes like this... we already have<br>finals on pretty much all of this material in all<br>of our other classes  and it feels like this class<br>is mostly meant to give us a real-life<br>representation/real-life examples of how these<br>processes and concepts apply. Most of what we<br>learn is learned in other classes  and then we see<br>the real-life application in this class. The final<br>in a class like this isn''t usually too hard  but<br>it is hard to understand why we need to have one<br>in the labs."
          ],
          [
           "F 2023 CH EN 345 :I think something could change about this class.<br>We don''t have the time to do a big huge lab every<br>time. It''s tough to see how to learn from these<br>experiences when there is so much fluff around<br>everything. I think there could be changes to<br>making the prelab due by a certain time so we<br>actually know what''s going on when we start.<br>Either that or make the labs simpler so we can get<br>through everything and not get behind."
          ],
          [
           "F 2023 CH EN 345 :Felt the grading was a little strciter than it<br>needed to be"
          ],
          [
           "F 2023 CH EN 345 :This was an exciting class  but a major failure is<br>that it inherently gives certain students an<br>advantage based on whether or not they do the<br>major cart lab first or last  with the last having<br>the advantage. I also wish there were more<br>accessible TA hours to finish the pre or post lab<br>quesitons. My grades suffered due o these two<br>things."
          ],
          [
           "F 2023 CH EN 345 :I didn''t interact with Dr. Guymon very much<br>mostly the TAs."
          ],
          [
           "F 2023 CH EN 345 :Some labs were moderate while others were super<br>infuriating. The Terrarium and Safety lab were<br>pretty unclear and stressful."
          ],
          [
           "F 2023 CH EN 345 :The use of canvas was a little finicky and wasn''t<br>a huge fan of it. At the beginning of the year the<br>labs weren''t organized well  but as the semester<br>went on it was better. Using Learning Suite as the<br>main program would''ve made it a lot easier. This<br>class is a lab  so we were in essence teaching<br>ourselves  it is hard to \"rate\" a professor based<br>on a student lab."
          ],
          [
           "W 2023 CH EN 285 :The general format was that we would figure out<br>the difficult parts on our own. I am sort of<br>concerned that I didn''t learn how to do all that<br>much because feedback on whether or not we were<br>doing things correctly was reserved to comments on<br>grades through learning suite weeks after it was<br>turned in. I rarely felt it made sense to look at<br>the comments  and no attention is brought to it."
          ],
          [
           "W 2023 CH EN 285 :Sorry  I am not sure If I actually meet/interacted<br>with him..."
          ],
          [
           "W 2023 CH EN 285 :This is a very off-hands class. We worked in<br>groups and rarely interacted directly with the<br>instructors. Usually things were run by TAs."
          ],
          [
           "W 2023 CH EN 285 :Some lab reports took a lot longer though"
          ],
          [
           "W 2023 CH EN 285 :It took between a half hour and an hour outside of<br>class to finish the lab."
          ],
          [
           "W 2023 CH EN 285 :Not much at all"
          ],
          [
           "W 2023 CH EN 285 :prelab reading questions/finishing labs out of<br>class"
          ],
          [
           "W 2023 CH EN 285 :Time spent outside of class was spent finishing up<br>lab reports."
          ],
          [
           "W 2023 CH EN 285 :There weren''t many interactions between students<br>and instructors in this course other than for<br>questions during the lab  so my responses should<br>not be any negative reflection on them."
          ],
          [
           "W 2023 CH EN 285 :I often questioned why bother coming to the lab.<br>In principle  it seems nice to have a physical<br>side of what I am learning in fluid dynamics  but<br>I found more times than not just going through the<br>motions in the labs. Most of the TA emails just<br>simply went into the junk folder unfortunately.<br>For my answers that say \"no effect\" or something<br>similar  it is simply because I didn''t have the<br>chance to interact with you."
          ],
          [
           "W 2023 CH EN 285 :Again for all  I never saw him so it is unfair to<br>assess these categories"
          ],
          [
           "W 2023 CH EN 285 :The class was mostly run by TAs so I didn''t see<br>either professor very often."
          ],
          [
           "W 2023 CH EN 285 :Literally never even interacted with him"
          ],
          [
           "W 2023 CH EN 285 :Literally never even interacted with him"
          ],
          [
           "W 2023 CH EN 285 :Literally never even interacted with him"
          ],
          [
           "W 2023 CH EN 285 :Literally never even interacted with him"
          ],
          [
           "W 2023 CH EN 285 :This was a lot more like a 1 or 2 credit lab than<br>a half credit lab"
          ],
          [
           "W 2023 CH EN 285 :Rarely any time outside of class was spent."
          ],
          [
           "W 2023 CH EN 285 :Literally never even interacted with him"
          ],
          [
           "W 2023 CH EN 285 :I didn''t see him at all. It was run by the TAs."
          ],
          [
           "W 2023 CH EN 285 :Never really saw professor Guymon during the lab.<br>The lab was primarily ran by TA''s"
          ],
          [
           "W 2023 CH EN 285 :Wasn''t my direct instructor. LS wouldn''t allow<br>me to only rate Dr. Lignell"
          ],
          [
           "W 2023 CH EN 285 :Wasn''t my direct instructor. LS wouldn''t allow<br>me to only rate Dr. Lignell"
          ],
          [
           "W 2023 CH EN 285 :Wasn''t my direct instructor. LS wouldn''t allow<br>me to only rate Dr. Lignell"
          ],
          [
           "W 2023 CH EN 285 :Wasn''t my direct instructor. LS wouldn''t allow<br>me to only rate Dr. Lignell"
          ],
          [
           "W 2023 CH EN 285 :Wasn''t my direct instructor. LS wouldn''t allow<br>me to only rate Dr. Lignell"
          ],
          [
           "W 2023 CH EN 285 :Wasn''t my direct instructor. LS wouldn''t allow<br>me to only rate Dr. Lignell"
          ],
          [
           "W 2023 CH EN 285 :Wasn''t my direct instructor. LS wouldn''t allow<br>me to only rate Dr. Lignell"
          ],
          [
           "W 2023 CH EN 285 :Wasn''t my direct instructor. LS wouldn''t allow<br>me to only rate Dr. Lignell"
          ],
          [
           "W 2023 CH EN 285 :Wasn''t my direct instructor. LS wouldn''t allow<br>me to only rate Dr. Lignell"
          ],
          [
           "W 2023 CH EN 285 :There were some difficult labs."
          ],
          [
           "W 2023 CH EN 285 :Again  nothing taught"
          ],
          [
           "W 2023 CH EN 285 :Again  just walked around the classroom or was not<br>present"
          ],
          [
           "W 2023 CH EN 285 :Never had any real instruction."
          ],
          [
           "W 2023 CH EN 285 :Do I even want to learn anything from someone who<br>looks like he hates his job and doesn''t want to<br>be here?"
          ],
          [
           "W 2023 CH EN 285 :Working in groups sucks especially for \"labs\" that<br>just feel like busy work."
          ],
          [
           "W 2023 CH EN 285 :Most of the time spent outside this class was<br>either doing the pre-lab or post-lab."
          ],
          [
           "W 2023 CH EN 285 :only spent on pre readings and finishing lab<br>outside of class"
          ],
          [
           "W 2023 CH EN 285 :Why even have professors for this course? They do<br>not teach anything and all they do is walk around<br>the classroom or are not even present."
          ],
          [
           "W 2023 CH EN 285 :I wish the labs were cooler."
          ],
          [
           "W 2023 CH EN 385 :Could be improved"
          ],
          [
           "W 2023 CH EN 385 :He wasn''t around a lot actually."
          ],
          [
           "W 2023 CH EN 385 :Pre-lab + worksheets + data manipulation for the<br>worksheets"
          ],
          [
           "W 2023 CH EN 385 :I don''t want to say anything negative so I am<br>clicking \"very effective\" for all of these but I<br>did not actually work with Dr. Guymon this<br>semester  just Dr. Knotts."
          ],
          [
           "W 2023 CH EN 385 :I don''t think anything spiritual was ever shared<br>but I can understand since it is only a .5 credit<br>lab."
          ],
          [
           "W 2023 CH EN 385 :Good class  but would have liked to have a little<br>more interaction with Dr. Guymon instead of solely<br>his TA''s."
          ],
          [
           "W 2023 CH EN 385 :He was never in class."
          ],
          [
           "W 2023 CH EN 385 :He was never in class."
          ],
          [
           "W 2023 CH EN 385 :He was never in class."
          ],
          [
           "W 2023 CH EN 385 :He was never in class."
          ],
          [
           "W 2023 CH EN 385 :He was never in class."
          ],
          [
           "W 2023 CH EN 385 :He was never in class."
          ],
          [
           "W 2023 CH EN 385 :I barely saw him."
          ],
          [
           "W 2023 CH EN 385 :He was never in class."
          ],
          [
           "W 2023 CH EN 385 :I barely saw him."
          ],
          [
           "W 2023 CH EN 385 :He was never in class."
          ],
          [
           "W 2023 CH EN 385 :I barely saw him."
          ],
          [
           "W 2023 CH EN 385 :He was never in class."
          ],
          [
           "W 2023 CH EN 385 :I barely saw him."
          ],
          [
           "W 2023 CH EN 385 :About 10 minutes per week to do the pre lab and<br>usually a few minutes to finish the lab report. I<br>wanted to put a half hour in the box above but it<br>is not a valid value."
          ],
          [
           "W 2023 CH EN 385 :20 for prelab  70+ for lab."
          ],
          [
           "W 2023 CH EN 385 :I didn''t know dr. Guymon was even partially<br>teaching this class  he was never in class."
          ],
          [
           "W 2023 CH EN 385 :Didn''t really talk much"
          ],
          [
           "W 2023 CH EN 385 :One hour doing the labs  one hour reading through<br>the prelab and finishing post-lab questions"
          ],
          [
           "W 2023 CH EN 385 :I can''t think of any instances that were<br>spiritually strengthening."
          ],
          [
           "W 2023 CH EN 385 :I can''t think of any particular instance that was<br>spiritually strengthening."
          ],
          [
           "W 2023 CH EN 385 :It was high at the beginning of the semester  but<br>then it decreased significantly. I am slower at<br>understanding concepts  so it took me on average<br>around 2 hours outside of class for most labs."
          ],
          [
           "W 2023 CH EN 385 :I don''t remember him being in class."
          ],
          [
           "W 2023 CH EN 479 :Sometimes Dr. Guymon gets into too much detail<br>with a concept  and the main point of the concept<br>is misssed."
          ],
          [
           "W 2023 CH EN 479 :I would recommend being more clear about the due<br>dates. The due date expectations weren''t always<br>clear because they kept changing. It also wasn''t<br>always clear if the quizzes were open or closed<br>neighbor. Being clear on these things will help<br>students stay disciplined."
          ],
          [
           "W 2023 CH EN 479 :I was stretched in my engineering abilities."
          ],
          [
           "W 2023 CH EN 479 :This came more from your example than anything<br>else."
          ],
          [
           "W 2023 CH EN 479 :mostly on writing and analyses we couldn''t finish<br>during class."
          ],
          [
           "W 2023 CH EN 479 :Very rarely spent time outside of class."
          ],
          [
           "F 2022 CH EN 345 :There wasn''t really much need to teach<br>challenging concepts since we''re mostly just<br>applying the things we learn in our other CH EN<br>classes."
          ],
          [
           "F 2022 CH EN 345 :This is a .5 credit lab... not much teaching goes<br>on."
          ],
          [
           "F 2022 CH EN 345 :usually 1-2 hours to complete lab report outside<br>of class"
          ],
          [
           "F 2022 CH EN 345 :Homework"
          ],
          [
           "F 2022 CH EN 345 :The class was pretty good. To be honest  the only<br>problem I saw with this class was one of the<br>teaching assistants were pretty harsh with their<br>grading and did not leaving feedback on what I did<br>wrong."
          ],
          [
           "F 2022 CH EN 345 :Hard to spiritually strengthen in a lab"
          ],
          [
           "F 2022 CH EN 345 :Put on gloves!!!"
          ],
          [
           "F 2022 CH EN 345 :This is the eye-wash :)"
          ],
          [
           "F 2022 CH EN 345 :Honestly nada covered in lab."
          ],
          [
           "F 2022 CH EN 345 :Still nada."
          ],
          [
           "F 2022 CH EN 345 :Doing Pre-lab and post-lab write-ups"
          ],
          [
           "F 2022 CH EN 345 :Most of the time is was prepping and finishing<br>reports."
          ],
          [
           "F 2022 CH EN 345 :I''m going to be honest  there''s really not a<br>whole lot of instruction in our lab  so I''m going<br>to fill this out as honestly as I can."
          ],
          [
           "F 2022 CH EN 345 :A couple of the labs were difficult to follow and<br>understand what exactly we were meant to do."
          ],
          [
           "F 2022 CH EN 345 :As stated before  we were mostly left to figure<br>things out for ourselves unless we needed help"
          ],
          [
           "F 2022 CH EN 345 :Lab very hands on  he didn''t do it all for us."
          ],
          [
           "F 2022 CH EN 345 :Not really any spiritual aspect to this lab"
          ],
          [
           "F 2022 CH EN 345 :Not really any spiritual aspect to this lab"
          ],
          [
           "F 2022 CH EN 345 :1 hour of preparation  1 for lab write-up"
          ],
          [
           "F 2022 CH EN 345 :Most of the labs were easily completed inside the<br>lab time  but there were a couple that required<br>quite a chunk of time (1-3 hours) outside of the<br>lab time."
          ],
          [
           "F 2022 CH EN 345 :Finishing lab report."
          ],
          [
           "F 2022 CH EN 479 :It was hard to find all of the course materials in<br>LearningSuite and the UO Lab website. Preferably<br>all course materials would be present in<br>LearningSuite  but Dr Knotts was the main<br>architect for this class."
          ],
          [
           "F 2022 CH EN 479 :This was no fault of Dr Guymon at all. This class<br>was physically exhausting for me to spend 6 hours<br>a week in due to stress from group work  and I<br>really struggled."
          ],
          [
           "F 2022 CH EN 479 :This was no fault of Dr Knotts at all. This class<br>was physically exhausting for me to spend 6 hours<br>a week in due to stress from group work  and I<br>really struggled."
          ],
          [
           "F 2022 CH EN 479 :This was no fault of Dr Guymon at all. This class<br>was physically exhausting for me to spend 6 hours<br>a week in due to stress from group work  and I<br>really struggled."
          ],
          [
           "F 2022 CH EN 479 :This was no fault of Dr Knotts at all. This class<br>was physically exhausting for me to spend 6 hours<br>a week in due to stress from group work  and I<br>really struggled."
          ],
          [
           "F 2022 CH EN 479 :This was no fault of Dr Guymon at all. This class<br>was physically exhausting for me to spend 6 hours<br>a week in due to stress from group work  and I<br>really struggled. This class also caused me to<br>doubt more than ever my viability in the<br>workforce."
          ],
          [
           "F 2022 CH EN 479 :This was no fault of Dr Knotts at all. This class<br>was physically exhausting for me to spend 6 hours<br>a week in due to stress from group work  and I<br>really struggled. This class also caused me to<br>doubt more than ever my viability in the<br>workforce."
          ],
          [
           "F 2022 CH EN 479 :Most of the time spent outside of class were to<br>work on the reports. So the majority of outside<br>class time was spent during the weeks of report<br>writing. Those weeks became more like 3 hours<br>outside of class to work on the report."
          ],
          [
           "F 2022 CH EN 479 :I think it would have been nice to see him grow<br>and be more involved. It was understandable at the<br>beginning of the semester as he was new  but I<br>didn''t see a lot of growth in his ability to<br>teach and lead. Possibly would have been nice for<br>Dr. Knotts to give Dr. Guymon a few chances to<br>lead and then give feedback afterwards. The only<br>time Dr. Guymon taught was when Dr. Knotts was out<br>of town."
          ]
         ],
         "hovertemplate": "Sentiments=negative<br>tsne_x=%{x}<br>tsne_y=%{y}<br>feedback=%{customdata[0]}<extra></extra>",
         "legendgroup": "negative",
         "marker": {
          "color": "#636efa",
          "symbol": "circle"
         },
         "mode": "markers",
         "name": "negative",
         "showlegend": true,
         "type": "scattergl",
         "x": [
          -3.5975325,
          -0.7039327,
          -2.1869054,
          -2.3043826,
          2.6054285,
          -1.8551859,
          -2.1530776,
          -0.9325747,
          4.397565,
          -1.1321224,
          -0.39507973,
          -2.1409378,
          -4.184442,
          -5.325875,
          -4.45853,
          -4.201886,
          -0.4719715,
          -0.43932632,
          -3.4746618,
          -0.39283118,
          3.5639708,
          -0.551405,
          -2.0200171,
          -2.3936431,
          -3.1908696,
          -5.272172,
          -4.0600863,
          -4.995516,
          -2.5843415,
          0.071314275,
          -9.764226,
          -6.8602033,
          -8.012135,
          -7.361791,
          -6.1930804,
          -5.2045064,
          -1.5151421,
          -1.8194898,
          -7.1852655,
          -7.8854966,
          -7.617269,
          -10.9709835,
          -9.760105,
          -6.323838,
          -5.831531,
          -0.3060569,
          3.7859216,
          3.2130218,
          -6.916816,
          -8.415353,
          -8.253184,
          4.545118,
          3.683687,
          4.754703,
          -7.451717,
          -4.045051,
          -1.0048312,
          -7.4582705,
          -9.089147,
          -6.6688147,
          1.2835387,
          -8.951996,
          -7.840435,
          -4.856413,
          -8.412633,
          -7.3229933,
          -7.386729,
          -5.5868177,
          -3.076749,
          -1.0782121,
          -1.5322973,
          -5.821387,
          -7.7630205,
          -6.3376265,
          4.284078,
          -0.79953015,
          -6.0956745,
          -4.158163,
          -5.0300198,
          -6.27739,
          -2.270027,
          -7.1753,
          -5.894728,
          -9.032386,
          -5.0407825,
          -5.597347,
          -6.8625283,
          3.075416,
          -4.725635,
          3.477283,
          -9.125404,
          -3.5282335,
          2.8752842,
          -2.40871,
          -4.855187,
          -3.4785635,
          -4.5887427,
          0.99397546,
          -5.469326,
          -4.5813537,
          -9.402111,
          -3.6486294,
          -9.402084,
          -9.402039,
          -9.402094,
          -8.435587,
          -8.903909,
          3.5794218,
          -5.783398,
          -5.5523067,
          -6.077472,
          -8.049678,
          -5.223421,
          -3.0776055,
          -7.177566,
          -6.5815716,
          -7.001202,
          -7.258036,
          -9.855117,
          -5.8982134,
          -2.0166779,
          -1.9335971,
          -0.7427613,
          -3.6596136,
          -1.2466173,
          -0.59858084,
          3.4061456,
          5.107387,
          -1.9248949,
          -2.311764,
          0.10979623,
          2.9510276,
          -2.5224104,
          -3.474309,
          -3.599149,
          -9.1962385,
          5.082872,
          -0.9906958,
          -3.2105124,
          -1.1355195,
          -2.3053584,
          -2.7941065,
          -2.4331553,
          -0.78477865,
          -3.0090559,
          -2.6335468,
          -2.7225523,
          -2.6809168,
          -1.187484,
          -1.5944093,
          -2.7369854,
          -3.3848999,
          -2.2631097,
          -2.6051152,
          -2.7970562,
          -2.6813493,
          -2.2500062,
          -3.0267398,
          -3.3902652,
          -0.45850503,
          7.7077384,
          1.7623236,
          -1.6017765,
          -2.9315758,
          3.2392375,
          1.0664239,
          -2.4313743,
          4.006065,
          -1.2153386,
          -3.998111,
          -1.0404214,
          -1.8584017,
          -2.3170447,
          -0.69939303,
          -3.5487683,
          -3.5403697,
          -3.5416338,
          2.8982773,
          2.95985,
          1.1115735,
          -1.080078,
          -5.2478914,
          -2.6527925,
          -3.3862624,
          -2.8215828,
          -5.6787567,
          -3.8981779,
          -5.408272,
          -3.87692,
          -5.76588,
          -4.265674,
          -5.5931873,
          -3.0908473,
          -5.688337,
          -2.4530501,
          -3.8347607,
          -3.2706327,
          2.8460042,
          -3.8329887,
          -4.8130345,
          -2.9398284,
          -2.502055,
          -3.3950143,
          -0.95072013,
          -1.6738836,
          3.5794287,
          -2.249292,
          -0.09969576,
          3.139069,
          -3.4764662,
          -2.0181177,
          5.002305,
          3.5128164,
          -3.5599186,
          -1.6846701,
          -2.6001456,
          2.7165775,
          -3.1951559,
          4.025983,
          -2.6124947,
          4.0557647,
          3.3995,
          -3.1138732,
          -3.734237,
          -2.5564973,
          0.27647725,
          -7.2250943,
          -1.9353354,
          -0.010708777,
          -0.19717157,
          -2.2155228,
          -5.4281974,
          -2.279593,
          2.6058667,
          -1.9441653,
          -6.649983,
          4.3281937,
          3.0661786,
          -7.1167493,
          0.12899148,
          -1.3648809,
          -6.552957,
          -6.801187,
          -8.664762,
          2.0737603,
          -5.1567755,
          -6.2540307,
          0.8721589,
          -2.8015776,
          -7.4145455,
          2.5374722,
          -5.4667754,
          -2.226566,
          -0.086005084,
          -0.89188415,
          -1.1352265,
          -2.2435575,
          3.7090645,
          -2.6637797,
          -1.7171824,
          -0.93977624,
          -1.1427109,
          -2.350578,
          -0.5701031,
          4.9678802,
          5.0578094,
          6.645024,
          -1.1176865,
          -0.9909187,
          -0.85805887,
          -3.8107212,
          -4.7742276,
          -3.586201,
          -4.860847,
          -5.160073,
          -5.8426147,
          -0.5422743,
          -1.7447847,
          4.3844743,
          3.770321,
          -0.37446132,
          -0.4709632,
          -1.2650926,
          -0.74006546,
          0.25950703,
          0.64580864,
          -6.1752825,
          -4.0367036,
          -3.4709282,
          -4.603198,
          -3.9257867,
          -2.3720644,
          -1.9970672,
          0.91086787,
          -8.662511,
          -6.9518332,
          -1.0821422,
          -1.4145962,
          -8.023846,
          -8.480486,
          -0.738548,
          -6.3497357,
          -6.310759,
          -1.092502,
          -7.8319526,
          -2.5263238,
          -2.5178714,
          -1.1578622,
          -6.0672483,
          -5.3228946,
          -0.42132813,
          -0.6010243,
          -7.909128,
          -6.2936115,
          -7.5734878,
          -3.5774436,
          -6.9411864,
          -6.0703025,
          -5.502963,
          -6.3807616,
          -2.7828414,
          -5.4087973,
          3.9202707,
          -7.3574853,
          -4.3162107,
          -2.4673555,
          2.6292198,
          -3.7369206,
          -8.804568,
          -7.3969665,
          1.3220512,
          -9.1319685,
          -7.3351083,
          -4.62818,
          -6.4689918,
          2.052506,
          -3.7215405,
          2.7120113,
          2.712131,
          2.7121046,
          2.7121046,
          -6.225376,
          -6.494783,
          2.712131,
          1.4221178,
          3.6307049,
          0.60056955,
          0.600592,
          0.6005858,
          0.600616,
          0.60059243,
          0.60056645,
          0.60059524,
          0.60059774,
          0.6005748,
          -7.2020984,
          0.48541915,
          0.7005982,
          -0.019258358,
          0.536841,
          -8.156126,
          -7.1619816,
          -7.0779963,
          -1.6789254,
          -10.204572,
          -2.263718,
          2.653333,
          -9.794472,
          4.2824984,
          -5.426813,
          4.303131,
          0.71042526,
          0.710431,
          0.710431,
          0.7104492,
          0.710431,
          0.71044004,
          2.6996944,
          0.7104492,
          2.6996944,
          0.710431,
          2.6996944,
          0.71044004,
          2.6996944,
          -8.024963,
          -9.512307,
          3.9019547,
          2.898174,
          -8.040971,
          7.8648424,
          7.8604136,
          -6.1193147,
          1.0032809,
          5.1873717,
          -2.61382,
          -5.4082246,
          -0.74496603,
          -5.6571717,
          -6.5334196,
          -3.7379606,
          -6.0945168,
          -7.951246,
          -5.562059,
          -2.3938856,
          -9.818785,
          4.0204315,
          6.1251035,
          -9.977814,
          1.2573626,
          -9.417565,
          -7.6731424,
          -8.069545,
          -6.364926,
          -0.49642414,
          0.07874559,
          -9.5045395,
          -9.504552,
          -8.864061,
          -6.3955665,
          -9.694347,
          0.64853233,
          3.1797922,
          0.9638162,
          3.1797922,
          0.96381557,
          3.1245327,
          0.9295732,
          -6.3920736,
          4.4095373
         ],
         "xaxis": "x",
         "y": [
          -5.039375,
          -1.4809502,
          -4.899916,
          -2.0114818,
          -5.2405415,
          8.0008745,
          -3.9957838,
          -3.198064,
          -5.119936,
          -2.9231246,
          -3.6331353,
          -2.6729288,
          -3.9156084,
          -5.1489487,
          -4.7567625,
          -4.9637127,
          -4.0480394,
          -3.4438212,
          -3.2231328,
          -3.8392189,
          -5.3966165,
          -2.7260315,
          -2.8383408,
          -3.6996026,
          -3.8675494,
          -7.142784,
          -4.9081225,
          -5.11004,
          -3.5882802,
          9.751938,
          -4.7509084,
          -3.8747036,
          -4.0250225,
          -4.4058876,
          -1.7863349,
          -1.051498,
          7.1913877,
          7.9886985,
          -1.2487876,
          -4.178288,
          -1.074091,
          -2.4047868,
          -4.7341576,
          -1.9936212,
          -2.0998907,
          -1.5025498,
          -6.3208914,
          -5.646658,
          -2.4100764,
          -0.93072075,
          -0.9947096,
          -6.7267547,
          -5.791241,
          -6.305198,
          -2.006461,
          -2.0524387,
          -3.958902,
          -1.1864101,
          -4.33817,
          -3.1105754,
          9.691199,
          -3.5769842,
          -0.9587232,
          -1.473023,
          -1.3753949,
          -2.3750026,
          -4.067532,
          -2.0205889,
          -6.811152,
          -3.3771918,
          7.2826185,
          -1.0438175,
          -0.74073064,
          -1.4462632,
          -6.2358723,
          -5.0562515,
          -1.9841754,
          -1.3703898,
          -3.9988573,
          -2.6560667,
          -6.098657,
          -2.7518451,
          -7.045559,
          -4.7188783,
          -3.6332831,
          -2.3798473,
          -2.5559661,
          -5.7185936,
          -1.8235368,
          -5.292075,
          3.473271,
          -1.1734954,
          8.576219,
          8.169644,
          -6.95693,
          -3.3938568,
          -2.5694153,
          9.258857,
          -1.1721811,
          -2.7363982,
          -1.917201,
          -2.5275426,
          -1.9172022,
          -1.917187,
          -1.917197,
          -4.47911,
          -2.0542326,
          -4.8805046,
          -0.39022115,
          -1.0724608,
          -1.9717802,
          -2.0613859,
          -2.9606695,
          -3.0480213,
          -2.3360224,
          -2.272864,
          -3.966722,
          -4.5834913,
          -4.773621,
          -1.3862907,
          -2.791003,
          -3.5943944,
          -1.8255447,
          -1.3515439,
          2.762808,
          -1.7820535,
          -5.282851,
          -7.043884,
          5.8545103,
          -3.8606567,
          -2.5744963,
          -5.0868635,
          -3.7313976,
          -4.975057,
          -1.8261269,
          3.4997623,
          -7.089487,
          -2.0320354,
          -1.4652982,
          -4.0977635,
          -3.6367238,
          -4.2589283,
          -2.3989305,
          -2.6625123,
          -4.874562,
          -5.96625,
          -5.0009007,
          -4.3018403,
          -5.992085,
          -3.5981896,
          -4.878476,
          -1.854379,
          -2.8653579,
          -2.9171364,
          -4.4595256,
          -4.812676,
          -3.6661067,
          -6.1219463,
          -5.684918,
          -2.8109548,
          -5.9002323,
          9.087009,
          -3.473643,
          -4.6539288,
          -6.6811943,
          6.1405487,
          -4.545239,
          -5.232438,
          -2.3779063,
          -6.477676,
          -3.6401193,
          -2.8507748,
          -5.1857877,
          -5.062751,
          -1.7641433,
          -0.46024078,
          -7.3743114,
          -0.8804317,
          -0.8849029,
          -2.0214024,
          -4.3462567,
          -6.113883,
          -3.6987805,
          -4.216568,
          -2.071605,
          -7.6961718,
          -4.957234,
          -7.173949,
          -3.9592824,
          -6.2383795,
          -4.092548,
          -7.657267,
          -3.4488707,
          -7.5125365,
          -5.4310308,
          -5.298165,
          -4.7335644,
          -4.65349,
          -4.512709,
          -5.247731,
          -3.326508,
          -6.6096087,
          -4.2664957,
          -2.346073,
          -2.8800416,
          -5.423095,
          -3.2731745,
          -1.9718524,
          -5.2408533,
          -7.1444974,
          -3.5682065,
          -6.407716,
          -4.2695637,
          -6.7194867,
          -3.7883115,
          -2.7550642,
          -5.718286,
          -5.467883,
          -5.9051595,
          -2.1022851,
          -5.4683433,
          -5.0937543,
          -7.5122933,
          -3.826162,
          -3.183393,
          -1.2950261,
          -1.0410651,
          -4.007479,
          -5.299699,
          -5.218684,
          -4.2135806,
          -3.4593167,
          -3.3237555,
          -5.087229,
          -5.5017996,
          -1.1895674,
          -6.299389,
          2.9558616,
          -1.679864,
          10.936907,
          -4.707722,
          -3.9277234,
          -4.626444,
          -6.3493805,
          -6.170063,
          -4.445804,
          -5.2957597,
          -0.95029175,
          -2.7920356,
          -1.6374674,
          -5.5029526,
          -1.6461443,
          -3.0024588,
          -1.211516,
          -2.5973444,
          5.5945277,
          3.7149687,
          -5.6503167,
          -1.8949953,
          -2.5602896,
          -3.150434,
          -3.105618,
          -2.4375508,
          -1.6209872,
          -6.0431943,
          -6.278274,
          -2.4659803,
          -4.413646,
          -4.5076375,
          -4.586806,
          -4.827112,
          -6.8638716,
          -5.525066,
          -5.5883174,
          -6.361352,
          -5.2726765,
          -1.5834243,
          -3.3173032,
          -5.944112,
          -5.0428195,
          -2.3537297,
          -1.7429628,
          -6.313986,
          -2.079563,
          -1.0065819,
          1.15149,
          -6.0507765,
          -4.93335,
          -5.0998616,
          -6.7761564,
          -4.8587375,
          -3.067687,
          -1.7158452,
          4.8975887,
          -0.789224,
          -3.8327568,
          -6.6709676,
          -2.0752394,
          -1.933069,
          -4.25778,
          5.760645,
          -1.2898805,
          -1.8843637,
          -6.6050267,
          -2.4996932,
          -5.5808334,
          -5.5993056,
          -6.589731,
          -2.581849,
          -1.6545221,
          6.010975,
          7.998095,
          -2.370113,
          -3.1919367,
          -2.9034743,
          -3.5282238,
          -3.1562605,
          -2.6172087,
          -1.8216897,
          -2.4954484,
          -2.1295977,
          -2.352281,
          -6.4316673,
          -1.8158814,
          -1.5504012,
          -3.4117296,
          8.063424,
          -2.5634696,
          -4.8333793,
          -3.6406128,
          9.631496,
          -3.6575284,
          -4.727262,
          -1.7898378,
          1.534655,
          8.277479,
          -2.567515,
          8.080898,
          8.080917,
          8.080865,
          8.080865,
          -2.3675144,
          -5.8523355,
          8.080917,
          8.371136,
          -6.7405677,
          -7.9656053,
          -7.965595,
          -7.965637,
          -7.965587,
          -7.965604,
          -7.965618,
          -7.965603,
          -7.96556,
          -7.9656386,
          -1.3583794,
          9.139008,
          8.1585865,
          8.303378,
          -2.8958442,
          -2.407298,
          -4.0008917,
          -4.4388046,
          -4.1713405,
          -0.94455206,
          8.298137,
          8.199594,
          -3.1500547,
          -6.4194007,
          -2.8992593,
          -4.6017127,
          7.9207883,
          7.9208007,
          7.9208007,
          7.920775,
          7.9208007,
          7.9208117,
          8.626794,
          7.920775,
          8.626794,
          7.9208007,
          8.626794,
          7.9208117,
          8.626794,
          -4.8196425,
          -3.0833368,
          -6.0380025,
          8.653785,
          -3.6767046,
          3.9180048,
          3.921474,
          -3.8119032,
          7.8892593,
          -7.3728724,
          -5.096332,
          4.1871395,
          9.431886,
          -5.8713365,
          -5.867943,
          -2.532382,
          -2.4587924,
          -4.4288173,
          -7.6099577,
          -1.7781539,
          -1.090414,
          10.137704,
          7.4031835,
          -1.890394,
          10.023627,
          -3.8620236,
          -5.850967,
          -1.9354892,
          -1.2514095,
          5.7821383,
          3.6650038,
          -1.2326885,
          -1.2326782,
          -4.444216,
          -1.9801382,
          -4.6942954,
          -3.9724898,
          -6.020664,
          -4.028359,
          -6.020664,
          -4.028378,
          -6.018816,
          -4.0490766,
          -5.233626,
          -6.0568943
         ],
         "yaxis": "y"
        },
        {
         "customdata": [
          [
           "F 2024 CH EN 263 :He was a really good teacher for coding."
          ],
          [
           "F 2024 CH EN 263 :Sometimes  he made mistakes in class  but it was<br>actually kind of cool because it could help teach<br>us debugging strategies for when we make mistakes<br>in the process."
          ],
          [
           "F 2024 CH EN 263 :Dr. Guymon was very effective in teaching many of<br>the most complicated skills and topics in this<br>class. there is just a lot of content to cover<br>which makes things difficult"
          ],
          [
           "F 2024 CH EN 263 :Sometimes there''s a little bit of a conceptual<br>bridge to cross  but honestly it was really good<br>for us to be able to think through things (ie. the<br>heat transfer eqations. Even though we hadn''t<br>been exposed to them  we had to just think about<br>them logically in order to set up our problems."
          ],
          [
           "F 2024 CH EN 263 :The course content was organized well."
          ],
          [
           "F 2024 CH EN 263 :Great class website! It was very helpful."
          ],
          [
           "F 2024 CH EN 263 :I think the way he organized the class was helpful<br>to understand the main concepts."
          ],
          [
           "F 2024 CH EN 263 :i like the flipped classroom method he uses."
          ],
          [
           "F 2024 CH EN 263 :Github is a great place for much of the course<br>information"
          ],
          [
           "F 2024 CH EN 263 :Course website was very helpful."
          ],
          [
           "F 2024 CH EN 263 :I appreciate how intentionally he did everything<br>with the course."
          ],
          [
           "F 2024 CH EN 263 :Sometimes he didn''t really answer the question<br>that was asked  but he was overall helpful."
          ],
          [
           "F 2024 CH EN 263 :He was very available and open for us to come to<br>him outside of class or inside of class to ask<br>questions  receive help and assistance  and for<br>other needs."
          ],
          [
           "F 2024 CH EN 263 :Very kind and patient. Always willing to help even<br>if it was for projects outside of class."
          ],
          [
           "F 2024 CH EN 263 :He had open office hours and would often meet<br>longer than his scheduled office hours"
          ],
          [
           "F 2024 CH EN 263 :Clint Guymon is a very effective instructor. He is<br>always willing to help students who are struggling<br>with the course material. He provides a lot of<br>opportunities for students to ask questions and<br>get clarification on the material. He is very<br>patient and understanding  and he makes sure that<br>every student understands the content of the<br>class."
          ],
          [
           "F 2024 CH EN 263 :Doctor Guymon made lots of effort in ensuring that<br>students who were struggling were able to meet<br>with him."
          ],
          [
           "F 2024 CH EN 263 :Dr guymon whent out of his way on multiple<br>occasions to help students me included"
          ],
          [
           "F 2024 CH EN 263 :He''s super willing to talk and meet outside of<br>class. I love that he has candy in his office for<br>students who come to office hours. He''s super<br>willing and able to explain any concept and answe<br>any question."
          ],
          [
           "F 2024 CH EN 263 :Great hands on homework assignments to learn<br>Python and Excel. Fun end of semester project.<br>Some awesome demos in class."
          ],
          [
           "F 2024 CH EN 263 :Lectures could be hard to follow along but the<br>homework would always have us engaged"
          ],
          [
           "F 2024 CH EN 263 :Clint Guymon is a very effective instructor. He<br>always tries to do interactive activities and<br>examples. He is very knowledgeable and makes the<br>class interesting. I would definitely recommend<br>him to other students."
          ],
          [
           "F 2024 CH EN 263 :The course coveres a lot of content  but despite<br>that he did a good job of making the pre-class  in<br>class  homework  and quiz/tests all be well<br>coordinated with each other  which I really<br>appreciate. Everything we did in the class had a<br>purpose  I didn''t every feel like what I was<br>doing was busywork."
          ],
          [
           "F 2024 CH EN 263 :He was super respectful of us and showed that he<br>cared about our opinions  questions  and concerns."
          ],
          [
           "F 2024 CH EN 263 :One of the best professors I have ever had in<br>terms of this. He is so approachable and friendly<br>and very respectful  and very accommadating."
          ],
          [
           "F 2024 CH EN 263 :I really like this instructor. He is very<br>respectful and always has a good attitude towards<br>students'' questions."
          ],
          [
           "F 2024 CH EN 263 :Extreemly respectful and kind to all students."
          ],
          [
           "F 2024 CH EN 263 :I appreciated the short spiritual thoughts at the<br>beginning of classes."
          ],
          [
           "F 2024 CH EN 263 :He always started class with a solid spiritual<br>thought and a prayer."
          ],
          [
           "F 2024 CH EN 263 :I love the spiritual thoughts at the beginning of<br>every class. I can just tell how faithful he is by<br>the way he talks about the gospel."
          ],
          [
           "F 2024 CH EN 263 :He had a spiritual thought at the start of each<br>lecture."
          ],
          [
           "F 2024 CH EN 263 :He always starts class with a spiritual thought."
          ],
          [
           "F 2024 CH EN 263 :always gave a spiritual thought  even though it<br>took 10+ minutes of class time on several<br>occasions"
          ],
          [
           "F 2024 CH EN 263 :Dr Guymon has shared the most touching spiritual<br>thoughts of any of my classes this year  truth be<br>told im not in any religion classes this semester."
          ],
          [
           "F 2024 CH EN 263 :Spiritual thoughts at the beginning of classes<br>were very uplifting."
          ],
          [
           "F 2024 CH EN 263 :I appreciated the time that he would take to<br>discuss spiritual things (ie quotes  the devo<br>etc.) in class. He is also a good example of<br>developing our tallents. He would sometimes talk<br>about projects and cool things that he''d done<br>and that was all just extra-cirrucular. I<br>appreciated that too."
          ],
          [
           "F 2024 CH EN 263 :I learned to code which enlarged me<br>intellectually."
          ],
          [
           "F 2024 CH EN 263 :I know coding languages now"
          ],
          [
           "F 2024 CH EN 263 :I learned a lot with Doc. Guymon."
          ],
          [
           "F 2024 CH EN 263 :This is a class were I feel that I have gained<br>much useable knowledge that is helping me in my<br>other classes"
          ],
          [
           "F 2024 CH EN 263 :It inspired my character of application of skills<br>to all aspects of life and career."
          ],
          [
           "F 2024 CH EN 263 :Yes  especially with the other outside of class<br>opportunities he provides."
          ],
          [
           "F 2024 CH EN 263 :He helped me strive to keep learning and<br>developing myself and use it to help others."
          ],
          [
           "F 2024 CH EN 263 :He makes me want to be a better person"
          ],
          [
           "F 2024 CH EN 263 :He always tries to teach us about things that we<br>will use in our normal lives  not only working or<br>academic."
          ],
          [
           "F 2024 CH EN 263 :I spent about 2 hours per homework assignment and<br>half an hour preparing for each class. Some<br>homework took longer  but this is a good average."
          ],
          [
           "F 2024 CH EN 263 :The instructor was very kind and helpful and an<br>amazing teacher. I enjoyed his course."
          ],
          [
           "F 2024 CH EN 263 :I love this course! One of my favorite classes<br>and one of the first professors I''ve really felt<br>comfortable talking to and asking for help on<br>anything."
          ],
          [
           "F 2024 CH EN 263 :It was a really good course  I liked how you had<br>to put some effort into it so that you could<br>understand the code more but I liked it because I<br>have a better grasp on how to code now"
          ],
          [
           "F 2024 CH EN 263 :The course is difficult because it''s a lot of new<br>information on a topic that is not always<br>conventional  but he is an amazing man and gives<br>plentiful opportunities to succeed."
          ],
          [
           "F 2024 CH EN 263 :Very nice professor  sometimes class moves too<br>class for a beginners level class."
          ],
          [
           "F 2024 CH EN 263 :I really enjoyed this class and feel like I<br>learned lots."
          ],
          [
           "F 2024 CH EN 263 :Dr. Guymon was very open to changing and altering<br>the methods and structure of the course as was<br>needed throughout the semester - which was very<br>helpful."
          ],
          [
           "F 2024 CH EN 263 :I appreciated the course! It did a good job of<br>giving a high level overview of a lot of programs<br>that still gave lots of applicable skills to<br>students. It wasn''t easy  but the effort put in<br>was worthwhile effort befause it resulted in real<br>skills."
          ],
          [
           "F 2024 CH EN 263 :Most of the time the topics would be learned<br>quickly  and at times during office hours other<br>tertiary concepts would also be taught until<br>understood."
          ],
          [
           "F 2024 CH EN 263 :Dr. Guymon always makes himself available to help<br>students  including giving us his phone number and<br>inviting us to text him questions or for help."
          ],
          [
           "F 2024 CH EN 263 :Quick to respond to questions and had answers to<br>99% of questions and found the answer to the<br>remaining 1%"
          ],
          [
           "F 2024 CH EN 263 :He was incredibly helpful to anyone asking for<br>help  being present for his office hours and even<br>extending past them to continue helping"
          ],
          [
           "F 2024 CH EN 263 :I did appreciate that there were many examples<br>where we used the tools we were given to solve<br>real chemical engineering problems. The case study<br>was also cool to see how the code could be used to<br>model an experiment."
          ],
          [
           "F 2024 CH EN 263 :Many times Dr.Guymon would give ideas and<br>invitations on how to improve one''s learning<br>experience."
          ],
          [
           "F 2024 CH EN 263 :Dr. Guymon is very kind and respectful to all the<br>students."
          ],
          [
           "F 2024 CH EN 263 :Very respectful"
          ],
          [
           "F 2024 CH EN 263 :He''s great :)"
          ],
          [
           "F 2024 CH EN 263 :I enjoyed his spiritual thoughts in class  and he<br>is always testifying of God with both his words<br>and actions."
          ],
          [
           "F 2024 CH EN 263 :spiritual thoughts at the start of every class was<br>super helpful fo rme this semester."
          ],
          [
           "F 2024 CH EN 263 :His catchphrase is \"God lives and loves us\" never<br>forget it."
          ],
          [
           "F 2024 CH EN 263 :I''ve tried picking up programming for years  and<br>he actually got it to stick in my head."
          ],
          [
           "F 2024 CH EN 263 :The opportunity to work in a group for a project<br>was helpful for building character."
          ],
          [
           "F 2024 CH EN 263 :I''ve learned how to better ask for help  and<br>changing my approach in many challenges."
          ],
          [
           "F 2024 CH EN 263 :I have gained lots of tools that will help me to<br>serve others as a chemical engineer and as a<br>problem solver."
          ],
          [
           "F 2024 CH EN 263 :Dr. Guymon is a great man  he is very willing to<br>help and truly wants to help his students learn<br>and do their best. He is still  understandably<br>inexperienced when it comes to teaching and<br>organizing a class and its material. That was<br>sometimes difficult and frustrating as a student<br>but I think with more time and experience he will<br>definitely improve in those areas."
          ],
          [
           "F 2024 CH EN 263 :I love Dr Guymon and would recommend his class to<br>anyone looking to learn some computational tools."
          ],
          [
           "F 2024 CH EN 263 :Dr.Guymon is one of the best professors that BYU<br>has currently in the ChemE department. BYU would<br>be remiss by not recognizing a professor of his<br>caliber."
          ],
          [
           "F 2024 CH EN 345 :I thought the supporting material given for each<br>lab was generally helpful"
          ],
          [
           "F 2024 CH EN 345 :I''ve experienced Dr Guymon''s teaching before and<br>I think he does an excellent job of explaining and<br>teaching."
          ],
          [
           "F 2024 CH EN 345 :Most concepts and skills were taught in other<br>classes  but lab write-ups included necessary<br>helpful context."
          ],
          [
           "F 2024 CH EN 345 :I appreciated how the content lined up with what<br>we were learning in CRE/Materials."
          ],
          [
           "F 2024 CH EN 345 :Best way to do a lab class- let the students<br>figure it out themselves."
          ],
          [
           "F 2024 CH EN 345 :I thought the course was well-organized and<br>expectations and scheduling were clear."
          ],
          [
           "F 2024 CH EN 345 :Labs effectively give real-world context to the<br>concepts taught in CRE and materials."
          ],
          [
           "F 2024 CH EN 345 :He was always kind and was clearly on the side of<br>the students."
          ],
          [
           "F 2024 CH EN 345 :No complaints :)"
          ],
          [
           "F 2024 CH EN 345 :Dr Guymon is very open and I''ve always felt like<br>I can approach him for help  whether during class<br>or in his office."
          ],
          [
           "F 2024 CH EN 345 :Always available to help students with questions<br>nevery made it seem like a burden to get<br>assistance."
          ],
          [
           "F 2024 CH EN 345 :I felt like the labs were the right mix of<br>challenging and informative."
          ],
          [
           "F 2024 CH EN 345 :The lab cart was the most realistic engineering<br>scenario we''ve faced so far  and though a lot of<br>people stressed over it I think it did a great job<br>of simulating an industry challenge."
          ],
          [
           "F 2024 CH EN 345 :This whole lab was a great active learning<br>experience."
          ],
          [
           "F 2024 CH EN 345 :Labs are well organized to foster independent<br>thinking and hands-on learning."
          ],
          [
           "F 2024 CH EN 345 :He was always kind and considerate in talking with<br>students"
          ],
          [
           "F 2024 CH EN 345 :Dr Guymon is always highly respectful."
          ],
          [
           "F 2024 CH EN 345 :Attentively listens to questions and treats<br>concerns seriously. Helps to clear up any<br>misunderstandings in a respectful way."
          ],
          [
           "F 2024 CH EN 345 :Did a good job of working spiritual thoughts into<br>the lab readings even though we didn''t ever have<br>lecture. Creative."
          ],
          [
           "F 2024 CH EN 345 :Dr Guymon doesn''t hide his testimony  and he<br>reminds his students of what''s most important."
          ],
          [
           "F 2024 CH EN 345 :Spiritual thoughts in each lab help connect<br>material to the gospel."
          ],
          [
           "F 2024 CH EN 345 :This class helped me see new ways to approach<br>solving problems through experimentation."
          ],
          [
           "F 2024 CH EN 345 :Hands-on experience is great and the class wasn''t<br>terribly stressful"
          ],
          [
           "F 2024 CH EN 345 :Learned to think creatively and independently."
          ],
          [
           "F 2024 CH EN 345 :I enjoyed this lab more than previous labs and I<br>thought activities struck a good balance between<br>time spent and principles learned."
          ],
          [
           "F 2024 CH EN 345 :Labs are well organized to foster independent<br>thinking and hands-on learning."
          ],
          [
           "F 2024 CH EN 345 :This class helped me practice trying new things<br>learning from my mistakes  and asking for help as<br>appropriate."
          ],
          [
           "F 2024 CH EN 345 :Learned to be more confident in my engineering<br>judgement."
          ],
          [
           "F 2024 CH EN 345 :I practiced having a good attitude in this class."
          ],
          [
           "F 2024 CH EN 345 :Labs are well organized to foster independent<br>thinking and hands-on learning."
          ],
          [
           "F 2024 CH EN 345 :I''ll take the hands-on learning from this class<br>into future learning and service."
          ],
          [
           "F 2024 CH EN 345 :Lab instruction allows students to apply learned<br>concepts to effective service in the real world."
          ],
          [
           "F 2024 CH EN 345 :Mostly on finishing up labs. I was generally able<br>to accomplish what I needed to without assistance<br>from TAs outside of class."
          ],
          [
           "F 2024 CH EN 345 :The pre-labs and lab reports were reasonably<br>sized."
          ],
          [
           "F 2024 CH EN 345 :Well-planned and usually very helpful. In fact  I<br>would be happy if this class''s hours were<br>expanded and the Materials Science lecture class<br>was shrunk. It would make the lecture less about<br>rote memorization and allow students to experience<br>it hands-on instead."
          ],
          [
           "F 2024 CH EN 345 :Lab classes with him are always golden. Does a<br>great job of designing experiments that<br>incentivize engaged  creative thinking and build<br>confidence."
          ],
          [
           "F 2024 CH EN 345 :Dr Guymon is a fantastic teacher and I think the<br>way he approaches teaching is exemplary. I''ve<br>noticed that he tries to help me work through<br>things on my own rather than just giving me an<br>answer  and he has a way of doing this that<br>increases my confidence in my engineering ability.<br>I appreciate that he tries to give us<br>responsibility and learn on our own. Dr Guymon is<br>also a great example to me of discipleship and<br>loving the Lord. It''s evident in the way Dr<br>Guymon carries himself and speaks of the gospel<br>that he loves God."
          ],
          [
           "F 2024 CH EN 345 :Dr. Guymon is knowledgeable about the topics and<br>lab processes present in the class."
          ],
          [
           "F 2024 CH EN 345 :Instructor was helpful and the lab requirements<br>were clearly laid out."
          ],
          [
           "F 2024 CH EN 345 :Always teaching ChemE concept and skills that we<br>will use in the future."
          ],
          [
           "F 2024 CH EN 345 :It was a good timeline."
          ],
          [
           "F 2024 CH EN 345 :Very well organized."
          ],
          [
           "F 2024 CH EN 345 :Did this really well"
          ],
          [
           "F 2024 CH EN 345 :He was able to instruct us in the things we needed<br>to get done for each lab. He provided us (most of<br>the time) with the information that we needed."
          ],
          [
           "F 2024 CH EN 345 :Always willing to happily help."
          ],
          [
           "F 2024 CH EN 345 :There was one day where nobody was there  but<br>otherwise great"
          ],
          [
           "F 2024 CH EN 345 :Always answered our needs."
          ],
          [
           "F 2024 CH EN 345 :He answer question and ask questions to give us<br>the opportunity to participate and enhance our<br>knowledge."
          ],
          [
           "F 2024 CH EN 345 :The lab is highly interactive. This is great."
          ],
          [
           "F 2024 CH EN 345 :Didn''t give solutions  but guided us to find our<br>own solutions."
          ],
          [
           "F 2024 CH EN 345 :He is very professional and respectful."
          ],
          [
           "F 2024 CH EN 345 :always respectful"
          ],
          [
           "F 2024 CH EN 345 :I appreciated the little spiritual thoughts at the<br>beginning of each lab."
          ],
          [
           "F 2024 CH EN 345 :Doctor Guymon always challenge us to be better<br>spiritually and in the secular knowledge."
          ],
          [
           "F 2024 CH EN 345 :I love Dr. Guymon''s spiritual messages at the<br>start of each lab report! He''s very sincere and<br>applies engineering concepts to life in a cool<br>way."
          ],
          [
           "F 2024 CH EN 345 :His example inspires Christlike behavior"
          ],
          [
           "F 2024 CH EN 345 :Learned alot on my own"
          ],
          [
           "F 2024 CH EN 345 :Oh buddy  I feel like I learned a lot when the lab<br>went the intended way in applying what we were<br>learning in class."
          ],
          [
           "F 2024 CH EN 345 :Doctor Guymon always challenge us to be better<br>spiritually and in the secular knowledge."
          ],
          [
           "F 2024 CH EN 345 :Encouraged us to solve our own problems in a<br>guiding way."
          ],
          [
           "F 2024 CH EN 345 :The group project lab definitely helped me improve<br>my character to coordinate with my teammates and<br>acknowledge their work."
          ],
          [
           "F 2024 CH EN 345 :He is preparing us to build character that we will<br>need in future jobs."
          ],
          [
           "F 2024 CH EN 345 :With his example he tech us to learn and serve."
          ],
          [
           "F 2024 CH EN 345 :This will definitely help in my career. I also<br>love learning lab science that correlates to<br>normal physical world events - corrosion  plastic<br>deformation  and photosynthesis  to name a few."
          ],
          [
           "F 2024 CH EN 345 :No particular influence one way or the other  but<br>the experience we had will enable us to better<br>serve others in future professional capacities."
          ],
          [
           "F 2024 CH EN 345 :I like the way this class is structured  We learn<br>a lot and Doctor Clint Guymon is great and always<br>willing to help."
          ],
          [
           "F 2024 CH EN 345 :I liked this course  maybe spend more time in the<br>lab walking around and helping the students if<br>possible."
          ],
          [
           "F 2024 CH EN 345 :I love Dr. Guymon''s lab methodology and<br>structure."
          ],
          [
           "F 2024 CH EN 345 :I thought that the course and Dr. Guymon both<br>helped to solidify concepts learned in lecture<br>classes. Greatly enjoyed it."
          ],
          [
           "F 2024 CH EN 345 :All of the assignments were listed on the first<br>day of class."
          ],
          [
           "F 2024 CH EN 345 :It was nice to have my own lab to work on without<br>needing to wait for other people in the same lab.<br>The spilt up was very nice."
          ],
          [
           "F 2024 CH EN 345 :Always willing to help with the questions asked."
          ],
          [
           "F 2024 CH EN 345 :The whole lab class is about providing<br>opportunities to actively participate in the<br>learning process."
          ],
          [
           "F 2024 CH EN 345 :This class is very active and we all participate<br>in it."
          ],
          [
           "F 2024 CH EN 345 :Pretty respectful."
          ],
          [
           "F 2024 CH EN 345 :The professor was always willing to listen and<br>help."
          ],
          [
           "F 2024 CH EN 345 :I appreciated that Dr. Guymon began class with a<br>spiritual thought and incorporatated them into the<br>text of the labs."
          ],
          [
           "F 2024 CH EN 345 :The professor helped give ideas on how to run the<br>reaction cart which was a big help in such a<br>challenging project."
          ],
          [
           "F 2024 CH EN 345 :The lab class allowed for me to work on my own<br>without anyone looking over my shoulder."
          ],
          [
           "F 2024 CH EN 345 :Dr. Guymon is a great example. He makes it<br>apparent that he really cares about what he does<br>and about his students."
          ],
          [
           "F 2024 CH EN 345 :This course is well set up and Dr. Guymon is fair<br>with assignments and labs we need to do in this<br>class. The problems we have worked through have<br>helped me understand materials in other classes."
          ],
          [
           "F 2024 CH EN 345 :Dr Guymon does a good job on these labs. He''s<br>great to work with and super helpful."
          ],
          [
           "F 2024 CH EN 345 :Dr. Guymon is super helpful when students are<br>needing assistance. He cares for his students<br>well."
          ],
          [
           "F 2024 CH EN 345 :Dr Guymon is a great teacher and he is very<br>knowledgeable"
          ],
          [
           "F 2024 CH EN 345 :Dr. Guymon delicately balances being helpful but<br>allowing autonomy for students to better<br>understand the equipment we work with. It''s<br>inspiring  really."
          ],
          [
           "F 2024 CH EN 345 :Dr. Guymon always taught us when we had questions."
          ],
          [
           "F 2024 CH EN 345 :Dr. Guymon had all of the labs well organized and<br>effective."
          ],
          [
           "F 2024 CH EN 345 :The TAs are pretty much directing the class  so I<br>didn''t interact with Dr. Guymon. The TAs were<br>helpful  and I knew that if I needed more help I<br>could go to Dr. Guymon."
          ],
          [
           "F 2024 CH EN 345 :He was really great in letting us come in for help<br>whenever we needed too."
          ],
          [
           "F 2024 CH EN 345 :Dr. Guymon was always there to help."
          ],
          [
           "F 2024 CH EN 345 :All the labs were very engaging."
          ],
          [
           "F 2024 CH EN 345 :He is very respectful."
          ],
          [
           "F 2024 CH EN 345 :Love the eternity section of the labs"
          ],
          [
           "F 2024 CH EN 345 :Very sweet spiritual thoughts in each lab report."
          ],
          [
           "F 2024 CH EN 345 :I learned some cool intuition about corrosion of<br>materials and degradation of polymers  along with<br>strengthening my knowledge of transient material<br>balances - through the relief valve and terrarium<br>lab."
          ],
          [
           "F 2024 CH EN 345 :I always learn when working with a group - whether<br>that''s a better way to conduct myself or<br>something that others teach me."
          ],
          [
           "F 2024 CH EN 345 :I want to do some of the corrosion activities with<br>my kids one day."
          ],
          [
           "F 2024 CH EN 345 :Thank you!"
          ],
          [
           "F 2024 CH EN 345 :I really enjoyed the reactions lab  the longer lab<br>felt like it took more problem solving and led to<br>a better understanding of the concepts. I wish<br>there was more statistical emphasis in the course.<br>I understand how use data for calculations but I<br>would be interested to learn how statistics could<br>enhance conclusions drawn from data."
          ],
          [
           "F 2024 CH EN 345 :Dr. Guymon was great for this course and there was<br>good office hours available if we needed help. He<br>was involved and made sure to help if anyone he<br>needed. The only thing is maybe make terrarium lab<br>a bit more clear. His spiritual thoughts included<br>with the labs were also awesome! Merry Christmas<br>Dr.Guymon!"
          ],
          [
           "F 2024 CH EN 345 :I liked the structure of the course - how it was<br>split between the reactor design lab for half the<br>semester  and the mini labs for the rest of the<br>semester."
          ],
          [
           "F 2024 CH EN 345 :I like Clint Guymon  he is a good guy. These lab<br>style courses can be a little confusing<br>especially the open-ended ones but it is<br>interesting for sure."
          ],
          [
           "F 2024 CH EN 345 :Dr Guymon is one of my favorite professors. I<br>really appreciate his dedication to teaching and<br>helping each student learn."
          ],
          [
           "F 2024 CH EN 345 :Dr. Guymon did a good job making the lab<br>instructions easy to follow."
          ],
          [
           "W 2024 CH EN 285 :A lot of the concepts are covered in the fluids<br>class  so this class is just solidifying those<br>(not necessarily teaching)."
          ],
          [
           "W 2024 CH EN 285 :All of the class information was available from<br>the first day of class and the schedule was<br>clearly laid out."
          ],
          [
           "W 2024 CH EN 285 :It is nice that Guymon has an open door policy so<br>you can ask questions if he is available."
          ],
          [
           "W 2024 CH EN 285 :When we didn''t know how to use the computer to<br>get the data  he was able to help us record and<br>download it."
          ],
          [
           "W 2024 CH EN 285 :Always available to answer questions and concerns<br>about happenings in the lab."
          ],
          [
           "W 2024 CH EN 285 :This whole class was active participation  maybe a<br>little too much."
          ],
          [
           "W 2024 CH EN 285 :The whole lab is hands on learning."
          ],
          [
           "W 2024 CH EN 285 :It was a lab  so we were always very engaged<br>throughout the learning process."
          ],
          [
           "W 2024 CH EN 285 :The open nature of the lab allowed students to<br>come to their own conclusions and make their own<br>decisions regarding their time in the lab."
          ],
          [
           "W 2024 CH EN 285 :Very respectful."
          ],
          [
           "W 2024 CH EN 285 :It was helpful to put concepts learned in fluids<br>into practice."
          ],
          [
           "W 2024 CH EN 285 :We will get to apply the skills practice in this<br>lab later on. We can also use the problem solving<br>skills from their when we run into other problems."
          ],
          [
           "W 2024 CH EN 285 :There was a little lab prep that had to be done<br>before lab and some analysis that had to be done<br>after. Probably 1.5 hours on average. Very<br>reasonable and most of the labs were not super<br>crazy outside of class (but there were a few that<br>ended up taking longer)."
          ],
          [
           "W 2024 CH EN 285 :This course was organized poorly at the beginning<br>but by the end  I felt like I was learning about<br>safety in an applicable way."
          ],
          [
           "W 2024 CH EN 285 :Great course  it was super fun to see some of the<br>piping and other things in person"
          ],
          [
           "W 2024 CH EN 285 :Dr. Guymon is a phenomenal instructor that<br>deserves this high rating. He helps all his<br>students achieve the BYU AIMs. He frequently and<br>unapologetically bears his testimony and shares a<br>thoughtful spiritual message every class - this<br>spoke volumes to me personally because that would<br>have been something hard for me to do. He is very<br>knowledgable on this course and has created<br>helpful resources for students to learn the<br>material such as his website. He exemplifies<br>commitment to lifelong learning and service as he<br>is always seeking to learn and selflessly serving<br>his students."
          ],
          [
           "W 2024 CH EN 285 :Expectations were clear and all of the<br>assignments/schedule was made available from day<br>one."
          ],
          [
           "W 2024 CH EN 285 :Dr. Guymon is really nice and always is willing to<br>help if you ask him a question"
          ],
          [
           "W 2024 CH EN 285 :This was a good course and there was good TA and<br>instructor help available."
          ],
          [
           "W 2024 CH EN 285 :I feel that this class was fair  the labs were<br>fairly simple and easy to complete. The write-ups<br>were the most time consuming."
          ],
          [
           "W 2024 CH EN 285 :Labs were very self-explanatory with plenty of TAs<br>to help."
          ],
          [
           "W 2024 CH EN 285 :I never went to him for help in this class since<br>the TA''s were so effective"
          ],
          [
           "W 2024 CH EN 285 :Dr Guymon was willing to meet and help with things<br>we struggled with."
          ],
          [
           "W 2024 CH EN 285 :You are very approachable and helpful!"
          ],
          [
           "W 2024 CH EN 285 :Always tried to answer questions from the<br>students."
          ],
          [
           "W 2024 CH EN 285 :He was always available to help."
          ],
          [
           "W 2024 CH EN 285 :I think that Dr Guymon is still learning the<br>balance for difficulty level and length of<br>assignments  but the assignments helped us<br>consider different concepts and gave us a chance<br>to learn on our own."
          ],
          [
           "W 2024 CH EN 285 :This course enabled me to put theoretical concepts<br>into practice and observe real-world applications"
          ],
          [
           "W 2024 CH EN 285 :Dr. Guymon respects and tries to get to know his<br>students as well as any professor. Very personable"
          ],
          [
           "W 2024 CH EN 285 :Dr Guymon always made his appreciation for<br>feedback very clear"
          ],
          [
           "W 2024 CH EN 285 :The professor allowed students to have their own<br>opinion on things."
          ],
          [
           "W 2024 CH EN 285 :Dr. Guymon always incorporates the Gospel of Jesus<br>Christ into his classes. We didn''t hear from him<br>as much in this class since it was a lab not a<br>lecture  but he still tied the Gospel in"
          ],
          [
           "W 2024 CH EN 285 :Dr Guymon regularly shares his testimony and helps<br>us focus on what''s important."
          ],
          [
           "W 2024 CH EN 285 :We had a spiritual thought before each class. I<br>like that."
          ],
          [
           "W 2024 CH EN 285 :Dr Guymon tries to expose us to concepts that are<br>important for us as chemical engineers"
          ],
          [
           "W 2024 CH EN 285 :Was great to practice."
          ],
          [
           "W 2024 CH EN 285 :The things we learn that can be applied like<br>ethics is cool."
          ],
          [
           "W 2024 CH EN 285 :Great lab. Opened my eyes to the basics of<br>industrial chemical engineering."
          ],
          [
           "W 2024 CH EN 285 :Dr Guymon wants us to have character and do things<br>that will build our character."
          ],
          [
           "W 2024 CH EN 285 :The class is on ethics  and I want to be more<br>ethical"
          ],
          [
           "W 2024 CH EN 285 :Dr Guymon shared relevant experiences from his<br>life to help us see how we can prepare to serve in<br>the future."
          ],
          [
           "W 2024 CH EN 285 :Perfect"
          ],
          [
           "W 2024 CH EN 285 :Dr. Guymon did a great job organizing the lab. The<br>lab was instructive while the workload was not<br>overwhelming. The workload was proper for a half<br>credit class at around 30 mins outside class for<br>every hour in."
          ],
          [
           "W 2024 CH EN 285 :Good guy very kind."
          ],
          [
           "W 2024 CH EN 285 :This has been my favorite lab in school so far!"
          ],
          [
           "W 2024 CH EN 285 :Good instructor for this course."
          ],
          [
           "W 2024 CH EN 285 :It was a good course. It''s half a credit and I<br>appreciated the labs could be finished in the<br>hour."
          ],
          [
           "W 2024 CH EN 285 :I like that fact that the test are not the main<br>way to get points in the class. The project was<br>fun  and the book we were to read was down right<br>enjoyable."
          ],
          [
           "W 2024 CH EN 285 :This was a lab  so traditional instruction isn''t<br>applicable here. Still  the labs were well-<br>formatted and the lab was run well."
          ],
          [
           "W 2024 CH EN 285 :While there isn''t a lot of direct student/teacher<br>interaction in this lab. When we needed help  Dr.<br>Guymon was very helpful and willing to go out of<br>his way to ensure the class went smoothly. The<br>class material was very well put together!"
          ],
          [
           "W 2024 CH EN 285 :This was a class where we had previously seen the<br>concepts and now got to see them in action. One of<br>the most memorable labs was the viscosity one<br>because my perception of the viscosity of ethanol<br>in comparison to water was challenged."
          ],
          [
           "W 2024 CH EN 285 :The order of labs didn''t really matter. It''s<br>nice when the labs about fluids principles come<br>after when we learn about them in fluids class<br>but I didn''t run into this issue much."
          ],
          [
           "W 2024 CH EN 285 :Always willing to help and always help with<br>questions."
          ],
          [
           "W 2024 CH EN 285 :even though he doesnt do have formal instruction<br>during lab he is always willing to answer<br>questions"
          ],
          [
           "W 2024 CH EN 285 :I didn''t go to Dr. Guymon for help but I know<br>where his office is if I needed something.<br>Everything was able to be resolved with the TA''s<br>when I had questions."
          ],
          [
           "W 2024 CH EN 285 :I love the way he talked with us about what the<br>best ways to encourage participation would be<br>(i.e. kahoots vs LS quizzes)"
          ],
          [
           "W 2024 CH EN 285 :This was a great class!"
          ],
          [
           "W 2024 CH EN 285 :He was very effective. Very respectful!"
          ],
          [
           "W 2024 CH EN 285 :I didn''t experience this personally  but I felt<br>like I could express questions or concerns if they<br>arose."
          ],
          [
           "W 2024 CH EN 285 :He always shares spiritual thoughts to enhance<br>students to feel the spirit."
          ],
          [
           "W 2024 CH EN 285 :He always encourages student to learn for life<br>instead only for school."
          ],
          [
           "W 2024 CH EN 285 :I find the hands on learning very helpful and felt<br>like the course was designed well to help me to<br>deepen my understanding."
          ],
          [
           "W 2024 CH EN 285 :I really liked using the pump cart and getting a<br>feel for how these systems work in real life."
          ],
          [
           "W 2024 CH EN 285 :The opportunity to work in groups provided time to<br>enhance teamworking skills."
          ],
          [
           "W 2024 CH EN 285 :This class gave me opportunities to practice<br>troubleshooting but I had the resources I needed<br>that I didn''t feel like I was going to break<br>equipment or get stuck on a problem for hours."
          ],
          [
           "W 2024 CH EN 285 :Using real equipment was great!"
          ],
          [
           "W 2024 CH EN 285 :Mostly just finishing labs. I thought the course<br>was very well done  and went at an appropriate<br>pace."
          ],
          [
           "W 2024 CH EN 285 :Great Class! Good Labs!"
          ],
          [
           "W 2024 CH EN 285 :Dr Guymon cares a lot about the class and the<br>needs we have. He supports us and helps us in<br>anything. I really liked this class  but I would<br>like the lectures to have more examples and<br>practice so that the homework is more related to<br>those examples"
          ],
          [
           "W 2024 CH EN 285 :Dr. Guymon is a great professor who always try to<br>help the students and put his best effort in order<br>the student success in class. He is always willing<br>to help and solve questions. He is a great example<br>and a role model."
          ],
          [
           "W 2024 CH EN 285 :There was a very good course load overall. Some<br>weeks it felt like a lot  but others were easy so<br>it evened out. It really helped to put into<br>practice and visualize what we were learning in<br>fluids!"
          ],
          [
           "W 2024 CH EN 285 :Dr. Guymon has been very helpful as an instructor.<br>I think during this class it has been good to be<br>able to implement principles we are learning in<br>other classes."
          ],
          [
           "W 2024 CH EN 285 :Overall  I loved the class and the work load was<br>reasonable for a half credit class. It was a great<br>way to review the principles taught in fluid<br>mechanics."
          ],
          [
           "W 2024 CH EN 285 :Dr. Guymon is a great instructor for this course."
          ],
          [
           "W 2024 CH EN 285 :I think the lab is good. it helps us to better<br>apply all the things we learn and physically see<br>how our plug and chug effects things."
          ],
          [
           "W 2024 CH EN 285 :Very well run course. TAs were very helpful!"
          ],
          [
           "W 2024 CH EN 285 :The lab outlines did a great job of teaching us<br>what we needed to know  even if we hadn''t covered<br>the topic yet in fluid mechanics."
          ],
          [
           "W 2024 CH EN 285 :Good instructions on the lab procedure  though<br>some could use a little clarity"
          ],
          [
           "W 2024 CH EN 285 :Not much teaching in a lab course  but he wrote<br>labs in such a way that we were able to know what<br>was needed even if we hadn''t learned the material<br>in other classes yet."
          ],
          [
           "W 2024 CH EN 285 :Not a lot of teaching required in this class."
          ],
          [
           "W 2024 CH EN 285 :There weren''t really lectures but labs were<br>designed well."
          ],
          [
           "W 2024 CH EN 285 :I think the course was very well organized."
          ],
          [
           "W 2024 CH EN 285 :Never felt like I was unable to complete a lab due<br>to organization of student"
          ],
          [
           "W 2024 CH EN 285 :This class was organized really well."
          ],
          [
           "W 2024 CH EN 285 :Dr. Guymon was always helpful when we had a<br>question about a lab."
          ],
          [
           "W 2024 CH EN 285 :Dr. Guymon was always present and ready to help<br>students  though I didn''t ask him many questions<br>during this class."
          ],
          [
           "W 2024 CH EN 285 :Made time even outside of office hours to answer<br>questions."
          ],
          [
           "W 2024 CH EN 285 :Dr. Guymon was open to having his students come<br>and get help."
          ],
          [
           "W 2024 CH EN 285 :We had lots of opportunities to learn in the labs."
          ],
          [
           "W 2024 CH EN 285 :This hands-on lab was excellent for engaging my<br>attention and activating my brain."
          ],
          [
           "W 2024 CH EN 285 :Encouraged to be confident"
          ],
          [
           "W 2024 CH EN 285 :Great class design. See above comments. I loved<br>the lack of hand-holding."
          ],
          [
           "W 2024 CH EN 285 :This course was specifically designed for students<br>to participate in the learning process."
          ],
          [
           "W 2024 CH EN 285 :Dr. Guymon is always very respectful of his<br>students and their questions."
          ],
          [
           "W 2024 CH EN 285 :Perhaps the top professor to demonstrate these<br>aspects I have seen in several semesters."
          ],
          [
           "W 2024 CH EN 285 :Dr. Guymon was always very respectful of his<br>students."
          ],
          [
           "W 2024 CH EN 285 :He is always good at including spiritual thoughts<br>and shared a few personal stories at the beginning<br>to get to know him."
          ],
          [
           "W 2024 CH EN 285 :It''s hard in a lab setting to get Dr Guymon''s<br>great spiritual thoughts but I just know who he is<br>as a person and his conviction to the gospel and<br>it''s always beneficial and enhancing to my<br>spiritual standing."
          ],
          [
           "W 2024 CH EN 285 :I really liked getting to learn how to apply what<br>I learned in fluid mechanics. It made it a lot<br>more real."
          ],
          [
           "W 2024 CH EN 285 :Learn to operate equipment and become familiar<br>with more instruments used in the lab."
          ],
          [
           "W 2024 CH EN 285 :I thoroughly enjoyed the open-ended design of labs<br>in this class! I appreciated that I was able to<br>figure out what I needed to measure and how to<br>measure it. The lack of hand-holding made me feel<br>like I learned much more than I would have<br>otherwise."
          ],
          [
           "W 2024 CH EN 285 :This lab put the principles I learned in class<br>into practice which helped me learn them at a<br>deeper level."
          ],
          [
           "W 2024 CH EN 285 :I was able to apply knowledge in this class!"
          ],
          [
           "W 2024 CH EN 285 :I liked the opportunities to work with others and<br>get experience with leadership and other aspects<br>of working in a team."
          ],
          [
           "W 2024 CH EN 285 :I liked the lack of reminders; it was a good way<br>to teach responsibility."
          ],
          [
           "W 2024 CH EN 285 :Overall a solid class here."
          ],
          [
           "W 2024 CH EN 285 :This will help me be a better chemical engineer<br>and thus  better help others."
          ],
          [
           "W 2024 CH EN 285 :I will certainly use the skills gained in the rest<br>of my career."
          ],
          [
           "W 2024 CH EN 285 :Helped to develop great skills for future careers."
          ],
          [
           "W 2024 CH EN 285 :Overall a solid class here as well."
          ],
          [
           "W 2024 CH EN 285 :Overall not too bad of a work load for this class."
          ],
          [
           "W 2024 CH EN 285 :It was a great class!"
          ],
          [
           "W 2024 CH EN 285 :Dr. Guymon is understandably very busy with his<br>various responsibilities. He usually sat in the<br>corner of the lab working on projects or other<br>work and was available for consulting as needed if<br>students approached him  and he is very good at<br>helping students seeking help. There was one time<br>he was in the UO lab with us adding methocel into<br>our non-newtonian fluid lab equipment where he<br>took the time to explain in detail aspects of the<br>labs parameters  history  and other aspects that<br>were not in the lab write-up. There were some<br>equipment and procedures he showed us too that<br>went the extra mile to show us the context of<br>process equipment and became a personal mentor for<br>us for a few minutes. We really enjoyed that  and<br>wished to see that effort for personal interaction<br>and mentoring while completing our other labs<br>rather than just fulfilling his supervisory and<br>consulting roles as lab professor. It doesn''t<br>need to be all the time  but if he joined groups<br>and worked with them for a few minutes (or a<br>half/whole lab) while making sure TAs were<br>available to help the others (he can always step<br>away as needed)  I think that would have enriched<br>the experience significantly. Students could ask<br>deeper questions  develop greater personal<br>connections  and gain experience from his wisdom<br>while he interacts with them. Dr. Guymon would<br>also be able to see hands on a better perspective<br>of how the labs actually run with users and be<br>able to make tweaks to assignments (wording<br>format  procedures  order  help etc) that would<br>otherwise be missed in high-level surveys near<br>semester''s end."
          ],
          [
           "W 2024 CH EN 285 :I enjoyed this lab a lot  got to see hands-on what<br>I was learning in fluids. Towards the end of the<br>semester  it started to be better and fun because<br>I had actually learned that information already<br>so if there is a way to align close to 374 that<br>would make it even better."
          ],
          [
           "W 2024 CH EN 285 :Very engaging and effective class!"
          ],
          [
           "W 2024 CH EN 285 :Dr Guymon is a really good lab instructor. He<br>really knows what he''s doing in testing and<br>research settings from what I''ve seen and he<br>always answered the questions that we had in a way<br>that required us to still put the work in."
          ],
          [
           "W 2024 CH EN 285 :Overall I thought this was a really good course. I<br>enjoyed the labs and the hands on learning."
          ],
          [
           "W 2024 CH EN 311 :The lectures were sometimes difficult to<br>understand  but reviews and reexplanations were<br>helpful  as was one-on-one conversation."
          ],
          [
           "W 2024 CH EN 311 :I feel like overall Dr. Guymon taught concepts<br>well."
          ],
          [
           "W 2024 CH EN 311 :I learned a lot in this class and Dr. Guymon did a<br>good job. Sometimes I kind of felt like I didn''t<br>learn much in class."
          ],
          [
           "W 2024 CH EN 311 :I think he does pretty good  especially<br>considering the amount of teaching he has done."
          ],
          [
           "W 2024 CH EN 311 :I mean he put the equations on his website but<br>explaining what the variables are would be a step<br>up. Going through an example would be step 2.<br>Showing how it relates to our career would be step<br>3 then Dr. Guymon would be very effective"
          ],
          [
           "W 2024 CH EN 311 :Dr. Guymon knew how to explain concepts well.<br>Sometimes  the free-form nature of his notes was<br>hard to follow. Generally  hard concepts were<br>understood well"
          ],
          [
           "W 2024 CH EN 311 :learning transient mass balances the first time<br>was rough. he improved over the course of the<br>semester"
          ],
          [
           "W 2024 CH EN 311 :There were some tough concepts in this class but I<br>really liked how Dr. Guymon found new ways to<br>teach these things  like doing problems in class.<br>I think reviewing transient mass balances a lot<br>was also very helpful."
          ],
          [
           "W 2024 CH EN 311 :Course was well-organized"
          ],
          [
           "W 2024 CH EN 311 :I think he basically rewrote the entire course--<br>which I can tell he put in a lot of work-- I love<br>his course website-- it is incredibly helpful!"
          ],
          [
           "W 2024 CH EN 311 :I think that the class organization was a little<br>rough. The inconsistency of when homework was<br>available and the due dates made it stressful at<br>some points throughout the semester. I think that<br>a lot of this just comes from the stress of it<br>being his first time teaching this semester  and<br>will be fixed in future years."
          ],
          [
           "W 2024 CH EN 311 :The organization made sense."
          ],
          [
           "W 2024 CH EN 311 :I like the organization of the course website. I<br>would recommend that one the calendar the reading<br>is shown on the day it is due rather than the day<br>it is assigned."
          ],
          [
           "W 2024 CH EN 311 :Changes made halfway through course improved how<br>effectively the course was organized"
          ],
          [
           "W 2024 CH EN 311 :Units were grouped together with relevant content<br>which was important because this class covers a<br>large and diverse volume of material."
          ],
          [
           "W 2024 CH EN 311 :I understand that this was his first time teaching<br>the course  and with that in mind he did a good<br>job! I did feel like the course could have been<br>slightly better organized with regard to when<br>homework was due and what it included. I wish I<br>had specific suggestions on what a more organized<br>course would look like  but I don''t off the top<br>of my head."
          ],
          [
           "W 2024 CH EN 311 :I think the safety portion should be before the<br>ethics sections. That way the class can see the<br>numbers behind why we want to be ethical  first."
          ],
          [
           "W 2024 CH EN 311 :The website Dr. Guymon has contains everything we<br>need to know about the class content. I think it<br>could be more organized  especially the code<br>parts. He needs to tell the students whether they<br>need to know the code published."
          ],
          [
           "W 2024 CH EN 311 :At times it felt somewhat disorganized. This may<br>have been due to having to create content as he<br>taught which I understand can''t be done all at<br>once and was done well overall. The PHA and<br>environmental sections were great. I wish there<br>was more time in class dedicated to working on the<br>math associated with PSI. Explaining the<br>conceptual elements of the math and going over an<br>example problem could help to alleviate some of<br>the confusion. But if I didn''t understand in<br>class I could always go to office hours or the<br>TAs. I really enjoyed the presentations and<br>projects. I feel like this really hit home the<br>importance of safety in the workplace."
          ],
          [
           "W 2024 CH EN 311 :after the mid course evaluation  the class<br>improved drastically in terms of organization. he<br>made everything more accessible and visible"
          ],
          [
           "W 2024 CH EN 311 :I thought this course was very well organized."
          ],
          [
           "W 2024 CH EN 311 :He was very available and willing to help people<br>if they ask. It was also nice that he had an open<br>door policy so we could drop by and see if he had<br>a moment to answer questions."
          ],
          [
           "W 2024 CH EN 311 :Dr. Guymon is a great professor who always try to<br>help the students and put his best effort in order<br>the student success in class. He is always willing<br>to help and solve questions. He is a great example<br>and a role model."
          ],
          [
           "W 2024 CH EN 311 :Does a good job of accomodating those who are<br>confused or have questions about the class<br>organization."
          ],
          [
           "W 2024 CH EN 311 :I was sick for a week and given ample time to<br>complete missed assignments"
          ],
          [
           "W 2024 CH EN 311 :He was really good at being available to answer<br>questions that we had about projects and homework."
          ],
          [
           "W 2024 CH EN 311 :Paid careful attention to addressing each students<br>needs."
          ],
          [
           "W 2024 CH EN 311 :Dr. Guymon was always willing to help students who<br>wanted it."
          ],
          [
           "W 2024 CH EN 311 :He always wants to help and is very willing to try<br>his best. However  often hes not the best at<br>explaining things"
          ],
          [
           "W 2024 CH EN 311 :He''s always open to help students who need help<br>and has good office hours."
          ],
          [
           "W 2024 CH EN 311 :Dr. Guymon cares a lot about his students and<br>seeks to help us."
          ],
          [
           "W 2024 CH EN 311 :He was very good at accommodating to the needs of<br>the students."
          ],
          [
           "W 2024 CH EN 311 :Dr. Guymon answered questions in class but<br>sometimes he didn''t know the answer. To his<br>credit  when he didn''t know the answer  he told<br>us that he didn''t know."
          ],
          [
           "W 2024 CH EN 311 :Was very receptive to suggestions and hearing<br>those who need help or struggle"
          ],
          [
           "W 2024 CH EN 311 :Always responded positively to questions!"
          ],
          [
           "W 2024 CH EN 311 :Very kind and willing to work with those who<br>needed help"
          ],
          [
           "W 2024 CH EN 311 :Dr. Guymon was effective in helping students feel<br>like they could reach out for assistance  but also<br>offering it."
          ],
          [
           "W 2024 CH EN 311 :going to office hours showed so much that he is<br>willing to help with anything"
          ],
          [
           "W 2024 CH EN 311 :Dr. Guymon frequently helped students after class<br>and during office hours"
          ],
          [
           "W 2024 CH EN 311 :Always helpful in office hours"
          ],
          [
           "W 2024 CH EN 311 :He was always open to questions and his office<br>hours helped a lot!"
          ],
          [
           "W 2024 CH EN 311 :I know this was the first time that Dr. Guymon<br>taught this course  but it felt like he didn''t<br>anticipate the kinds of questions that students<br>would have  so there were some lectures that had<br>to be retaught because students didn''t understand<br>the first time. I appreciate that he circled back<br>to what the students needed."
          ],
          [
           "W 2024 CH EN 311 :Always answered questions"
          ],
          [
           "W 2024 CH EN 311 :Dr. Guymon is always willing to help both in front<br>of the entire class and privately."
          ],
          [
           "W 2024 CH EN 311 :I never actually went to his office hours for help<br>so I can not speak on this but I have heard that<br>those who went to his office hours did get good<br>help."
          ],
          [
           "W 2024 CH EN 311 :He was great at helping during and outside of<br>office hours."
          ],
          [
           "W 2024 CH EN 311 :Very kind every time I went to his office hours<br>thoroughly explained it all."
          ],
          [
           "W 2024 CH EN 311 :Always made time for students  even outside of<br>office hours."
          ],
          [
           "W 2024 CH EN 311 :Dr. Guymon is always very helpful for students who<br>need assistance."
          ],
          [
           "W 2024 CH EN 311 :We did the case study project which was pretty<br>involved in applying all the stuff we learned. We<br>also did a lot of practice with hazards analysis.<br>It was nice that there was an extra credit<br>opportunity to engage more in safety by attending<br>the safety and ethics conference."
          ],
          [
           "W 2024 CH EN 311 :Helped guide us through learning each concept."
          ],
          [
           "W 2024 CH EN 311 :I thought most of the assignments were helpful in<br>helping us to learn."
          ],
          [
           "W 2024 CH EN 311 :He is really good at always encouraging and<br>motivating students."
          ],
          [
           "W 2024 CH EN 311 :The classwork was what helped me feel most<br>actively engaged."
          ],
          [
           "W 2024 CH EN 311 :Homework questions were effective at causing me to<br>reach out to other sources and learn more about<br>how to practically apply classroom knowledge."
          ],
          [
           "W 2024 CH EN 311 :Classwork and group projects gave opportunities to<br>be active in the learning process"
          ],
          [
           "W 2024 CH EN 311 :I enjoyed the classwork activities we did together<br>because I was encouraged to start solving a<br>problem or applying a principle  all while still<br>in class with Dr. Guymon to help."
          ],
          [
           "W 2024 CH EN 311 :I really liked the Presentations at the end of the<br>class for adding participation. They seemed like a<br>great way to really cap off everything else."
          ],
          [
           "W 2024 CH EN 311 :Homework and a variety of assignments gave us<br>opportunities to learn in new ways"
          ],
          [
           "W 2024 CH EN 311 :Dr. Guymon tailored assignments to give relevant<br>practice for each concept we learned in the<br>course. The projects encouraged critical thinking<br>and collaboration."
          ],
          [
           "W 2024 CH EN 311 :Daily quizzes and questions during class were<br>great tools"
          ],
          [
           "W 2024 CH EN 311 :Gave the opportunity for Kahoots and<br>demonstrations"
          ],
          [
           "W 2024 CH EN 311 :The project he gave us was very helpful in seeing<br>what we learned throughout the year and how we can<br>use them. There could be more though on each<br>topic."
          ],
          [
           "W 2024 CH EN 311 :I really liked the classwork activities with our<br>groups."
          ],
          [
           "W 2024 CH EN 311 :He definitely cares about the students and wants<br>to help. He is always willing to answer questions."
          ],
          [
           "W 2024 CH EN 311 :Always gives the impression that he is ready adn<br>willing to consider suggestions."
          ],
          [
           "W 2024 CH EN 311 :I feel like Dr. Guymon has demonstrated a lot of<br>respect for me whenever I went to talk to him."
          ],
          [
           "W 2024 CH EN 311 :Very respectful towards those that weren''t<br>understanding concepts."
          ],
          [
           "W 2024 CH EN 311 :Dr. Guymon was always really respectful to<br>students."
          ],
          [
           "W 2024 CH EN 311 :hes a kind person who does care alot about his<br>students"
          ],
          [
           "W 2024 CH EN 311 :He is always kind and thoughtful when students<br>come to him with concerns about homework or<br>grades."
          ],
          [
           "W 2024 CH EN 311 :Dr Guymon often asked for feedback and valued our<br>input."
          ],
          [
           "W 2024 CH EN 311 :I think that Dr. Guymon strives to be respectful<br>and is very sensitive."
          ],
          [
           "W 2024 CH EN 311 :Very considerate and kind."
          ],
          [
           "W 2024 CH EN 311 :Reasonable guy. Listens to students which I really<br>appreciate"
          ],
          [
           "W 2024 CH EN 311 :Polled for our opinions and made changes if deemed<br>necessary or appropriate"
          ],
          [
           "W 2024 CH EN 311 :One of the greatest people there are. Very<br>respectful  kind  and spiritual."
          ],
          [
           "W 2024 CH EN 311 :Dr. Guyman was quick to show respect  apologize<br>and be kind."
          ],
          [
           "W 2024 CH EN 311 :He is very respectful and caring of peoples<br>questions and concerns"
          ],
          [
           "W 2024 CH EN 311 :He took comments and questions and did a good job<br>addressing them."
          ],
          [
           "W 2024 CH EN 311 :Dr. Guymon respects all his students and geniunely<br>cares about their well being and conerns"
          ],
          [
           "W 2024 CH EN 311 :I appreciate that Dr. Guymon answered all student<br>questions when in class."
          ],
          [
           "W 2024 CH EN 311 :Let students have their own opinion."
          ],
          [
           "W 2024 CH EN 311 :Dr. Guymon has a huge respect for his students<br>and he is understanding of any condition they are<br>going through."
          ],
          [
           "W 2024 CH EN 311 :I think he was rather respectful in general."
          ],
          [
           "W 2024 CH EN 311 :Always handled them well and clearly encouraged<br>them."
          ],
          [
           "W 2024 CH EN 311 :Dr. Guymon is always super respectful to all his<br>students."
          ],
          [
           "W 2024 CH EN 311 :He opens class with a spiritual thought."
          ],
          [
           "W 2024 CH EN 311 :He always shares spiritual thoughts to enhance<br>students to feel the spirit."
          ],
          [
           "W 2024 CH EN 311 :Frequently and effectively bore testimony and<br>showed the spiritual significance of the subject<br>matter."
          ],
          [
           "W 2024 CH EN 311 :He almost always started class with an inspiring<br>spiritual thought and bore testimony at every<br>opportunity."
          ],
          [
           "W 2024 CH EN 311 :I love it when Dr. Guymon bears his testimony.<br>This is an incredibly spiritually strengthening<br>class."
          ],
          [
           "W 2024 CH EN 311 :Every class helped point back to God and<br>understand our purpose."
          ],
          [
           "W 2024 CH EN 311 :Dr. Guymon really excelled here  his spiritual<br>thoughts were awesome."
          ],
          [
           "W 2024 CH EN 311 :Dr Guymon consistently inspires me to focus on the<br>things that matter most by sharing his testimony."
          ],
          [
           "W 2024 CH EN 311 :loved his spiritual thoughts every morning. great<br>way to start the day"
          ],
          [
           "W 2024 CH EN 311 :I liked Dr. Guymon''s spiritual thoughts at the<br>beginning of class."
          ],
          [
           "W 2024 CH EN 311 :Very good at working spiritual thoughts into his<br>lectures!"
          ],
          [
           "W 2024 CH EN 311 :I appreciate Dr. Guymon''s attempts to start every<br>class off with a spiritual thought."
          ],
          [
           "W 2024 CH EN 311 :Gave heartfelt spiritual messages every day. Very<br>impactful and motivating."
          ],
          [
           "W 2024 CH EN 311 :We had spiritual thoughts every day at the start<br>of class  and I could really feel the sincerity of<br>his testimony."
          ],
          [
           "W 2024 CH EN 311 :I loved the spiritual messages at the beginning of<br>every class."
          ],
          [
           "W 2024 CH EN 311 :I love Dr. Guymon''s spiritual thoughts and<br>testimony. He is consistent and uplifting with his<br>desire to bring the Spirit into class."
          ],
          [
           "W 2024 CH EN 311 :Professor Guymon did very very well in this<br>regard. I felt like out of all of my non-religion<br>professors at BYU  Dr. Guymon focused the most on<br>things of a spiritual nature and it added a light<br>to the early morning class. Thank you Dr. Guymon!"
          ],
          [
           "W 2024 CH EN 311 :Super spiritual classes. I did like when he tried<br>to have spiritual thoughts in class."
          ],
          [
           "W 2024 CH EN 311 :Dr. Guymon always starts class with a small<br>spiritual thought. It was nice to have that as the<br>start to our classes."
          ],
          [
           "W 2024 CH EN 311 :I loved how Dr. Guymon shared a spiritual thought<br>every day."
          ],
          [
           "W 2024 CH EN 311 :his first focus is on Christ"
          ],
          [
           "W 2024 CH EN 311 :Related class content to the Gospel very<br>frequently"
          ],
          [
           "W 2024 CH EN 311 :I like the scripture/thought at the beginning of<br>class"
          ],
          [
           "W 2024 CH EN 311 :I loved how naturally he connected class to the<br>gospel!"
          ],
          [
           "W 2024 CH EN 311 :Spiritual thought before each class."
          ],
          [
           "W 2024 CH EN 311 :He has done the best job out of all of my<br>professors in all the time I''ve been here at BYU."
          ],
          [
           "W 2024 CH EN 311 :Love the spiritual thoughts!!"
          ],
          [
           "W 2024 CH EN 311 :Great spiritual thoughts everyday."
          ],
          [
           "W 2024 CH EN 311 :he always had great spiritual thoughts or prayers"
          ],
          [
           "W 2024 CH EN 311 :Always had a spiritual thought at the beginning of<br>class."
          ],
          [
           "W 2024 CH EN 311 :good spiritual thoughts."
          ],
          [
           "W 2024 CH EN 311 :I really liked the spiritual messages at the<br>beginning of class. They often connected in a way<br>to what we were learning about in class which was<br>cool. I also liked the emphasis on God in the<br>first unit of the class about ethics."
          ],
          [
           "W 2024 CH EN 311 :I learned new content about safety and hazards<br>analysis that I didn''t know before."
          ],
          [
           "W 2024 CH EN 311 :Despite being a class on ethics  the course<br>provided a intellectually rigorous experience that<br>closely tied our learning to the ethics of<br>engineering."
          ],
          [
           "W 2024 CH EN 311 :I feel like the content of this class was really<br>important for working in industry."
          ],
          [
           "W 2024 CH EN 311 :I was introduced to a lot of new concepts this<br>semester."
          ],
          [
           "W 2024 CH EN 311 :I did not know a lot about safety before this<br>class and I have learned a lot."
          ],
          [
           "W 2024 CH EN 311 :I felt like this course expanded my view of what<br>engineering actually is and how important it is to<br>do it right."
          ],
          [
           "W 2024 CH EN 311 :Helped us learn new concepts."
          ],
          [
           "W 2024 CH EN 311 :I learned a ton in this class about process safety<br>ethics and the environment. I attribute a large<br>portion of that to Dr. Guymon''s teaching style<br>which focuses on real life examples"
          ],
          [
           "W 2024 CH EN 311 :I learned more on safety and how to calculate it."
          ],
          [
           "W 2024 CH EN 311 :The amount of things we learned about the industry<br>from him is big  and they make our brains think<br>different."
          ],
          [
           "W 2024 CH EN 311 :I would agree that I learned a lot from the class<br>in general."
          ],
          [
           "W 2024 CH EN 311 :I sure learned a bunch about how to be a safer<br>engineer"
          ],
          [
           "W 2024 CH EN 311 :The quality most developed by this class was the<br>ability to adapt and deal with last minute changes<br>and assignments being created."
          ],
          [
           "W 2024 CH EN 311 :From learning the ethical considerations of<br>engineering  this course definitely built my<br>character"
          ],
          [
           "W 2024 CH EN 311 :I feel like Dr. Guymon was able to apply this<br>class to teach us how to be good engineers<br>ethically."
          ],
          [
           "W 2024 CH EN 311 :I am more committed to keeping people safe after<br>this class. Learning about tragedies sticks with<br>you."
          ],
          [
           "W 2024 CH EN 311 :Very strong focus on personal ethics and<br>integrity."
          ],
          [
           "W 2024 CH EN 311 :Analysis of ethics greatly helped to self-<br>evaluation of character"
          ],
          [
           "W 2024 CH EN 311 :I liked all the thoughts about ethics. Realizing<br>what duty ethics consist of has helped me make<br>decisions in my life  especially when looking back<br>and forgiving myself while planning to move<br>forward."
          ],
          [
           "W 2024 CH EN 311 :The ethics and critical thinking principles<br>addressed in this class taught me how to approach<br>difficult life situations with faith and a plan.<br>I''m very grateful for this outcome  and I feel<br>that Dr. Guymon''s examples were very relevant to<br>my learning."
          ],
          [
           "W 2024 CH EN 311 :I know a lot of students complained about this<br>course  so actively choosing not to chorus with<br>them took a lot of self-restraint  but I gained<br>appreciation for what I learned from the course<br>and how to view the intentions of the instructor<br>in a more postitive light."
          ],
          [
           "W 2024 CH EN 311 :I want to be more ethical."
          ],
          [
           "W 2024 CH EN 311 :As engineers  the things we learned from Dr.<br>Guymon''s experiences enlighten us and make us<br>better engineers."
          ],
          [
           "W 2024 CH EN 311 :good emphasis on building ethics character"
          ],
          [
           "W 2024 CH EN 311 :I was able to build character as I worked hard<br>learning about why it''s important to follow<br>safety regulations."
          ],
          [
           "W 2024 CH EN 311 :A lot of the skills learned in this class will be<br>used outside of class/in the future specifically<br>for helping/protecting others."
          ],
          [
           "W 2024 CH EN 311 :He always encourages students to learn for life<br>instead only for school."
          ],
          [
           "W 2024 CH EN 311 :I know that I will use the principles I learned in<br>my career but also in my everyday life."
          ],
          [
           "W 2024 CH EN 311 :By learning how to be an ethical and dutiful<br>engineer  I''ve learned necessary skills for my<br>career and life."
          ],
          [
           "W 2024 CH EN 311 :I also feel like Dr. Guymon excelled at applying<br>the course to this."
          ],
          [
           "W 2024 CH EN 311 :Dr Guymon shared stories that helped us think<br>about our futures."
          ],
          [
           "W 2024 CH EN 311 :I am more committed to keeping people safe and<br>learning about codes to follow them."
          ],
          [
           "W 2024 CH EN 311 :Perhaps the most important class for this in the<br>program. This class teaches the values needed to<br>be an effective and ethical engineer and global<br>citizen."
          ],
          [
           "W 2024 CH EN 311 :Gave opportunities to complete safety certificates<br>opening resources for further learning after."
          ],
          [
           "W 2024 CH EN 311 :I learned a lot of great ethics!"
          ],
          [
           "W 2024 CH EN 311 :I have no doubt that I will continue to learn<br>about safety principles throughout my engineering<br>career."
          ],
          [
           "W 2024 CH EN 311 :This class is one of the most practical ones in<br>chemical engineering in my opinion."
          ],
          [
           "W 2024 CH EN 311 :Having the book review made things stick in our<br>brains."
          ],
          [
           "W 2024 CH EN 311 :This class has helped me learn concepts that will<br>help me to more ethically serve others as a<br>chemical engineer"
          ],
          [
           "W 2024 CH EN 311 :I didn''t think the workload for this class was<br>too bad."
          ],
          [
           "W 2024 CH EN 311 :This time varied throughout the semester  but I<br>think this estimate is accurate."
          ],
          [
           "W 2024 CH EN 311 :A lot of homework at times but with TA help it was<br>very good!"
          ],
          [
           "W 2024 CH EN 311 :He is great example and a role model"
          ],
          [
           "W 2024 CH EN 311 :The course improved over the course of the<br>semester as Professor Guymon got a clearer idea of<br>the structure he wanted for the class. He also did<br>a good job of responding to students'' concerns<br>and changing the class to more effectively teach<br>the material."
          ],
          [
           "W 2024 CH EN 311 :I think overall I enjoyed this course. I think at<br>the beginning  it was a little bit of a struggle<br>but throughout the semester I saw Dr. Guymon<br>improve greatly as a teacher. He helped us better<br>understand the homework  the content  and prepared<br>us for the tests. He was very spiritually<br>strengthening  and set reasonable expectations for<br>us."
          ],
          [
           "W 2024 CH EN 311 :I really liked how professor Guymon obviously<br>cared about trying to do everything to help us as<br>students. He would share personal stories and have<br>great spiritual thoughts. He listened and adapted<br>to our midcourse feedback and made changes to the<br>structure of the class accordingly. For example<br>many students asked for more example problems so<br>professor Guymon changed the lectures to always go<br>over examples. My only big complaint surrounding<br>the class is that exam problems were sometimes<br>seemed to be a completely different type of<br>question surrounding a topic than what we did<br>prior. I understand the importance of this to<br>actually be able to apply understandings in a new<br>way  but I would get frustrated seeing some of the<br>problems on the exams because I thought that I was<br>going in prepared just to find out I wasn''t. My<br>next complaint is just about the course. It felt<br>like there were too many topics that had to be<br>covered that were very different from each other.<br>Every day just felt like another big topic. It<br>seemed like the course overall just had too many<br>big and small topics that are all important enough<br>to be mentioned  but this made it extremely<br>difficult to fully understand topics as well as<br>understand which topics would likely show up on<br>exams."
          ],
          [
           "W 2024 CH EN 311 :I thought Dr. Guymon got better as the semester<br>progressed. The organization was a little<br>difficult at first but by the end I thought it was<br>good. Overall the content of the class was really<br>helpful."
          ],
          [
           "W 2024 CH EN 311 :I enjoyed this class. The structure was difficult<br>to get used to at first  but once everyone got the<br>flow of things  I really enjoyed it. Dr. Guymon<br>did a great job at making this class spiritual."
          ],
          [
           "W 2024 CH EN 311 :Guymon does truly care about his students and you<br>can tell he wants the best for them. He does a<br>good job of doing his best to know many of his<br>students needs and doing his best to address them.<br>I think that as a teacher he''s going through some<br>learning curves  but will be a great teacher once<br>his class is well organized. I think that he could<br>talk to future TAs and honestly can make some<br>homework assignments easier for what this class<br>calls for."
          ],
          [
           "W 2024 CH EN 311 :Dr. Guymon is an incredible professor! He was<br>truly invested not only in our success  but our<br>growth as chemical engineers and students."
          ],
          [
           "W 2024 CH EN 311 :I am grateful for Dr. Guymon''s dedication to his<br>students success  because it makes learning the<br>material easier and more enjoyable and helps<br>things stick. He does a good job adapting to<br>circumstances and being understanding with due<br>dates and assignments in a way that leads to<br>learning AND success."
          ],
          [
           "W 2024 CH EN 311 :Dr Guymon is a stand-up guy. I appreciated his<br>desire for us to succeed not just academically<br>but spiritually and as people. He really does care<br>about our whole person. I also want to encourage<br>Dr Guymon to continue working to inspire his<br>students. Don''t let apathy or complaining get you<br>down; students have always complained and always<br>will. For this course specifically  it was<br>difficult to get excited about the topics  which<br>may be true for other students. If you can try to<br>make the topics exciting and relevant  I think<br>this would have an effect on student engagement."
          ],
          [
           "W 2024 CH EN 311 :Super good at everything but coursework<br>organization! I also wasn''t sure how I felt about<br>the use of Chat GPT to grade our book reviews; it<br>felt like the human element of feedback was taken<br>out  and I felt a bit like I had wasted my time<br>working on the assignment just to have it graded<br>by an algorithm. Otherwise the class was<br>excellent!"
          ],
          [
           "W 2024 CH EN 311 :A structured schedule for assignments (regular HW<br>due dates) helps students feel less caught-off<br>gaurd. Additionally  changing due dates or<br>removing parts of a project can be frustrating to<br>student who have already completed those parts."
          ],
          [
           "W 2024 CH EN 311 :He was a great professor and taught me a lot of<br>great stuff about ethics and energy!"
          ],
          [
           "W 2024 CH EN 311 :The course website was an incredible tool. It had<br>pretty much all of the information I needed. Could<br>have been slightly better organized  but I don''t<br>think that''s his fault  I think that''s the<br>department''s fault for making him teach two<br>different classes with little resources. I didn''t<br>feel like I learned as easily as I should have<br>been able to. Dr. Guymon is an amazing man who<br>puts in far more time into his students than most<br>other teachers do  but I think he just needs a<br>little more experience and perhaps guidance on<br>class organization."
          ],
          [
           "W 2024 CH EN 311 :I felt that perhaps some of the homework<br>assignments could have been more helpful. I know<br>waaaaaaay more than I did before this class and am<br>much more passionate about safety."
          ],
          [
           "W 2024 CH EN 311 :Dr Guymon is very approachable and genuinely cares<br>about his student and helping them learn the<br>material well."
          ],
          [
           "W 2024 CH EN 311 :As a student  I experienced a bit of turbulence in<br>the setup of course materials. However this is<br>completely forgivable as Dr. Guymon is new to<br>teaching this specific course. It is also to be<br>expected with such a high and varied material base<br>to learn during one semester."
          ],
          [
           "W 2024 CH EN 311 :Clint Guymon is a good man. At first we didn''t<br>really vibe so well  but that''s because I didn''t<br>go to class and I was mad about getting a bad<br>grade. But I got over myself and realized Clint is<br>a really good guy."
          ],
          [
           "W 2024 CH EN 311 :Overall  it was a really good class  the only<br>thing I would suggest is consistency with the<br>reading quizzes. The format and how long it would<br>take would change without notice."
          ],
          [
           "W 2024 CH EN 311 :Dr. Guymon is an extremely talented lecturer and<br>instructor. He is respectful of questions and<br>promotes learning above all else. I would only<br>recommend a less flexible structure to the class<br>in the future - one caveat is that I am aware this<br>is Dr. Guymon''s first time in charge of the<br>course. He did a very good job."
          ],
          [
           "W 2024 CH EN 311 :I loved this course  I would share with family and<br>friends what i was learning all of the time."
          ],
          [
           "W 2024 CH EN 311 :Thanks for all your work! This class was way<br>harder than I expected at first but I am very<br>happy with what I have learned. I know some people<br>struggle with learning in this class  but I loved<br>your teaching and how much you care about us! Hope<br>I can have you again for another course."
          ],
          [
           "W 2024 CH EN 311 :Professor Guymon may be one of the best professors<br>I will have at BYU. I have really enjoyed having<br>him for multiple different classes. This has help<br>with continuity of teaching style. It is easy to<br>tell that he cares a lot about the subject<br>material and his students. I wish I could have him<br>for every class going forward. I do think he<br>teaches more material than the class''s curriculum<br>necessitates  which is a double edged sword. I<br>think this will prepare me well for a career  but<br>it causes more stress during the class. I would<br>give Professor Guymon a 10/10. He is very willing<br>to adapt to accommodate students needs and change<br>his teaching style based on student evaluation."
          ],
          [
           "W 2024 CH EN 311 :Professor Guymon is a great teacher and is very<br>effective at gaining the trust and respect of his<br>students. At times concepts were difficult to<br>understand but he did a great job at adjusting<br>class time  using office hours or homework to<br>emphasize and clarify these areas. He is a true<br>example of being an example of living the gospel<br>and letting your light shine. While that may not<br>always translate to what is considered a good<br>teacher  I believe it is important."
          ],
          [
           "W 2024 CH EN 311 :Dr. Guymon is incredibly caring and thoughtful<br>and he always provided help if requested."
          ],
          [
           "W 2024 CH EN 311 :I liked the class and Dr. Guymon did a great job!"
          ],
          [
           "W 2024 CH EN 479 :I think you were good at explaining all of the<br>concepts that you did take the time to explain.<br>See my feedback on the quizzes. My only<br>recommendation is taking the time to explain more<br>concepts."
          ],
          [
           "W 2024 CH EN 479 :I really liked that the quizzes at the beginning<br>of class had us apply things we''ve learned in the<br>past that we''ve mostly forgotten. Dr Guymon does<br>a good job teaching those concepts too."
          ],
          [
           "W 2024 CH EN 479 :He really tries to improve and make changes based<br>on student feedback throughout the semester. I<br>liked that he wasn’t afraid to improve the labs<br>even during the same semester. He’s not afraid to<br>make changes to make the labs better"
          ],
          [
           "W 2024 CH EN 479 :You were always really good at answering all of my<br>questions. I especially appreciate the help you<br>gave me with statistic questions."
          ],
          [
           "W 2024 CH EN 479 :Very kind and approachable teacher who learned our<br>names and made us feel important"
          ],
          [
           "W 2024 CH EN 479 :Dr. Guymon was respectful and willing to help.<br>There was some miscommunication a couple times<br>regarding the expectations for different<br>assignments. Had he clearly stated those at the<br>beginning of the semester  it would have been a<br>better experience in the class overall."
          ],
          [
           "W 2024 CH EN 479 :I think the quizzes at the beginning of class are<br>a really good idea. These quizzes would be more<br>helpful if we worked through more of the problems<br>as a class. There were a couple of times where you<br>turned us loose to do the quiz and then I had no<br>idea if I did it correctly or not."
          ],
          [
           "W 2024 CH EN 479 :He really helped us learn the growth mindset by<br>helping us figuring out problems for ourselves and<br>not just giving the answer"
          ],
          [
           "W 2024 CH EN 479 :Dr. Guymon did a great job of this through the<br>quizzes that we did. I felt like they were<br>relative to what we were doing and were thoughtful<br>and helpful for us as engineers."
          ],
          [
           "W 2024 CH EN 479 :Dr. Guymon is one of the most respectful<br>professors that I''ve ever interacted with."
          ],
          [
           "W 2024 CH EN 479 :I really enjoyed your spiritual thoughts."
          ],
          [
           "W 2024 CH EN 479 :He had a very sincere spiritual thought every day<br>and I loved how he always prepared. It really<br>brought the spirit."
          ],
          [
           "W 2024 CH EN 479 :One of Dr. Guymon''s biggest strengths."
          ],
          [
           "W 2024 CH EN 479 :Dr. Guymon did a great job of this. He always<br>started with spiritual thoughts that felt sincere<br>and thought out. It was clearly a priority."
          ],
          [
           "W 2024 CH EN 479 :I''m grateful that Dr. Guymon took time to share<br>his testimony every day."
          ],
          [
           "W 2024 CH EN 479 :Reviews from previous classes were helpful."
          ],
          [
           "W 2024 CH EN 479 :It was really useful to actually operate systems<br>in real life for once."
          ],
          [
           "W 2024 CH EN 479 :Dr. Guymon did a good job through the quizzes of<br>reviewing old material that we would then utilize<br>in the lab or in the demonstration for the day."
          ],
          [
           "W 2024 CH EN 479 :Dr. Guymon did a great job of incorporating this<br>into his spiritual thoughts at the start of each<br>class."
          ],
          [
           "W 2024 CH EN 479 :Same as above. Dr. Guymon did a good job of<br>incorporating this into this thoughts at the<br>beginning of each class."
          ],
          [
           "W 2024 CH EN 479 :Most of this came from the yogurt lab. Everything<br>else was completed in-class which was nice."
          ],
          [
           "W 2024 CH EN 479 :I loved the set up! Great Professor  fantastic<br>concepts taught and statistics review. Very well<br>organized lab class. In the future  I would make<br>sure it is well explained that everything is on<br>the tipice website. That had to be figured out<br>later haha."
          ],
          [
           "W 2024 CH EN 479 :Dr Guymon really cares about his students. You can<br>tell that he cares about us as individuals and he<br>wants us to learn. I loved how he focused on<br>helping us tie together many different concepts<br>that we’ve learned throughout the program. He went<br>out of his way to do demos and quizzes that would<br>make us think and stretch us to remember and apply<br>things we’ve learned in other classes. One way to<br>make the quizzes better is to show the answers<br>more clearly right after the quiz  so we can see<br>what we did wrong. I also loved how Dr Guymon<br>expected us to solve problems and figure things<br>out  which helps us become better engineers  but<br>he is also always willing to offer help."
          ],
          [
           "W 2024 CH EN 479 :Dr. Guymon is a good professor for BYU because he<br>makes spiritual enhancement a priority. He is a<br>professor that is really dedicated to BYU and its<br>mission. That being said  some of his<br>organizational skills need some work  and I think<br>he could be better at helping struggling students."
          ],
          [
           "W 2024 CH EN 479 :I liked the class  but I think the structure could<br>be improved a bit. Specifically  I think the<br>expectations could be clearer on some of the<br>assignments. We didn''t get a specific list of<br>expectations for the reports until about halfway<br>through the semester after already completing two<br>reports. But I liked the labs that we did. I think<br>the Bioreactor needs to be modified because each<br>time we ran the reactor  it was a 6 hour + ordeal.<br>Dr. Guymon was also a nice and knowledgeable<br>instructor."
          ],
          [
           "W 2024 CH EN 479 :Dr. Guymon is awesome and did a really good job<br>teaching UO lab. He gave us space to try to solve<br>the problems we faced  but was available and<br>helpful when we needed assistance. He also did a<br>good job keeping the class within university<br>expectations in terms of how much time we should<br>spend on it each week."
          ],
          [
           "W 2024 CH EN 479 :Dr. Guymon is fantastic. He was always so helpful<br>and willing to assist in projects we were working<br>on. He is fun and taught concepts well. His<br>spiritual thoughts were also amazing and I can<br>tell how much he loves his Savior. He helped<br>motivate me to seek a closer relationship with my<br>Savior as well."
          ],
          [
           "W 2024 CH EN 479 :Your the best  really apreciate how good you are<br>at helping you could and did provide guidance for<br>any of my questions that was simple to understand.<br>You held high standards but also provided the<br>support for us to reach them which I really<br>appreciated"
          ],
          [
           "W 2024 CH EN 479 :Good practical laboratory applications to<br>culminate our Chemical Engineering education"
          ],
          [
           "W 2024 CH EN 479 :Dr. Guymon is super awesome. His written<br>instructions are a bit disorganized and some of<br>the projects were confusing."
          ],
          [
           "W 2024 CH EN 479 :Dr. Guymon is a great Professor! I have really<br>enjoyed my time in UO Lab. He knows the material<br>well and he shows he cares for the students."
          ],
          [
           "W 2024 CH EN 479 :Wonderful class  I loved working more with my<br>hands and wish that I was able to take a course<br>like this earlier in my schooling."
          ],
          [
           "F 2023 CH EN 263 :Put in the effort to get better and take our<br>feedback to improve his teaching style for us"
          ],
          [
           "F 2023 CH EN 263 :This class is the first time a lot of us have done<br>coding. Overall I feel like I have a pretty good<br>grasp  but I still struggle a bit with aspen<br>ansys  and solidworks because we went over them so<br>fast."
          ],
          [
           "F 2023 CH EN 263 :Dr Guymon liked to teach by demonstration which I<br>thought was a great strategy. I think on some of<br>the models that he used advanced math for I was<br>impressed and it made me want to learn it  but it<br>was difficult for me to understand without more<br>time spend on it and more explanation."
          ],
          [
           "F 2023 CH EN 263 :It was a bit harder for me to understand what was<br>going on earlier on in the semester but Dr. Guymon<br>did a great job of adjusting his teaching method<br>to help students who took longer to grasp the<br>concepts."
          ],
          [
           "F 2023 CH EN 263 :The course website and homework sheets were always<br>correlated and they were well organized."
          ],
          [
           "F 2023 CH EN 263 :well organized with website and applicable<br>examples which was very cool"
          ],
          [
           "F 2023 CH EN 263 :I feel like the concepts taught built on top of<br>each other."
          ],
          [
           "F 2023 CH EN 263 :The course website was a great resource  and I<br>really liked the examples he gave. I think a<br>series of notes on how to do specific things or<br>perform certain tasks would have been helpful  or<br>maybe an index of example code for different<br>things."
          ],
          [
           "F 2023 CH EN 263 :Great organization  website layout  and available<br>resources."
          ],
          [
           "F 2023 CH EN 263 :The course was very organized. It took a sec to<br>get used to the course website but I actually<br>really like it now. Everything is easy to find and<br>I always know where to go."
          ],
          [
           "F 2023 CH EN 263 :Dr. Guymon was very willing to take time for<br>students and interact with them on their<br>questions. I think he was more effective at this<br>in a one-on-one environment  when questions were<br>answered in class it often got the lecture off<br>track or questions were not answered fully."
          ],
          [
           "F 2023 CH EN 263 :Very easy to reach/contact. I was able to talk to<br>him after class  through email  during office<br>hours  and even drop by his office to see if he<br>had a second to chat."
          ],
          [
           "F 2023 CH EN 263 :Dr Guymon gave good guidance in his office hours<br>and he was responsive to emails as well."
          ],
          [
           "F 2023 CH EN 263 :Dr. Guymon is good at answering questions and<br>being aware of our needs."
          ],
          [
           "F 2023 CH EN 263 :Addressed and answered needs that came up in class<br>and was very willing to provide personal<br>assistance during office hours."
          ],
          [
           "F 2023 CH EN 263 :Dr. Guymon was very helpful to students who needed<br>help. He helped me a lot when I came into his<br>office hours."
          ],
          [
           "F 2023 CH EN 263 :He was open make all accommodations to meet with<br>him  even gave us his phone number."
          ],
          [
           "F 2023 CH EN 263 :Willing to help when people are struggling."
          ],
          [
           "F 2023 CH EN 263 :Dr. Guymon''s project-based learning approach<br>helped me to learn a lot of code and quickly. He<br>always encouraged us to type out the code and<br>think through it ourselves  which was key to<br>gaining learning."
          ],
          [
           "F 2023 CH EN 263 :He made a big emphasis on our case studies we got<br>to choose. He would reassure us that we could<br>figure it out. It got better towards the end of<br>the semester (in the beginning it was a lot of<br>trying to absorb information and at the end he was<br>having us more actively involve in trying to<br>code/solve problems with him)."
          ],
          [
           "F 2023 CH EN 263 :This class was more hands on because we had to<br>physically do the required material to learn it."
          ],
          [
           "F 2023 CH EN 263 :I thought that the assignments that Dr Guymon gave<br>were challenging and helped us learn things on our<br>own when we invested time into it. I thought that<br>the earliest assignments were the best and most<br>helpful  and then some of the later ones with<br>solidworks or ansys were still good but not as<br>good. I also think that for a lot of people it<br>would have helpful to dive more deeply into python<br>on a granular level and review basic concepts like<br>lists  list slicing  dictionaries  name/variable<br>management  frames/environments  etc. I think lots<br>of people were tripped up on that while people<br>with more coding experience struggled less."
          ],
          [
           "F 2023 CH EN 263 :Dr. Guymon is good at inviting us to answer<br>questions and follow along on our own.<br>Computational tools necessitate learning by doing<br>in a lot of ways."
          ],
          [
           "F 2023 CH EN 263 :Very encouraging of independent growth and class<br>involvement."
          ],
          [
           "F 2023 CH EN 263 :I liked how the homework assignments always helped<br>me learn not just about coding but also about<br>chemical engineering in general. Everything was<br>very applicable."
          ],
          [
           "F 2023 CH EN 263 :He is very passionate about the work and shows<br>that in class."
          ],
          [
           "F 2023 CH EN 263 :He was very open to the feedback we gave us and<br>was happy to answer questions we have. Always very<br>respectful and nice."
          ],
          [
           "F 2023 CH EN 263 :I always felt respected when talking to him."
          ],
          [
           "F 2023 CH EN 263 :Dr Guymon always had a positive spirit and he made<br>everyone feel comfortable asking questions and<br>seeking help."
          ],
          [
           "F 2023 CH EN 263 :Dr. Guymon is very respectful and kind to students<br>and cares a lot about us."
          ],
          [
           "F 2023 CH EN 263 :Dr. Guymon was always very respectful of his<br>students. He respected our questions and made sure<br>they were answered. He also was accommodating of<br>our concerns."
          ],
          [
           "F 2023 CH EN 263 :Listened to us and our ratings"
          ],
          [
           "F 2023 CH EN 263 :He would always start class with a little thought.<br>These were fun and good."
          ],
          [
           "F 2023 CH EN 263 :Dr. Guymon gives the best spiritual thoughts at<br>the beginning of class."
          ],
          [
           "F 2023 CH EN 263 :I really liked the spiritual thoughts at the<br>beginning of each class."
          ],
          [
           "F 2023 CH EN 263 :Dr Guymon is a spiritual giant and he always<br>shared a spiritual thought and his testimony at<br>the beginning of class (sometimes I was late and<br>missed it but I swear it wasn''t to avoid the<br>thoughts - I just sleep in). He was a great<br>example of being a disciple of Christ and being a<br>representative of Him in the way he acted. Dr<br>Guymon is a professor that models the kind of<br>person I want to be in the workplace and with<br>coworkers."
          ],
          [
           "F 2023 CH EN 263 :I appreciated Dr. Guymon''s dedication to sharing<br>spiritual thoughts with us every day."
          ],
          [
           "F 2023 CH EN 263 :I loved starting class with a prayer and spiritual<br>thought. Dr. Guymon does a great job of inviting<br>the spirit into his classroom."
          ],
          [
           "F 2023 CH EN 263 :Always started with a spiritual thought and a<br>prayer. Great insights and started the day out<br>right."
          ],
          [
           "F 2023 CH EN 263 :I really loved the spiritual messages at the<br>beginning of every class. They motivated and<br>encouraged me."
          ],
          [
           "F 2023 CH EN 263 :I LOVED his spiritual thoughts  it started my day<br>well."
          ],
          [
           "F 2023 CH EN 263 :Always had a spiritual thought ready."
          ],
          [
           "F 2023 CH EN 263 :I learned a lot of code and I learned to love<br>code. The principles from this class are the ones<br>I''m the most excited to apply throughout my<br>engineering career  from all those I''ve learned<br>so far."
          ],
          [
           "F 2023 CH EN 263 :I definitely learned a lot of stuff I didn''t know<br>before this class."
          ],
          [
           "F 2023 CH EN 263 :I feel like I have a basic grasp of coding when I<br>didn''t know anything before."
          ],
          [
           "F 2023 CH EN 263 :I learned a lot about different computational<br>tools and techniques  and this class expanded my<br>vision of what is possible with computational<br>modeling."
          ],
          [
           "F 2023 CH EN 263 :I feel like I know a lot more now about<br>computational methods than I did before I started<br>this class."
          ],
          [
           "F 2023 CH EN 263 :I learned a lot in this class and expanded my<br>resources."
          ],
          [
           "F 2023 CH EN 263 :Pushed us to learn new concepts"
          ],
          [
           "F 2023 CH EN 263 :Boy did a learn a lot in this class! It was also<br>super applicable and I know that it''ll help me<br>throughout my life."
          ],
          [
           "F 2023 CH EN 263 :Taught new things on the daily."
          ],
          [
           "F 2023 CH EN 263 :This class helped me to learn how to reason<br>through problems."
          ],
          [
           "F 2023 CH EN 263 :The work that I invested into this class<br>especially in the first part of the semester<br>really helped me strengthen a lot of my skills and<br>it was really great practice of learning things on<br>my own and seeking out information."
          ],
          [
           "F 2023 CH EN 263 :I am better at doing hard things now."
          ],
          [
           "F 2023 CH EN 263 :Great example and encouraged us to develop<br>socially and physically as well."
          ],
          [
           "F 2023 CH EN 263 :I was able to develop the ability to learn<br>something totally outside of my natural intuition<br>in this class which was awesome. I also improved<br>my ability to be comfortable with being in a hard<br>class."
          ],
          [
           "F 2023 CH EN 263 :Had a physical exercise extra credit which was<br>cool."
          ],
          [
           "F 2023 CH EN 263 :The things I learned in this class made me want to<br>continue learning and sharpening skills so that I<br>can become a more capable engineer  and I want to<br>be an engineer at the highest technical  ethical<br>and moral level. This class only strengthened that<br>resolve."
          ],
          [
           "F 2023 CH EN 263 :This class definitely taught me how to use online<br>resources to assist in my learning and taught me<br>how to continue to learn about new technological<br>tools."
          ],
          [
           "F 2023 CH EN 263 :Kept a career-long perspective to how this class<br>will benefit us and how we can continue to learn."
          ],
          [
           "F 2023 CH EN 263 :Dr. Guymon shared a lot about how the concepts<br>taught to us will help us better help others in<br>our career."
          ],
          [
           "F 2023 CH EN 263 :This was also getting a lot of help from TAs"
          ],
          [
           "F 2023 CH EN 263 :It varied  but I think I typically spent 2 maybe 3<br>hours individually on each homework assignment and<br>then maybe 30min-1 hour with the TAs trying to<br>make sure I understood and did it right. The work<br>load felt pretty reasonable though. I appreciated<br>that it wasn''t over the top with pre-class<br>preparation. We could come to class  learn the<br>material  and then know enough to do the homework<br>assignment."
          ],
          [
           "F 2023 CH EN 263 :I thought that the workload for this class was<br>very reasonable."
          ],
          [
           "F 2023 CH EN 263 :I do not closely track my time  but based off<br>vibes this feels right."
          ],
          [
           "F 2023 CH EN 263 :Dr. Guymon is a very new professor but he has a<br>ton of potential. I''m excited to be in his class<br>again next semester as we all continue to grow. I<br>especially appreciated his attention and respect<br>in one-on-one interactions."
          ],
          [
           "F 2023 CH EN 263 :This being his first teaching class  he did well.<br>It started rocky  but he took our feedback and<br>listened to the TAs to get better. Dr. Guymon<br>spent a lot of time working on the material for<br>our class and it shows. Really appreciated having<br>him as a professor."
          ],
          [
           "F 2023 CH EN 263 :Great professor  really cared about us and wanted<br>to know what we had to say. I recognize and<br>understand there is a learning curve with being a<br>professor and it meant a lot that he acknowledged<br>it. I''m grateful that he put up with us too as we<br>gave feedback or asked for clarification. It was<br>really nice to be able to drop buy his office to<br>ask questions even if it wasn''t during his office<br>hours. The little demos each day were fun."
          ],
          [
           "F 2023 CH EN 263 :It would be better if there were more moments in<br>class where Professor Guymon stopped and had us<br>try to find the solution to a problem on our own<br>even if he only gave us a minute or so to try it.<br>It would be easier to stay engaged with the<br>lecture if he did that more. But that''s just me<br>nitpicking  Professor Guymon is honestly doing a<br>great job."
          ],
          [
           "F 2023 CH EN 263 :Dr. Guymon connects really well with the students<br>and I feel like he really tries to know them. One<br>of my favorite ChemE professors! He''s super<br>humble  and if he thinks he could have done<br>something better he finds a way to fix it. The<br>beginning of the class was really tough but we<br>learned a lot."
          ],
          [
           "F 2023 CH EN 263 :Dr Guymon is seriously so invested in his students<br>and helping them learn  both concepts related to<br>class content and just overall in teaching them to<br>achieve the aims of a BYU education and come<br>closer to Jesus Christ. I have full confidence<br>that he will only continue to become better and<br>better at teaching and doing everything that comes<br>with being a professor  and that he will continue<br>to have a strong positive influence on his<br>students. As far as the course goes  I thought it<br>was a really excellent opportunity to learn how to<br>leverage the power of python and other<br>computational tools. I hope that the department<br>continues to refine it and help us develop an even<br>firmer foundation in those skills. I think there<br>are some things that could be done to focus more<br>on the fundamentals and the inner workings of<br>python; I understand that this isn''t a CS course<br>but I believe it is really helpful to understand<br>some of what is going on under the hood as far as<br>frames  environments  variables etc. I also think<br>it would be extremely valuable to have some<br>instruction on how to structure projects and code.<br>How do I integrate code with other documents? What<br>are best practices for organizing code? How does<br>one use Git? I know that there is limited time in<br>the course  but I think it''s worth it to get<br>foundational skills that help learn how to<br>collaborate on code and have a better<br>understanding of core concepts at the heart of a<br>lot of coding."
          ],
          [
           "F 2023 CH EN 263 :I thought this was a great course. I learned a lot<br>and was appropriately challenged. I liked the<br>demonstrations and devotionals at the beginning of<br>class  and really appreciated your thoughtfulness."
          ],
          [
           "F 2023 CH EN 263 :Professor Guymon is amazing."
          ],
          [
           "F 2023 CH EN 263 :It really was a great class. Even though the first<br>part was a bit rocky for me  I was able to get the<br>hang of it and when I think back on everything I<br>have learned  I am blown away. I respect how Dr.<br>Guymon wants to teach us how these concepts apply<br>to real life instead of just teaching abstract<br>concepts."
          ],
          [
           "F 2023 CH EN 263 :Thanks for all your work! I loved this class  even<br>though I had no knowledge of python beforehand. I<br>am excited to be in your class next semester. One<br>thing that would help me is more problems where we<br>work through together but I understand we don''t<br>have time for that all the time."
          ],
          [
           "F 2023 CH EN 263 :I really enjoyed this course. I learned a lot of<br>helpful skills with computation tools that help me<br>learn in my other classes and will help me in my<br>future career. Sometimes it was difficult when we<br>had to learn more advanced chemistry or math to<br>work on assignments but with assistance from the<br>TAs  it was very possible."
          ],
          [
           "F 2023 CH EN 263 :I think he gave problems and the only way to learn<br>the concept well is through those challenging<br>concepts."
          ],
          [
           "F 2023 CH EN 263 :It got a lot better by the end of the class  but<br>there were a lot of assignments early on that I am<br>pretty sure I wouldn''t have been able to complete<br>without the TAs help."
          ],
          [
           "F 2023 CH EN 263 :Sometimes (mostly at the beginning of the class)<br>we were all confused by the end of class but<br>between him and the TAs we were able to figure<br>everything out while doing the homework."
          ],
          [
           "F 2023 CH EN 263 :I thought he did a great job breaking down<br>challenging concepts with the various technologies<br>we learned about."
          ],
          [
           "F 2023 CH EN 263 :It was very difficult at the beginning but he<br>improved throughout the semester."
          ],
          [
           "F 2023 CH EN 263 :Sometimes I was confused when there was some<br>concept that was hard to understand  but I felt<br>that he sincerely tried to aid"
          ],
          [
           "F 2023 CH EN 263 :I like the website"
          ],
          [
           "F 2023 CH EN 263 :Very organized! The class website is fire."
          ],
          [
           "F 2023 CH EN 263 :despite the hardness of the homework. i am happy<br>for the layout of the course and i think it works.<br>i could see how for some it could be too fast and<br>doesn''t focus on the basics enough to get a good<br>foundation of the coding section."
          ],
          [
           "F 2023 CH EN 263 :I thought most of the course was organized very<br>clearly. Both python and excel were easy to<br>understand and had the right balance of<br>challenging but achievable. I wish there was more<br>time for the CAEDM software--I just felt like I<br>learned that they exist but did not get to learn<br>more practical applications. The scope of the<br>course likely limits the ability to change that."
          ],
          [
           "F 2023 CH EN 263 :My suggestion would be to do excel and python<br>simultaneously. This would slow down the need to<br>learn code so quickly and could show what goes on<br>under the hood of some of pythons functions."
          ],
          [
           "F 2023 CH EN 263 :I think it may have been helpful to learn some<br>things in a different order on Python  especially<br>for students who don''t have any experience with<br>it prior to taking the class"
          ],
          [
           "F 2023 CH EN 263 :HOLY smokes. He did incredible  especially for<br>this being the first itme he taught the class. He<br>did not just us past professors content but took<br>so much time and effort to create somethin<br>specific to us"
          ],
          [
           "F 2023 CH EN 263 :Professor Guymon went out of his way multiple<br>times to show me how to work through problems."
          ],
          [
           "F 2023 CH EN 263 :He is willing to help us out even after his<br>working hours."
          ],
          [
           "F 2023 CH EN 263 :He was great about answering questions in class<br>and I have rarely if ever had a professor who was<br>as available and responsive outside of class."
          ],
          [
           "F 2023 CH EN 263 :I stopped by his office so many times outside of<br>hours and he was always willing to help me!"
          ],
          [
           "F 2023 CH EN 263 :He frequently made himself available to help me<br>and my classmates when needed."
          ],
          [
           "F 2023 CH EN 263 :He is always available to help out and he always<br>wants to help out. He literally will respond<br>during hours that he should be asleep and he is<br>always thinking about the students."
          ],
          [
           "F 2023 CH EN 263 :Very practical!"
          ],
          [
           "F 2023 CH EN 263 :Very good! At the beginning some of the lectures<br>just went over my head but they got a lot more<br>involved and the homework was very active<br>learning."
          ],
          [
           "F 2023 CH EN 263 :although all the homework problems are kind of<br>annoying and sometimes way too hard we did learn a<br>lot and despite being in a hard major he did<br>always provide kindness and wanted us to learn."
          ],
          [
           "F 2023 CH EN 263 :Dr. Guymon made assignments applicable to real-<br>world scenarios  including situations we would<br>likely encounter either in industry or later in<br>our education."
          ],
          [
           "F 2023 CH EN 263 :I once went in with a concern about how a homework<br>problem was written  and he respected my concern<br>and changed the problem."
          ],
          [
           "F 2023 CH EN 263 :So respectful!"
          ],
          [
           "F 2023 CH EN 263 :he is a nice man and does care about BYU and its<br>students. it is clear he wants us to learn"
          ],
          [
           "F 2023 CH EN 263 :He was always respectful and uplifting in the way<br>he approached questions and concerns. He kept an<br>open mind."
          ],
          [
           "F 2023 CH EN 263 :I can tell he genuinely cares for his students and<br>wants them to succeed."
          ],
          [
           "F 2023 CH EN 263 :He never judged anyone. Even when a question was<br>asked multiple times he always was respectful and<br>patient."
          ],
          [
           "F 2023 CH EN 263 :He has really good spiritual thoughts at the<br>beginning of every class."
          ],
          [
           "F 2023 CH EN 263 :One of the most spiritual classes I''ve been in.<br>The Spirit just glows from Professor Guymon."
          ],
          [
           "F 2023 CH EN 263 :He gives the best spiritual thoughts!"
          ],
          [
           "F 2023 CH EN 263 :Dr. Guymon did an amazing job including the Gospel<br>in this class. He began every day with a prayer<br>and spiritual thought  which set the tone and an<br>inspiring example to me. I appreciated the way he<br>shared his testimony and then showed it by the way<br>he interacted with his students."
          ],
          [
           "F 2023 CH EN 263 :I told my classmates almost every day that I leave<br>his class feeling the Spirit stronger than I leave<br>church or religion classes or institute. He always<br>bears testimony."
          ],
          [
           "F 2023 CH EN 263 :Holy smokes have we learned a lot."
          ],
          [
           "F 2023 CH EN 263 :This course challenged me immensely with the<br>difficult tests and assignments. It made me<br>stretch in ways that classes often don''t."
          ],
          [
           "F 2023 CH EN 263 :I feel like we built character in overcoming<br>challenges and solving problems and just in being<br>good people."
          ],
          [
           "F 2023 CH EN 263 :He wants us to improve in all aspects of our lives<br>not just in coding."
          ],
          [
           "F 2023 CH EN 263 :We definitely learned a lot about how to learn and<br>were motivated to be better people."
          ],
          [
           "F 2023 CH EN 263 :I learned about a lot of different engineering<br>software I would love to explore down the road."
          ],
          [
           "F 2023 CH EN 263 :I felt inspired by him to serve others and<br>dedicate time to more than just school"
          ],
          [
           "F 2023 CH EN 263 :I liked how he was humble and he taught the<br>concepts in a way that I think I can now apply<br>them to industry."
          ],
          [
           "F 2023 CH EN 263 :Very spiritual and I appreciate that."
          ],
          [
           "F 2023 CH EN 263 :The professor is fair with his workload and<br>clearly wants his students to succeed."
          ],
          [
           "F 2023 CH EN 263 :11/10 stars"
          ],
          [
           "F 2023 CH EN 263 :I struggled with the content at the beginning of<br>the semester because it was really fast  but I<br>feel that we covered a lot of challenging material<br>that I feel semi confident in now."
          ],
          [
           "F 2023 CH EN 263 :I could really tell how much Dr. Guymon cared<br>about his job and the students he had the<br>opportunity to teach and inspire. His attitude was<br>contagious and made me want to be a better student<br>in this class."
          ],
          [
           "F 2023 CH EN 263 :I really struggled at the beginning and had to<br>rely heavily on the TAs for the home work. I was<br>just trying to survive. But after the 2nd exam as<br>I have gone back through the home work I have<br>slowly been able to pick up a lot of the skills we<br>talked about and feel very fluent in python now.<br>It may just be the nature of having to learn a<br>coding language that made it so difficult. I<br>really enjoyed the lectures were we coded together<br>in class. One thing that could be really useful is<br>a cheat sheet of sorts that gives basic functions<br>some kind of condensed documentation."
          ],
          [
           "F 2023 CH EN 263 :He is probably my favorite professor of all time.<br>He is so caring and incredible"
          ],
          [
           "F 2023 CH EN 263 :We all love Dr Guymon :)"
          ],
          [
           "F 2023 CH EN 263 :Can definitely tell it''s his first year teaching<br>the class. Organized this weirdly compared to how<br>other teachers have taught it. Very open to<br>suggestions on how to teach better and made great<br>changes halfway through the course to make it a<br>lot easier to understand"
          ],
          [
           "F 2023 CH EN 263 :Doctor Guymon is a great teacher! He knows the<br>needs of the class and always makes sure that<br>everyone understands the topics of the class."
          ],
          [
           "F 2023 CH EN 345 :The schedule was well organized  and once a<br>problem was found with one of the labs  he was<br>able to use another lab to replace it."
          ],
          [
           "F 2023 CH EN 345 :Very open and willing to help out."
          ],
          [
           "F 2023 CH EN 345 :I think Dr. Guymon is very pleasant."
          ],
          [
           "F 2023 CH EN 345 :He is a super nice guy and was always open to help<br>students."
          ],
          [
           "F 2023 CH EN 345 :Everyone had to submit a written lab report  which<br>ensured that we all knew what we were doing."
          ],
          [
           "F 2023 CH EN 345 :The entire purpose of this lab was for us to<br>actively participate in the learning process."
          ],
          [
           "F 2023 CH EN 345 :He was always respectful towards students and<br>their concerns."
          ],
          [
           "F 2023 CH EN 345 :He had a great thought shared inthe beginning of<br>the semester"
          ],
          [
           "F 2023 CH EN 345 :While he didn''t keep up with it throughout the<br>semester (which is fine due to the nature of a lab<br>class)  it was nice at the beginning of the<br>semester when he shared his testimony and shared a<br>verse the first couple of weeks."
          ],
          [
           "F 2023 CH EN 345 :He gave great spiritual thoughts before lab and I<br>could tell he was sincerely devoted."
          ],
          [
           "F 2023 CH EN 345 :We don''t do much spiritual things explicitly but<br>Dr. Guymon is a great example of a disciple of<br>Christ"
          ],
          [
           "F 2023 CH EN 345 :Was able to apply knowledge learned in classes<br>and it was fun to see how everything worked out."
          ],
          [
           "F 2023 CH EN 345 :This class helped me apply the concepts I learned<br>in previous classes into a real world application."
          ],
          [
           "F 2023 CH EN 345 :Able to work effectively in a team."
          ],
          [
           "F 2023 CH EN 345 :The lab questions helped me develop my knowledge<br>to a further level."
          ],
          [
           "F 2023 CH EN 345 :We''re able to use the skills learned here for the<br>rest of our engineering careers."
          ],
          [
           "F 2023 CH EN 345 :The lessons I learned from this class will likely<br>help me further in my career to help others."
          ],
          [
           "F 2023 CH EN 345 :He is a very kind and understanding person who<br>really wants to help"
          ],
          [
           "F 2023 CH EN 345 :It is great"
          ],
          [
           "F 2023 CH EN 345 :This class was very interesting and a good<br>connection to Materials and Reaction Engineering."
          ],
          [
           "F 2023 CH EN 345 :Dr. Guymon did a great job of helping us in the<br>lab. He was present almost every lab and was<br>willing to help out and give suggestions."
          ],
          [
           "F 2023 CH EN 345 :Dr. Guymon is super kind and knowledgeable"
          ],
          [
           "F 2023 CH EN 345 :The instructor was always kind and helpful in<br>response to questions. It was easy to see that he<br>cared about the students and wanted them to learn<br>and succeed."
          ],
          [
           "F 2023 CH EN 345 :I liked the labs. They were not stressful to<br>complete but felt like meaningful applications of<br>learned material. Some of the communication<br>regarding how the labs should be completed and<br>submitted was a bit confusing. If we need to write<br>our own lab reports it should be stated at the top<br>of the page. Also  not fan of using canvas when<br>every other class is entirely on LS. For group<br>submissions LS has options to make student project<br>groups."
          ],
          [
           "F 2023 CH EN 345 :He has a sonorous voice that compels you to pay<br>attention"
          ],
          [
           "F 2023 CH EN 345 :Most of the labs were easy to follow and we were<br>able to understand."
          ],
          [
           "F 2023 CH EN 345 :The labs correlated with our classes and pushed<br>us."
          ],
          [
           "F 2023 CH EN 345 :Happy to help  but never just gave us the answer<br>either. Put us on the right track and let us<br>loose."
          ],
          [
           "F 2023 CH EN 345 :Cool and engaging labs"
          ],
          [
           "F 2023 CH EN 345 :respectful and very open to help."
          ],
          [
           "F 2023 CH EN 345 :I appreciated his spiritual thought on the first<br>day."
          ],
          [
           "F 2023 CH EN 345 :Cool and engaging labs that applied really well to<br>what we learned in materials and CRE. They also<br>made us think and made us work."
          ],
          [
           "F 2023 CH EN 345 :Difficult labs that stretched us and forced us to<br>grow."
          ],
          [
           "F 2023 CH EN 345 :We got to have hands-on experience which is key in<br>the work force."
          ],
          [
           "F 2023 CH EN 345 :I feel like this was the first time I ever worked<br>with a running reactor outside of a chemistry lab.<br>Measuring the flow rates and concentrations in<br>real time felt like a step up toward the real<br>world."
          ],
          [
           "F 2023 CH EN 345 :I enjoyed most of the labs we had. The reaction<br>cart was cool and made me think and it was cool to<br>have a hands-on application to what we have been<br>learning in CRE. The Terrarium lab was not my<br>favorite  I think it is a good idea and applicable<br>and it is a cool idea. I just think that it could<br>also use some work."
          ],
          [
           "F 2023 CH EN 345 :This course felt very similar to the other<br>chemical engineering lab classes. Everyone has<br>done a good job of making those be a consistent<br>experience."
          ],
          [
           "F 2023 CH EN 345 :I liked the course and felt like a lot of the labs<br>were applicable to things that I could see in my<br>career during chemical engineering. Although  I<br>wish that some of the labs would have been better<br>written and more clear (terrarium lab)."
          ],
          [
           "F 2023 CH EN 345 :Switch to Learning Suite  it makes it so much<br>easier to turn everything in and get more<br>organized"
          ],
          [
           "F 2023 CH EN 345 :I didn''t know what Guymon looked like until the<br>second to last lab  but he was kind and<br>insightful."
          ],
          [
           "F 2023 CH EN 345 :Strengthened by the TA''s and my lab group."
          ],
          [
           "F 2023 CH EN 345 :The grading in the class can be very harsh.<br>Overall  a great professor and class!"
          ],
          [
           "F 2023 CH EN 345 :Great Prof. I loved his testimony and his<br>helpfulness in the labs."
          ],
          [
           "W 2023 CH EN 285 :Dr. Guymon is awesome!"
          ],
          [
           "W 2023 CH EN 285 :The lab questions hit on key concepts about fluid<br>dynamics and were designed to make sure we<br>understood them"
          ],
          [
           "W 2023 CH EN 285 :Dr. Guymon is awesome!"
          ],
          [
           "W 2023 CH EN 285 :The course was well organized  the lab procedures<br>were very easy to follow"
          ],
          [
           "W 2023 CH EN 285 :Dr. Guymon is awesome!"
          ],
          [
           "W 2023 CH EN 285 :When present he was very involved in our learning<br>he always walked around to make sure that we<br>understood the \"why\" behind the labs"
          ],
          [
           "W 2023 CH EN 285 :We had help when we needed it"
          ],
          [
           "W 2023 CH EN 285 :Dr. Guymon is awesome!"
          ],
          [
           "W 2023 CH EN 285 :Everything was very hands-on; the more you put<br>into this lab the more you learned"
          ],
          [
           "W 2023 CH EN 285 :It was all active participation"
          ],
          [
           "W 2023 CH EN 285 :Dr. Guymon is awesome!"
          ],
          [
           "W 2023 CH EN 285 :I was never belittled or made to feel dumb for<br>asking a question"
          ],
          [
           "W 2023 CH EN 285 :Dr. Guymon is awesome!"
          ],
          [
           "W 2023 CH EN 285 :Dr. Lignell is awesome!"
          ],
          [
           "W 2023 CH EN 285 :I appreciated the concern about healthy balance at<br>the beginning of class."
          ],
          [
           "W 2023 CH EN 285 :I appreciated your testimony at the beginning of<br>class."
          ],
          [
           "W 2023 CH EN 285 :Dr. Guymon is awesome!"
          ],
          [
           "W 2023 CH EN 285 :Dr. Lignell is awesome!"
          ],
          [
           "W 2023 CH EN 285 :I enjoyed having the hands-on learning to<br>supplement what we are learning in our classes  it<br>helped solidify knowledge in my head"
          ],
          [
           "W 2023 CH EN 285 :Got lots of practice problem solving on our own."
          ],
          [
           "W 2023 CH EN 285 :Dr. Guymon is awesome!"
          ],
          [
           "W 2023 CH EN 285 :Dr. Lignell is awesome!"
          ],
          [
           "W 2023 CH EN 285 :I learned how to better work as part of a team"
          ],
          [
           "W 2023 CH EN 285 :I appreciated the collaboration with my teammates."
          ],
          [
           "W 2023 CH EN 285 :Working with a team helped me contribute and<br>cooperate."
          ],
          [
           "W 2023 CH EN 285 :teamwork"
          ],
          [
           "W 2023 CH EN 285 :Dr. Guymon is awesome!"
          ],
          [
           "W 2023 CH EN 285 :Dr. Lignell is awesome!"
          ],
          [
           "W 2023 CH EN 285 :I hope to have opportunities such as this class to<br>continue learning"
          ],
          [
           "W 2023 CH EN 285 :It felt like a lot of work for a .5 credit class<br>but overall it was enjoyable."
          ],
          [
           "W 2023 CH EN 285 :Very well planned course. Perfect amount of work<br>for the credit hours."
          ],
          [
           "W 2023 CH EN 285 :Dr. Guymon is awesome! He does a very good job at<br>helping us learn the principles of the lab."
          ],
          [
           "W 2023 CH EN 285 :Great course and professor"
          ],
          [
           "W 2023 CH EN 285 :Although the professors weren''t always present in<br>the lab  I felt like they cared about us and our<br>success. The TAs they picked out were awesome at<br>helping us and answering questions about the tasks<br>at hand."
          ],
          [
           "W 2023 CH EN 285 :I love Dr. Guymon. He is also my faculty advisor<br>and helped me get on an awesome research team with<br>direct ties to my chosen field of work. He is<br>frequently present and checks up on the several<br>section he is over."
          ],
          [
           "W 2023 CH EN 285 :The labs that we did definitely helped apply fluid<br>mechanics and were able to complete in the<br>allotted time."
          ],
          [
           "W 2023 CH EN 285 :Printouts were helpful"
          ],
          [
           "W 2023 CH EN 285 :Literally never even interacted with him  but was<br>available if help was needed"
          ],
          [
           "W 2023 CH EN 285 :Labs were organized effectively by topic"
          ],
          [
           "W 2023 CH EN 285 :Literally never even interacted with him  but was<br>available if help was needed"
          ],
          [
           "W 2023 CH EN 285 :Indifferent  I never asked for help from him  but<br>the TAs were very helpful"
          ],
          [
           "W 2023 CH EN 285 :Literally never even interacted with him  but was<br>available if help was needed"
          ],
          [
           "W 2023 CH EN 285 :Labs were great"
          ],
          [
           "W 2023 CH EN 285 :Literally never even interacted with him  but was<br>available if help was needed"
          ],
          [
           "W 2023 CH EN 285 :Nice guy"
          ],
          [
           "W 2023 CH EN 285 :Literally never even interacted with him  but was<br>available if help was needed"
          ],
          [
           "W 2023 CH EN 285 :Only interacted with him once  but was available<br>if help was needed"
          ],
          [
           "W 2023 CH EN 285 :The class helped me better understand fluids"
          ],
          [
           "W 2023 CH EN 285 :The class helped me better understand fluids"
          ],
          [
           "W 2023 CH EN 285 :Only interacted with him once  but was available<br>if help was needed"
          ],
          [
           "W 2023 CH EN 285 :Only interacted with him once  but was available<br>if help was needed"
          ],
          [
           "W 2023 CH EN 285 :Skills can help in the world"
          ],
          [
           "W 2023 CH EN 285 :Skills can help in the world"
          ],
          [
           "W 2023 CH EN 285 :Only interacted with him once  but was available<br>if help was needed"
          ],
          [
           "W 2023 CH EN 285 :I only interacted with him once slightly but look<br>forward to getting to know him in the future."
          ],
          [
           "W 2023 CH EN 285 :Excellent course"
          ],
          [
           "W 2023 CH EN 285 :The labs were pretty easy to understand"
          ],
          [
           "W 2023 CH EN 285 :This course is very well organized and not<br>confusing at all."
          ],
          [
           "W 2023 CH EN 285 :I never had to ask a question to him  but I am<br>sure he would respond if I did."
          ],
          [
           "W 2023 CH EN 285 :He was around and available to answer questions."
          ],
          [
           "W 2023 CH EN 285 :He looked nice enough to talk to!"
          ],
          [
           "W 2023 CH EN 285 :He took time at the beginning to talk to us and<br>make clear that he is here for us."
          ],
          [
           "W 2023 CH EN 285 :No information taught that I did not learn in<br>ChemEn 374"
          ],
          [
           "W 2023 CH EN 285 :The labs helped me to see fluid mechanic<br>principles in practice"
          ],
          [
           "W 2023 CH EN 285 :Had to do pre readings which were interesting."
          ],
          [
           "W 2023 CH EN 285 :This class required good thinking and planning."
          ],
          [
           "W 2023 CH EN 285 :Had to work with teams which was good!"
          ],
          [
           "W 2023 CH EN 285 :Had to be able to learn things on our own in order<br>to succeed creating a pattern of how we should<br>learn in the future."
          ],
          [
           "W 2023 CH EN 285 :We had to self teach a few simple things. That<br>skill will be useful in the future."
          ],
          [
           "W 2023 CH EN 285 :I didn''t have much interaction with this<br>instructor since it was a TA-led lab. I never had<br>any bad experiences with him and the few time I<br>did interact with him  he was helpful in answering<br>our questions. My ratings will be based on the few<br>interactions I had"
          ],
          [
           "W 2023 CH EN 285 :I loved this lab. Both the professors and the TAs<br>were super helpful. Really helped me to understand<br>fluids in a real-life context."
          ],
          [
           "W 2023 CH EN 285 :Super kind instructor. Loved his class."
          ],
          [
           "W 2023 CH EN 285 :I didn''t have too much direct interaction with<br>Professor Guymon  but he seems like a nice guy and<br>reserved  knowledgeable of chemical engineering<br>principles. Due to my lack of direct relationship<br>I can''t really say too much  which explains the<br>lower than normal scores. I''m sure they will<br>improve once he''s teaching a class on his own."
          ],
          [
           "W 2023 CH EN 285 :Dr. Guymon is very kind"
          ],
          [
           "W 2023 CH EN 285 :This class was great!"
          ],
          [
           "W 2023 CH EN 385 :Loved the demos and shared experiences from his<br>career"
          ],
          [
           "W 2023 CH EN 385 :Super friendly and well organized."
          ],
          [
           "W 2023 CH EN 385 :I liked how the prelab prepared us with the<br>information we needed to do the lab analysis. The<br>prelabs and lab reports were very clear which was<br>great. The labs were simple but meaningful and<br>helped me connect what I learned in thermo and<br>heat and mass. It was very conceptual which helped<br>a lot because our other classes are not usually<br>very conceptual. Also  I liked learning about and<br>then using statistics. We don''t use statistics in<br>our other classes but it is important so this<br>really helped me solidify those concepts and<br>practice."
          ],
          [
           "W 2023 CH EN 385 :He''s good"
          ],
          [
           "W 2023 CH EN 385 :Great professor  love him!"
          ],
          [
           "W 2023 CH EN 385 :Professor Guymon has always been helpful if the<br>need was indicated. He also tends to go the extra<br>mile  and make sure that we are following what is<br>happening."
          ],
          [
           "W 2023 CH EN 385 :This lab has largely been helpful for<br>understanding concepts that I knew of  but didn''t<br>know anything about."
          ],
          [
           "W 2023 CH EN 385 :Working with people I have never interacted with<br>has helped me to become a better<br>teammate/coworker/friend."
          ],
          [
           "W 2023 CH EN 385 :Help was mostly through ta''s  but he was willing<br>to help."
          ],
          [
           "W 2023 CH EN 385 :Lab setup was pretty good this semester. I<br>especially liked the excel documents."
          ],
          [
           "W 2023 CH EN 385 :Great man who often shares his faith."
          ],
          [
           "W 2023 CH EN 385 :We were taught and I learned a lot."
          ],
          [
           "W 2023 CH EN 385 :This has been my favorite of the required ChemE<br>labs. I feel like the labs built upon what I<br>learned in Thermo and heat and mass transfer and<br>made concepts clearer."
          ],
          [
           "W 2023 CH EN 385 :I really liked the lab setup this semester."
          ],
          [
           "W 2023 CH EN 385 :Hands on skills will be super valuable for my<br>future career."
          ],
          [
           "W 2023 CH EN 385 :This class was reasonable with the amount of time<br>spent and I felt like it was good for applying and<br>reinforcing the content from Thermo and H&M."
          ],
          [
           "W 2023 CH EN 385 :Just a little bit of time for the prelab and a<br>little bit of time to finish the lab. I thought<br>this lab class was seemingly well balanced<br>compared the department''s previous lab classes."
          ],
          [
           "W 2023 CH EN 385 :He is a great professor and a lot of help"
          ],
          [
           "W 2023 CH EN 385 :I don''t think I interacted with Dr. Guymon this<br>semester but I can say from last semester that he<br>is awesome. Super helpful and kind and very<br>intelligent but is capable of explaining things on<br>a level you can understand. I think Dr. Guymon is<br>great."
          ],
          [
           "W 2023 CH EN 385 :He was helpful when he was there."
          ],
          [
           "W 2023 CH EN 385 :The labs all went very smoothly and the pre-labs<br>helped us to complete the worksheets which helped<br>to solidify what we were learning in<br>Thermodynamics and Heat and Mass Transfer."
          ],
          [
           "W 2023 CH EN 385 :I never really saw professor Guymon in the lab<br>but I love the man."
          ],
          [
           "W 2023 CH EN 385 :Some concepts were really confusing  whether on<br>wording or just how we were to go about it but<br>overall it was fine."
          ],
          [
           "W 2023 CH EN 385 :Ta was the best  Tiana"
          ],
          [
           "W 2023 CH EN 385 :I really enjoyed the labs in the UO lab."
          ],
          [
           "W 2023 CH EN 385 :Usually went to TA hours to check labs  TA hours<br>were helpful"
          ],
          [
           "W 2023 CH EN 385 :Professor Guymon is one of the nicest professors i<br>have met at BYU. When he was in the lab  he was<br>always walking around helping us with anything we<br>needed."
          ],
          [
           "W 2023 CH EN 385 :Nice guy. Soft spoken. I actually didn''t know<br>Guymon was one of my instructors for this class I<br>thought it was only Knotts."
          ],
          [
           "W 2023 CH EN 385 :Was very nice and would always help if we needed<br>it!"
          ],
          [
           "W 2023 CH EN 385 :Answered our questions."
          ],
          [
           "W 2023 CH EN 385 :Professors helped me understand hard engineering<br>principles such as heat and mass transfer."
          ],
          [
           "W 2023 CH EN 385 :Course content followed a logical order and<br>proceeded so that the labs built off of each<br>other."
          ],
          [
           "W 2023 CH EN 385 :He did help us when we needed help."
          ],
          [
           "W 2023 CH EN 385 :Regularly walked around the lab looking for<br>students who were confused or needed assistance."
          ],
          [
           "W 2023 CH EN 385 :When we had a question  we talked back and forth."
          ],
          [
           "W 2023 CH EN 385 :Lab work inherently provides more of a hands-on<br>opportunity to learn about chemical principles<br>and allowed me to actively participate in the<br>learning process."
          ],
          [
           "W 2023 CH EN 385 :Technically I don''t know but I definitely feel<br>like he would be."
          ],
          [
           "W 2023 CH EN 385 :All student questions were fielded with respect<br>and treated as though every question were<br>important."
          ],
          [
           "W 2023 CH EN 385 :For a chemical engineering lab  my testimony was<br>increased."
          ],
          [
           "W 2023 CH EN 385 :For a chemical engineering lab  my testimony was<br>increased."
          ],
          [
           "W 2023 CH EN 385 :He helped us with a couple of lab questions."
          ],
          [
           "W 2023 CH EN 385 :The statistics lesson at the beginning was<br>definitely helpful."
          ],
          [
           "W 2023 CH EN 385 :I learned a large number of engineering principles<br>from this lab and had others reinforced through my<br>lab work."
          ],
          [
           "W 2023 CH EN 385 :I learned a large number of engineering principles<br>from this lab and had others reinforced through my<br>lab work."
          ],
          [
           "W 2023 CH EN 385 :The labs definitely built me up as an engineer."
          ],
          [
           "W 2023 CH EN 385 :Professors helped me be a more honest person and<br>conduct my lab work with integrity."
          ],
          [
           "W 2023 CH EN 385 :Professors helped me be a more honest person and<br>conduct my lab work with integrity."
          ],
          [
           "W 2023 CH EN 385 :Various lab instructions led to expansion into<br>other areas of learning  and labs were designed to<br>provide other opportunities for learning if the<br>students wanted them."
          ],
          [
           "W 2023 CH EN 385 :Various lab instructions led to expansion into<br>other areas of learning  and labs were designed to<br>provide other opportunities for learning if the<br>students wanted them."
          ],
          [
           "W 2023 CH EN 385 :In the beginning I felt that there was more work<br>than it should be for a half credit class but it<br>got better as the teacher adjusted the labs."
          ],
          [
           "W 2023 CH EN 385 :This course was great  the one comment I have is<br>that the organization of course materials was at<br>times challenging. If the pre labs could be<br>condensed it would help the load."
          ],
          [
           "W 2023 CH EN 385 :Great guy  really friendly and helpful."
          ],
          [
           "W 2023 CH EN 385 :Dr. Guymon is awesome  he is always open to<br>helping students."
          ],
          [
           "W 2023 CH EN 385 :The professors regularly made themselves available<br>to help students around the lab and resolve<br>questions."
          ],
          [
           "W 2023 CH EN 385 :I have felt that this lab course has helped<br>solidify our learning from class very well.<br>perhaps better than previous labs."
          ],
          [
           "W 2023 CH EN 385 :Dr. Guymon is awesome!"
          ],
          [
           "W 2023 CH EN 385 :Like I said  I understood some concepts better<br>from him than any time I tried to understand them<br>before."
          ],
          [
           "W 2023 CH EN 385 :The majority of my questions concerning<br>challenging material were able to be answered by<br>this instructor."
          ],
          [
           "W 2023 CH EN 385 :Dr. Guymon is awesome!"
          ],
          [
           "W 2023 CH EN 385 :It was his first year teaching UO lab so I don''t<br>blame him at all  but we were confused a couple<br>times on problem statements or whatnot. He did<br>correct them though for future groups and I heard<br>it was much better."
          ],
          [
           "W 2023 CH EN 385 :The labs were well correlated to the organization<br>of my other courses  so it went smoothly."
          ],
          [
           "W 2023 CH EN 385 :Dr. Guymon is awesome!"
          ],
          [
           "W 2023 CH EN 385 :He was always available to ask for help and was<br>very helpful. He listened to students and made<br>changes based on their feedback."
          ],
          [
           "W 2023 CH EN 385 :Instructor was always willing to help students who<br>requested assistance."
          ],
          [
           "W 2023 CH EN 385 :Dr. Guymon is awesome!"
          ],
          [
           "W 2023 CH EN 385 :He had great in class examples."
          ],
          [
           "W 2023 CH EN 385 :I think the labs were meaningful  and this<br>instructor was always encouraging."
          ],
          [
           "W 2023 CH EN 385 :Dr. Guymon is awesome!"
          ],
          [
           "W 2023 CH EN 385 :I always felt the utmost care and respect from<br>him."
          ],
          [
           "W 2023 CH EN 385 :This instructor always demonstrated the highest<br>level of respect for students."
          ],
          [
           "W 2023 CH EN 385 :Dr. Guymon is awesome!"
          ],
          [
           "W 2023 CH EN 385 :Dr. Knotts is awesome."
          ],
          [
           "W 2023 CH EN 385 :He opened every class with a spiritual thought and<br>prayer and he always invited the spirit into<br>class. I feel my testimony is legitimatelty muxh<br>stronger because of his teachings  thoughts  and<br>testimony."
          ],
          [
           "W 2023 CH EN 385 :Dr. Guymon is awesome!"
          ],
          [
           "W 2023 CH EN 385 :Dr. Knotts is awesome."
          ],
          [
           "W 2023 CH EN 385 :He helped me to understand concepts that I hadn''t<br>quite fully grasped yet."
          ],
          [
           "W 2023 CH EN 385 :Dr. Guymon is capable and explained things well<br>when I asked him questions."
          ],
          [
           "W 2023 CH EN 385 :Dr. Knotts gave excellent instruction both in<br>person and on his lab worksheets."
          ],
          [
           "W 2023 CH EN 385 :Dr. Guymon is awesome!"
          ],
          [
           "W 2023 CH EN 385 :Dr. Knotts is awesome."
          ],
          [
           "W 2023 CH EN 385 :I want to be a better person  professionally and<br>personally because of Dr. Guymon  by his example<br>and teachings."
          ],
          [
           "W 2023 CH EN 385 :Working on a team helped me to develop<br>dependability  proactivity  and respect for<br>others."
          ],
          [
           "W 2023 CH EN 385 :Working on a team helped me to develop<br>dependability  proactivity  and respect for<br>others."
          ],
          [
           "W 2023 CH EN 385 :Dr. Guymon is awesome!"
          ],
          [
           "W 2023 CH EN 385 :Dr. Knotts is awesome."
          ],
          [
           "W 2023 CH EN 385 :I''d say this instructor and course motivated me<br>to remain curious and thoughtful concerning my<br>future career."
          ],
          [
           "W 2023 CH EN 385 :I''d say the instructor helped to instill a desire<br>to learn and improve in my future career."
          ],
          [
           "W 2023 CH EN 385 :It kind of depended on the lab. Some took a lot<br>more than one hour and some a lot less outside of<br>class but for most of the labs it was pretty<br>reasonable."
          ],
          [
           "W 2023 CH EN 385 :When he was in the lab he was happy to answer any<br>questions I had."
          ],
          [
           "W 2023 CH EN 385 :Dr. Guymon is awesome and did really well at<br>helping us learn the concepts of the course."
          ],
          [
           "W 2023 CH EN 385 :Dr. Guymon is an amazing teacher. He is very smart<br>and conveys ideas well. He is very patient and<br>understanding. He recognized some of his mistakes<br>and corrected them swiftly. He was very gracious<br>and understanding of our mistakes as well. He took<br>time to care about his student and show us he<br>cared about us. After 1 class with him he became<br>one of my favorite professors and I am graduating.<br>He is an incredible professor."
          ],
          [
           "W 2023 CH EN 385 :I think Dr. Guymon is a capable and approachable<br>instructor  at least from what I''ve seen in this<br>course."
          ],
          [
           "W 2023 CH EN 479 :Dr. Guymon was fantastic at explaining challenging<br>concepts."
          ],
          [
           "W 2023 CH EN 479 :He taught concepts in class  and then provided<br>resources for us to reference so we could<br>effectively relearn it again."
          ],
          [
           "W 2023 CH EN 479 :I understood the things after you explained them."
          ],
          [
           "W 2023 CH EN 479 :Like I said  I understood some concepts better<br>from him than any time I tried to understand them<br>before."
          ],
          [
           "W 2023 CH EN 479 :I felt like our discussions of how we can be<br>better and learn more form our engineering<br>experiences. You were good at making a discussion<br>where we could freely ask questions to gain an<br>understanding. I wish that we also had covered<br>some life skills or something. I also would have<br>appreciated some help with reports and writing<br>expectations."
          ],
          [
           "W 2023 CH EN 479 :This is probably the only slight complaint I had.<br>I felt like material was difficult to find or in<br>confusing locations on learning suite. HOWEVER  I<br>appreciate that the group submission feature of<br>Learning suite was used  so GOOD JOB."
          ],
          [
           "W 2023 CH EN 479 :The organization made sense."
          ],
          [
           "W 2023 CH EN 479 :It was his first year teaching UO lab so I don''t<br>blame him at all  but we were confused a couple<br>times on problem statements or whatnot. He did<br>correct them though for future groups and I heard<br>it was much better."
          ],
          [
           "W 2023 CH EN 479 :This was a great organization. I think that the<br>score breakdown was good. You rewarded us for<br>being on time and trying to learn with the<br>quizzes. You were good grading our reports and<br>offering feedback. This was a good mix."
          ],
          [
           "W 2023 CH EN 479 :It was very clear that Dr. Guymon cared about<br>everyone."
          ],
          [
           "W 2023 CH EN 479 :I was grateful he was willing to get down and<br>dirty on PBL to figure out what was wrong and<br>worked alongside us while pushing us to come up<br>with solutions."
          ],
          [
           "W 2023 CH EN 479 :Did a super helpful job guiding us to the solution<br>or answers without just giving it away."
          ],
          [
           "W 2023 CH EN 479 :Dr. Guymon is patient in helping students without<br>just telling them the answer."
          ],
          [
           "W 2023 CH EN 479 :You always stayed to help us when we needed it."
          ],
          [
           "W 2023 CH EN 479 :He was always available to ask for help and was<br>very helpful. He listened to students and made<br>changes based on their feedback."
          ],
          [
           "W 2023 CH EN 479 :I came to you for help a few times and you were<br>kind and understanding of my needs."
          ],
          [
           "W 2023 CH EN 479 :I thought there were a lot of opportunities to<br>learn."
          ],
          [
           "W 2023 CH EN 479 :He had a great balance of supporting our learning<br>process with keeping us on the right track just<br>enough to not get utterly lost and behind in the<br>various projects."
          ],
          [
           "W 2023 CH EN 479 :Dr. Guymon provided a demo for almost every class<br>period (maybe every one)."
          ],
          [
           "W 2023 CH EN 479 :I liked the open discussion quizzes. I feel like<br>talking with classmates about a problem helped me<br>to learn better."
          ],
          [
           "W 2023 CH EN 479 :He had great in class examples and demonstrations."
          ],
          [
           "W 2023 CH EN 479 :Everyone''s opinion was valued."
          ],
          [
           "W 2023 CH EN 479 :Dr. Guymon was extremely respectful of every<br>question and made sure that every student<br>understood what was going on. He was never<br>condescending and I felt very heard by him."
          ],
          [
           "W 2023 CH EN 479 :Dr. Guymon is very respectful to his students."
          ],
          [
           "W 2023 CH EN 479 :I always felt respected."
          ],
          [
           "W 2023 CH EN 479 :I always felt the utmost care and respect from<br>him."
          ],
          [
           "W 2023 CH EN 479 :We had frequent spiritual thoughts and Dr. Guymon<br>was very sincere in his testimony of the gospel."
          ],
          [
           "W 2023 CH EN 479 :He helped me not utterly detest BYU and the cookie<br>cutter image they so desperately try to put on<br>every student. He took time to meet with me about<br>my concerns and was extremely genuine  open and<br>caring. I am very grateful for Clint''s genuine<br>friendship and that he was willing to go out of<br>his way to lift me up spiritually."
          ],
          [
           "W 2023 CH EN 479 :This has probably been one of the most spiritually<br>strengthening courses I have taken at BYU."
          ],
          [
           "W 2023 CH EN 479 :Dr. Guymon does a great job giving spiritual<br>thoughts at the beginning of class. I think they<br>can be shortened (for example several short ones<br>with one occasional long one with a discussion)."
          ],
          [
           "W 2023 CH EN 479 :Very strong testimony and willing to share it"
          ],
          [
           "W 2023 CH EN 479 :I felt the spirit multiple times throughout the<br>semester due to the spiritual thoughts."
          ],
          [
           "W 2023 CH EN 479 :He opened every class with a spiritual thought and<br>prayer and he always invited the spirit into<br>class. I feel my testimony is legitimatelty muxh<br>stronger because of his teachings  thoughts  and<br>testimony."
          ],
          [
           "W 2023 CH EN 479 :Great job!"
          ],
          [
           "W 2023 CH EN 479 :Class demonstrations always pushed students and<br>left us wondering at how the principles worked. It<br>was great review of our previous courses as well<br>as pushing us to see those things in the real<br>world."
          ],
          [
           "W 2023 CH EN 479 :This class pushed me to remember material from<br>previous classes and this made me grow as an<br>engineer."
          ],
          [
           "W 2023 CH EN 479 :Dr. Guymon took time to go in depth with me and<br>answer and understand my questions about<br>fundamental engineering concepts."
          ],
          [
           "W 2023 CH EN 479 :Interesting demos"
          ],
          [
           "W 2023 CH EN 479 :The physical demos were incredibly helpful."
          ],
          [
           "W 2023 CH EN 479 :He helped me to understand concepts that I hadn''t<br>quite fully grasped yet."
          ],
          [
           "W 2023 CH EN 479 :I liked the fundamentals quizzes. But I do think<br>that they could also be shortened."
          ],
          [
           "W 2023 CH EN 479 :Teams had to take accountability and use<br>leadership to accomplish tasks on time."
          ],
          [
           "W 2023 CH EN 479 :Clint was very focused on our character and what<br>would make us the most happy in the long run.<br>Pieces we wrote about character in class helped<br>remind me of who I want to be as an engineer and a<br>person."
          ],
          [
           "W 2023 CH EN 479 :Dr. Guymon inspired me to be a better person and<br>think about my future."
          ],
          [
           "W 2023 CH EN 479 :I want to be a better person  professionally and<br>personally because of Dr. Guymon  by his example<br>and teachings."
          ],
          [
           "W 2023 CH EN 479 :I think the things I learned here will help me for<br>the rest of my life."
          ],
          [
           "W 2023 CH EN 479 :I loved his examples of service figures from his<br>life and his willingness to share how service had<br>blessed his life."
          ],
          [
           "W 2023 CH EN 479 :I want to use my skills in chemical engineering to<br>do good things."
          ],
          [
           "W 2023 CH EN 479 :Was able to get most of the work done in class.<br>Just those last reports would get me sometimes<br>with a lot of time one week outside of class."
          ],
          [
           "W 2023 CH EN 479 :It''s a 2 credit course  and class is 6 hours<br>long. More time could be left to use to work on<br>our projects during class so work outside of class<br>isn''t necessary."
          ],
          [
           "W 2023 CH EN 479 :Awesome professor! He is very kind  knowledgable<br>respectful  and extremely hard working. His number<br>one goal everyday is to help us better solidify<br>chemical engineering practices and principles and<br>be challenged yet be able to finish our projects<br>in a timely manner. Excellent professor!! I loved<br>this class!"
          ],
          [
           "W 2023 CH EN 479 :This was one of my favorite classes in chemical<br>engineering. Much of this is due to the way Dr.<br>Guymon organized and taught the class. I could<br>definitely tell that he cared about the class and<br>wanted us to be better engineers."
          ],
          [
           "W 2023 CH EN 479 :This was a great class  and Dr. Guymon did a great<br>job leading it."
          ],
          [
           "W 2023 CH EN 479 :I have never felt so respected  heard  and cared<br>for by a professor at BYU. The course was designed<br>extremely well for students entering industry or<br>research to write meaningful emails  summaries<br>and reports as well as keep track of progress. I<br>was overjoyed to have a rubber meets the road kind<br>of class and Dr. Guymon structured it perfectly<br>with his demonstrations to keep us questioning and<br>seeing concepts in real life."
          ],
          [
           "W 2023 CH EN 479 :Dr. Guymon did an excellent job with providing<br>many demonstrations and opportunities for students<br>to better understand principles we thought we had<br>learned before. I think he does an excellent job<br>with the experiments and labs. Also  I appreciate<br>his dedication to sharing his testimony and<br>interacting with students to have a positive<br>influence."
          ],
          [
           "W 2023 CH EN 479 :This was a great course! I loved almost every<br>minute of it. Dr. Guymon did an amazing job<br>teaching and review principles with demos and<br>quizzes. He was always willing to help students<br>but never just gave us the answer  which pushed us<br>to grow as engineers. I would happily take any<br>course from Dr. Guymon"
          ],
          [
           "W 2023 CH EN 479 :The instructor really cares and is super awesome.<br>I liked the stats quizzes because they were<br>straightforward and I liked the engineering<br>fundamentals because it felt nice to get credit<br>for writing out those ideas  and it made me feel<br>adequate at something. I didn''t like the<br>fundamentals quizzes--they were too nebulous. I<br>wish we''d done reviews like we did with stats<br>where we reviewed the equation/concepts the class<br>before the quiz. It was hard to see the demos<br>sometimes  I should have moved  but it was also<br>really stressful sometimes to have the time limits<br>when I can''t even remember what concept goes with<br>the demo. I think a few more puzzle pieces<br>provided in those would have been better; however<br>grading on them was relatively merciful and<br>adequate extra credit was provided. I wished the<br>\"rubric\" function of learning suite was better<br>utilized--at least sometimes our scores felt a<br>little arbitrary and I''m sure the instructor had<br>reasons I just wish I understood them better for<br>some of the scores. I felt like it was frustrating<br>to get marked down because we didn''t get the same<br>values the instructor got or we didn''t get a<br>number we were \"supposed to  this is a lab...<br>unless the instructor can repeat that experiment<br>several times and always gets that answer, and our<br>procedures are specified extremely specifically,<br>it''s kind of strange to grade based off of what<br>number we got. The instructor loves and cares for<br>the students and loves the Savior and we can all<br>feel that. We feel listened to by the instructor.<br>He has empathy for us. He is very cool. Thank you.<br>W 2023  CH EN 479 (Section 002) 62711427966<br>Does a great job leading students to learn what<br>they are supposed to know W 2023  CH EN 479<br>(Section 002) 18638190376     Dr. Guymon is an<br>excellent professor and has a lot to offer to the<br>university. He deeply understands concepts,<br>patiently works with students and helps answer<br>questions without immediately giving the answer,<br>and has a positive view on life/how chemical<br>engineering relates to it. Specifically, Dr.<br>Guymon did an excellent job in bringing in demos<br>almost everyday to class that helped review key<br>chemical engineering concepts. I can tell Dr.<br>Guymon is new and is hesitant in taking authority\"<br>in being a professor. I would recommend a<br>confidence boost. Just remember you have a lot to<br>offer to this university  and you belong here. I<br>think that will give you a good confidence boost<br>that will help you excel in leading a classroom to<br>learn about chemical engineering."
          ],
          [
           "W 2023 CH EN 479 :Dr. Guymon is very fair and communicative of his<br>processes and ideologies - he explains why he does<br>what he does  and invites discussion and<br>collaboration when appropriate."
          ],
          [
           "W 2023 CH EN 479 :I thoroughly enjoyed this class. I appreciated the<br>spiritual thoughts  your sincerity and respect<br>and the physical demonstrations for the quizzes. I<br>think that it would be helpful to get a better<br>rubric breakdown of what exactly needs to be in an<br>assignment. Sometimes I felt that the feedback I<br>got an assignment  while helpful and instructive<br>was not about something that I knew to include<br>from the rubric or assignment specifications. I<br>also appreciated all of the extra credit. I<br>appreciated being able to come to class and show<br>up  and not have to stress about getting every<br>assignment absolutely perfect in order to get an<br>A."
          ],
          [
           "W 2023 CH EN 479 :Dr. Guymon is an amazing teacher. He is very smart<br>and conveys ideas well. He is very patient and<br>understanding. He recognized some of his mistakes<br>and corrected them swiftly. He was very gracious<br>and understanding of our mistakes as well. He took<br>time to care about his student and show us he<br>cared about us. After 1 class with him he became<br>one of my favorite professors and I am graduating.<br>He is an incredible professor."
          ],
          [
           "W 2023 CH EN 479 :I loved taking this course from you. You were kind<br>appreciative of feedback  open to giving help  and<br>understanding our challenges. I appreciated how<br>you made an emphasis on our spiritual nature and<br>other things beyond the technical. Thank you for<br>everything that you taught me!"
          ],
          [
           "F 2022 CH EN 345 :He was always willing to help students who were<br>confused"
          ],
          [
           "F 2022 CH EN 345 :He seemed to really care about our successes in<br>the labs."
          ],
          [
           "F 2022 CH EN 345 :He is a great example and shared with us his<br>faith."
          ],
          [
           "F 2022 CH EN 345 :I liked the aspect of some experiments not being<br>clearly defined or having some issue that we had<br>to think through with no clear answer."
          ],
          [
           "F 2022 CH EN 345 :I feel I spent more time than usual on pre-labs.<br>But I sensed I was much more prepared for the lab<br>and was able to enjoy the learning experience much<br>more."
          ],
          [
           "F 2022 CH EN 345 :It''s extremely helpful to apply the equations we<br>are doing in class. I loved this lab."
          ],
          [
           "F 2022 CH EN 345 :I like Professor Guymon. He is passionate about<br>student''s learning. He was a great addition to<br>the lab class where professors have typically been<br>fairly apathetic about student success. I think he<br>just needs a bit more experience teaching and<br>being in the department so he can take over fully."
          ],
          [
           "F 2022 CH EN 345 :I really liked Dr. Guymon  he is super helpful and<br>respectful"
          ],
          [
           "F 2022 CH EN 345 :He was awesome! Super friendly and approachable. I<br>was impressed with his quick learning after just<br>taking over the labs."
          ],
          [
           "F 2022 CH EN 345 :Dr. Guymon is extremely helpful and patient with<br>his students. I was always appreciative of his<br>approach to helping us learn and his instruction<br>in the class room. He was fantastic in the lab and<br>I greatly appreciated all that he did."
          ],
          [
           "F 2022 CH EN 345 :Overall it was pretty good. At times  though  it<br>felt a little unorganized (the instructions for<br>the labs weren''t always very clear and it was<br>hard to get good results for some of the labs)."
          ],
          [
           "F 2022 CH EN 345 :I think Dr. Guymon is so nice and always willing<br>to help in the lab and explain things."
          ],
          [
           "F 2022 CH EN 345 :Awesome class  Dr. Guymon was super personable and<br>able to help in all issues that arose."
          ],
          [
           "F 2022 CH EN 345 :Lab instructions are often incorrect. The CSTR<br>carts were pretty cool. It would be cool if we<br>actually tried to design a cstr system or batch<br>system or pfr system. Kind of like Ochem lab but<br>designing a process that produced something<br>continuously on the small scale."
          ],
          [
           "F 2022 CH EN 345 :Dr. Guymon is awesome  he is attentive and<br>responsive to students'' questions and issues."
          ],
          [
           "F 2022 CH EN 345 :Very good."
          ],
          [
           "F 2022 CH EN 345 :Sometimes we''d be struggling with how some<br>equipment worked and he''d be able to explain it."
          ],
          [
           "F 2022 CH EN 345 :I saw developments in the course as the semester<br>progressed that addressed previous shortfalls in<br>the way the labs were structured."
          ],
          [
           "F 2022 CH EN 345 :Very good."
          ],
          [
           "F 2022 CH EN 345 :He always tried to listen to my needs and was<br>willing to help."
          ],
          [
           "F 2022 CH EN 345 :Always available and was very knowledgeable."
          ],
          [
           "F 2022 CH EN 345 :Okay  this is relevant  we all needed help at some<br>point and he was always happy to help us."
          ],
          [
           "F 2022 CH EN 345 :I didn''t usually need help but when I did  there<br>was always availability and thought put into the<br>answer to help progress my learning"
          ],
          [
           "F 2022 CH EN 345 :He would walk around the classroom and ask<br>additional questions  solidifying our<br>comprehension and furthering our participation."
          ],
          [
           "F 2022 CH EN 345 :I can tell he values the insight and opinions of<br>his students. He realizes that subjective things<br>are subjective."
          ],
          [
           "F 2022 CH EN 345 :Very good"
          ],
          [
           "F 2022 CH EN 345 :Was always kind and soft spoken"
          ],
          [
           "F 2022 CH EN 345 :Very respectful in both approach and mannerisms"
          ],
          [
           "F 2022 CH EN 345 :Dr. Guymon did a good job at providing an<br>environment that was spiritually strengthening."
          ],
          [
           "F 2022 CH EN 345 :Dr. Wheeler did a good job at providing an<br>environment that was spiritually strengthening."
          ],
          [
           "F 2022 CH EN 345 :Dr. Guymon did a good job at providing an<br>environment that was intellectually enlarging."
          ],
          [
           "F 2022 CH EN 345 :Dr. Wheeler did a good job at providing an<br>environment that was intellectually enlarging."
          ],
          [
           "F 2022 CH EN 345 :Labs are great."
          ],
          [
           "F 2022 CH EN 345 :Labs are good learning environments."
          ],
          [
           "F 2022 CH EN 345 :Dr. Guymon did a good job at providing advice to<br>building my character."
          ],
          [
           "F 2022 CH EN 345 :Dr. Wheeler did a good job at providing an<br>environment that conducive to building character."
          ],
          [
           "F 2022 CH EN 345 :Dr. Guymon is a good example of this in his own<br>life and it trickles down."
          ],
          [
           "F 2022 CH EN 345 :Dr. Wheeler is a good example of service."
          ],
          [
           "F 2022 CH EN 345 :Dr. Guymon is extremely kind and personable. From<br>his first day  he was very comfortable to talk to<br>as I could instantly tell he cared about me as a<br>person. He is always helpful and knowledgeable."
          ],
          [
           "F 2022 CH EN 345 :Very friendly and approachable. Whenever I was<br>confused I was easily able to approach him and<br>learn what I needed to."
          ],
          [
           "F 2022 CH EN 345 :Great to talk to  helpful  really approachable"
          ],
          [
           "F 2022 CH EN 345 :no comments  course was great"
          ],
          [
           "F 2022 CH EN 345 :He was always helpful and kind and somehow was<br>able to remember everyone''s names."
          ],
          [
           "F 2022 CH EN 345 : the course was good and I know they are making<br>improvements on the labs."
          ],
          [
           "F 2022 CH EN 345 :Dr. Guymon and Dr. Wheeler are awesome and very<br>helpful! They help a lot to learn what is<br>happening in the lab and why it works the way it<br>does."
          ],
          [
           "F 2022 CH EN 345 :Dr Guymon is an amazing addition to the faculty in<br>the ChemE department. He can explain the topics<br>behind the labs in amazing simplicity and really<br>cares about the students."
          ],
          [
           "F 2022 CH EN 345 :Provided excellent assistance when it was required<br>and looked for opportunity to help students out or<br>converse. Overall  did very well and was very<br>likeable."
          ],
          [
           "F 2022 CH EN 345 :Dr. Guymon has improved my learning by helping me<br>with course work and being available out side of<br>the classroom. he has enriched my classroom<br>experience by helping me learn what will happen<br>based on a hypothesis"
          ],
          [
           "F 2022 CH EN 345 :Always very good at answering questions and<br>resolving problems"
          ],
          [
           "F 2022 CH EN 345 :Explained well what I had questions about."
          ],
          [
           "F 2022 CH EN 345 :Helped me understand all the complex lab work"
          ],
          [
           "F 2022 CH EN 345 :Labs were organized in an intuitive manner"
          ],
          [
           "F 2022 CH EN 345 :Dr. Guymon was very willing to answer our<br>questions. On one occasion  we told him we thought<br>there was a mistake in the lab. He spent time<br>outside of lab to redo the lab and confirm<br>corrections that need to be made. It made me feel<br>like my feedback was being taken seriously and I<br>really appreciated the work he put in."
          ],
          [
           "F 2022 CH EN 345 :He was always very kind and willing to help"
          ],
          [
           "F 2022 CH EN 345 :Was in the labs and available to help."
          ],
          [
           "F 2022 CH EN 345 :Helped students often"
          ],
          [
           "F 2022 CH EN 345 :Good lab work"
          ],
          [
           "F 2022 CH EN 345 :There was never a question that was too stupid."
          ],
          [
           "F 2022 CH EN 345 :Very respectful"
          ],
          [
           "F 2022 CH EN 345 :Went around to help students frequently"
          ],
          [
           "F 2022 CH EN 345 :Enhanced"
          ],
          [
           "F 2022 CH EN 345 :Dr. Guymon helped us work through our questions<br>about lab calculations. I particularly though the<br>corrosion lab was interesting and very relevant to<br>what we were studying in materials."
          ],
          [
           "F 2022 CH EN 345 :I really appreciated the opportunity to apply some<br>of the things I learned previously in other<br>classes. Really helped to solidify my learning to<br>see how these things actually work in real life."
          ],
          [
           "F 2022 CH EN 345 :I really appreciated the opportunity to apply some<br>of the things I learned previously in other<br>classes. Really helped to solidify my learning to<br>see how these things actually work in real life."
          ],
          [
           "F 2022 CH EN 345 :Helped with labs and explained how things worked."
          ],
          [
           "F 2022 CH EN 345 :Learned more about materials and chemical reaction<br>engineering"
          ],
          [
           "F 2022 CH EN 345 :Enhanced"
          ],
          [
           "F 2022 CH EN 345 :For the most part we are expected to figure out<br>how the lab works  which was sometimes difficult<br>but was definitely enabling and provided<br>opportunities for leadership development and<br>character building."
          ],
          [
           "F 2022 CH EN 345 :For the most part we are expected to figure out<br>how the lab works  which was sometimes difficult<br>but was definitely enabling and provided<br>opportunities for leadership development and<br>character building."
          ],
          [
           "F 2022 CH EN 345 :Enhanced"
          ],
          [
           "F 2022 CH EN 345 :Good example of service."
          ],
          [
           "F 2022 CH EN 345 :Enhanced"
          ],
          [
           "F 2022 CH EN 345 :Enhanced"
          ],
          [
           "F 2022 CH EN 345 :Fun and quick lab! Went along with what I was<br>learning very well. Always willing to help."
          ],
          [
           "F 2022 CH EN 345 :Course and instructors were great."
          ],
          [
           "F 2022 CH EN 345 :Very kind and soft-spoken!"
          ],
          [
           "F 2022 CH EN 345 :Dr. Gurmon was great to take a lab class from.<br>There were a few things that were incorrect about<br>the labs  and Dr. Guymon made sure to correct<br>them. He stayed after class several times to help<br>my group work though either mistakes in the lab or<br>confusions we had about calculations. I really<br>appreciated this."
          ],
          [
           "F 2022 CH EN 345 :he was always very nice and helpful"
          ],
          [
           "F 2022 CH EN 345 :Professor Guymon was very kind and helpful<br>throughout the semester."
          ],
          [
           "F 2022 CH EN 345 :I really liked working with Dr Guymon. He was<br>always very kind and helpful and would frequently<br>check with us to see how we were doing with the<br>lab and also ask about how we were doing with<br>other classes and with life in general."
          ],
          [
           "F 2022 CH EN 345 :Helpful and kind."
          ],
          [
           "F 2022 CH EN 345 :I think Dr. Guymon was super helpful in<br>investigating labs that weren''t super clear. He<br>was willing to redo labs with us to help us<br>understand why we couldn''t get the right values."
          ],
          [
           "F 2022 CH EN 345 :He was always helped us answer questions  and when<br>we had any concerns about the lab he would do<br>additional research to help us know what was going<br>on."
          ],
          [
           "F 2022 CH EN 345 :Cool to see things happen that we learned about."
          ],
          [
           "F 2022 CH EN 345 :Some of the labs in this class were a little on<br>the longer side but were balanced out in a way by<br>some labs being much shorter. Overall  it was<br>better balanced than some labs I''ve been in."
          ],
          [
           "F 2022 CH EN 345 :Most labs had a short pre-lab that could be<br>completed within 15 minutes. I appreciated the<br>warning about longer pre-labs. I could finish 95%<br>of labs in class and turn it in at the end. This<br>lab was the perfect length."
          ],
          [
           "F 2022 CH EN 345 :Materials labs don''t take too much time the first<br>few CRE labs were sometimes just took a bit more<br>time"
          ],
          [
           "F 2022 CH EN 345 :Dr. Guymon was awesome! He did a great job of<br>explaining concepts and digging deeper into the<br>labs. I feel like I learned a lot whenever I was<br>able to work with him. I would love to be exposed<br>to more of his industry experiences."
          ],
          [
           "F 2022 CH EN 345 :Yeah Dr. Guymon! You killed it in your first<br>semester! Thank you for showing me how you<br>calibrated the data for the CSTR labs. That was<br>cool to see the behind-the-scenes. I loved the<br>labs. It was fun to mess around with a real CSTR<br>and PFR  as well as see material properties in<br>action. I especially loved the corrosion labs  as<br>it helped solidify corrosion principles in my<br>head. I think a little bit more explanation on the<br>pressure relief valve lab would be great. On<br>question 3 of Lab 9  there was a question about<br>finding the time it takes for the pressure relief<br>valve to close. There were so many equations in<br>the tank blowdown math packet that we got lost and<br>didn''t know which ones to use. It took a lot of<br>TA help  and even then  it was hard to know what<br>to do. Some more explanation would be good! Other<br>than that  the labs were fair and exciting. I<br>enjoyed them all. This class was a fun one to come<br>to."
          ],
          [
           "F 2022 CH EN 345 :I really like Dr. Guymon! He was nice and very<br>helpful"
          ],
          [
           "F 2022 CH EN 345 :Thank you for showing that you want to help us and<br>that you want to make this course have the work<br>load of a .5 credit course."
          ],
          [
           "F 2022 CH EN 345 :Always nice and willing to help"
          ],
          [
           "F 2022 CH EN 479 :Most of the organization of the course from what I<br>can tell was already done by Dr. Knotts."
          ],
          [
           "F 2022 CH EN 479 :Dr. Guyman was always willing to look at a problem<br>or a question and has the understanding to be able<br>to suggest a solution and teach a principle."
          ],
          [
           "F 2022 CH EN 479 :Dr Guymon was always eager to help us out when he<br>was in class with us."
          ],
          [
           "F 2022 CH EN 479 :Sometimes it would be nice to have more spiritual<br>thoughts in class. Dr. Knotts does include some<br>and always opens with a prayer which I think is<br>great!"
          ],
          [
           "F 2022 CH EN 479 :This class was a good review of fluid mechanics<br>reactor engineering  and heat transfer concepts."
          ],
          [
           "F 2022 CH EN 479 :This class was a good review of fluid mechanics<br>reactor engineering  and heat transfer concepts."
          ],
          [
           "F 2022 CH EN 479 :Very good at keeping the material self-contained<br>although 3 hours in a single location can sometime<br>feel a little stifling but I guess it could<br>potentially be good workplace preparation"
          ],
          [
           "F 2022 CH EN 479 :It was rare we had to do work for this class<br>outside of the 6 hours of class time a week. Zero<br>is the result of the average rounded to the<br>nearest integer."
          ],
          [
           "F 2022 CH EN 479 :Gonna be a great professor"
          ],
          [
           "F 2022 CH EN 479 :A really wonderful addition to ChemE! He had some<br>excellent connections from industry experience. I<br>think most of his work was behind the scenes for<br>UO lab but I really appreciated the insights he<br>would direct our attention to."
          ],
          [
           "F 2022 CH EN 479 :Dr. Guymon is open and encouraging. I have<br>appreciated the insight offered on career paths<br>and life goals."
          ],
          [
           "F 2022 CH EN 479 :Dr. Guymon is amazing."
          ],
          [
           "F 2022 CH EN 479 :Dr. Guymon was a source of knowledge and advice<br>while working on projects in this class. While<br>most of the teaching was done by Dr. Knotts  Dr.<br>Guymon was almost always available during class<br>time to answer questions and provide support."
          ],
          [
           "F 2022 CH EN 479 :Dr. Guymon was a great instructor  he was very<br>helpful and kind when we had questions."
          ]
         ],
         "hovertemplate": "Sentiments=positive<br>tsne_x=%{x}<br>tsne_y=%{y}<br>feedback=%{customdata[0]}<extra></extra>",
         "legendgroup": "positive",
         "marker": {
          "color": "#EF553B",
          "symbol": "circle"
         },
         "mode": "markers",
         "name": "positive",
         "showlegend": true,
         "type": "scattergl",
         "x": [
          0.70206356,
          0.3624401,
          3.671039,
          -5.097356,
          -2.1702561,
          -1.4275832,
          -0.8106048,
          2.269519,
          -2.4100716,
          -1.6512345,
          -1.1726298,
          1.5524074,
          2.001449,
          2.1060467,
          2.4328935,
          4.2644787,
          7.308835,
          7.128149,
          1.6434758,
          -3.104229,
          -3.7480302,
          4.221113,
          -1.981174,
          3.916298,
          1.6969177,
          0.22500104,
          3.0870824,
          6.4757214,
          6.646576,
          5.608725,
          6.9146814,
          6.7544665,
          6.694338,
          6.757905,
          6.6184816,
          4.0213614,
          -3.5855315,
          -3.5304167,
          7.785045,
          -2.9696908,
          -4.1143837,
          2.4317713,
          3.9078507,
          5.7178073,
          1.2912874,
          -5.179026,
          -0.7534788,
          -1.0007466,
          -2.779566,
          -0.54193246,
          -0.45336178,
          -2.4064841,
          4.6308675,
          -3.0621526,
          -0.67838216,
          6.374514,
          2.1117709,
          2.290518,
          -5.1049285,
          6.967238,
          6.95574,
          5.0546746,
          5.7817807,
          5.438801,
          6.658753,
          6.368126,
          -0.093649305,
          -5.3871017,
          -4.2308474,
          -5.9230995,
          5.1716123,
          5.0091224,
          6.660823,
          -6.0986605,
          5.22158,
          -5.230193,
          -4.3330226,
          -8.466644,
          -2.3434758,
          -8.003129,
          3.5260148,
          5.524087,
          6.232679,
          1.8871506,
          -6.174968,
          -7.504057,
          -7.021097,
          -8.442238,
          3.2813425,
          8.550436,
          2.5852098,
          5.041572,
          7.780584,
          5.54448,
          -3.7971952,
          -3.818981,
          -3.0785303,
          -6.4877977,
          -8.442269,
          -3.2491994,
          -5.064667,
          -2.4373674,
          -8.442269,
          -3.7468584,
          -8.5340395,
          -6.1279144,
          -6.884024,
          -4.3021617,
          0.059797484,
          6.3331904,
          5.2647696,
          -4.692051,
          -5.7755175,
          5.137008,
          4.6648498,
          5.5915203,
          0.27439302,
          3.2716656,
          4.63021,
          2.99077,
          1.43467,
          -7.282686,
          0.22432268,
          4.6720943,
          5.111367,
          5.4759803,
          7.9703074,
          6.2906213,
          5.731597,
          -2.431545,
          -6.5687013,
          7.9703074,
          0.28182325,
          -6.027174,
          4.2291703,
          5.4965134,
          -6.501578,
          -3.396903,
          4.4320154,
          -4.4567027,
          6.29751,
          4.635257,
          -3.4448442,
          -7.250373,
          2.6113982,
          -8.169865,
          -2.1788473,
          5.1817226,
          2.2738492,
          6.1776385,
          -0.49698076,
          -7.4967113,
          6.720927,
          4.0644603,
          6.4844713,
          6.309642,
          6.2993946,
          6.2288613,
          7.0075164,
          5.9378357,
          4.3901176,
          2.901862,
          7.794914,
          -6.951701,
          5.0892305,
          -10.06054,
          5.667739,
          -7.507477,
          -5.258476,
          -8.073,
          5.6837344,
          -5.1455536,
          5.4496846,
          -5.2121706,
          3.7963138,
          5.8599477,
          5.401774,
          -5.385796,
          -1.6536505,
          7.6621256,
          1.4336977,
          1.1085453,
          -2.1895256,
          -7.8271413,
          -7.042542,
          -8.469592,
          5.0386243,
          -5.699486,
          -7.7285833,
          -6.5636,
          -3.463947,
          -2.6372187,
          5.9513736,
          -1.0549775,
          7.840377,
          -2.743847,
          -5.4820185,
          -5.819041,
          0.6993083,
          8.110157,
          2.8032432,
          2.3589945,
          3.1314058,
          3.660287,
          -3.6781964,
          5.9434795,
          7.9741087,
          2.137465,
          5.8026133,
          8.267443,
          6.682037,
          5.7476993,
          -1.6795182,
          -3.6990774,
          -6.194669,
          8.468287,
          -3.9207113,
          8.331327,
          5.846176,
          3.481141,
          5.219562,
          -6.809601,
          -1.2604597,
          -4.6182547,
          -2.7902405,
          -5.6930428,
          4.331265,
          -5.7758923,
          -5.8874927,
          2.7172008,
          0.478179,
          4.8440456,
          -1.0775832,
          -2.1606307,
          4.661045,
          1.0378795,
          6.0283403,
          3.501361,
          -3.6621764,
          -6.881461,
          -5.667133,
          -3.8665578,
          -6.4394984,
          -4.3491974,
          -4.8686023,
          4.652776,
          6.1518664,
          -5.6399117,
          4.783934,
          -5.3301177,
          4.746065,
          -6.7724137,
          -2.6714444,
          -6.0389147,
          -6.841872,
          -4.758394,
          -4.0802097,
          -5.6557336,
          -2.1403012,
          -5.7560186,
          -2.0450468,
          6.681836,
          5.19327,
          2.4309664,
          7.091094,
          -7.5093894,
          -7.0800433,
          4.1640854,
          -2.0070927,
          -7.501079,
          6.4008207,
          1.0702974,
          6.985865,
          6.0922775,
          7.1683774,
          -5.7849216,
          -8.659562,
          -5.3779707,
          -6.484239,
          -3.1340563,
          -5.4485416,
          -8.0760355,
          1.2948761,
          -6.080257,
          -3.9145927,
          -4.2646127,
          1.2928524,
          -3.967334,
          -2.1060958,
          5.266067,
          -6.0110946,
          -2.003428,
          5.580419,
          -4.1165195,
          -1.3035804,
          4.595722,
          3.907314,
          0.8883879,
          5.0891027,
          5.012513,
          -9.06511,
          3.3766248,
          -2.1270094,
          -1.4049666,
          -1.7134695,
          -0.78776854,
          -1.6741714,
          -1.4276015,
          -2.1907935,
          -2.0107262,
          -3.5516465,
          2.9846632,
          -3.5562122,
          -0.51483196,
          -2.153273,
          2.7300913,
          6.1518664,
          -1.3555058,
          -4.444928,
          1.7067306,
          2.1925786,
          6.9214077,
          1.7293957,
          2.0512385,
          6.639422,
          2.569482,
          5.229849,
          2.9806688,
          2.650944,
          3.5071876,
          6.8898973,
          2.3461957,
          6.9941316,
          2.4425788,
          1.6934685,
          4.0469947,
          2.2552087,
          6.42525,
          1.8318404,
          2.6388302,
          1.8504438,
          2.3787239,
          6.5594034,
          -4.4758964,
          -0.5702492,
          -3.0345008,
          2.7310576,
          -6.9587607,
          -4.0889854,
          -7.018857,
          5.044041,
          -2.4187448,
          -7.1227117,
          4.6755805,
          -1.46742,
          -1.3743131,
          -0.35361037,
          -2.5436127,
          2.388974,
          3.4628081,
          8.276725,
          0.5991146,
          7.0114827,
          3.0525687,
          3.0112426,
          7.968147,
          8.412644,
          4.4962373,
          2.6953156,
          0.66572094,
          5.891103,
          9.136247,
          4.112588,
          2.0504165,
          6.729678,
          5.4872885,
          2.197253,
          6.8196607,
          4.921182,
          3.9041328,
          6.7201076,
          6.818086,
          6.0283313,
          5.469158,
          5.7353597,
          6.956591,
          4.9473596,
          7.7291646,
          8.137985,
          7.120945,
          6.669729,
          5.9192953,
          6.6557937,
          6.8510685,
          5.77147,
          6.3493276,
          6.7492857,
          6.372829,
          6.2105145,
          6.6586323,
          7.7260504,
          6.3551836,
          5.098434,
          6.7062488,
          5.096083,
          6.966759,
          4.347503,
          7.444129,
          7.561296,
          7.0340366,
          6.86467,
          7.6176553,
          5.9125447,
          -4.203291,
          -5.1128006,
          -4.0485616,
          -2.8253894,
          -3.9547262,
          -4.787545,
          -1.2834113,
          4.511565,
          -4.191949,
          -1.0327716,
          -2.826582,
          -4.554973,
          -2.8976202,
          -5.038575,
          4.7814894,
          -3.7813292,
          -3.6259465,
          -3.7321002,
          -3.6802394,
          5.5319014,
          -1.2454876,
          -3.8957615,
          7.096074,
          -3.64067,
          -4.5701833,
          -3.1819253,
          3.5187697,
          -3.6904151,
          -5.069253,
          4.133307,
          8.590114,
          -4.1664114,
          -5.1478467,
          -3.759581,
          -3.623379,
          -4.77773,
          -5.2144065,
          -1.5126164,
          -5.359545,
          -3.966624,
          -5.980349,
          -3.384537,
          5.6450286,
          3.9808683,
          5.169527,
          3.8066006,
          4.288834,
          5.8181205,
          4.945227,
          6.0194225,
          5.5406137,
          4.7627783,
          -1.6309705,
          -3.056809,
          2.5872216,
          4.225805,
          -4.054283,
          5.747111,
          3.7400854,
          4.617116,
          -2.1748106,
          4.796645,
          -2.1119976,
          -2.1423733,
          5.718143,
          5.992493,
          7.9193754,
          4.8733478,
          -1.915828,
          4.7644706,
          0.26841497,
          1.7144364,
          2.7311969,
          4.40251,
          -1.69827,
          1.068461,
          4.66618,
          6.4243913,
          7.3452625,
          6.4940057,
          8.311758,
          7.5356345,
          8.008585,
          -1.8880799,
          -6.244151,
          4.77243,
          6.734459,
          5.3075285,
          -7.196798,
          -1.1663086,
          5.6452127,
          6.1344156,
          3.4538708,
          5.4967675,
          6.3505435,
          2.1653936,
          -7.260332,
          5.731976,
          5.7461,
          -3.42891,
          0.5818582,
          -3.361837,
          4.91032,
          4.456638,
          -1.9473139,
          -1.6655465,
          -1.6831148,
          -2.1705832,
          6.856026,
          -2.0652514,
          4.958098,
          1.5422965,
          7.25739,
          8.409825,
          1.8509771,
          6.405448,
          3.4620566,
          3.5508296,
          5.5073824,
          -0.07776646,
          -3.7177496,
          3.0803719,
          5.635052,
          -0.89375293,
          -5.0744166,
          2.2385905,
          3.4214196,
          4.5946794,
          7.7370863,
          6.785704,
          6.134163,
          0.37892652,
          6.855041,
          6.9327083,
          6.4581532,
          6.7150097,
          7.6752086,
          6.4323144,
          7.105664,
          6.246825,
          7.2122154,
          7.1692243,
          -4.13254,
          -2.8072639,
          -3.48767,
          -4.2908154,
          -4.004773,
          -2.7821608,
          -1.3552656,
          -2.7489402,
          -1.8907624,
          -3.4090583,
          -3.3597035,
          -4.159036,
          4.2246346,
          -3.08897,
          -3.5982013,
          -4.814061,
          -3.1616688,
          -2.797965,
          6.921117,
          -3.6914856,
          -4.335932,
          -3.9218662,
          -6.849712,
          5.5754848,
          4.9554186,
          1.0645899,
          4.0420456,
          5.418089,
          5.286216,
          -2.4009745,
          7.032673,
          4.643485,
          -1.4331368,
          -4.4016747,
          0.014189457,
          -3.3194768,
          -0.34053305,
          -0.7412768,
          -0.28572232,
          0.3773134,
          6.68658,
          -1.33968,
          -2.5040166,
          -3.2956595,
          -0.21325965,
          -1.2446731,
          0.074854374,
          5.616308,
          2.8802838,
          1.5291387,
          2.7224061,
          2.5233374,
          2.9295657,
          5.266984,
          -2.5730426,
          0.712733,
          5.288046,
          1.6721016,
          5.1826468,
          4.571373,
          3.921865,
          2.5094926,
          3.8207982,
          6.541413,
          6.438853,
          7.2662196,
          6.2084956,
          5.341278,
          -2.2438326,
          -2.8358765,
          -4.65805,
          1.1216766,
          -2.7817268,
          -5.2005644,
          4.5389595,
          -0.7408323,
          7.1010957,
          2.0798225,
          6.0460076,
          -2.7217324,
          6.1057963,
          -1.7577494,
          2.034208,
          8.326382,
          -1.2637509,
          5.8266788,
          -9.280969,
          3.2527783,
          8.564289,
          2.3700252,
          -8.025254,
          -7.768909,
          3.3136144,
          7.313005,
          4.6982946,
          5.606995,
          7.9062324,
          -3.56674,
          -3.440312,
          -5.9544196,
          -6.4336114,
          -5.4048495,
          -3.2370517,
          4.0538015,
          5.8589835,
          -4.8040137,
          5.802759,
          8.392247,
          0.17681964,
          -5.5857916,
          5.1047807,
          -5.9745784,
          -7.042316,
          1.0319647,
          -9.140074,
          3.8379314,
          6.8397455,
          -7.067051,
          -7.6915894,
          -4.915306,
          -6.9264655,
          -8.00116,
          -5.1665173,
          -5.279227,
          -1.0670356,
          5.924732,
          -7.100681,
          -1.786246,
          1.5175118,
          8.357368,
          -6.224207,
          8.357335,
          -4.3692026,
          8.357335,
          0.58204985,
          3.1960366,
          8.357365,
          -6.8735147,
          -7.102247,
          8.357335,
          1.8675615,
          8.357335,
          10.374374,
          -1.5324498,
          5.1923485,
          8.357335,
          10.374391,
          -4.180729,
          -2.4480615,
          8.357335,
          10.3744135,
          -5.481399,
          -5.6123133,
          -5.624185,
          -6.102419,
          8.357368,
          10.374391,
          -3.2287762,
          -4.2017193,
          -2.3891976,
          5.7956667,
          -0.8518577,
          -5.3447304,
          6.315919,
          -6.016104,
          -0.89524907,
          2.8223085,
          -8.107771,
          2.8223085,
          0.79935014,
          2.8223085,
          -9.898892,
          2.8222444,
          5.565371,
          2.8222444,
          2.8973677,
          -5.5119843,
          -5.5119815,
          2.8973677,
          2.8973918,
          -5.331011,
          -5.331011,
          2.8973677,
          3.0931673,
          -1.8303467,
          -6.4880133,
          -2.0209143,
          2.2933908,
          2.3181422,
          3.7597544,
          3.3280387,
          -4.403029,
          -6.204149,
          -4.6137223,
          -2.7409465,
          -5.6701436,
          -2.4389122,
          -2.5333862,
          -3.8809536,
          -6.0760446,
          -0.11596249,
          4.831353,
          8.355813,
          -2.122501,
          -0.66673,
          4.496086,
          -5.2867827,
          5.852433,
          1.8396357,
          6.5146008,
          -6.3343806,
          -5.419319,
          3.1978662,
          -6.4109364,
          6.135135,
          -2.4379034,
          -5.8047814,
          -6.624802,
          -4.725651,
          -3.6642566,
          -6.1458926,
          2.0258381,
          5.9064665,
          3.0922368,
          -5.5577965,
          6.5898213,
          -2.4845598,
          7.313833,
          -7.23791,
          -6.149616,
          6.3774266,
          4.960832,
          3.3593361,
          1.940003,
          1.3482865,
          -4.641721,
          3.268747,
          0.65717983,
          1.1843431,
          -7.9418135,
          3.9918673,
          1.6607319,
          -10.082171,
          -10.082171,
          0.51384145,
          -1.7854025,
          -6.644321,
          -6.644321,
          -6.9507713,
          1.9423215,
          1.9423453,
          -8.9204855,
          -8.920499,
          -5.045479,
          -4.0588875,
          3.7378464,
          6.464001,
          0.4786404,
          -5.676067,
          8.357335,
          -0.058410853,
          -0.47902596,
          8.357335,
          0.34972763,
          -5.4208794,
          8.357368,
          1.6052831,
          1.5523894,
          8.357335,
          0.7620938,
          -4.6592646,
          8.357335,
          4.567324,
          2.6625195,
          8.357335,
          2.5535145,
          5.4757795,
          8.357335,
          2.5534866,
          0.4439767,
          8.274991,
          1.8710138,
          8.357335,
          2.553489,
          7.602005,
          -5.6209598,
          -5.6209774,
          8.357335,
          2.553489,
          -3.213987,
          -3.149348,
          -6.849542,
          0.8143791,
          5.1603417,
          5.915893,
          4.3503323,
          5.856101,
          0.35513726,
          -0.100415714,
          -0.058392175,
          -4.7373395,
          -1.2087559,
          -0.78776854,
          0.34972763,
          -2.4009194,
          7.8277884,
          1.054784,
          1.0578092,
          6.693872,
          3.2408905,
          1.6052831,
          3.229254,
          -2.9719567,
          0.51345783,
          6.3555274,
          -1.8849896,
          0.60819334,
          1.1060716,
          6.0652375,
          6.7903585,
          4.7052927,
          4.567324,
          7.7453747,
          4.401251,
          5.290133,
          6.767719,
          5.415444,
          6.609374,
          5.4757786,
          5.6758466,
          -4.0118394,
          -4.428413,
          5.4662757,
          -0.9844317,
          -1.0548464,
          0.4439767,
          -2.1155045,
          -6.1550727,
          2.748505,
          7.6382494,
          7.602018,
          -3.2225199,
          4.818438,
          -6.1789865,
          -5.8730416,
          -5.110835,
          1.4762888,
          5.2336016,
          4.9547544,
          5.6680665,
          6.01097,
          4.685302,
          4.692562,
          7.6982274,
          -1.6483834,
          5.915893,
          -1.8823634,
          2.7503784,
          0.730422,
          5.7699137,
          -6.6190667,
          -6.78592,
          -6.5138288,
          5.349221,
          8.380105,
          0.57001317,
          5.80399,
          -5.611731,
          6.1334324,
          5.384976,
          -8.2808275,
          6.1490273,
          5.6208844,
          1.0455662,
          -4.891456,
          5.6208844,
          3.1684926,
          2.7184882,
          3.3175278,
          1.27893,
          1.2185444,
          1.7900765,
          5.658894,
          4.9271593,
          4.819922,
          7.4739804,
          3.9741359,
          6.766504,
          3.8044508,
          -10.084457,
          -8.951897,
          8.693429,
          3.86649,
          8.015675,
          3.972774,
          8.098298,
          2.1070166,
          3.0047803,
          -1.6417658,
          3.7324688,
          -4.1958756,
          6.1705904,
          5.960462,
          2.231738,
          5.7515907,
          2.643111,
          0.5509373,
          -0.3327792,
          -8.106539,
          5.7391543,
          3.6498377,
          0.6692972,
          2.8696082,
          -10.537932,
          1.8701409,
          5.0546603,
          2.9142258,
          -3.3099146,
          5.7520685,
          -3.548469,
          -3.548469,
          -0.0036717353,
          -5.8713317,
          -3.3099146,
          -8.085313,
          -8.085253,
          -3.3099146,
          4.4556704,
          -3.3099146,
          -3.3099146,
          -5.8203135,
          -1.9861774,
          4.9982786,
          5.4319644,
          3.6628735,
          5.803301,
          5.8712564,
          3.8403158,
          6.993244,
          0.7333912,
          -2.3330345,
          -5.7184834,
          -6.6764436,
          -7.4732575,
          5.8235536,
          3.9409554,
          8.30979,
          -4.0141993,
          3.363906,
          1.3279196,
          7.5902843,
          6.6593256,
          2.0435948,
          -5.0324306,
          -5.0324492,
          -3.1252913,
          -5.943565,
          2.557576,
          2.4156818,
          7.3757586,
          8.366645,
          5.3357196,
          5.5259013
         ],
         "xaxis": "x",
         "y": [
          1.5075346,
          0.4866923,
          -4.4428086,
          1.4147893,
          0.5286033,
          1.3813527,
          0.47010258,
          0.77492,
          -0.12993716,
          0.95778877,
          1.0567186,
          4.725936,
          2.3767176,
          2.3991718,
          3.186984,
          -2.758497,
          -5.3700533,
          -5.356275,
          1.3677969,
          0.08809413,
          -5.4470053,
          -2.814254,
          -0.18251169,
          4.764651,
          1.1520655,
          1.1607529,
          2.2773843,
          0.87441146,
          1.1771635,
          1.1599556,
          1.1362697,
          1.1221714,
          1.1088204,
          -2.5331888,
          0.9365189,
          1.2275696,
          5.33044,
          5.3125787,
          -3.9881668,
          1.664869,
          4.911869,
          1.3449805,
          2.9856582,
          3.9003036,
          1.4915273,
          -5.1261683,
          1.2138753,
          0.44215775,
          0.695214,
          0.57325125,
          0.17796512,
          1.9638141,
          -4.401186,
          0.8136899,
          -0.30120605,
          -4.827966,
          4.84901,
          3.0572095,
          1.7509935,
          -6.175702,
          -4.586104,
          5.298052,
          6.095057,
          1.3498751,
          0.736691,
          2.785182,
          1.8479252,
          5.3215556,
          5.738606,
          3.356539,
          -4.860941,
          -3.8431957,
          -6.7902374,
          -0.9714732,
          -4.645376,
          -0.90478563,
          1.446399,
          0.002226506,
          0.5282395,
          1.2614682,
          3.082341,
          6.7722583,
          -4.722258,
          2.5023441,
          -0.015278623,
          1.941409,
          0.40902972,
          0.7208315,
          2.9371555,
          -5.336377,
          4.986792,
          0.16757731,
          -3.202321,
          -0.1401264,
          2.3859534,
          1.138624,
          5.5809445,
          -0.11688227,
          0.7208254,
          2.4152844,
          3.9117868,
          2.8252504,
          0.7208254,
          2.8923762,
          1.2822869,
          -3.1446772,
          -1.7601731,
          0.44303355,
          1.324668,
          -3.3700545,
          -5.1123996,
          0.04680164,
          2.8124435,
          7.4743757,
          6.3590956,
          6.8070135,
          2.2917461,
          5.1858983,
          7.4529433,
          5.277383,
          4.264395,
          0.6031226,
          4.772467,
          4.988724,
          5.283635,
          0.09203061,
          -2.8974378,
          -2.997668,
          3.2862866,
          5.4344883,
          0.06712992,
          -2.8974378,
          4.7710905,
          4.8080673,
          1.6692563,
          3.1386101,
          2.377408,
          4.826377,
          -2.9929302,
          -0.39151704,
          -6.0567746,
          -4.031129,
          -6.096067,
          0.13342717,
          4.966277,
          0.74895716,
          3.1451564,
          5.4345965,
          2.5393708,
          -1.9568228,
          2.389337,
          0.036911584,
          -4.3701196,
          -3.8247762,
          -6.052161,
          -4.641464,
          -4.424705,
          -5.645986,
          -5.1110315,
          -5.9202313,
          -5.525576,
          4.4144435,
          -5.2689443,
          0.3756256,
          5.1393304,
          -0.054506693,
          -0.00042576768,
          2.3019629,
          5.795567,
          2.5420554,
          6.5726066,
          -0.5649162,
          -3.4249952,
          0.8848086,
          -3.1328053,
          -4.4605784,
          -5.849528,
          1.4025987,
          1.0305688,
          -6.4373384,
          4.2845516,
          3.826777,
          3.2399726,
          0.61181945,
          0.5554457,
          0.5902876,
          5.2989135,
          1.8887457,
          1.2663364,
          -2.5619707,
          0.07460697,
          1.2108228,
          -3.3248591,
          2.1622705,
          -4.961625,
          0.14530036,
          -1.8421263,
          -0.3001157,
          -0.25471625,
          -5.6566,
          5.0249753,
          3.0016155,
          4.432144,
          -4.420913,
          1.8391284,
          -4.586325,
          -5.717875,
          0.21320237,
          -3.2474685,
          -3.1852539,
          0.9640308,
          -6.5128055,
          5.1307335,
          6.314444,
          1.9137255,
          -3.2199683,
          7.2602024,
          -3.2422862,
          7.1120863,
          -3.935451,
          4.944732,
          0.32953483,
          0.9779718,
          -0.56830263,
          -0.44779742,
          -0.3059569,
          -4.061732,
          1.5005033,
          0.50099987,
          4.8802843,
          3.0476031,
          -5.5902905,
          3.4673848,
          1.9923247,
          5.1060114,
          5.6161537,
          1.7079518,
          1.5416712,
          1.3703984,
          2.6989737,
          5.436863,
          1.3529695,
          3.6953373,
          -0.2476607,
          0.29001135,
          -4.346627,
          -4.1916757,
          1.4464322,
          -4.0929904,
          1.5664767,
          -4.153759,
          0.45586336,
          0.23358454,
          1.4403471,
          -1.0067773,
          -1.0928997,
          -3.00543,
          -0.6872094,
          0.7411606,
          -0.0059221275,
          1.6730709,
          -6.08195,
          -4.8139396,
          4.0417047,
          -5.5209537,
          0.7595794,
          0.81111366,
          6.101527,
          1.817111,
          3.4313684,
          -4.6848583,
          0.6440307,
          -4.8967996,
          2.0319319,
          -2.894839,
          1.9692942,
          1.457859,
          0.016212868,
          0.3741359,
          2.1217647,
          5.562466,
          5.3061767,
          -1.5789732,
          3.4566915,
          4.4966593,
          4.6188536,
          -1.5840063,
          -3.1491177,
          2.0432785,
          -6.032544,
          0.78119516,
          2.1371636,
          -5.2103844,
          0.2209583,
          -0.86677897,
          -4.8712773,
          -4.277519,
          -0.4940801,
          -7.141986,
          -4.823328,
          3.4368517,
          -3.7021494,
          0.7557387,
          0.5504582,
          -2.1876428,
          6.6921835,
          -4.97869,
          -0.15263456,
          -0.16170926,
          -1.8573241,
          -1.0332067,
          -4.9311457,
          -0.018867403,
          -0.07430628,
          0.6974787,
          4.247051,
          -4.1916757,
          0.92448354,
          -6.08866,
          2.5609808,
          2.4954762,
          -5.1771126,
          4.45953,
          2.0739872,
          -4.5598545,
          2.5020716,
          -5.7093425,
          4.6392407,
          5.089417,
          4.7811117,
          -5.075361,
          3.3574328,
          -5.3274627,
          3.532428,
          2.408085,
          -4.6415486,
          5.978331,
          -4.9154296,
          3.0171185,
          3.7313015,
          2.5494986,
          2.7399807,
          -4.8914294,
          3.143842,
          3.2452078,
          -1.5140268,
          1.8297037,
          4.230461,
          -5.8665934,
          4.270827,
          -3.937319,
          2.0675476,
          4.138123,
          -4.196656,
          -0.35137865,
          3.5561242,
          1.8790699,
          2.4130836,
          2.0919628,
          4.2335525,
          -5.452849,
          2.9108868,
          -4.9555893,
          1.8325443,
          2.1941555,
          -5.7043486,
          -5.5639586,
          5.2260838,
          1.8031273,
          6.2496333,
          3.7198584,
          -5.5276656,
          4.679988,
          5.6482944,
          -4.5109262,
          -4.5983343,
          -0.11973571,
          -4.600543,
          5.2802553,
          4.1599135,
          -4.5147567,
          1.0670645,
          1.7079512,
          1.9025477,
          1.4009567,
          -2.5251632,
          1.0019358,
          -2.6313722,
          -3.162783,
          1.9613565,
          -1.993109,
          1.7073697,
          -1.9163607,
          1.9828116,
          1.2596484,
          0.9089005,
          -2.7624679,
          -2.8007712,
          1.2247168,
          -2.054533,
          -2.2344565,
          2.8796117,
          0.8923988,
          0.5763487,
          1.0955541,
          0.85066074,
          -0.8014663,
          1.9781903,
          1.8780385,
          2.2197387,
          1.0476189,
          1.9070597,
          0.58848345,
          3.3477747,
          3.4621928,
          2.177387,
          -1.1229784,
          3.4253874,
          3.0198474,
          3.9001493,
          -3.183527,
          3.6617699,
          4.470624,
          2.2455943,
          3.7477608,
          3.2348354,
          3.509754,
          -2.961522,
          3.5632315,
          6.917051,
          6.7789664,
          6.656461,
          -2.8100257,
          -0.43357727,
          7.3302555,
          -6.577781,
          6.8336754,
          4.37001,
          3.2284753,
          1.536467,
          4.5486245,
          3.7998638,
          -3.9760227,
          -3.3774676,
          4.2589726,
          3.5471113,
          3.8694837,
          6.5396175,
          3.8607934,
          1.6459217,
          4.643039,
          3.2929282,
          -3.343739,
          -5.474118,
          -2.1984649,
          3.5289576,
          -4.202386,
          -3.4068034,
          -4.7762604,
          -4.470532,
          -2.5296578,
          -4.80638,
          -5.5977893,
          -4.365094,
          -4.3851914,
          -0.9512068,
          -6.2907457,
          0.7116562,
          -4.932972,
          3.1702743,
          -4.5714087,
          -4.2379375,
          -2.3351917,
          -0.75433725,
          -4.3527026,
          1.3122782,
          0.69962883,
          -3.4144168,
          -3.3736598,
          -5.0825977,
          -3.9558477,
          -0.934718,
          -4.211748,
          0.64506125,
          2.9089239,
          2.1512554,
          -5.0669184,
          -1.1052088,
          2.5079057,
          -3.5238035,
          -4.3584003,
          2.0387793,
          2.3148227,
          -5.583585,
          -2.3109107,
          -2.994634,
          2.1929555,
          3.1968246,
          -4.7214537,
          -2.086884,
          -2.4219582,
          -0.54698163,
          0.3070014,
          -4.010721,
          -3.1259928,
          -4.514892,
          -5.2184963,
          -3.5376153,
          4.5003295,
          2.4926758,
          -6.253011,
          -5.2533736,
          1.7362479,
          -0.07222846,
          -0.8360712,
          -5.614923,
          -4.391648,
          0.2792392,
          1.8175722,
          -2.1517406,
          -0.29301566,
          5.679024,
          0.6682337,
          -5.1351767,
          1.5741282,
          -5.386549,
          -5.3742247,
          2.33481,
          -4.9321012,
          4.6625133,
          5.574118,
          -3.9595702,
          -0.074866965,
          1.1082294,
          -4.3417277,
          -6.8001866,
          3.0573792,
          2.0671139,
          1.3497779,
          4.699192,
          4.3198547,
          -5.116644,
          -4.552087,
          -4.7860036,
          6.4431643,
          0.89229834,
          -1.9241346,
          0.94364697,
          -3.205908,
          -2.5513897,
          -2.298757,
          1.7067981,
          0.87486494,
          1.9394336,
          1.9223388,
          2.5397148,
          2.2298582,
          5.2131495,
          2.1398058,
          2.13614,
          2.3566139,
          3.9910753,
          2.1886096,
          4.370171,
          2.3934636,
          1.5494494,
          5.797537,
          3.0441396,
          1.7059771,
          0.46013957,
          3.1302989,
          2.0329938,
          2.727085,
          -3.6952393,
          -2.2296124,
          -4.2612524,
          -3.255847,
          -6.378995,
          -4.0091915,
          -4.4532495,
          0.8346214,
          -4.7353706,
          -4.5589666,
          -3.1669235,
          1.2612078,
          -4.202408,
          -3.8548436,
          -0.57565403,
          0.69114894,
          -0.9222513,
          -2.5066953,
          -0.325838,
          1.5686115,
          -0.6212737,
          2.0342789,
          5.8363647,
          1.3928014,
          -1.0533092,
          -0.021113984,
          -3.0644116,
          -2.7016354,
          0.6835534,
          -4.6734676,
          4.059142,
          1.3441819,
          3.9801285,
          2.8418,
          2.4974475,
          6.645427,
          0.15904121,
          0.05088591,
          -5.52003,
          1.911676,
          5.382303,
          -0.8878091,
          4.1731668,
          1.6469318,
          4.180003,
          1.175688,
          -2.5145497,
          2.031148,
          -3.1572974,
          1.161614,
          4.658924,
          0.9383649,
          5.5760474,
          1.0044897,
          4.6175857,
          3.02439,
          2.9047055,
          1.6670482,
          2.2868717,
          1.0063025,
          6.851896,
          -1.3095498,
          -4.2695694,
          -1.583669,
          1.0922471,
          -4.4190526,
          -1.8867513,
          -4.2700553,
          -0.0852232,
          5.1229053,
          -5.1657653,
          2.1924298,
          -0.06800809,
          0.6228235,
          2.946129,
          0.6965515,
          0.56574863,
          0.58470935,
          -2.7172434,
          1.9414684,
          1.9582248,
          6.279809,
          0.27515686,
          3.7785015,
          2.9474905,
          4.573789,
          6.69901,
          1.2986145,
          -5.3307323,
          -4.9585238,
          1.3685513,
          -1.0851496,
          2.7668936,
          -0.28431693,
          0.04819743,
          4.896846,
          0.2820679,
          5.200645,
          1.484591,
          1.2439232,
          -0.28564802,
          4.464395,
          2.6312287,
          -1.1510686,
          0.50877845,
          0.7345501,
          -6.4633245,
          -5.7168245,
          1.8414057,
          -1.3161721,
          0.89105946,
          -4.561603,
          1.5302464,
          -4.561556,
          0.24722728,
          -4.561556,
          2.378368,
          5.674226,
          -4.5616097,
          0.40197623,
          4.9511037,
          -4.561556,
          6.0178084,
          -4.561556,
          -3.3429716,
          2.379183,
          1.0430455,
          -4.561556,
          -3.3429527,
          1.6595621,
          5.2882223,
          -4.561556,
          -3.3429747,
          5.8017116,
          5.8915563,
          5.8974476,
          6.3821063,
          -4.561603,
          -3.3429527,
          2.8991299,
          -2.9441972,
          0.21224661,
          -5.335763,
          0.72286654,
          0.0496361,
          -5.072955,
          1.2516568,
          4.252137,
          7.4827094,
          0.019606061,
          7.4827094,
          -0.38868493,
          7.4827094,
          -0.26491585,
          7.4826837,
          5.04822,
          7.4826837,
          7.2069263,
          2.0080578,
          2.008073,
          7.2069263,
          7.2069874,
          7.80511,
          7.80511,
          7.2069263,
          7.321119,
          1.2084252,
          -0.41059965,
          0.7122664,
          6.4321704,
          5.5932293,
          7.36389,
          4.6269097,
          0.46519035,
          1.7082045,
          -3.9900217,
          1.9960234,
          5.9644628,
          5.609051,
          5.2243376,
          -1.09227,
          1.3138437,
          1.3438923,
          -5.736151,
          -4.975801,
          2.0250251,
          4.73479,
          6.1447754,
          0.8166508,
          6.0838284,
          0.8784218,
          -5.199462,
          0.03539618,
          6.0191064,
          5.8284564,
          0.22632743,
          3.057499,
          4.396515,
          1.1873119,
          0.26242763,
          4.398336,
          0.8964246,
          -1.7763563,
          1.3751346,
          -4.584655,
          6.030823,
          1.0479844,
          -6.1267676,
          -1.9147501,
          6.2717314,
          0.625639,
          -3.4634194,
          -3.7455413,
          -2.787374,
          5.040804,
          5.5520625,
          -0.28508776,
          -0.057573948,
          5.6987777,
          3.4840727,
          5.7200046,
          1.056241,
          8.38722,
          3.7723713,
          1.9506325,
          1.9506325,
          3.2057128,
          2.283612,
          1.7639568,
          1.7639568,
          1.8992616,
          -0.63697857,
          -0.63694954,
          0.9907393,
          0.99073786,
          -1.977257,
          -0.0065039545,
          5.064538,
          -4.692728,
          2.4954746,
          -0.026348412,
          -4.561556,
          2.8706262,
          0.99168843,
          -4.561556,
          -2.1595523,
          -0.10509585,
          -4.561603,
          2.1231985,
          2.0440364,
          -4.561556,
          1.1745054,
          0.12837029,
          -4.561556,
          4.147619,
          1.909211,
          -4.561556,
          -2.2771614,
          1.228633,
          -4.561556,
          -2.277187,
          2.6505501,
          -5.4472847,
          -2.752527,
          -4.561556,
          -2.2771618,
          -3.5214891,
          5.946517,
          5.946521,
          -4.561556,
          -2.2771618,
          2.6630104,
          2.9916763,
          -2.8327894,
          3.476664,
          -4.2967334,
          -4.0724893,
          -4.65025,
          -4.801268,
          1.500211,
          4.3785157,
          2.8706338,
          2.752115,
          -5.8544836,
          6.6921835,
          -2.1595523,
          0.7097203,
          -5.147025,
          2.6373322,
          4.765107,
          -5.0691676,
          5.322527,
          2.1231985,
          5.10272,
          4.341662,
          2.110233,
          -6.3955307,
          -0.3557394,
          1.1862545,
          6.011246,
          -4.5829077,
          -4.5560985,
          4.4205074,
          4.147619,
          -2.4596438,
          -1.1901857,
          -0.91833043,
          -1.8831234,
          2.361236,
          0.28209338,
          1.228631,
          6.639746,
          1.5647689,
          2.5432692,
          -3.9222887,
          4.9541287,
          4.502525,
          2.6505501,
          -0.9994176,
          5.991454,
          -0.68306935,
          -3.882481,
          -3.52153,
          4.3208356,
          3.0308578,
          3.5363586,
          -5.128171,
          -4.3883367,
          0.53977126,
          -4.009719,
          -3.894699,
          -2.9709966,
          -3.7139685,
          -3.6259007,
          -3.054566,
          -5.6806464,
          -0.29109427,
          -4.0724893,
          1.2526224,
          2.9298053,
          3.5395389,
          3.222029,
          -0.07351704,
          -0.6858172,
          0.56176287,
          -5.3411865,
          -5.0542364,
          3.3762584,
          -4.8698754,
          -0.82103956,
          -5.4729953,
          -3.8927293,
          -1.00589,
          -4.5939193,
          6.6832075,
          4.0902696,
          -0.4956365,
          6.683212,
          4.6066875,
          4.855613,
          4.9420915,
          2.8539457,
          3.2987056,
          0.2844981,
          6.6822033,
          4.4779005,
          5.124068,
          -2.9970362,
          -0.31360993,
          -3.9609976,
          -0.330715,
          -0.29751393,
          0.51341265,
          -3.8851929,
          -0.31279734,
          -3.6951058,
          -0.23524678,
          -5.0697684,
          4.015283,
          4.995635,
          1.5648726,
          4.0525765,
          -0.09336583,
          -6.487385,
          -5.4304533,
          2.530043,
          -4.864417,
          5.001648,
          4.490959,
          2.9888515,
          0.098938644,
          -5.370866,
          4.4565463,
          3.8796,
          3.079635,
          -1.9710995,
          6.4546223,
          5.2980304,
          3.1172576,
          9.672831,
          -5.942511,
          1.6604147,
          1.6604147,
          2.8848372,
          2.798909,
          9.672831,
          1.6110123,
          1.6110058,
          9.672831,
          5.8097124,
          9.672831,
          9.672831,
          0.18098739,
          1.3094206,
          4.724096,
          -5.131282,
          4.6564913,
          -4.4178934,
          -5.189878,
          5.192517,
          -5.9959645,
          3.4759355,
          4.5179415,
          -1.1189319,
          -1.3404617,
          -3.1707287,
          -5.3807197,
          -3.4763148,
          -4.9737263,
          -2.7032354,
          5.092547,
          -3.36542,
          -6.234824,
          -5.1362557,
          -2.739129,
          1.5021149,
          1.502112,
          0.7404591,
          -5.330327,
          0.71537,
          0.0027223446,
          -4.2384586,
          -4.568406,
          -4.9577622,
          -4.405618
         ],
         "yaxis": "y"
        },
        {
         "customdata": [
          [
           "F 2024 CH EN 263 :I think the instructor explains things really well<br>but sometimes he goes too fast  or the explanation<br>might be vague  which makes it hard to understand."
          ],
          [
           "F 2024 CH EN 263 :Very valuable principles. Again  execution can use<br>some work."
          ],
          [
           "F 2024 CH EN 263 :The time spent out of class could vary based on<br>the specific unit we were talking about  with some<br>weeks being significantly more or less than this."
          ],
          [
           "F 2024 CH EN 263 :at least  sometimes more"
          ],
          [
           "F 2024 CH EN 263 :it varied  but Id say it was about 2 to 2.5 hours<br>per class period."
          ],
          [
           "F 2024 CH EN 263 :Can''t really comment"
          ],
          [
           "F 2024 CH EN 263 :Can''t really comment"
          ],
          [
           "F 2024 CH EN 263 :Can''t really comment"
          ],
          [
           "F 2024 CH EN 263 :Can''t really comment"
          ],
          [
           "F 2024 CH EN 263 :I learned a lot about coding in this class and<br>gained a lot of tools that have already helped me<br>as a chemical engineer. However  a considerable<br>amount of that learning was done on my own or<br>through the TAs."
          ],
          [
           "F 2024 CH EN 263 :Can''t really comment"
          ],
          [
           "F 2024 CH EN 263 :Can''t really comment"
          ],
          [
           "F 2024 CH EN 263 :Can''t really comment"
          ],
          [
           "F 2024 CH EN 263 :I think Dr. Guymon is a good teacher  I just think<br>the course tried to cover too much too quickly. It<br>felt a little rushed  especially for being an<br>introductory course to programming."
          ],
          [
           "F 2024 CH EN 345 :I thought the spiritual connections on our lab<br>descriptions were nice. At the same time  I<br>thought some of the connections were a little<br>forced. Most of the time  I admit that I was in<br>enough of a hurry to get started on the lab that I<br>did not really take the time to read them. That<br>being said  I do recognize that the structure of a<br>lab class such as this makes it a bit difficult to<br>introduce spiritual aspects except on paper."
          ],
          [
           "F 2024 CH EN 345 :See above"
          ],
          [
           "F 2024 CH EN 345 :This class helped me understand the applications<br>of reactions and materials very well. The reaction<br>lab was difficult and I feel like more time was<br>needed to finish the report."
          ],
          [
           "F 2024 CH EN 345 :Okay"
          ],
          [
           "F 2024 CH EN 345 :See #2"
          ],
          [
           "F 2024 CH EN 345 :Pre and post lab assignments"
          ],
          [
           "F 2024 CH EN 345 :This included meeting with my group outside class<br>preparing for lab  and completing the post-lab."
          ],
          [
           "F 2024 CH EN 345 :NO additional commments"
          ],
          [
           "F 2024 CH EN 345 :There were points where the professor helped the<br>students understand what was going on  but this is<br>a lab class we work on our own most of the time."
          ],
          [
           "F 2024 CH EN 345 :Not really a religion class  although there were<br>spiritual thoughts on some lab assignments."
          ],
          [
           "F 2024 CH EN 345 :You need to be responsible for your own learning"
          ],
          [
           "F 2024 CH EN 345 :The hour was used to complete reports"
          ],
          [
           "F 2024 CH EN 345 :Dr. Guymon is not involved in this class. This is<br>not a criticism  it''s just a statement of fact<br>about the course. The structure of the class is<br>for the students to independently work on the labs<br>and for that reason Dr. Guymon has not directly<br>impacted or influenced really anything in this<br>class."
          ],
          [
           "F 2024 CH EN 345 :I love this professor  I''m confused why the lab<br>class has a final though."
          ],
          [
           "F 2024 CH EN 345 :He included spiritual thoughts for each lab"
          ],
          [
           "F 2024 CH EN 345 :The reports were kind of very time consuming and<br>hard. But the Ta''s and professor were very<br>helpful."
          ],
          [
           "F 2024 CH EN 345 :One hour in the lab  about 30 minutes to finish<br>the lab reports."
          ],
          [
           "W 2024 CH EN 285 :It''s just a lab"
          ],
          [
           "W 2024 CH EN 285 :Time spent was normally occupied with pre-reading<br>completing lab reports  and analyzing data."
          ],
          [
           "W 2024 CH EN 285 :I think the course organization made sense  but I<br>still think it could be fine-tuned. At times the<br>homework didn''t seem to match up with lecture or<br>with exams."
          ],
          [
           "W 2024 CH EN 285 :Asked many questions and had Kahoots in the<br>beginning of the class."
          ],
          [
           "W 2024 CH EN 285 :It''s a lab. You go in  do the work  and that''s<br>it. There''s no real lecture. I guess my work<br>ethic improved  so there''s that."
          ],
          [
           "W 2024 CH EN 285 :Not really sure how this applies."
          ],
          [
           "W 2024 CH EN 285 :sure."
          ],
          [
           "W 2024 CH EN 285 :most work done in lab"
          ],
          [
           "W 2024 CH EN 285 :Pre and post lab activities."
          ],
          [
           "W 2024 CH EN 285 :lab completion"
          ],
          [
           "W 2024 CH EN 285 :I spend about 30-45 mins doing pre lab stuff and<br>about 1-1.5 hours on the post lab stuff"
          ],
          [
           "W 2024 CH EN 285 :Dr. Guymon did not do anything in this lab<br>section. I don''t know how it''s supposed to work<br>for labs like this  and maybe he was only intended<br>to supervise  or maybe the TAs were intended to do<br>everything  but I think Dr. Guymon spoke to me one<br>time after the first day of class and it was<br>because I asked him a question about some of the<br>equipment. Once again  I''m not saying that he<br>failed his duties or anything  because I don''t<br>know how student-professor interactions are<br>supposed to be for lab sections."
          ],
          [
           "W 2024 CH EN 285 :The emphasis of this class is not in Spiritual<br>Strengthening  by design. This is an extension of<br>the other Chemical Engineering classes that offer<br>more in this regard."
          ],
          [
           "W 2024 CH EN 285 :It''s a lab"
          ],
          [
           "W 2024 CH EN 285 :We talked about spiritual things a little bit."
          ],
          [
           "W 2024 CH EN 285 :sometimes less  depending on whether there was a<br>pre-lab to be done."
          ],
          [
           "W 2024 CH EN 285 :Just finishing the lab reports."
          ],
          [
           "W 2024 CH EN 285 :He really wasn''t in the lab much but was helpful<br>when he was there."
          ],
          [
           "W 2024 CH EN 311 :its very clear that he is a very smart man and<br>really knows his stuff however he lacks a certain<br>skill in breaking things down in such a way that<br>helps us to understand. he really puts a lot of<br>effort into making a lot of his own teaching<br>materials and its not always the most clear"
          ],
          [
           "W 2024 CH EN 311 :He did a good job at teaching but sometimes<br>struggled to convey what he meant when teaching<br>things like transient balances  energy balances<br>choked flow  etc."
          ],
          [
           "W 2024 CH EN 311 :He improved a lot after the mid-course evaluation<br>I still feel like sometimes I am lost."
          ],
          [
           "W 2024 CH EN 311 :I thought it had very different paces at different<br>points in the course  which is not bad  but it was<br>occasionally hard to plan for."
          ],
          [
           "W 2024 CH EN 311 :Communication towards course content was good  but<br>more structure to the Course and a clear outline<br>of what to do from the beginning of the semester<br>would be helpful."
          ],
          [
           "W 2024 CH EN 311 :I never went to office hours  but I assume they<br>were great."
          ],
          [
           "W 2024 CH EN 311 :Sometimes the TAs or office hours could be<br>helpful. Sometimes they were not."
          ],
          [
           "W 2024 CH EN 311 :I saw him multiple times meeting with other<br>students."
          ],
          [
           "W 2024 CH EN 311 :Reading the textbook was very dry  but he had<br>quizzes on the topics to highlight the important<br>factors."
          ],
          [
           "W 2024 CH EN 311 :Dr. Guymon usually starts his class with a<br>religious thought."
          ],
          [
           "W 2024 CH EN 311 :Dr Guymon had high expectations for us."
          ],
          [
           "W 2024 CH EN 311 :I spent between 4 and 9 hours outside of class"
          ],
          [
           "W 2024 CH EN 311 :Much of the time spent outside of class was<br>occupied by homework assignments and reading. The<br>reading was long and it was often difficult to<br>know what to focus on  but the information is<br>useful."
          ],
          [
           "W 2024 CH EN 311 :Time was spent on pre class readings and quizzes<br>as well as on homework assignments."
          ],
          [
           "W 2024 CH EN 311 :I think a fair portion of the time spent was<br>reading. It generally took about 30 mins to an<br>hour. The assignments would also generally take<br>about 1-2 hrs to complete"
          ],
          [
           "W 2024 CH EN 311 :Mostly spent doing homework and reading."
          ],
          [
           "W 2024 CH EN 311 :Reading (2 hrs)  homework (1 hr)  book reading and<br>review (0.5 hrs)  SAChE courses (1 hr)  team<br>project (0.5 hr)  tests and studying (0.5 hrs)"
          ],
          [
           "W 2024 CH EN 311 :I''m bad at estimating  but I do know that I<br>typically spend around half as much time outside<br>of class as some others."
          ],
          [
           "W 2024 CH EN 311 :The time in the class varied a lot across the<br>semester. The quizzes and reading at the beginning<br>were time intensive but consistent. Some weeks<br>there were no homework  sometimes there were<br>multiple assignments  and sometimes there was one<br>assignment but it took 5 hours. I think there<br>could be a lot more consistency in how assignments<br>are given and the time they take  but the fact<br>that the load was not as much did make it<br>reasonable for most students."
          ],
          [
           "W 2024 CH EN 311 :Homework and readings"
          ],
          [
           "W 2024 CH EN 311 :This hour count depended heavily week-to-week.<br>Some weeks where there was an exam or a project<br>due  I would spend upwards of 10-11 hours  and<br>some easy weeks were more like 5-6 hours outside<br>of class."
          ],
          [
           "W 2024 CH EN 311 :Homework and reading"
          ],
          [
           "W 2024 CH EN 311 :I really do think Dr. Guymon is a great person and<br>professor and I do like his class  but I think the<br>class can be organized a little better. One<br>concept that I struggled on were the mass balances<br>for different things. I just think the examples<br>could be taught better because for me personally<br>they didn''t click."
          ],
          [
           "W 2024 CH EN 311 :Dr. Guymon is a great person and a good instructor<br>but he definitely needs some help with organizing<br>his courses to maximize their effectiveness."
          ],
          [
           "W 2024 CH EN 479 :This class soured me on a couple things  but I<br>overall enjoyed the PBL lab so on average it was<br>ok."
          ],
          [
           "W 2024 CH EN 479 :For a 2 credit class with 6 class hours a week I<br>was surprised by the required out of class time. I<br>spent a lot less out of class time than some other<br>students."
          ],
          [
           "W 2024 CH EN 479 :That''s taking the time needed for the bioreactor<br>and averaging it over the semester."
          ],
          [
           "F 2023 CH EN 263 :Dr. Guymon did a good job at giving us a<br>foundation  but sometimes I was still completely<br>lost when doing the homework."
          ],
          [
           "F 2023 CH EN 263 :Could spend more time on VBA if we need to know<br>it."
          ],
          [
           "F 2023 CH EN 263 :Liked the focus on one concept of python and then<br>another. Could use more time in VBA."
          ],
          [
           "F 2023 CH EN 263 :We had homework and tests like other classes  so<br>the encouragement to actively participate in the<br>learning process was similar to most classes."
          ],
          [
           "F 2023 CH EN 263 :Asked questions in class and waited for answers."
          ],
          [
           "F 2023 CH EN 263 :He would sometimes talk about that type of stuff<br>in his morning thoughts."
          ],
          [
           "F 2023 CH EN 263 :He would sometimes talk about that type of stuff<br>in his morning thoughts."
          ],
          [
           "F 2023 CH EN 263 :I had to improve my study habits to meet the<br>demands of this class."
          ],
          [
           "F 2023 CH EN 263 :Homeworks mainly"
          ],
          [
           "F 2023 CH EN 263 :this should be a 3 credit course lol"
          ],
          [
           "F 2023 CH EN 345 :Some labs took many hours to complete and others<br>could be completed in class."
          ],
          [
           "F 2023 CH EN 345 :This is hard to do because of the format of the<br>class (everyone just starts working on their lab<br>as soon as they go in  there isn''t any opening<br>instruction or anything)  so spiritual thoughts or<br>prayers weren''t a thing. But it was edifying to<br>interact with everyone else in the class."
          ],
          [
           "F 2023 CH EN 345 :We didn''t really have lectures  so he only taught<br>us when we needed"
          ],
          [
           "F 2023 CH EN 345 :I honestly thought so"
          ],
          [
           "F 2023 CH EN 345 :It''s just a lab."
          ],
          [
           "F 2023 CH EN 345 :Occasional reference to the gospel. That noted<br>this was a lab class. Most of the class is self-<br>guided hands-on assignments  so I wouldn''t expect<br>more than this to have been realistically<br>possible."
          ],
          [
           "F 2023 CH EN 345 :It really depended on the lab. We could finish<br>some in class and others took more time outside of<br>class."
          ],
          [
           "F 2023 CH EN 345 :Usually less than an hour  just finishing up small<br>amounts of work on labs that weren''t quite done"
          ],
          [
           "F 2023 CH EN 345 :Work with my group before lab every week"
          ],
          [
           "W 2023 CH EN 285 :No comment"
          ],
          [
           "W 2023 CH EN 285 :No comment"
          ],
          [
           "W 2023 CH EN 285 :It was confusing to have the labs not in numeric<br>order (especially trying to keep track of the<br>order to turn things in and when the due dates<br>were). It was a very chill lab though."
          ],
          [
           "W 2023 CH EN 285 :The external flow lab needed to be more condensed<br>but that''s a nit-pick"
          ],
          [
           "W 2023 CH EN 285 :No comment"
          ],
          [
           "W 2023 CH EN 285 :No comment"
          ],
          [
           "W 2023 CH EN 285 :No comment"
          ],
          [
           "W 2023 CH EN 285 :No comment"
          ],
          [
           "W 2023 CH EN 285 :No comment"
          ],
          [
           "W 2023 CH EN 285 :No comment"
          ],
          [
           "W 2023 CH EN 285 :No comment"
          ],
          [
           "W 2023 CH EN 285 :No comment"
          ],
          [
           "W 2023 CH EN 285 :No comment"
          ],
          [
           "W 2023 CH EN 285 :No comment"
          ],
          [
           "W 2023 CH EN 285 :No comment"
          ],
          [
           "W 2023 CH EN 285 :Learning how to learn by"
          ],
          [
           "W 2023 CH EN 285 :Working on lab reports."
          ],
          [
           "W 2023 CH EN 285 :In lab  finishing questions afterward  reading pre<br>labs"
          ],
          [
           "W 2023 CH EN 285 :He seemed nice  I didn''t interact with him too<br>much  the lab was mainly run by the TA''s."
          ],
          [
           "W 2023 CH EN 285 :Talked about mental health at the start of the<br>semester"
          ],
          [
           "W 2023 CH EN 285 :Working in teams"
          ],
          [
           "W 2023 CH EN 285 :Working in teams"
          ],
          [
           "W 2023 CH EN 285 :Finishing up labs and preparing for labs"
          ],
          [
           "W 2023 CH EN 285 :Time to prepare for and complete labs"
          ],
          [
           "W 2023 CH EN 285 :Never met him."
          ],
          [
           "W 2023 CH EN 285 :We had to work well in teams."
          ],
          [
           "W 2023 CH EN 285 :He was kind when he came into class. Not super<br>involved but I don''t think he was supposed to be<br>in this lab."
          ],
          [
           "W 2023 CH EN 385 :He posited a lot of questions  but he didn''t<br>always answer them."
          ],
          [
           "W 2023 CH EN 385 :Please see comment under Additional Comments"
          ],
          [
           "W 2023 CH EN 385 :Please see comment under Additional Comments"
          ],
          [
           "W 2023 CH EN 385 :Please see comment under Additional Comments"
          ],
          [
           "W 2023 CH EN 385 :Please see comment under Additional Comments"
          ],
          [
           "W 2023 CH EN 385 :Please see comment under Additional Comments"
          ],
          [
           "W 2023 CH EN 385 :Prelab and post lab."
          ],
          [
           "W 2023 CH EN 385 :Time was spent doing prelab and then finishing the<br>write up for each lab."
          ],
          [
           "W 2023 CH EN 385 :Great friend! I especially appreciated the<br>spiritual commitment he demonstrates. Sometimes<br>gives low grades on assignments when ample work<br>was performed."
          ],
          [
           "W 2023 CH EN 385 :I really only interacted with Dr. Knotts for this<br>lab class  so there''s not much I could say for<br>Dr. Guymon"
          ],
          [
           "W 2023 CH EN 385 :I didn’t interact with Dr Guymon during this<br>course."
          ],
          [
           "W 2023 CH EN 385 :I never interacted with Dr. Guymon during this<br>class"
          ],
          [
           "W 2023 CH EN 385 :Wasn''t in class; I was not aware he was an<br>instructor for our lab."
          ],
          [
           "W 2023 CH EN 385 :nothing to say"
          ],
          [
           "W 2023 CH EN 385 :I actually don''t think I realized that Dr. Guymon<br>was a co-instructor for this course."
          ],
          [
           "W 2023 CH EN 385 :Prelab and post lab"
          ],
          [
           "W 2023 CH EN 385 :Usually about 15 minutes prelab and 30 minutes<br>postlab"
          ],
          [
           "W 2023 CH EN 385 :I think Dr. Guymon is very helpful and attentive<br>but I was not even aware that he was associated<br>with this course."
          ],
          [
           "W 2023 CH EN 385 :None."
          ],
          [
           "W 2023 CH EN 385 :none"
          ],
          [
           "W 2023 CH EN 385 :Between pre labs and just finishing up the labs<br>after class."
          ],
          [
           "W 2023 CH EN 385 :Pre lab and finishing up lab"
          ],
          [
           "W 2023 CH EN 385 :Preparing for the lab"
          ],
          [
           "W 2023 CH EN 385 :Went well. Sometimes it was confusing as the lab<br>changed very last minute."
          ],
          [
           "W 2023 CH EN 385 :I had the other professor  Dr. Knotts  for this<br>course."
          ],
          [
           "W 2023 CH EN 385 :I have no idea if he organized anything."
          ],
          [
           "W 2023 CH EN 385 :We only talked a handful of times."
          ],
          [
           "W 2023 CH EN 385 :Honestly I think I only say him 2 or 3 times."
          ],
          [
           "W 2023 CH EN 385 :Only talked to him a couple of times."
          ],
          [
           "W 2023 CH EN 385 :Only talked to him a couple of times."
          ],
          [
           "W 2023 CH EN 385 :Completing labwork"
          ],
          [
           "W 2023 CH EN 385 :Probably about 2 hours per lab on average."
          ],
          [
           "W 2023 CH EN 385 :Pre and post labs sometimes took some time."
          ],
          [
           "W 2023 CH EN 385 :See note about"
          ],
          [
           "W 2023 CH EN 385 :Depending on the lab  but 1.5 is the average."
          ],
          [
           "W 2023 CH EN 385 :It was just finishing up labs stuff"
          ],
          [
           "W 2023 CH EN 385 :Mostly finishing up lab reports and doing Prelabs"
          ],
          [
           "W 2023 CH EN 385 :It was fine"
          ],
          [
           "W 2023 CH EN 479 :Was good about asking questions  but didn''t<br>always have an answer or explanation for them."
          ],
          [
           "W 2023 CH EN 479 :The course was very open-ended  which encourages<br>teams to plan their own schedules. Sometimes it<br>was hard to know how long things were supposed to<br>take."
          ],
          [
           "W 2023 CH EN 479 :Again  from your example."
          ],
          [
           "W 2023 CH EN 479 :See above."
          ],
          [
           "W 2023 CH EN 479 :I did all of my work during the six lab hours of<br>the week."
          ],
          [
           "W 2023 CH EN 479 :I rarely spent time outside of class  but the few<br>times I did I spent a few hours."
          ],
          [
           "W 2023 CH EN 479 :completing reports  JHA  etc"
          ],
          [
           "W 2023 CH EN 479 :This was varied greatly week to week  some more<br>others none  just finishing reports and things."
          ],
          [
           "W 2023 CH EN 479 :We were not expected to spend time outside of<br>class but on average  I did spend some time<br>outside of class."
          ],
          [
           "F 2022 CH EN 345 :I usually spent about 1 hour doing prelabs and<br>finishing labs and submitting."
          ],
          [
           "F 2022 CH EN 345 :More time was spent during the CRE labs  less time<br>during the materials labs"
          ],
          [
           "F 2022 CH EN 345 :finishing labs"
          ],
          [
           "F 2022 CH EN 345 :Time was spent finishing up lab reports and then<br>doing the pre-lab for upcoming labs."
          ],
          [
           "F 2022 CH EN 345 :Some of the labs seemed trivial  while others<br>helped solidify concepts learned in class. It is<br>just hard to squeeze this much into a half-credit<br>class  but I understand the major already has a<br>lot of credits."
          ],
          [
           "F 2022 CH EN 345 :Er.... I mean... the labs were in a constructive<br>order?"
          ],
          [
           "F 2022 CH EN 345 :When ever a question was asked  he would respond<br>with one and lead me to the answer."
          ],
          [
           "F 2022 CH EN 345 :It''s a lab."
          ],
          [
           "F 2022 CH EN 345 :It is a lab"
          ],
          [
           "F 2022 CH EN 345 :I know he''s mentioned spiritual things he''s<br>done. That''s the best I can give."
          ],
          [
           "F 2022 CH EN 345 :I know he''s talked about spiritual topics in<br>class."
          ],
          [
           "F 2022 CH EN 345 :It is a lab"
          ],
          [
           "F 2022 CH EN 345 :Would normally spend about an hour outside the lab<br>prepping for the next one or finishing the last<br>one."
          ],
          [
           "F 2022 CH EN 345 :Average may be about 30 minutes a week outside of<br>class. The CRE labs took longer outside of class<br>than the materials labs. Overall it was a more<br>time demanding lab than the others but still well<br>within the 0.5 credit hour limit."
          ],
          [
           "F 2022 CH EN 345 :Mostly doing lab stuff"
          ],
          [
           "F 2022 CH EN 345 :This was a lab class"
          ],
          [
           "F 2022 CH EN 345 :No comment"
          ],
          [
           "F 2022 CH EN 345 :Pre-lab and finishing up labs."
          ],
          [
           "F 2022 CH EN 345 :Finalizing labs or doing a prelab assignment."
          ],
          [
           "F 2022 CH EN 345 :Finishing the labs"
          ],
          [
           "F 2022 CH EN 345 :Some weeks less than one and some weeks more like<br>2  but just because I got confused while graphing<br>things a lot."
          ],
          [
           "F 2022 CH EN 479 :all in class"
          ],
          [
           "F 2022 CH EN 479 :Large portion was data analysis and verification<br>Smaller portions were writing reports and<br>presentations  preparing for the day  finishing<br>processes after class"
          ]
         ],
         "hovertemplate": "Sentiments=neither<br>tsne_x=%{x}<br>tsne_y=%{y}<br>feedback=%{customdata[0]}<extra></extra>",
         "legendgroup": "neither",
         "marker": {
          "color": "#00cc96",
          "symbol": "circle"
         },
         "mode": "markers",
         "name": "neither",
         "showlegend": true,
         "type": "scattergl",
         "x": [
          -0.8395876,
          -2.6239927,
          -6.185647,
          -0.03437303,
          -5.650754,
          2.4738655,
          2.4738655,
          2.4738655,
          2.4738622,
          -3.9041812,
          2.4738622,
          2.473856,
          2.47387,
          2.503171,
          -5.481836,
          -0.9270762,
          -4.816759,
          5.2464747,
          -0.8422217,
          -9.642297,
          -7.49047,
          1.6577824,
          -5.076976,
          -5.138886,
          -2.4083786,
          -7.7898607,
          3.824965,
          -5.2034807,
          5.6970415,
          -4.58693,
          -8.591214,
          -10.513677,
          -7.7588305,
          -2.6892004,
          -1.3949056,
          -6.4928713,
          -0.5479563,
          5.2295113,
          -10.404203,
          -9.70077,
          -10.233113,
          -8.453358,
          4.45168,
          0.2020005,
          -10.476736,
          7.322244,
          -8.617797,
          -9.513091,
          0.63388664,
          -0.23807675,
          0.12858796,
          0.10222835,
          -2.8586588,
          -2.5762298,
          1.7022648,
          -3.3430858,
          3.3856857,
          0.1501665,
          6.9810543,
          8.462543,
          -6.5029273,
          -4.190675,
          -5.1627584,
          -4.729235,
          -6.040447,
          -5.5169673,
          -6.410741,
          -3.661511,
          -5.62225,
          -5.770138,
          -5.679822,
          3.3899038,
          4.3767796,
          -4.7680187,
          -5.5883904,
          -8.490713,
          3.2771509,
          -1.0623443,
          -1.3054818,
          -4.1701393,
          0.30982512,
          8.341056,
          8.341056,
          -4.1386523,
          -5.7163544,
          -4.014848,
          -7.2513533,
          -5.1670437,
          0.76480114,
          4.757418,
          -10.514395,
          -5.181023,
          -6.9486766,
          -8.141262,
          -8.9342785,
          1.860147,
          1.860147,
          -6.475214,
          -6.747542,
          1.8601825,
          1.860174,
          1.8601385,
          1.8601385,
          1.860147,
          1.8601385,
          1.860147,
          1.8601385,
          1.8601385,
          1.860174,
          1.860147,
          -2.491761,
          -9.406074,
          -9.121022,
          0.22907476,
          7.8099666,
          -6.1262174,
          -6.1262174,
          -9.562028,
          -8.56083,
          2.330687,
          -5.8433113,
          0.22973785,
          1.0647926,
          0.0110178925,
          0.011018672,
          0.0110178925,
          0.0110178925,
          0.0110178925,
          -9.667326,
          -8.084316,
          3.605065,
          4.245069,
          3.8797028,
          3.787077,
          -0.23949319,
          1.7460959,
          4.4800644,
          -9.676753,
          -9.064706,
          4.707409,
          1.3035618,
          1.3190296,
          -8.895917,
          -9.584336,
          -9.815814,
          -6.1792183,
          1.3957508,
          2.0532806,
          3.0497308,
          3.2958994,
          3.1103098,
          3.1103148,
          -9.7766485,
          -8.1726055,
          -9.079258,
          -0.12389844,
          -10.978786,
          -10.246802,
          -9.268567,
          5.1530156,
          1.1267765,
          -3.1451454,
          -0.75489664,
          -0.92381966,
          -7.3579593,
          -6.4639177,
          -9.648336,
          -7.040857,
          -6.2708673,
          -7.950408,
          -7.5084424,
          -10.739772,
          -8.440276,
          -5.6015253,
          -10.255217,
          1.5733868,
          -10.461436,
          -10.484983,
          7.110285,
          6.216358,
          -10.484983,
          -8.309165,
          -6.9582624,
          -10.127407,
          -7.2558208,
          1.8601385,
          -9.448219,
          -9.338355,
          -10.1273365,
          -7.069167,
          -0.45912406,
          -6.987167
         ],
         "xaxis": "x",
         "y": [
          -1.1481,
          6.712636,
          -5.3138814,
          9.666777,
          -5.2354236,
          10.676613,
          10.676613,
          10.676613,
          10.676605,
          -0.6483122,
          10.676605,
          10.676598,
          10.676605,
          -5.062568,
          -2.7877252,
          10.719239,
          0.74929446,
          8.260545,
          10.756767,
          -3.2769144,
          -3.9772496,
          10.982231,
          -1.8624822,
          -2.8104043,
          5.7640786,
          -5.9032607,
          -5.7367315,
          -1.600314,
          0.18656017,
          -3.785062,
          -4.51426,
          -1.4298917,
          -4.8901334,
          -2.4078016,
          3.3925977,
          -0.9901026,
          9.657772,
          8.259823,
          -2.395244,
          -3.2644296,
          -3.878258,
          -3.9671273,
          -6.302163,
          -4.7212324,
          -1.4238267,
          2.5047708,
          -3.4318326,
          -4.5775704,
          3.8348687,
          -1.6685553,
          -0.97271824,
          -0.5131962,
          -0.5769592,
          -2.6089625,
          3.2518919,
          -2.9473455,
          2.7041743,
          -1.8458686,
          -1.6335864,
          -6.1274343,
          -5.528646,
          -4.315615,
          -5.715599,
          -4.714493,
          -7.103748,
          -6.4013987,
          -5.6159325,
          -4.016615,
          -7.6152935,
          -5.2411017,
          -7.673333,
          -4.6200914,
          -5.434038,
          -2.0966914,
          -4.683948,
          -6.1830153,
          -4.633213,
          -1.2046461,
          -1.403669,
          -3.9963136,
          5.6711516,
          2.7749357,
          2.7749357,
          -3.790379,
          -7.6320705,
          -3.2181683,
          -2.878716,
          -2.9045405,
          1.8780714,
          8.17924,
          -1.422379,
          -2.6957192,
          -2.942068,
          -4.268815,
          -3.6596613,
          10.956694,
          10.956694,
          -1.5210091,
          -0.931297,
          10.956723,
          10.956663,
          10.956634,
          10.956634,
          10.956694,
          10.956634,
          10.956694,
          10.956634,
          10.956634,
          10.956663,
          10.956694,
          5.580325,
          -4.627089,
          -3.6047618,
          3.7449272,
          0.38380754,
          6.365416,
          6.365416,
          -3.7590067,
          -3.5768433,
          8.219943,
          6.0856943,
          3.9145753,
          6.197603,
          11.090297,
          11.090296,
          11.090297,
          11.090297,
          11.090297,
          -3.2845829,
          -4.092389,
          0.58619183,
          -6.4069934,
          -6.40174,
          -6.4515767,
          3.875757,
          10.466253,
          -5.012901,
          -3.282092,
          -3.5780208,
          -5.0048127,
          9.897933,
          9.92444,
          -3.6592615,
          -3.4962034,
          -3.0969064,
          -0.5137464,
          -3.4119732,
          7.821349,
          8.558587,
          8.558889,
          8.355381,
          8.355386,
          -4.0774856,
          -3.7902515,
          -3.3158183,
          10.991475,
          -2.4844666,
          -3.8178809,
          -4.3799686,
          7.4788227,
          5.5564704,
          -0.34052506,
          9.499731,
          10.71185,
          -4.6971,
          -5.7196255,
          -5.713006,
          -6.047349,
          -5.388548,
          -4.147294,
          -3.215625,
          -3.6433442,
          -4.3718314,
          -2.0694287,
          -0.86367613,
          5.3864713,
          -1.4188436,
          -1.4293432,
          3.0717123,
          1.5207785,
          -1.4293432,
          -4.5354624,
          -3.3434947,
          -4.263583,
          -0.84371555,
          10.956634,
          -3.5651326,
          -3.7126477,
          -3.8350656,
          -6.5630116,
          7.346272,
          -5.4843493
         ],
         "yaxis": "y"
        }
       ],
       "layout": {
        "legend": {
         "title": {
          "text": "Sentiments"
         },
         "tracegroupgap": 0
        },
        "template": {
         "data": {
          "bar": [
           {
            "error_x": {
             "color": "#2a3f5f"
            },
            "error_y": {
             "color": "#2a3f5f"
            },
            "marker": {
             "line": {
              "color": "#E5ECF6",
              "width": 0.5
             },
             "pattern": {
              "fillmode": "overlay",
              "size": 10,
              "solidity": 0.2
             }
            },
            "type": "bar"
           }
          ],
          "barpolar": [
           {
            "marker": {
             "line": {
              "color": "#E5ECF6",
              "width": 0.5
             },
             "pattern": {
              "fillmode": "overlay",
              "size": 10,
              "solidity": 0.2
             }
            },
            "type": "barpolar"
           }
          ],
          "carpet": [
           {
            "aaxis": {
             "endlinecolor": "#2a3f5f",
             "gridcolor": "white",
             "linecolor": "white",
             "minorgridcolor": "white",
             "startlinecolor": "#2a3f5f"
            },
            "baxis": {
             "endlinecolor": "#2a3f5f",
             "gridcolor": "white",
             "linecolor": "white",
             "minorgridcolor": "white",
             "startlinecolor": "#2a3f5f"
            },
            "type": "carpet"
           }
          ],
          "choropleth": [
           {
            "colorbar": {
             "outlinewidth": 0,
             "ticks": ""
            },
            "type": "choropleth"
           }
          ],
          "contour": [
           {
            "colorbar": {
             "outlinewidth": 0,
             "ticks": ""
            },
            "colorscale": [
             [
              0,
              "#0d0887"
             ],
             [
              0.1111111111111111,
              "#46039f"
             ],
             [
              0.2222222222222222,
              "#7201a8"
             ],
             [
              0.3333333333333333,
              "#9c179e"
             ],
             [
              0.4444444444444444,
              "#bd3786"
             ],
             [
              0.5555555555555556,
              "#d8576b"
             ],
             [
              0.6666666666666666,
              "#ed7953"
             ],
             [
              0.7777777777777778,
              "#fb9f3a"
             ],
             [
              0.8888888888888888,
              "#fdca26"
             ],
             [
              1,
              "#f0f921"
             ]
            ],
            "type": "contour"
           }
          ],
          "contourcarpet": [
           {
            "colorbar": {
             "outlinewidth": 0,
             "ticks": ""
            },
            "type": "contourcarpet"
           }
          ],
          "heatmap": [
           {
            "colorbar": {
             "outlinewidth": 0,
             "ticks": ""
            },
            "colorscale": [
             [
              0,
              "#0d0887"
             ],
             [
              0.1111111111111111,
              "#46039f"
             ],
             [
              0.2222222222222222,
              "#7201a8"
             ],
             [
              0.3333333333333333,
              "#9c179e"
             ],
             [
              0.4444444444444444,
              "#bd3786"
             ],
             [
              0.5555555555555556,
              "#d8576b"
             ],
             [
              0.6666666666666666,
              "#ed7953"
             ],
             [
              0.7777777777777778,
              "#fb9f3a"
             ],
             [
              0.8888888888888888,
              "#fdca26"
             ],
             [
              1,
              "#f0f921"
             ]
            ],
            "type": "heatmap"
           }
          ],
          "heatmapgl": [
           {
            "colorbar": {
             "outlinewidth": 0,
             "ticks": ""
            },
            "colorscale": [
             [
              0,
              "#0d0887"
             ],
             [
              0.1111111111111111,
              "#46039f"
             ],
             [
              0.2222222222222222,
              "#7201a8"
             ],
             [
              0.3333333333333333,
              "#9c179e"
             ],
             [
              0.4444444444444444,
              "#bd3786"
             ],
             [
              0.5555555555555556,
              "#d8576b"
             ],
             [
              0.6666666666666666,
              "#ed7953"
             ],
             [
              0.7777777777777778,
              "#fb9f3a"
             ],
             [
              0.8888888888888888,
              "#fdca26"
             ],
             [
              1,
              "#f0f921"
             ]
            ],
            "type": "heatmapgl"
           }
          ],
          "histogram": [
           {
            "marker": {
             "pattern": {
              "fillmode": "overlay",
              "size": 10,
              "solidity": 0.2
             }
            },
            "type": "histogram"
           }
          ],
          "histogram2d": [
           {
            "colorbar": {
             "outlinewidth": 0,
             "ticks": ""
            },
            "colorscale": [
             [
              0,
              "#0d0887"
             ],
             [
              0.1111111111111111,
              "#46039f"
             ],
             [
              0.2222222222222222,
              "#7201a8"
             ],
             [
              0.3333333333333333,
              "#9c179e"
             ],
             [
              0.4444444444444444,
              "#bd3786"
             ],
             [
              0.5555555555555556,
              "#d8576b"
             ],
             [
              0.6666666666666666,
              "#ed7953"
             ],
             [
              0.7777777777777778,
              "#fb9f3a"
             ],
             [
              0.8888888888888888,
              "#fdca26"
             ],
             [
              1,
              "#f0f921"
             ]
            ],
            "type": "histogram2d"
           }
          ],
          "histogram2dcontour": [
           {
            "colorbar": {
             "outlinewidth": 0,
             "ticks": ""
            },
            "colorscale": [
             [
              0,
              "#0d0887"
             ],
             [
              0.1111111111111111,
              "#46039f"
             ],
             [
              0.2222222222222222,
              "#7201a8"
             ],
             [
              0.3333333333333333,
              "#9c179e"
             ],
             [
              0.4444444444444444,
              "#bd3786"
             ],
             [
              0.5555555555555556,
              "#d8576b"
             ],
             [
              0.6666666666666666,
              "#ed7953"
             ],
             [
              0.7777777777777778,
              "#fb9f3a"
             ],
             [
              0.8888888888888888,
              "#fdca26"
             ],
             [
              1,
              "#f0f921"
             ]
            ],
            "type": "histogram2dcontour"
           }
          ],
          "mesh3d": [
           {
            "colorbar": {
             "outlinewidth": 0,
             "ticks": ""
            },
            "type": "mesh3d"
           }
          ],
          "parcoords": [
           {
            "line": {
             "colorbar": {
              "outlinewidth": 0,
              "ticks": ""
             }
            },
            "type": "parcoords"
           }
          ],
          "pie": [
           {
            "automargin": true,
            "type": "pie"
           }
          ],
          "scatter": [
           {
            "fillpattern": {
             "fillmode": "overlay",
             "size": 10,
             "solidity": 0.2
            },
            "type": "scatter"
           }
          ],
          "scatter3d": [
           {
            "line": {
             "colorbar": {
              "outlinewidth": 0,
              "ticks": ""
             }
            },
            "marker": {
             "colorbar": {
              "outlinewidth": 0,
              "ticks": ""
             }
            },
            "type": "scatter3d"
           }
          ],
          "scattercarpet": [
           {
            "marker": {
             "colorbar": {
              "outlinewidth": 0,
              "ticks": ""
             }
            },
            "type": "scattercarpet"
           }
          ],
          "scattergeo": [
           {
            "marker": {
             "colorbar": {
              "outlinewidth": 0,
              "ticks": ""
             }
            },
            "type": "scattergeo"
           }
          ],
          "scattergl": [
           {
            "marker": {
             "colorbar": {
              "outlinewidth": 0,
              "ticks": ""
             }
            },
            "type": "scattergl"
           }
          ],
          "scattermapbox": [
           {
            "marker": {
             "colorbar": {
              "outlinewidth": 0,
              "ticks": ""
             }
            },
            "type": "scattermapbox"
           }
          ],
          "scatterpolar": [
           {
            "marker": {
             "colorbar": {
              "outlinewidth": 0,
              "ticks": ""
             }
            },
            "type": "scatterpolar"
           }
          ],
          "scatterpolargl": [
           {
            "marker": {
             "colorbar": {
              "outlinewidth": 0,
              "ticks": ""
             }
            },
            "type": "scatterpolargl"
           }
          ],
          "scatterternary": [
           {
            "marker": {
             "colorbar": {
              "outlinewidth": 0,
              "ticks": ""
             }
            },
            "type": "scatterternary"
           }
          ],
          "surface": [
           {
            "colorbar": {
             "outlinewidth": 0,
             "ticks": ""
            },
            "colorscale": [
             [
              0,
              "#0d0887"
             ],
             [
              0.1111111111111111,
              "#46039f"
             ],
             [
              0.2222222222222222,
              "#7201a8"
             ],
             [
              0.3333333333333333,
              "#9c179e"
             ],
             [
              0.4444444444444444,
              "#bd3786"
             ],
             [
              0.5555555555555556,
              "#d8576b"
             ],
             [
              0.6666666666666666,
              "#ed7953"
             ],
             [
              0.7777777777777778,
              "#fb9f3a"
             ],
             [
              0.8888888888888888,
              "#fdca26"
             ],
             [
              1,
              "#f0f921"
             ]
            ],
            "type": "surface"
           }
          ],
          "table": [
           {
            "cells": {
             "fill": {
              "color": "#EBF0F8"
             },
             "line": {
              "color": "white"
             }
            },
            "header": {
             "fill": {
              "color": "#C8D4E3"
             },
             "line": {
              "color": "white"
             }
            },
            "type": "table"
           }
          ]
         },
         "layout": {
          "annotationdefaults": {
           "arrowcolor": "#2a3f5f",
           "arrowhead": 0,
           "arrowwidth": 1
          },
          "autotypenumbers": "strict",
          "coloraxis": {
           "colorbar": {
            "outlinewidth": 0,
            "ticks": ""
           }
          },
          "colorscale": {
           "diverging": [
            [
             0,
             "#8e0152"
            ],
            [
             0.1,
             "#c51b7d"
            ],
            [
             0.2,
             "#de77ae"
            ],
            [
             0.3,
             "#f1b6da"
            ],
            [
             0.4,
             "#fde0ef"
            ],
            [
             0.5,
             "#f7f7f7"
            ],
            [
             0.6,
             "#e6f5d0"
            ],
            [
             0.7,
             "#b8e186"
            ],
            [
             0.8,
             "#7fbc41"
            ],
            [
             0.9,
             "#4d9221"
            ],
            [
             1,
             "#276419"
            ]
           ],
           "sequential": [
            [
             0,
             "#0d0887"
            ],
            [
             0.1111111111111111,
             "#46039f"
            ],
            [
             0.2222222222222222,
             "#7201a8"
            ],
            [
             0.3333333333333333,
             "#9c179e"
            ],
            [
             0.4444444444444444,
             "#bd3786"
            ],
            [
             0.5555555555555556,
             "#d8576b"
            ],
            [
             0.6666666666666666,
             "#ed7953"
            ],
            [
             0.7777777777777778,
             "#fb9f3a"
            ],
            [
             0.8888888888888888,
             "#fdca26"
            ],
            [
             1,
             "#f0f921"
            ]
           ],
           "sequentialminus": [
            [
             0,
             "#0d0887"
            ],
            [
             0.1111111111111111,
             "#46039f"
            ],
            [
             0.2222222222222222,
             "#7201a8"
            ],
            [
             0.3333333333333333,
             "#9c179e"
            ],
            [
             0.4444444444444444,
             "#bd3786"
            ],
            [
             0.5555555555555556,
             "#d8576b"
            ],
            [
             0.6666666666666666,
             "#ed7953"
            ],
            [
             0.7777777777777778,
             "#fb9f3a"
            ],
            [
             0.8888888888888888,
             "#fdca26"
            ],
            [
             1,
             "#f0f921"
            ]
           ]
          },
          "colorway": [
           "#636efa",
           "#EF553B",
           "#00cc96",
           "#ab63fa",
           "#FFA15A",
           "#19d3f3",
           "#FF6692",
           "#B6E880",
           "#FF97FF",
           "#FECB52"
          ],
          "font": {
           "color": "#2a3f5f"
          },
          "geo": {
           "bgcolor": "white",
           "lakecolor": "white",
           "landcolor": "#E5ECF6",
           "showlakes": true,
           "showland": true,
           "subunitcolor": "white"
          },
          "hoverlabel": {
           "align": "left"
          },
          "hovermode": "closest",
          "mapbox": {
           "style": "light"
          },
          "paper_bgcolor": "white",
          "plot_bgcolor": "#E5ECF6",
          "polar": {
           "angularaxis": {
            "gridcolor": "white",
            "linecolor": "white",
            "ticks": ""
           },
           "bgcolor": "#E5ECF6",
           "radialaxis": {
            "gridcolor": "white",
            "linecolor": "white",
            "ticks": ""
           }
          },
          "scene": {
           "xaxis": {
            "backgroundcolor": "#E5ECF6",
            "gridcolor": "white",
            "gridwidth": 2,
            "linecolor": "white",
            "showbackground": true,
            "ticks": "",
            "zerolinecolor": "white"
           },
           "yaxis": {
            "backgroundcolor": "#E5ECF6",
            "gridcolor": "white",
            "gridwidth": 2,
            "linecolor": "white",
            "showbackground": true,
            "ticks": "",
            "zerolinecolor": "white"
           },
           "zaxis": {
            "backgroundcolor": "#E5ECF6",
            "gridcolor": "white",
            "gridwidth": 2,
            "linecolor": "white",
            "showbackground": true,
            "ticks": "",
            "zerolinecolor": "white"
           }
          },
          "shapedefaults": {
           "line": {
            "color": "#2a3f5f"
           }
          },
          "ternary": {
           "aaxis": {
            "gridcolor": "white",
            "linecolor": "white",
            "ticks": ""
           },
           "baxis": {
            "gridcolor": "white",
            "linecolor": "white",
            "ticks": ""
           },
           "bgcolor": "#E5ECF6",
           "caxis": {
            "gridcolor": "white",
            "linecolor": "white",
            "ticks": ""
           }
          },
          "title": {
           "x": 0.05
          },
          "xaxis": {
           "automargin": true,
           "gridcolor": "white",
           "linecolor": "white",
           "ticks": "",
           "title": {
            "standoff": 15
           },
           "zerolinecolor": "white",
           "zerolinewidth": 2
          },
          "yaxis": {
           "automargin": true,
           "gridcolor": "white",
           "linecolor": "white",
           "ticks": "",
           "title": {
            "standoff": 15
           },
           "zerolinecolor": "white",
           "zerolinewidth": 2
          }
         }
        },
        "title": {
         "text": "TSNE Scatter Plot of Student Feedback"
        },
        "xaxis": {
         "anchor": "y",
         "domain": [
          0,
          1
         ],
         "title": {
          "text": "tsne_x"
         }
        },
        "yaxis": {
         "anchor": "x",
         "domain": [
          0,
          1
         ],
         "title": {
          "text": "tsne_y"
         }
        }
       }
      }
     },
     "metadata": {},
     "output_type": "display_data"
    }
   ],
   "source": [
    "# Create a scatter plot with different colors for each cluster\n",
    "fig = px.scatter(df, x='tsne_x', y='tsne_y', color='Sentiments', hover_data=['feedback'],\n",
    "                 title='TSNE Scatter Plot of Student Feedback')\n",
    "\n",
    "# Show the plot\n",
    "fig.show()"
   ]
  },
  {
   "cell_type": "code",
   "execution_count": null,
   "metadata": {},
   "outputs": [],
   "source": []
  }
 ],
 "metadata": {
  "kernelspec": {
   "display_name": "jupiterbook",
   "language": "python",
   "name": "python3"
  },
  "language_info": {
   "codemirror_mode": {
    "name": "ipython",
    "version": 3
   },
   "file_extension": ".py",
   "mimetype": "text/x-python",
   "name": "python",
   "nbconvert_exporter": "python",
   "pygments_lexer": "ipython3",
   "version": "3.9.16"
  }
 },
 "nbformat": 4,
 "nbformat_minor": 2
}
