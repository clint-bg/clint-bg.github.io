{
 "cells": [
  {
   "cell_type": "markdown",
   "metadata": {
    "colab_type": "text",
    "id": "view-in-github"
   },
   "source": [
    "<a href=\"https://colab.research.google.com/github/clint-bg/tools/blob/main/ConfidenceIntervals.ipynb\" target=\"_parent\"><img src=\"https://colab.research.google.com/assets/colab-badge.svg\" alt=\"Open In Colab\"/></a>"
   ]
  },
  {
   "cell_type": "markdown",
   "metadata": {
    "id": "EmxRpnz261VN"
   },
   "source": [
    "# Confidence Intervals\n",
    "This sheet attempts to explain the difference between **confidence intervals on the mean** of a population (observations from a given process) and **confidence intervals on a model parameter** used to predict a response.\n",
    "\n",
    "In practical terms, when evaluating observed measurements, I view the confidence interval on the mean of that data as how well I know that average value and thus I could assess if I need to take more data. \n",
    "\n",
    "In contrast, when looking at a parameter used in a model, the confidence interval on that parameter is related to how important that parameter is on the predicted outcome.\n",
    "\n",
    "-Clint Guymon, BYU Chemical Engineering Department, July 2022"
   ]
  },
  {
   "cell_type": "code",
   "execution_count": 1,
   "metadata": {
    "id": "_Etmz7C37JmB"
   },
   "outputs": [],
   "source": [
    "#import needed packages\n",
    "from ipywidgets import interact\n",
    "import matplotlib.pyplot as plt\n",
    "import seaborn as sns; sns.set_theme()\n",
    "import numpy as np\n",
    "import pandas as pd\n",
    "from scipy.stats import t,f #import Student t distribution methods\n",
    "from scipy.optimize import fsolve,minimize #sse minimizer, could use gekko "
   ]
  },
  {
   "cell_type": "markdown",
   "metadata": {
    "id": "6sNFCjsV7RSl"
   },
   "source": [
    "## Confidence Interval on the Mean of Observations\n",
    "Observations are made ubiquitously with the increasing documentation and recording of those observations driving much of the artificial intelligence that uses those observations to make predictions. \n",
    "\n",
    "The confidence interval on the average or mean of those quantified observations can depend on the distribution from which those obserservations are made. The **Central Limit Theorem** establishes that the methods used for statistical conclusions based on the normal distribution can usually be applied to scenarios that may not be generated from a normal distribution given they are evaluated by their average. It is assumed to be so in the discussion here."
   ]
  },
  {
   "cell_type": "markdown",
   "metadata": {
    "id": "qI7x7Nd4Rpdc"
   },
   "source": [
    "### Example\n",
    "Suppose I'm measuring the outlet temperature of a heat exchanger and I have the following data\n",
    "\n",
    "*  What is the average or mean outlet temperature? \n",
    "*  What is the confidence interval on that average outlet temperature?\n",
    "*  How much better would you know the mean if instead of the relatively small sample of temperatures you took, you took many more? Or, what would your confidence interval on the mean be with many more recorded observations?"
   ]
  },
  {
   "cell_type": "code",
   "execution_count": 2,
   "metadata": {
    "id": "seIaO0pZVWgL"
   },
   "outputs": [],
   "source": [
    "initialtemps = [75.2,80.1,76.8,78.4,79.0]"
   ]
  },
  {
   "cell_type": "markdown",
   "metadata": {
    "id": "JKuXwtYvXKpQ"
   },
   "source": [
    "#### Average or Mean Outlet Temperature"
   ]
  },
  {
   "cell_type": "code",
   "execution_count": 3,
   "metadata": {
    "id": "8zb5reGeWEqD"
   },
   "outputs": [],
   "source": [
    "meantemperature = np.mean(initialtemps)"
   ]
  },
  {
   "cell_type": "markdown",
   "metadata": {
    "id": "vLDyNbuBXj4v"
   },
   "source": [
    "#### Confidence Interval on that Mean Outlet Temperature"
   ]
  },
  {
   "cell_type": "code",
   "execution_count": 4,
   "metadata": {
    "id": "VAJCavOIYBVt"
   },
   "outputs": [],
   "source": [
    "#first calculate the standard deviation and then the standard error\n",
    "sdev = np.std(initialtemps)\n",
    "stderr = sdev/np.sqrt(len(initialtemps))\n",
    "ci = stderr*t.interval(0.95,len(initialtemps))[1]\n",
    "#the t.interval yields the cutoff for the 95% confidence interval for the Student t distribution (at high degrees of freedom, it converges to the normal result)"
   ]
  },
  {
   "cell_type": "code",
   "execution_count": 5,
   "metadata": {
    "colab": {
     "base_uri": "https://localhost:8080/"
    },
    "id": "CVtiA4yWcEH4",
    "outputId": "fee4c9aa-2ee1-44c5-c786-127019c7ce09"
   },
   "outputs": [
    {
     "name": "stdout",
     "output_type": "stream",
     "text": [
      "The average or mean outlet temperature with 5 recorded observations is 77.9 plus/minus 2.0.\n"
     ]
    }
   ],
   "source": [
    "print(f'The average or mean outlet temperature with {len(initialtemps)} recorded observations is {meantemperature:.1f} plus/minus {ci:.1f}.')"
   ]
  },
  {
   "cell_type": "markdown",
   "metadata": {
    "id": "kAGuUXB4_NJK"
   },
   "source": [
    "#### Effect of Many More Observations\n",
    "I will use the statistical measures of the above 5 temperatures to generate (psuedo randomly) many more observations sampled from a normal distribution."
   ]
  },
  {
   "cell_type": "code",
   "execution_count": 6,
   "metadata": {
    "colab": {
     "base_uri": "https://localhost:8080/"
    },
    "id": "ozyNC6I7_S7U",
    "outputId": "09f063aa-035d-40fc-f319-b424e8aef5dd"
   },
   "outputs": [
    {
     "data": {
      "text/plain": [
       "array([75.2       , 80.1       , 76.8       , 78.4       , 79.        ,\n",
       "       78.22511888, 75.4868596 , 77.28007515, 75.79743276, 78.82135385,\n",
       "       76.75366031, 81.19831826, 76.31759578, 76.70961546, 77.37074959,\n",
       "       77.72899439, 82.36681943, 74.21402561, 77.43921735, 77.71319252,\n",
       "       78.10457452, 76.35950251, 73.63070003, 77.0542801 , 75.99891166,\n",
       "       79.57084945, 80.01882605, 81.35350131, 77.62470177, 80.08210548,\n",
       "       78.41652083, 74.49061396, 78.31228938, 78.58287867, 75.92066038,\n",
       "       76.54506755, 77.95746932, 80.83927565, 76.99524721, 75.45342226,\n",
       "       75.15885695, 79.69928894, 78.03751289, 81.56653147, 78.54260003,\n",
       "       76.44712474, 77.17871039, 77.93914114, 74.95695368, 77.39944735])"
      ]
     },
     "execution_count": 6,
     "metadata": {},
     "output_type": "execute_result"
    }
   ],
   "source": [
    "moretemps = t.rvs(1000,size=100)*sdev+meantemperature #1000 degrees of freedom used to give the same result as the normal distribution, also, used the previous mean and stdev to generate the numbers\n",
    "exampleoutlettemps = np.append(initialtemps,moretemps)\n",
    "exampleoutlettemps[:50]"
   ]
  },
  {
   "cell_type": "code",
   "execution_count": 7,
   "metadata": {
    "colab": {
     "base_uri": "https://localhost:8080/"
    },
    "id": "VuD7H46bCYIk",
    "outputId": "99afa4d3-77e9-412d-c6cc-d8c2e7b3e0bd"
   },
   "outputs": [
    {
     "name": "stdout",
     "output_type": "stream",
     "text": [
      "Now with a greater amount of samples, the average or mean outlet temperature with 105 recorded observations is 77.7 plus/minus 0.4.\n"
     ]
    }
   ],
   "source": [
    "meantemperatureL = np.mean(exampleoutlettemps)\n",
    "sdevL = np.std(exampleoutlettemps)\n",
    "stderrL = sdevL/np.sqrt(len(exampleoutlettemps))\n",
    "ciL = stderrL*t.interval(0.95,len(exampleoutlettemps))[1]\n",
    "print(f'Now with a greater amount of samples, the average or mean outlet temperature with {len(exampleoutlettemps)} recorded observations is {meantemperatureL:.1f} plus/minus {ciL:.1f}.')"
   ]
  },
  {
   "cell_type": "markdown",
   "metadata": {
    "id": "j8IMO9tnEtHX"
   },
   "source": [
    "Comparing the two results, the average values and the standard deviations are similar but the confidence interval is significantly lower. That is, with more observations, we are much more confident in the mean or average exit temperature from the heat exchanger."
   ]
  },
  {
   "cell_type": "code",
   "execution_count": 8,
   "metadata": {
    "colab": {
     "base_uri": "https://localhost:8080/"
    },
    "id": "lLTABmY2F-yV",
    "outputId": "40a00436-b0b6-4e0d-d41e-9d361fdc1f00"
   },
   "outputs": [
    {
     "name": "stdout",
     "output_type": "stream",
     "text": [
      "The confidence interval range for 5 and 105 samples is respectively: +/- 2.0,0.4\n",
      "The average temperature for 5 and 105 samples is respectively: 77.9,77.7\n",
      "The standard deviation for 5 and 105 samples is respectively: 1.7,1.8\n"
     ]
    }
   ],
   "source": [
    "#stats for (5 and 105) samples\n",
    "print(f'The confidence interval range for 5 and 105 samples is respectively: +/- {ci:.1f},{ciL:.1f}')\n",
    "print(f'The average temperature for 5 and 105 samples is respectively: {meantemperature:.1f},{meantemperatureL:.1f}')\n",
    "print(f'The standard deviation for 5 and 105 samples is respectively: {sdev:.1f},{sdevL:.1f}')"
   ]
  },
  {
   "cell_type": "markdown",
   "metadata": {
    "id": "SkiYm0DEMUQS"
   },
   "source": [
    "Note that the fact that the above average and standard deviation values are similar between 5 and 105 samples is because I set it up that way (the other values were generated from a mean and stdev equal to that for the 5 samples). If the wasn't the case, it's expected that the standard deviation and mean could show a greater difference than what is portrayed above."
   ]
  },
  {
   "cell_type": "markdown",
   "metadata": {
    "id": "-h5ZkwcbQ540"
   },
   "source": [
    "#### Interactive Slider Indicating Sampe Size Effect on the Confidence Interval\n",
    "Below is a slider with associated code demonstrating the above."
   ]
  },
  {
   "cell_type": "code",
   "execution_count": 9,
   "metadata": {
    "colab": {
     "base_uri": "https://localhost:8080/",
     "height": 66,
     "referenced_widgets": [
      "959b1403ff3e43119dcd16df6e5130fe",
      "45504525828649cfa3f7a77107630fe4",
      "fd351164e2c34c108b23a133c6b4ad97",
      "46e1b251ae4940f7baffc99f385de4f5",
      "774cf230f509461ea72de99c03d5c7a8",
      "b972b108287a4879bc8bb9004982d244",
      "1b7ffdcc448d4278a940724cc82ba943"
     ]
    },
    "id": "VlLNp9rfRsNe",
    "outputId": "b9f91bd7-bd90-4f60-dc08-54a989101048"
   },
   "outputs": [
    {
     "data": {
      "application/vnd.jupyter.widget-view+json": {
       "model_id": "208964b2251e437ca3f5254ff49422ae",
       "version_major": 2,
       "version_minor": 0
      },
      "text/plain": [
       "interactive(children=(IntSlider(value=252, description='n', max=500, min=5), Output()), _dom_classes=('widget-…"
      ]
     },
     "metadata": {},
     "output_type": "display_data"
    }
   ],
   "source": [
    "@interact(n=(5,500))\n",
    "def cifn(n):\n",
    "  othertemps = t.rvs(1000,size=n-5)*np.std(initialtemps)+meantemperature #1000 degrees of freedom used to give the same result as the normal distribution, also, used the previous mean and stdev to generate the numbers\n",
    "  temps = np.append(initialtemps,othertemps)\n",
    "  sdev = np.std(temps)\n",
    "  stderr = sdev/np.sqrt(len(temps))\n",
    "  ci = stderr*t.interval(0.95,len(temps))[1]\n",
    "  print(f'The mean is {np.mean(temps):.1f} +/- {ci:.1f} with standard deviation of {sdev:.1f}')"
   ]
  },
  {
   "cell_type": "markdown",
   "metadata": {
    "id": "3EUteO-_Sa0k"
   },
   "source": [
    "### Standard Error versus Standard Deviation\n",
    "As exhibited in the above example, **the standard deviation may not indicate how well you know the average** or mean temperature (but it can indicate the distribution of values observed). The standard error on the other hand, is a measure of how well you know the mean and is simply the ratio of the standard deviation and the sqrt of the number of observations.\n",
    "\n",
    "I have been confused by these two values in the past (and sometimes in the present). When calculating the confidence interval on the mean of observations, make sure to either use the standard error with the typical 1.96 or 2 value or divide the standard deviation by the sqrt of the number of observations before multiplying by the 1.96 or 2 factor to get confidence intervals."
   ]
  },
  {
   "cell_type": "markdown",
   "metadata": {
    "id": "2Eay1S1VOjWN"
   },
   "source": [
    "### Normal versus the Student t Distribution\n",
    "The normal distrution relates the probability of an observational value given the mean and standard deviation from that population. When the standard deviation is well known, the normal distribution parameters are usually used in calculating the confidence intervals. For example, for a two-sided tail, a 95% confidence interval corresponds to a normalized value of 1.96 (or 2) that is typically used. \n",
    "\n",
    "However, if the standard deviation isn't well known, the Student t distribution is used to account for that uncertainty. It accounts for the number of degrees of freedom (or observations) to yield a value to use for the confidence interval (instead of the typical 1.96 or 2 used for the two-tail 95% C.I.).\n",
    "\n",
    "Below is an interactive slider that can be used to compare the two distributions."
   ]
  },
  {
   "cell_type": "code",
   "execution_count": 10,
   "metadata": {
    "colab": {
     "base_uri": "https://localhost:8080/",
     "height": 385,
     "referenced_widgets": [
      "7e3775b7f9ac464a86edb4864e5beca6",
      "783fa5d0a71d4f1aa19c7c6f4640de06",
      "5242a073733d4a728522190174a4b8ca",
      "1d70f6a59f1045adba8f046d6715283d",
      "5d530389d6454b75b060bfa58ebad1d2",
      "564cfc72c2e54b3e8fae16be1220ddf2",
      "77ffae0b1bd14dc0a377d09442165442",
      "e23beeec03c94152bfe197e70e9e181f",
      "4a6e5823ce8148c6aa058de2458aea87",
      "55e82324f5c24b73952b0340427c77bd",
      "2bcd6c1580414c8ea3538100e3fdbf9a",
      "f794dadd347841ebae5d5014f85915a8",
      "d998e5daf9cf4c84acb96be66bd3d0e7"
     ]
    },
    "id": "t1mA81CCB2Dx",
    "outputId": "3626cf7c-09b3-45bf-b59a-cb0eaa987a0b"
   },
   "outputs": [
    {
     "data": {
      "application/vnd.jupyter.widget-view+json": {
       "model_id": "299ab9dfe967495787450f986774652d",
       "version_major": 2,
       "version_minor": 0
      },
      "text/plain": [
       "interactive(children=(IntSlider(value=70, description='mean', max=80, min=60), FloatSlider(value=1.0, descript…"
      ]
     },
     "metadata": {},
     "output_type": "display_data"
    }
   ],
   "source": [
    "#Create an interactive plot (not seen in GitHub but can be manipulated in Google Colab)\n",
    "@interact(mean=(60,80),standarddev=(0.5,1.5),df=(1,10))\n",
    "def normalplot(mean,standarddev,df):\n",
    "  xlin =  (np.linspace(mean-7*standarddev, mean+7*standarddev, 200)-mean)/standarddev\n",
    "  ylin = t.pdf(xlin,1000)/standarddev\n",
    "  ylin2 = t.pdf(xlin,df)/standarddev\n",
    "  plt.plot(xlin*standarddev+mean, ylin, 'r', label='Normal Distribution'); \n",
    "  plt.plot(xlin*standarddev+mean, ylin2, 'b', label='Student t Distribution');\n",
    "  plt.xlabel(\"mean\"); plt.ylabel(\"probability\")\n",
    "  plt.xlim(50,90); plt.ylim(0,1)\n",
    "  plt.legend(); plt.show()\n"
   ]
  },
  {
   "cell_type": "markdown",
   "metadata": {
    "id": "YL3eg6v0iinV"
   },
   "source": [
    "## Confidence Interval on a Parameter in a Model\n",
    "**A model could be a simple line relating one independent variable to a dependent variable**. For example, the concentration of a species can linearly relate to the rate of a first order reaction at a constant temperature.  Or, a model could yield a non-linear relationship (for example a second order reaction). \n",
    "\n",
    "Additionally, a model may have several parameters, for example the Arrhenius parameters in a second order reaction. Or, for a machine learning application, models can have millions of parameters."
   ]
  },
  {
   "cell_type": "markdown",
   "metadata": {
    "id": "wFYsYEAItEGQ"
   },
   "source": [
    "### Obtain the Parameter Value(s)\n",
    "A curve fit by minimizing the sum of the squared errors is typically completed to determine the parameter value(s). Once the parameter value is determined, it can be valuable to detemine the uncertainty in that parameter value. \n",
    "\n",
    "First we'll set up a generic example to find a linear parameter by minimizing the sum of the squared errors using scipy's minimize (we also could use Gekko or other minimization solvers)."
   ]
  },
  {
   "cell_type": "code",
   "execution_count": 11,
   "metadata": {
    "colab": {
     "base_uri": "https://localhost:8080/",
     "height": 365
    },
    "id": "LzCZFILMaSr5",
    "outputId": "2b63d426-a9cd-480d-dd1e-24621c472a14"
   },
   "outputs": [
    {
     "data": {
      "image/png": "[encoded data removed]",
      "text/plain": [
       "<Figure size 884x500 with 1 Axes>"
      ]
     },
     "metadata": {},
     "output_type": "display_data"
    }
   ],
   "source": [
    "#First specify and then plot the data\n",
    "data = pd.DataFrame({'response':[0.32,0.43,0.39,0.55,0.67,0.87,0.7,0.61,0.72], 'x1':[2.2,3.5,3.5,6.4,8.6,9.1,9.0,7.5,8.0]})\n",
    "data['source'] = 'observation'\n",
    "p = sns.relplot(x='x1', y='response', hue='source', palette='flare', data=data, aspect=15/10);\n",
    "plt.show()"
   ]
  },
  {
   "cell_type": "code",
   "execution_count": 12,
   "metadata": {
    "id": "_ySRMcs6ujV7"
   },
   "outputs": [],
   "source": [
    "#define a function to calculate the error between the model parameters and the data\n",
    "def linearSSE(x):\n",
    "  #calculate sum of squared errors for a linear fit\n",
    "  prediction = data['x1']*x[1] + x[0]\n",
    "  sse = ((prediction - data['response'])**2).sum()\n",
    "  return sse"
   ]
  },
  {
   "cell_type": "code",
   "execution_count": 13,
   "metadata": {
    "colab": {
     "base_uri": "https://localhost:8080/"
    },
    "id": "VHINPNO-8T41",
    "outputId": "dca3236e-4b44-4e72-c426-d57ef8623f86"
   },
   "outputs": [
    {
     "data": {
      "text/plain": [
       "array([0.1766029 , 0.06350474])"
      ]
     },
     "execution_count": 13,
     "metadata": {},
     "output_type": "execute_result"
    }
   ],
   "source": [
    "#Now solve for the optimal parameters\n",
    "optparametervals =  minimize(linearSSE,[1,1]).x\n",
    "optparametervals #listed first is the optimal intercept and then the slope"
   ]
  },
  {
   "cell_type": "code",
   "execution_count": 14,
   "metadata": {
    "id": "wXrC5PxN_GPw"
   },
   "outputs": [],
   "source": [
    "#Create a dataframe with the predicted values\n",
    "prediction = pd.DataFrame({'x1':np.linspace(data['x1'].min(),data['x1'].max(),50)})\n",
    "prediction['response'] = prediction['x1']*optparametervals[1] + optparametervals[0]\n",
    "prediction['source'] = 'prediction'"
   ]
  },
  {
   "cell_type": "code",
   "execution_count": 15,
   "metadata": {
    "colab": {
     "base_uri": "https://localhost:8080/",
     "height": 285
    },
    "id": "K8k8MvzHw8Ac",
    "outputId": "4c27aae0-1a3a-40d9-89a6-f96751ddec81"
   },
   "outputs": [
    {
     "data": {
      "image/png": "[encoded data removed]",
      "text/plain": [
       "<Figure size 640x480 with 1 Axes>"
      ]
     },
     "metadata": {},
     "output_type": "display_data"
    }
   ],
   "source": [
    "#plot the prediction\n",
    "fig, ax = plt.subplots()\n",
    "p = sns.scatterplot(x='x1',y='response',hue='source',palette='flare',data=data,ax=ax);\n",
    "p = sns.lineplot(x='x1',y='response',hue='source',data=prediction,ax=ax)\n",
    "plt.show()"
   ]
  },
  {
   "cell_type": "markdown",
   "metadata": {
    "id": "eiPLYS-98e1H"
   },
   "source": [
    "### Obtain limits around each Parameter Value \n",
    "Limits around each parameter value are found that gives a SSE within the value that is not statistically different per the F test:\n",
    "$\\frac{SSE(\\theta)-SSE(\\theta^*)}{SSE(\\theta^*)} \\le \\frac{p}{n-p}\\cdot F(\\alpha,p,n-p)$\n",
    "\n",
    "where the $SSE$ is the sum of squared error given a set a parameter values $\\theta$, $\\theta^*$ is the parameter values that give the lowest $SSE$. $n$ is the number of data points, $p$ the number of parameters, and $F$ is the scipy.f.isf function that specifies whether one parameters set is significantly different from another. See also the very helpful info and demonstrations on AP Monitor: https://apmonitor.com/che263/index.php/Main/PythonRegressionStatistics."
   ]
  },
  {
   "cell_type": "markdown",
   "metadata": {
    "id": "3qHzToSwbLwS"
   },
   "source": [
    "For the example above with two parameters for the linear fit, below is the method used to determine the confidence interval on the slope and the intercept. Afterwards, the results are compared to a two other methods."
   ]
  },
  {
   "cell_type": "code",
   "execution_count": 16,
   "metadata": {
    "id": "Z9FqRZ0Jbx_-"
   },
   "outputs": [],
   "source": [
    "#find the allowed deviation (right hand side of the above equation at two-sided 95% confidence interval)\n",
    "alpha = 0.05 #95% confidence interval\n",
    "ssedev = len(optparametervals)/(len(data)-len(optparametervals))*f.isf(alpha,len(optparametervals),(len(data)-len(optparametervals)))"
   ]
  },
  {
   "cell_type": "code",
   "execution_count": 17,
   "metadata": {
    "id": "2eCh7JtfsdmG"
   },
   "outputs": [],
   "source": [
    "#Set a variable with the value of the SSE's for the optimal solution (lowest SSE)\n",
    "optimalSSE = minimize(linearSSE,[1,1]).fun"
   ]
  },
  {
   "cell_type": "code",
   "execution_count": 18,
   "metadata": {
    "id": "EW8_iuRIKHF_"
   },
   "outputs": [],
   "source": [
    "#setup function to obtain confidence limits based on the F-test\n",
    "#define equation to solve for varying one parameter at a time\n",
    "def func(x,*input):\n",
    "  dct = input[0]\n",
    "  if dct['switch'] == 'intercept':\n",
    "    out = (linearSSE([x,dct['slope']]) - optimalSSE)/optimalSSE - ssedev\n",
    "  else:\n",
    "    out = (linearSSE([dct['intercept'],x]) - optimalSSE)/optimalSSE - ssedev\n",
    "  return out"
   ]
  },
  {
   "cell_type": "code",
   "execution_count": 19,
   "metadata": {
    "id": "YxBoQJ_poqk8"
   },
   "outputs": [],
   "source": [
    "#solve for the parameter yielding the desired SSE to establish the confidence intervals\n",
    "guesses = np.linspace(-10,10,20)\n",
    "args = {'slope':optparametervals[1],'intercept':optparametervals[0],'switch':'intercept'}\n",
    "interceptvals = [fsolve(func,guess*optparametervals[0],args=(args))[0] for guess in guesses]\n",
    "args['switch'] = ''\n",
    "slopevals = [fsolve(func,guess*optparametervals[1],args=(args))[0] for guess in guesses]\n",
    "minmax_b = [min(interceptvals),max(interceptvals)]\n",
    "minmax_m = [min(slopevals),max(slopevals)]"
   ]
  },
  {
   "cell_type": "code",
   "execution_count": 20,
   "metadata": {
    "colab": {
     "base_uri": "https://localhost:8080/"
    },
    "id": "cHqSM_eB96t_",
    "outputId": "c585c496-e686-41ba-f688-af378206bdb1"
   },
   "outputs": [
    {
     "data": {
      "text/plain": [
       "{'Method': ['Ftest'],\n",
       " 'InterceptRange': [0.11936213602405428],\n",
       " 'SlopeRange': [0.017302292907417235],\n",
       " 'FractionVarOptimalSSE': [1.353546893650312]}"
      ]
     },
     "execution_count": 20,
     "metadata": {},
     "output_type": "execute_result"
    }
   ],
   "source": [
    "#The 95% confidence range on the intercept, b, and the slope, m, are the following\n",
    "dict_CL = {'Method':['Ftest'],'InterceptRange':[minmax_b[1]-minmax_b[0]],'SlopeRange':[minmax_m[1]-minmax_m[0]],\\\n",
    "           'FractionVarOptimalSSE':[max([(linearSSE([each,optparametervals[1]]) - optimalSSE)/optimalSSE for each in minmax_b])]}\n",
    "dict_CL"
   ]
  },
  {
   "cell_type": "markdown",
   "metadata": {
    "id": "1K07_wUiKXmX"
   },
   "source": [
    "Note that the above limits are equivalently spaced from the optimal value which is expected as the above function is linear. "
   ]
  },
  {
   "cell_type": "markdown",
   "metadata": {
    "id": "evgzxnKUMQzM"
   },
   "source": [
    "Now randomly (from the normal distribution) select two values from the slope and intercept and plot them on the above plot showing they are equally as valid statistically as the optimal result."
   ]
  },
  {
   "cell_type": "code",
   "execution_count": 21,
   "metadata": {
    "id": "42kCU_ZsJ8QE"
   },
   "outputs": [],
   "source": [
    "ips = [t.rvs(1000)*((minmax_b[1]-minmax_b[0])/(1.96*2)) + optparametervals[0] for i in range(2)]\n",
    "sps = [t.rvs(1000)*((minmax_m[1]-minmax_m[0])/(1.96*2)) + optparametervals[1] for i in range(2)]"
   ]
  },
  {
   "cell_type": "code",
   "execution_count": 22,
   "metadata": {
    "colab": {
     "base_uri": "https://localhost:8080/"
    },
    "id": "mt93zHtYQWCN",
    "outputId": "78bb5304-96d4-414a-c2d4-1f1cffb6f5ee"
   },
   "outputs": [
    {
     "data": {
      "text/plain": [
       "([0.1974756924446195, 0.1474529133458019],\n",
       " [0.0658765150473644, 0.06729114002351241])"
      ]
     },
     "execution_count": 22,
     "metadata": {},
     "output_type": "execute_result"
    }
   ],
   "source": [
    "ips,sps"
   ]
  },
  {
   "cell_type": "code",
   "execution_count": 23,
   "metadata": {
    "id": "Vfum1h40Q3by"
   },
   "outputs": [],
   "source": [
    "# for each of those random conditions, check that the F-test is satisfied, first \n",
    "def Ftestcheck(x):\n",
    "  lhs = (linearSSE(x) - optimalSSE)/optimalSSE\n",
    "  if lhs <= ssedev:\n",
    "    out = True\n",
    "  else:\n",
    "    out = False\n",
    "  return out"
   ]
  },
  {
   "cell_type": "code",
   "execution_count": 24,
   "metadata": {
    "colab": {
     "base_uri": "https://localhost:8080/"
    },
    "id": "kkIP5qBEVnBU",
    "outputId": "c51f7f13-0dc2-4247-e2ce-45bd1720bec9"
   },
   "outputs": [
    {
     "data": {
      "text/plain": [
       "[True, True]"
      ]
     },
     "execution_count": 24,
     "metadata": {},
     "output_type": "execute_result"
    }
   ],
   "source": [
    "[Ftestcheck([ips[i],sps[i]]) for i,each in enumerate(ips)]"
   ]
  },
  {
   "cell_type": "code",
   "execution_count": 25,
   "metadata": {
    "id": "IeZWPbmeVqx-"
   },
   "outputs": [],
   "source": [
    "#set dataframes with the alternately predicted results\n",
    "p2 = pd.DataFrame({'x1':np.linspace(data['x1'].min(),data['x1'].max(),50)})\n",
    "p3 = pd.DataFrame({'x1':np.linspace(data['x1'].min(),data['x1'].max(),50)})\n",
    "p2['response'] = p2['x1']*sps[0] + ips[0]\n",
    "p3['response'] = p3['x1']*sps[1] + ips[1]\n",
    "p2['source'] = '2nd prediction'; p3['source'] = '3rd prediction'"
   ]
  },
  {
   "cell_type": "code",
   "execution_count": 26,
   "metadata": {
    "colab": {
     "base_uri": "https://localhost:8080/",
     "height": 285
    },
    "id": "wZ3OFgXsvcoQ",
    "outputId": "8fb27686-1459-4ba6-f5b6-5a3ddf1bc25a"
   },
   "outputs": [
    {
     "data": {
      "image/png": "[encoded data removed]",
      "text/plain": [
       "<Figure size 640x480 with 1 Axes>"
      ]
     },
     "metadata": {},
     "output_type": "display_data"
    }
   ],
   "source": [
    "#plot the other predicted outcomes together with the original\n",
    "fig, ax = plt.subplots()\n",
    "p = sns.scatterplot(x='x1',y='response',hue='source',palette='flare',data=data,ax=ax);\n",
    "p = sns.lineplot(x='x1',y='response',hue='source',data=pd.concat([prediction,p2,p3],ignore_index=True),ax=ax)\n",
    "plt.show()"
   ]
  },
  {
   "cell_type": "markdown",
   "metadata": {
    "id": "isMguFYPbl6O"
   },
   "source": [
    "### Compare to the OLS Statsmodel\n",
    "Another method to calculate the confidence limits of the intercept and slope is using the Ordinary Least Squares (OLS) method of the Statsmodel package."
   ]
  },
  {
   "cell_type": "code",
   "execution_count": 27,
   "metadata": {
    "colab": {
     "base_uri": "https://localhost:8080/"
    },
    "id": "sQNsW9sec93N",
    "outputId": "2fd7168d-1512-4ad6-f36f-6c50e3fdc16a"
   },
   "outputs": [],
   "source": [
    "# For statistics. Requires statsmodels 5.0 or more\n",
    "from statsmodels.formula.api import ols\n",
    "# Analysis of Variance (ANOVA) on linear models\n",
    "from statsmodels.stats.anova import anova_lm"
   ]
  },
  {
   "cell_type": "code",
   "execution_count": 28,
   "metadata": {
    "colab": {
     "base_uri": "https://localhost:8080/"
    },
    "id": "HBpdsCw8eKYX",
    "outputId": "7252ae7f-f12e-482b-ee4f-593dfe328eef"
   },
   "outputs": [
    {
     "name": "stdout",
     "output_type": "stream",
     "text": [
      "                            OLS Regression Results                            \n",
      "==============================================================================\n",
      "Dep. Variable:               response   R-squared:                       0.907\n",
      "Model:                            OLS   Adj. R-squared:                  0.893\n",
      "Method:                 Least Squares   F-statistic:                     68.08\n",
      "Date:                Sat, 02 Dec 2023   Prob (F-statistic):           7.48e-05\n",
      "Time:                        19:21:31   Log-Likelihood:                 13.960\n",
      "No. Observations:                   9   AIC:                            -23.92\n",
      "Df Residuals:                       7   BIC:                            -23.53\n",
      "Df Model:                           1                                         \n",
      "Covariance Type:            nonrobust                                         \n",
      "==============================================================================\n",
      "                 coef    std err          t      P>|t|      [0.025      0.975]\n",
      "------------------------------------------------------------------------------\n",
      "Intercept      0.1766      0.053      3.326      0.013       0.051       0.302\n",
      "x1             0.0635      0.008      8.251      0.000       0.045       0.082\n",
      "==============================================================================\n",
      "Omnibus:                        4.242   Durbin-Watson:                   2.726\n",
      "Prob(Omnibus):                  0.120   Jarque-Bera (JB):                1.578\n",
      "Skew:                           1.022   Prob(JB):                        0.454\n",
      "Kurtosis:                       3.180   Cond. No.                         19.2\n",
      "==============================================================================\n",
      "\n",
      "Notes:\n",
      "[1] Standard Errors assume that the covariance matrix of the errors is correctly specified.\n"
     ]
    },
    {
     "name": "stderr",
     "output_type": "stream",
     "text": [
      "/Users/clintguymon/opt/anaconda3/envs/jupiterbook/lib/python3.9/site-packages/scipy/stats/_stats_py.py:1806: UserWarning: kurtosistest only valid for n>=20 ... continuing anyway, n=9\n",
      "  warnings.warn(\"kurtosistest only valid for n>=20 ... continuing \"\n"
     ]
    }
   ],
   "source": [
    "# Fit the model\n",
    "model = ols(\"response ~ x1\", data).fit()\n",
    "print(model.summary())\n",
    "# Peform analysis of variance on fitted linear model\n",
    "#anova_results = anova_lm(model)\n",
    "#print('\\nANOVA results')\n",
    "#print(anova_results)"
   ]
  },
  {
   "cell_type": "markdown",
   "metadata": {
    "id": "E23TybuBJfgU"
   },
   "source": [
    "Note that the slope and intercept values are equivalent to those found with the F-test method above but that the confidence limits are significantly larger."
   ]
  },
  {
   "cell_type": "code",
   "execution_count": 29,
   "metadata": {
    "colab": {
     "base_uri": "https://localhost:8080/",
     "height": 112
    },
    "id": "IV7nGDcEnIjQ",
    "outputId": "37eaeefb-ada1-4874-b3e3-0e12e12196c5"
   },
   "outputs": [
    {
     "data": {
      "text/html": [
       "<div>\n",
       "<style scoped>\n",
       "    .dataframe tbody tr th:only-of-type {\n",
       "        vertical-align: middle;\n",
       "    }\n",
       "\n",
       "    .dataframe tbody tr th {\n",
       "        vertical-align: top;\n",
       "    }\n",
       "\n",
       "    .dataframe thead th {\n",
       "        text-align: right;\n",
       "    }\n",
       "</style>\n",
       "<table border=\"1\" class=\"dataframe\">\n",
       "  <thead>\n",
       "    <tr style=\"text-align: right;\">\n",
       "      <th></th>\n",
       "      <th>0</th>\n",
       "      <th>1</th>\n",
       "    </tr>\n",
       "  </thead>\n",
       "  <tbody>\n",
       "    <tr>\n",
       "      <th>Intercept</th>\n",
       "      <td>0.051052</td>\n",
       "      <td>0.302154</td>\n",
       "    </tr>\n",
       "    <tr>\n",
       "      <th>x1</th>\n",
       "      <td>0.045305</td>\n",
       "      <td>0.081704</td>\n",
       "    </tr>\n",
       "  </tbody>\n",
       "</table>\n",
       "</div>"
      ],
      "text/plain": [
       "                  0         1\n",
       "Intercept  0.051052  0.302154\n",
       "x1         0.045305  0.081704"
      ]
     },
     "execution_count": 29,
     "metadata": {},
     "output_type": "execute_result"
    }
   ],
   "source": [
    "model.conf_int() #confidence interval with the statsmodel, ols method"
   ]
  },
  {
   "cell_type": "code",
   "execution_count": 30,
   "metadata": {
    "id": "x2EA0jM0V1lS"
   },
   "outputs": [],
   "source": [
    "#add results to the results dictionary\n",
    "dict_CL['Method'].append('OLS'); dict_CL['InterceptRange'].append(model.conf_int()[1][0]-model.conf_int()[0][0])\n",
    "dict_CL['SlopeRange'].append(model.conf_int()[1][1]-model.conf_int()[0][1])\n",
    "SSEdevarray = [linearSSE([model.conf_int()[1][0],optparametervals[1]]),linearSSE([model.conf_int()[0][0],optparametervals[1]])]\n",
    "dict_CL['FractionVarOptimalSSE'].append(max([(each - optimalSSE)/optimalSSE for each in SSEdevarray]))"
   ]
  },
  {
   "cell_type": "markdown",
   "metadata": {
    "id": "lHQvGEl-ESgP"
   },
   "source": [
    "### Manual Calculation \n",
    "Since the above OLS method has much larger confidence limits than the F-test method, we'll also manually calculate the confidence limits for the slope and intercept based on the method in Engineering Statistics by D. Montgomery et al."
   ]
  },
  {
   "cell_type": "code",
   "execution_count": 31,
   "metadata": {
    "colab": {
     "base_uri": "https://localhost:8080/"
    },
    "id": "iL9dDSgkEv--",
    "outputId": "3bb5b0b4-4d77-4e0d-db36-9c08f5051443"
   },
   "outputs": [
    {
     "data": {
      "text/plain": [
       "(7.439338725292702e-09, 0.051297940929073235)"
      ]
     },
     "execution_count": 31,
     "metadata": {},
     "output_type": "execute_result"
    }
   ],
   "source": [
    "#First calcualte the errors to evaluate how standard or normal they are.\n",
    "error = data['response'] - (data['x1']*optparametervals[1] + optparametervals[0])\n",
    "np.mean(error),np.std(error)"
   ]
  },
  {
   "cell_type": "code",
   "execution_count": 32,
   "metadata": {
    "colab": {
     "base_uri": "https://localhost:8080/",
     "height": 285
    },
    "id": "LKJdR6xxFgmE",
    "outputId": "c04e7c38-b769-49eb-9b3a-c9f119fe846e"
   },
   "outputs": [
    {
     "data": {
      "text/plain": [
       "<Axes: ylabel='Count'>"
      ]
     },
     "execution_count": 32,
     "metadata": {},
     "output_type": "execute_result"
    },
    {
     "data": {
      "image/png": "[encoded data removed]",
      "text/plain": [
       "<Figure size 640x480 with 1 Axes>"
      ]
     },
     "metadata": {},
     "output_type": "display_data"
    }
   ],
   "source": [
    "sns.histplot(data=error,bins=5)"
   ]
  },
  {
   "cell_type": "markdown",
   "metadata": {
    "id": "UlFYVYLyGF8c"
   },
   "source": [
    "Although the mean error is zero, the distribution of errors does not appear to be normal. There are only 9 data points. As such, the confidence limits are only estimates."
   ]
  },
  {
   "cell_type": "code",
   "execution_count": 33,
   "metadata": {
    "id": "kyg-OGfvHVkI"
   },
   "outputs": [],
   "source": [
    "#calculate the statistics measures from the data \n",
    "Sxx = (data['x1'] - data['x1'].mean())**2\n",
    "confL = t.ppf(0.975,len(data)-len(optparametervals))\n",
    "var = np.std(error)**2\n",
    "tmults = confL*np.sqrt(var/Sxx.sum())\n",
    "tmulti = confL*np.sqrt(var*(1/len(data)+data['x1'].mean()**2/Sxx.sum()))\n",
    "minterceptCL = optparametervals[0]-tmulti,optparametervals[0]+tmulti\n",
    "mslopeCL = (optparametervals[1]-tmults, optparametervals[1]+tmults)"
   ]
  },
  {
   "cell_type": "code",
   "execution_count": 34,
   "metadata": {
    "id": "oXhp4vSkSslu"
   },
   "outputs": [],
   "source": [
    "#Add results with the different confidence limits with the different methods\n",
    "dict_CL['Method'].append('Sxx'); dict_CL['InterceptRange'].append(minterceptCL[1]-minterceptCL[0])\n",
    "dict_CL['SlopeRange'].append(mslopeCL[1]-mslopeCL[0])\n",
    "dict_CL['FractionVarOptimalSSE'].append(max([(linearSSE([each,optparametervals[1]]) - optimalSSE)/optimalSSE for each in minterceptCL]))"
   ]
  },
  {
   "cell_type": "code",
   "execution_count": 35,
   "metadata": {
    "id": "5fbjDOR4ZwZR"
   },
   "outputs": [],
   "source": [
    "#Build dataframe from the dictionary of results\n",
    "dfs = pd.DataFrame(dict_CL)"
   ]
  },
  {
   "cell_type": "code",
   "execution_count": 36,
   "metadata": {
    "colab": {
     "base_uri": "https://localhost:8080/",
     "height": 143
    },
    "id": "j367WRXIBgmV",
    "outputId": "7cd8eb04-9b07-4026-98c5-7507089d20dd"
   },
   "outputs": [
    {
     "data": {
      "text/html": [
       "<div>\n",
       "<style scoped>\n",
       "    .dataframe tbody tr th:only-of-type {\n",
       "        vertical-align: middle;\n",
       "    }\n",
       "\n",
       "    .dataframe tbody tr th {\n",
       "        vertical-align: top;\n",
       "    }\n",
       "\n",
       "    .dataframe thead th {\n",
       "        text-align: right;\n",
       "    }\n",
       "</style>\n",
       "<table border=\"1\" class=\"dataframe\">\n",
       "  <thead>\n",
       "    <tr style=\"text-align: right;\">\n",
       "      <th></th>\n",
       "      <th>Method</th>\n",
       "      <th>InterceptRange</th>\n",
       "      <th>SlopeRange</th>\n",
       "      <th>FractionVarOptimalSSE</th>\n",
       "    </tr>\n",
       "  </thead>\n",
       "  <tbody>\n",
       "    <tr>\n",
       "      <th>0</th>\n",
       "      <td>Ftest</td>\n",
       "      <td>0.119362</td>\n",
       "      <td>0.017302</td>\n",
       "      <td>1.353547</td>\n",
       "    </tr>\n",
       "    <tr>\n",
       "      <th>1</th>\n",
       "      <td>OLS</td>\n",
       "      <td>0.251102</td>\n",
       "      <td>0.036399</td>\n",
       "      <td>5.990214</td>\n",
       "    </tr>\n",
       "    <tr>\n",
       "      <th>2</th>\n",
       "      <td>Sxx</td>\n",
       "      <td>0.221451</td>\n",
       "      <td>0.032101</td>\n",
       "      <td>4.659033</td>\n",
       "    </tr>\n",
       "  </tbody>\n",
       "</table>\n",
       "</div>"
      ],
      "text/plain": [
       "  Method  InterceptRange  SlopeRange  FractionVarOptimalSSE\n",
       "0  Ftest        0.119362    0.017302               1.353547\n",
       "1    OLS        0.251102    0.036399               5.990214\n",
       "2    Sxx        0.221451    0.032101               4.659033"
      ]
     },
     "execution_count": 36,
     "metadata": {},
     "output_type": "execute_result"
    }
   ],
   "source": [
    "#show the confidence level ranges for both the Intercept and Slope. Also shown is FractionVarOptimalSSE which is the fraction away from the optimal solution\n",
    "dfs"
   ]
  },
  {
   "cell_type": "code",
   "execution_count": 37,
   "metadata": {
    "colab": {
     "base_uri": "https://localhost:8080/",
     "height": 285
    },
    "id": "sTNhQ3KeBBiF",
    "outputId": "7212b4b3-018f-4b9e-a188-98c8ed03f430"
   },
   "outputs": [
    {
     "data": {
      "image/png": "[encoded data removed]",
      "text/plain": [
       "<Figure size 640x480 with 1 Axes>"
      ]
     },
     "metadata": {},
     "output_type": "display_data"
    }
   ],
   "source": [
    "#Plot the Fraction as a function of the confidence interval method\n",
    "sns.barplot(x=\"Method\", y=\"FractionVarOptimalSSE\", data=dfs)\n",
    "plt.show()"
   ]
  },
  {
   "cell_type": "markdown",
   "metadata": {
    "id": "zKP4tPUYMmVB"
   },
   "source": [
    "In the above bar chart is shown the fraction away from the optimal sum of squared errors (SSE) for the confidence interval ranges for each method. In essence, this just shows that the F-test method is much more narrow in terms of the confidence limits than the other methods."
   ]
  },
  {
   "cell_type": "markdown",
   "metadata": {
    "id": "xhm19xFMmogw"
   },
   "source": [
    "### Now plot a contour plot of the SSE or the SSE-OptimalSSE/OptimalSSE\n",
    "Plot a contour plot with the SSE-OptimalSSE/OptimalSSE with different values of the slope and intercept. Code here adapted from APMonitor https://apmonitor.com/che263/index.php/Main/PythonRegressionStatistics"
   ]
  },
  {
   "cell_type": "code",
   "execution_count": 38,
   "metadata": {
    "id": "8tM-0i5Th7Ck"
   },
   "outputs": [],
   "source": [
    "#setup code for contour plot\n",
    "nopts = 100\n",
    "intercepts = np.linspace(model.conf_int()[0][0],model.conf_int()[1][0],nopts)\n",
    "slopes = np.linspace(model.conf_int()[0][1],model.conf_int()[1][1],nopts)\n",
    "xgrid, ygrid = np.meshgrid(intercepts, slopes)\n",
    "\n",
    "# sum of squared errors\n",
    "sse = np.empty((nopts,nopts)); lhs = np.empty((nopts,nopts))\n",
    "for i in range(nopts):\n",
    "    for j in range(nopts):\n",
    "        at = xgrid[i,j]\n",
    "        bt = ygrid[i,j]\n",
    "        sse[i,j] = linearSSE([at,bt])\n",
    "        lhs[i,j] = (sse[i,j] - optimalSSE)/optimalSSE"
   ]
  },
  {
   "cell_type": "code",
   "execution_count": 39,
   "metadata": {
    "colab": {
     "base_uri": "https://localhost:8080/",
     "height": 285
    },
    "id": "FmpiN9_euESL",
    "outputId": "17d82bb8-2aa5-4878-ab18-4c707b762fd1"
   },
   "outputs": [
    {
     "data": {
      "image/png": "[encoded data removed]",
      "text/plain": [
       "<Figure size 640x480 with 1 Axes>"
      ]
     },
     "metadata": {},
     "output_type": "display_data"
    }
   ],
   "source": [
    "#Plot the contour plot\n",
    "plt.figure()\n",
    "cplot = plt.contour(xgrid,ygrid,lhs,[0.05,1.35,4.65,6,8])\n",
    "plt.clabel(cplot, inline=1, fontsize=10)\n",
    "plt.xlabel('Intercept')\n",
    "plt.ylabel('Slope')\n",
    "plt.show()"
   ]
  },
  {
   "cell_type": "markdown",
   "metadata": {
    "id": "PIl6-TFWNIvg"
   },
   "source": [
    "The above contour plot shows the contours at the fraction of the optimal SSE.  The F-test method yields a value of 1.35 for this scenario (data and model specific) where the OLS is at 6 and the Manual or SSX method is at 4.65. All of those contour lines are plotted above.\n",
    "\n",
    "Some things to note:\n",
    "- Typically when reported, the confidence interval is based on holding all the other parameters at the optimal while varying one of the parameters.\n",
    "- The actual confidence interval is likely not square (for example, the slope is 0.0635 +/- 0.02 and the intercept is 0.177 +/- 0.12) but is elliptical as shown in the above contour plot\n",
    "- Due to the elliptical nature of the sum of the squared errors as a function of the model parameters, simply holding the other parameters at their optimums is not representative of the actual parameter space that can give predictions that are not statictically different from the optimum value."
   ]
  },
  {
   "cell_type": "code",
   "execution_count": null,
   "metadata": {
    "id": "wFUsWQltNbWc"
   },
   "outputs": [],
   "source": []
  }
 ],
 "metadata": {
  "colab": {
   "authorship_tag": "ABX9TyPTDm3uUpyVrHDXvrk6YgAE",
   "collapsed_sections": [],
   "include_colab_link": true,
   "name": "ConfidenceIntervals.ipynb",
   "provenance": [],
   "toc_visible": true
  },
  "kernelspec": {
   "display_name": "Python 3",
   "name": "python3"
  },
  "language_info": {
   "codemirror_mode": {
    "name": "ipython",
    "version": 3
   },
   "file_extension": ".py",
   "mimetype": "text/x-python",
   "name": "python",
   "nbconvert_exporter": "python",
   "pygments_lexer": "ipython3",
   "version": "3.9.16"
  },
  "widgets": {
   "application/vnd.jupyter.widget-state+json": {
    "state": {
     "01f03f37df1e46509cfe816797d04a83": {
      "model_module": "@jupyter-widgets/controls",
      "model_module_version": "2.0.0",
      "model_name": "IntSliderModel",
      "state": {
       "_dom_classes": [],
       "_model_module": "@jupyter-widgets/controls",
       "_model_module_version": "2.0.0",
       "_model_name": "IntSliderModel",
       "_view_count": null,
       "_view_module": "@jupyter-widgets/controls",
       "_view_module_version": "2.0.0",
       "_view_name": "IntSliderView",
       "behavior": "drag-tap",
       "continuous_update": true,
       "description": "df",
       "description_allow_html": false,
       "disabled": false,
       "layout": "IPY_MODEL_6abe777168b545cba51f221ae15b2a0a",
       "max": 10,
       "min": 1,
       "orientation": "horizontal",
       "readout": true,
       "readout_format": "d",
       "step": 1,
       "style": "IPY_MODEL_e8eef082981940639b0e4bf7a15a4b0b",
       "tabbable": null,
       "tooltip": null,
       "value": 5
      }
     },
     "208964b2251e437ca3f5254ff49422ae": {
      "model_module": "@jupyter-widgets/controls",
      "model_module_version": "2.0.0",
      "model_name": "VBoxModel",
      "state": {
       "_dom_classes": [
        "widget-interact"
       ],
       "_model_module": "@jupyter-widgets/controls",
       "_model_module_version": "2.0.0",
       "_model_name": "VBoxModel",
       "_view_count": null,
       "_view_module": "@jupyter-widgets/controls",
       "_view_module_version": "2.0.0",
       "_view_name": "VBoxView",
       "box_style": "",
       "children": [
        "IPY_MODEL_9817ba17e27648e9bd6771b4271ae958",
        "IPY_MODEL_c613e9f8a05f4fbfb03441e6e5e92082"
       ],
       "layout": "IPY_MODEL_f241bd1bd50e453bb85358d047ea3a03",
       "tabbable": null,
       "tooltip": null
      }
     },
     "299ab9dfe967495787450f986774652d": {
      "model_module": "@jupyter-widgets/controls",
      "model_module_version": "2.0.0",
      "model_name": "VBoxModel",
      "state": {
       "_dom_classes": [
        "widget-interact"
       ],
       "_model_module": "@jupyter-widgets/controls",
       "_model_module_version": "2.0.0",
       "_model_name": "VBoxModel",
       "_view_count": null,
       "_view_module": "@jupyter-widgets/controls",
       "_view_module_version": "2.0.0",
       "_view_name": "VBoxView",
       "box_style": "",
       "children": [
        "IPY_MODEL_8fe570b0b9344661bfbf31e8bbbeb93e",
        "IPY_MODEL_d2cb190496e24590baa2ac879287304c",
        "IPY_MODEL_01f03f37df1e46509cfe816797d04a83",
        "IPY_MODEL_e57b70378b7442deb459add23bde3a0f"
       ],
       "layout": "IPY_MODEL_42e9b5e0d0064b0caa9ac8524551ff55",
       "tabbable": null,
       "tooltip": null
      }
     },
     "37addc6cc93d4062aa3d7cb970f290e5": {
      "model_module": "@jupyter-widgets/base",
      "model_module_version": "2.0.0",
      "model_name": "LayoutModel",
      "state": {
       "_model_module": "@jupyter-widgets/base",
       "_model_module_version": "2.0.0",
       "_model_name": "LayoutModel",
       "_view_count": null,
       "_view_module": "@jupyter-widgets/base",
       "_view_module_version": "2.0.0",
       "_view_name": "LayoutView",
       "align_content": null,
       "align_items": null,
       "align_self": null,
       "border_bottom": null,
       "border_left": null,
       "border_right": null,
       "border_top": null,
       "bottom": null,
       "display": null,
       "flex": null,
       "flex_flow": null,
       "grid_area": null,
       "grid_auto_columns": null,
       "grid_auto_flow": null,
       "grid_auto_rows": null,
       "grid_column": null,
       "grid_gap": null,
       "grid_row": null,
       "grid_template_areas": null,
       "grid_template_columns": null,
       "grid_template_rows": null,
       "height": null,
       "justify_content": null,
       "justify_items": null,
       "left": null,
       "margin": null,
       "max_height": null,
       "max_width": null,
       "min_height": null,
       "min_width": null,
       "object_fit": null,
       "object_position": null,
       "order": null,
       "overflow": null,
       "padding": null,
       "right": null,
       "top": null,
       "visibility": null,
       "width": null
      }
     },
     "42e9b5e0d0064b0caa9ac8524551ff55": {
      "model_module": "@jupyter-widgets/base",
      "model_module_version": "2.0.0",
      "model_name": "LayoutModel",
      "state": {
       "_model_module": "@jupyter-widgets/base",
       "_model_module_version": "2.0.0",
       "_model_name": "LayoutModel",
       "_view_count": null,
       "_view_module": "@jupyter-widgets/base",
       "_view_module_version": "2.0.0",
       "_view_name": "LayoutView",
       "align_content": null,
       "align_items": null,
       "align_self": null,
       "border_bottom": null,
       "border_left": null,
       "border_right": null,
       "border_top": null,
       "bottom": null,
       "display": null,
       "flex": null,
       "flex_flow": null,
       "grid_area": null,
       "grid_auto_columns": null,
       "grid_auto_flow": null,
       "grid_auto_rows": null,
       "grid_column": null,
       "grid_gap": null,
       "grid_row": null,
       "grid_template_areas": null,
       "grid_template_columns": null,
       "grid_template_rows": null,
       "height": null,
       "justify_content": null,
       "justify_items": null,
       "left": null,
       "margin": null,
       "max_height": null,
       "max_width": null,
       "min_height": null,
       "min_width": null,
       "object_fit": null,
       "object_position": null,
       "order": null,
       "overflow": null,
       "padding": null,
       "right": null,
       "top": null,
       "visibility": null,
       "width": null
      }
     },
     "44eb786c0b4b4dd48190b2ad05885ad9": {
      "model_module": "@jupyter-widgets/base",
      "model_module_version": "2.0.0",
      "model_name": "LayoutModel",
      "state": {
       "_model_module": "@jupyter-widgets/base",
       "_model_module_version": "2.0.0",
       "_model_name": "LayoutModel",
       "_view_count": null,
       "_view_module": "@jupyter-widgets/base",
       "_view_module_version": "2.0.0",
       "_view_name": "LayoutView",
       "align_content": null,
       "align_items": null,
       "align_self": null,
       "border_bottom": null,
       "border_left": null,
       "border_right": null,
       "border_top": null,
       "bottom": null,
       "display": null,
       "flex": null,
       "flex_flow": null,
       "grid_area": null,
       "grid_auto_columns": null,
       "grid_auto_flow": null,
       "grid_auto_rows": null,
       "grid_column": null,
       "grid_gap": null,
       "grid_row": null,
       "grid_template_areas": null,
       "grid_template_columns": null,
       "grid_template_rows": null,
       "height": null,
       "justify_content": null,
       "justify_items": null,
       "left": null,
       "margin": null,
       "max_height": null,
       "max_width": null,
       "min_height": null,
       "min_width": null,
       "object_fit": null,
       "object_position": null,
       "order": null,
       "overflow": null,
       "padding": null,
       "right": null,
       "top": null,
       "visibility": null,
       "width": null
      }
     },
     "48bbc4e6444a4606adc95c705fb962ca": {
      "model_module": "@jupyter-widgets/controls",
      "model_module_version": "2.0.0",
      "model_name": "SliderStyleModel",
      "state": {
       "_model_module": "@jupyter-widgets/controls",
       "_model_module_version": "2.0.0",
       "_model_name": "SliderStyleModel",
       "_view_count": null,
       "_view_module": "@jupyter-widgets/base",
       "_view_module_version": "2.0.0",
       "_view_name": "StyleView",
       "description_width": "",
       "handle_color": null
      }
     },
     "65d05cc31a57463ea3c001a76b0d388c": {
      "model_module": "@jupyter-widgets/base",
      "model_module_version": "2.0.0",
      "model_name": "LayoutModel",
      "state": {
       "_model_module": "@jupyter-widgets/base",
       "_model_module_version": "2.0.0",
       "_model_name": "LayoutModel",
       "_view_count": null,
       "_view_module": "@jupyter-widgets/base",
       "_view_module_version": "2.0.0",
       "_view_name": "LayoutView",
       "align_content": null,
       "align_items": null,
       "align_self": null,
       "border_bottom": null,
       "border_left": null,
       "border_right": null,
       "border_top": null,
       "bottom": null,
       "display": null,
       "flex": null,
       "flex_flow": null,
       "grid_area": null,
       "grid_auto_columns": null,
       "grid_auto_flow": null,
       "grid_auto_rows": null,
       "grid_column": null,
       "grid_gap": null,
       "grid_row": null,
       "grid_template_areas": null,
       "grid_template_columns": null,
       "grid_template_rows": null,
       "height": null,
       "justify_content": null,
       "justify_items": null,
       "left": null,
       "margin": null,
       "max_height": null,
       "max_width": null,
       "min_height": null,
       "min_width": null,
       "object_fit": null,
       "object_position": null,
       "order": null,
       "overflow": null,
       "padding": null,
       "right": null,
       "top": null,
       "visibility": null,
       "width": null
      }
     },
     "69266d5834e94ae4a539e6d3ef30eea1": {
      "model_module": "@jupyter-widgets/base",
      "model_module_version": "2.0.0",
      "model_name": "LayoutModel",
      "state": {
       "_model_module": "@jupyter-widgets/base",
       "_model_module_version": "2.0.0",
       "_model_name": "LayoutModel",
       "_view_count": null,
       "_view_module": "@jupyter-widgets/base",
       "_view_module_version": "2.0.0",
       "_view_name": "LayoutView",
       "align_content": null,
       "align_items": null,
       "align_self": null,
       "border_bottom": null,
       "border_left": null,
       "border_right": null,
       "border_top": null,
       "bottom": null,
       "display": null,
       "flex": null,
       "flex_flow": null,
       "grid_area": null,
       "grid_auto_columns": null,
       "grid_auto_flow": null,
       "grid_auto_rows": null,
       "grid_column": null,
       "grid_gap": null,
       "grid_row": null,
       "grid_template_areas": null,
       "grid_template_columns": null,
       "grid_template_rows": null,
       "height": null,
       "justify_content": null,
       "justify_items": null,
       "left": null,
       "margin": null,
       "max_height": null,
       "max_width": null,
       "min_height": null,
       "min_width": null,
       "object_fit": null,
       "object_position": null,
       "order": null,
       "overflow": null,
       "padding": null,
       "right": null,
       "top": null,
       "visibility": null,
       "width": null
      }
     },
     "6abe777168b545cba51f221ae15b2a0a": {
      "model_module": "@jupyter-widgets/base",
      "model_module_version": "2.0.0",
      "model_name": "LayoutModel",
      "state": {
       "_model_module": "@jupyter-widgets/base",
       "_model_module_version": "2.0.0",
       "_model_name": "LayoutModel",
       "_view_count": null,
       "_view_module": "@jupyter-widgets/base",
       "_view_module_version": "2.0.0",
       "_view_name": "LayoutView",
       "align_content": null,
       "align_items": null,
       "align_self": null,
       "border_bottom": null,
       "border_left": null,
       "border_right": null,
       "border_top": null,
       "bottom": null,
       "display": null,
       "flex": null,
       "flex_flow": null,
       "grid_area": null,
       "grid_auto_columns": null,
       "grid_auto_flow": null,
       "grid_auto_rows": null,
       "grid_column": null,
       "grid_gap": null,
       "grid_row": null,
       "grid_template_areas": null,
       "grid_template_columns": null,
       "grid_template_rows": null,
       "height": null,
       "justify_content": null,
       "justify_items": null,
       "left": null,
       "margin": null,
       "max_height": null,
       "max_width": null,
       "min_height": null,
       "min_width": null,
       "object_fit": null,
       "object_position": null,
       "order": null,
       "overflow": null,
       "padding": null,
       "right": null,
       "top": null,
       "visibility": null,
       "width": null
      }
     },
     "8d8b91b1b3ca4f8894bbf99627c510d5": {
      "model_module": "@jupyter-widgets/controls",
      "model_module_version": "2.0.0",
      "model_name": "SliderStyleModel",
      "state": {
       "_model_module": "@jupyter-widgets/controls",
       "_model_module_version": "2.0.0",
       "_model_name": "SliderStyleModel",
       "_view_count": null,
       "_view_module": "@jupyter-widgets/base",
       "_view_module_version": "2.0.0",
       "_view_name": "StyleView",
       "description_width": "",
       "handle_color": null
      }
     },
     "8fe570b0b9344661bfbf31e8bbbeb93e": {
      "model_module": "@jupyter-widgets/controls",
      "model_module_version": "2.0.0",
      "model_name": "IntSliderModel",
      "state": {
       "_dom_classes": [],
       "_model_module": "@jupyter-widgets/controls",
       "_model_module_version": "2.0.0",
       "_model_name": "IntSliderModel",
       "_view_count": null,
       "_view_module": "@jupyter-widgets/controls",
       "_view_module_version": "2.0.0",
       "_view_name": "IntSliderView",
       "behavior": "drag-tap",
       "continuous_update": true,
       "description": "mean",
       "description_allow_html": false,
       "disabled": false,
       "layout": "IPY_MODEL_69266d5834e94ae4a539e6d3ef30eea1",
       "max": 80,
       "min": 60,
       "orientation": "horizontal",
       "readout": true,
       "readout_format": "d",
       "step": 1,
       "style": "IPY_MODEL_fed215af4c9e47308a9a49f482cf1de2",
       "tabbable": null,
       "tooltip": null,
       "value": 70
      }
     },
     "9817ba17e27648e9bd6771b4271ae958": {
      "model_module": "@jupyter-widgets/controls",
      "model_module_version": "2.0.0",
      "model_name": "IntSliderModel",
      "state": {
       "_dom_classes": [],
       "_model_module": "@jupyter-widgets/controls",
       "_model_module_version": "2.0.0",
       "_model_name": "IntSliderModel",
       "_view_count": null,
       "_view_module": "@jupyter-widgets/controls",
       "_view_module_version": "2.0.0",
       "_view_name": "IntSliderView",
       "behavior": "drag-tap",
       "continuous_update": true,
       "description": "n",
       "description_allow_html": false,
       "disabled": false,
       "layout": "IPY_MODEL_37addc6cc93d4062aa3d7cb970f290e5",
       "max": 500,
       "min": 5,
       "orientation": "horizontal",
       "readout": true,
       "readout_format": "d",
       "step": 1,
       "style": "IPY_MODEL_8d8b91b1b3ca4f8894bbf99627c510d5",
       "tabbable": null,
       "tooltip": null,
       "value": 252
      }
     },
     "c613e9f8a05f4fbfb03441e6e5e92082": {
      "model_module": "@jupyter-widgets/output",
      "model_module_version": "1.0.0",
      "model_name": "OutputModel",
      "state": {
       "_dom_classes": [],
       "_model_module": "@jupyter-widgets/output",
       "_model_module_version": "1.0.0",
       "_model_name": "OutputModel",
       "_view_count": null,
       "_view_module": "@jupyter-widgets/output",
       "_view_module_version": "1.0.0",
       "_view_name": "OutputView",
       "layout": "IPY_MODEL_44eb786c0b4b4dd48190b2ad05885ad9",
       "msg_id": "",
       "outputs": [
        {
         "name": "stdout",
         "output_type": "stream",
         "text": "The mean is 77.9 +/- 0.2 with standard deviation of 1.6\n"
        }
       ],
       "tabbable": null,
       "tooltip": null
      }
     },
     "d2cb190496e24590baa2ac879287304c": {
      "model_module": "@jupyter-widgets/controls",
      "model_module_version": "2.0.0",
      "model_name": "FloatSliderModel",
      "state": {
       "_dom_classes": [],
       "_model_module": "@jupyter-widgets/controls",
       "_model_module_version": "2.0.0",
       "_model_name": "FloatSliderModel",
       "_view_count": null,
       "_view_module": "@jupyter-widgets/controls",
       "_view_module_version": "2.0.0",
       "_view_name": "FloatSliderView",
       "behavior": "drag-tap",
       "continuous_update": true,
       "description": "standarddev",
       "description_allow_html": false,
       "disabled": false,
       "layout": "IPY_MODEL_e0d9bdc2d9844b29b4202fd20fcdc804",
       "max": 1.5,
       "min": 0.5,
       "orientation": "horizontal",
       "readout": true,
       "readout_format": ".2f",
       "step": 0.1,
       "style": "IPY_MODEL_48bbc4e6444a4606adc95c705fb962ca",
       "tabbable": null,
       "tooltip": null,
       "value": 1.0
      }
     },
     "e0d9bdc2d9844b29b4202fd20fcdc804": {
      "model_module": "@jupyter-widgets/base",
      "model_module_version": "2.0.0",
      "model_name": "LayoutModel",
      "state": {
       "_model_module": "@jupyter-widgets/base",
       "_model_module_version": "2.0.0",
       "_model_name": "LayoutModel",
       "_view_count": null,
       "_view_module": "@jupyter-widgets/base",
       "_view_module_version": "2.0.0",
       "_view_name": "LayoutView",
       "align_content": null,
       "align_items": null,
       "align_self": null,
       "border_bottom": null,
       "border_left": null,
       "border_right": null,
       "border_top": null,
       "bottom": null,
       "display": null,
       "flex": null,
       "flex_flow": null,
       "grid_area": null,
       "grid_auto_columns": null,
       "grid_auto_flow": null,
       "grid_auto_rows": null,
       "grid_column": null,
       "grid_gap": null,
       "grid_row": null,
       "grid_template_areas": null,
       "grid_template_columns": null,
       "grid_template_rows": null,
       "height": null,
       "justify_content": null,
       "justify_items": null,
       "left": null,
       "margin": null,
       "max_height": null,
       "max_width": null,
       "min_height": null,
       "min_width": null,
       "object_fit": null,
       "object_position": null,
       "order": null,
       "overflow": null,
       "padding": null,
       "right": null,
       "top": null,
       "visibility": null,
       "width": null
      }
     },
     "e57b70378b7442deb459add23bde3a0f": {
      "model_module": "@jupyter-widgets/output",
      "model_module_version": "1.0.0",
      "model_name": "OutputModel",
      "state": {
       "_dom_classes": [],
       "_model_module": "@jupyter-widgets/output",
       "_model_module_version": "1.0.0",
       "_model_name": "OutputModel",
       "_view_count": null,
       "_view_module": "@jupyter-widgets/output",
       "_view_module_version": "1.0.0",
       "_view_name": "OutputView",
       "layout": "IPY_MODEL_65d05cc31a57463ea3c001a76b0d388c",
       "msg_id": "",
       "outputs": [
        {
         "data": {
          "image/png": "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",
          "text/plain": "<Figure size 640x480 with 1 Axes>"
         },
         "metadata": {},
         "output_type": "display_data"
        }
       ],
       "tabbable": null,
       "tooltip": null
      }
     },
     "e8eef082981940639b0e4bf7a15a4b0b": {
      "model_module": "@jupyter-widgets/controls",
      "model_module_version": "2.0.0",
      "model_name": "SliderStyleModel",
      "state": {
       "_model_module": "@jupyter-widgets/controls",
       "_model_module_version": "2.0.0",
       "_model_name": "SliderStyleModel",
       "_view_count": null,
       "_view_module": "@jupyter-widgets/base",
       "_view_module_version": "2.0.0",
       "_view_name": "StyleView",
       "description_width": "",
       "handle_color": null
      }
     },
     "f241bd1bd50e453bb85358d047ea3a03": {
      "model_module": "@jupyter-widgets/base",
      "model_module_version": "2.0.0",
      "model_name": "LayoutModel",
      "state": {
       "_model_module": "@jupyter-widgets/base",
       "_model_module_version": "2.0.0",
       "_model_name": "LayoutModel",
       "_view_count": null,
       "_view_module": "@jupyter-widgets/base",
       "_view_module_version": "2.0.0",
       "_view_name": "LayoutView",
       "align_content": null,
       "align_items": null,
       "align_self": null,
       "border_bottom": null,
       "border_left": null,
       "border_right": null,
       "border_top": null,
       "bottom": null,
       "display": null,
       "flex": null,
       "flex_flow": null,
       "grid_area": null,
       "grid_auto_columns": null,
       "grid_auto_flow": null,
       "grid_auto_rows": null,
       "grid_column": null,
       "grid_gap": null,
       "grid_row": null,
       "grid_template_areas": null,
       "grid_template_columns": null,
       "grid_template_rows": null,
       "height": null,
       "justify_content": null,
       "justify_items": null,
       "left": null,
       "margin": null,
       "max_height": null,
       "max_width": null,
       "min_height": null,
       "min_width": null,
       "object_fit": null,
       "object_position": null,
       "order": null,
       "overflow": null,
       "padding": null,
       "right": null,
       "top": null,
       "visibility": null,
       "width": null
      }
     },
     "fed215af4c9e47308a9a49f482cf1de2": {
      "model_module": "@jupyter-widgets/controls",
      "model_module_version": "2.0.0",
      "model_name": "SliderStyleModel",
      "state": {
       "_model_module": "@jupyter-widgets/controls",
       "_model_module_version": "2.0.0",
       "_model_name": "SliderStyleModel",
       "_view_count": null,
       "_view_module": "@jupyter-widgets/base",
       "_view_module_version": "2.0.0",
       "_view_name": "StyleView",
       "description_width": "",
       "handle_color": null
      }
     }
    },
    "version_major": 2,
    "version_minor": 0
   }
  }
 },
 "nbformat": 4,
 "nbformat_minor": 0
}