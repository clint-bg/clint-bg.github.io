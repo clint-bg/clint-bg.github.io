{
 "cells": [
  {
   "cell_type": "markdown",
   "metadata": {},
   "source": [
    "# Clint Guymon\n",
    "\n",
    "Clint Guymon, PhD, PE is an associate teaching professor in the Chemical Engineering Department at Brigham Young University. He received his doctorate degree in chemical engineering at Brigham Young University. His doctoral thesis was on molecular dynamics simulation and experimental studies on copper electrodeposition (see [https://scholarsarchive.byu.edu/etd/333/](https://scholarsarchive.byu.edu/etd/333/)). He subsequently worked at Intel as a process engineer and then for 15 years at [Safety Management Services](https://smsenergetics.com/) as an engineering consultant. A brief summary of some of his work experience is given at this site: [https://www.clintguymon.dev/](https://www.clintguymon.dev/)."
   ]
  },
  {
   "cell_type": "markdown",
   "metadata": {},
   "source": [
    "```{tableofcontents}\n",
    "```"
   ]
  }
 ],
 "metadata": {
  "kernelspec": {
   "display_name": "jupiterbook",
   "language": "python",
   "name": "python3"
  },
  "language_info": {
   "codemirror_mode": {
    "name": "ipython",
    "version": 3
   },
   "file_extension": ".py",
   "mimetype": "text/x-python",
   "name": "python",
   "nbconvert_exporter": "python",
   "pygments_lexer": "ipython3",
   "version": "3.9.16"
  }
 },
 "nbformat": 4,
 "nbformat_minor": 2
}
